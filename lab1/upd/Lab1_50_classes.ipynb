{
 "cells": [
  {
   "cell_type": "markdown",
   "id": "35f87a5f-9813-41d8-9cc7-014855d3277e",
   "metadata": {},
   "source": [
    "# Лабораторная работа 1: Классификация изображений"
   ]
  },
  {
   "cell_type": "markdown",
   "id": "27412b90-de1d-494b-8ad4-98cf51474a8f",
   "metadata": {},
   "source": [
    "## Import libs"
   ]
  },
  {
   "cell_type": "code",
   "execution_count": 1,
   "id": "58dfe175-4b85-4be4-8a30-85006f7f0ca1",
   "metadata": {},
   "outputs": [],
   "source": [
    "import einops\n",
    "from tqdm.notebook import tqdm\n",
    "\n",
    "from torchsummary import summary\n",
    "\n",
    "import time\n",
    "\n",
    "import pandas as pd\n",
    "import torch\n",
    "from torch import nn\n",
    "import torchvision\n",
    "import torch.optim as optim\n",
    "from torchvision.transforms import Compose, Resize, ToTensor, Normalize, RandomHorizontalFlip, RandomCrop\n"
   ]
  },
  {
   "cell_type": "markdown",
   "id": "d76c9862-9430-4604-950a-e9c79ec2f942",
   "metadata": {},
   "source": [
    "## Get data"
   ]
  },
  {
   "cell_type": "code",
   "execution_count": 2,
   "id": "643cc82d-737a-4c5c-ae4a-bab50de0003e",
   "metadata": {},
   "outputs": [],
   "source": [
    "import os\n"
   ]
  },
  {
   "cell_type": "code",
   "execution_count": 3,
   "id": "7191a550-42f2-4436-8f14-826776c69681",
   "metadata": {},
   "outputs": [
    {
     "data": {
      "text/html": [
       "<div>\n",
       "<style scoped>\n",
       "    .dataframe tbody tr th:only-of-type {\n",
       "        vertical-align: middle;\n",
       "    }\n",
       "\n",
       "    .dataframe tbody tr th {\n",
       "        vertical-align: top;\n",
       "    }\n",
       "\n",
       "    .dataframe thead th {\n",
       "        text-align: right;\n",
       "    }\n",
       "</style>\n",
       "<table border=\"1\" class=\"dataframe\">\n",
       "  <thead>\n",
       "    <tr style=\"text-align: right;\">\n",
       "      <th></th>\n",
       "      <th>bbox_x1</th>\n",
       "      <th>bbox_y1</th>\n",
       "      <th>bbox_x2</th>\n",
       "      <th>bbox_y2</th>\n",
       "      <th>class</th>\n",
       "      <th>fname</th>\n",
       "    </tr>\n",
       "  </thead>\n",
       "  <tbody>\n",
       "    <tr>\n",
       "      <th>0</th>\n",
       "      <td>39</td>\n",
       "      <td>116</td>\n",
       "      <td>569</td>\n",
       "      <td>375</td>\n",
       "      <td>14</td>\n",
       "      <td>00001.jpg</td>\n",
       "    </tr>\n",
       "    <tr>\n",
       "      <th>1</th>\n",
       "      <td>36</td>\n",
       "      <td>116</td>\n",
       "      <td>868</td>\n",
       "      <td>587</td>\n",
       "      <td>3</td>\n",
       "      <td>00002.jpg</td>\n",
       "    </tr>\n",
       "    <tr>\n",
       "      <th>2</th>\n",
       "      <td>85</td>\n",
       "      <td>109</td>\n",
       "      <td>601</td>\n",
       "      <td>381</td>\n",
       "      <td>91</td>\n",
       "      <td>00003.jpg</td>\n",
       "    </tr>\n",
       "    <tr>\n",
       "      <th>3</th>\n",
       "      <td>621</td>\n",
       "      <td>393</td>\n",
       "      <td>1484</td>\n",
       "      <td>1096</td>\n",
       "      <td>134</td>\n",
       "      <td>00004.jpg</td>\n",
       "    </tr>\n",
       "    <tr>\n",
       "      <th>4</th>\n",
       "      <td>14</td>\n",
       "      <td>36</td>\n",
       "      <td>133</td>\n",
       "      <td>99</td>\n",
       "      <td>106</td>\n",
       "      <td>00005.jpg</td>\n",
       "    </tr>\n",
       "    <tr>\n",
       "      <th>...</th>\n",
       "      <td>...</td>\n",
       "      <td>...</td>\n",
       "      <td>...</td>\n",
       "      <td>...</td>\n",
       "      <td>...</td>\n",
       "      <td>...</td>\n",
       "    </tr>\n",
       "    <tr>\n",
       "      <th>8139</th>\n",
       "      <td>3</td>\n",
       "      <td>44</td>\n",
       "      <td>423</td>\n",
       "      <td>336</td>\n",
       "      <td>78</td>\n",
       "      <td>08140.jpg</td>\n",
       "    </tr>\n",
       "    <tr>\n",
       "      <th>8140</th>\n",
       "      <td>138</td>\n",
       "      <td>150</td>\n",
       "      <td>706</td>\n",
       "      <td>523</td>\n",
       "      <td>196</td>\n",
       "      <td>08141.jpg</td>\n",
       "    </tr>\n",
       "    <tr>\n",
       "      <th>8141</th>\n",
       "      <td>26</td>\n",
       "      <td>246</td>\n",
       "      <td>660</td>\n",
       "      <td>449</td>\n",
       "      <td>163</td>\n",
       "      <td>08142.jpg</td>\n",
       "    </tr>\n",
       "    <tr>\n",
       "      <th>8142</th>\n",
       "      <td>78</td>\n",
       "      <td>526</td>\n",
       "      <td>1489</td>\n",
       "      <td>908</td>\n",
       "      <td>112</td>\n",
       "      <td>08143.jpg</td>\n",
       "    </tr>\n",
       "    <tr>\n",
       "      <th>8143</th>\n",
       "      <td>20</td>\n",
       "      <td>240</td>\n",
       "      <td>862</td>\n",
       "      <td>677</td>\n",
       "      <td>17</td>\n",
       "      <td>08144.jpg</td>\n",
       "    </tr>\n",
       "  </tbody>\n",
       "</table>\n",
       "<p>8144 rows × 6 columns</p>\n",
       "</div>"
      ],
      "text/plain": [
       "      bbox_x1  bbox_y1  bbox_x2  bbox_y2  class      fname\n",
       "0          39      116      569      375     14  00001.jpg\n",
       "1          36      116      868      587      3  00002.jpg\n",
       "2          85      109      601      381     91  00003.jpg\n",
       "3         621      393     1484     1096    134  00004.jpg\n",
       "4          14       36      133       99    106  00005.jpg\n",
       "...       ...      ...      ...      ...    ...        ...\n",
       "8139        3       44      423      336     78  08140.jpg\n",
       "8140      138      150      706      523    196  08141.jpg\n",
       "8141       26      246      660      449    163  08142.jpg\n",
       "8142       78      526     1489      908    112  08143.jpg\n",
       "8143       20      240      862      677     17  08144.jpg\n",
       "\n",
       "[8144 rows x 6 columns]"
      ]
     },
     "execution_count": 3,
     "metadata": {},
     "output_type": "execute_result"
    }
   ],
   "source": [
    "cars_annos_train_df = pd.read_csv('cars_annos_train.csv')\n",
    "cars_annos_test_df = pd.read_csv('cars_annos_test.csv')\n",
    "\n",
    "cars_annos_train_df\n"
   ]
  },
  {
   "cell_type": "code",
   "execution_count": 4,
   "id": "99081b24-3c60-4243-9374-8df50ccd373d",
   "metadata": {},
   "outputs": [
    {
     "data": {
      "text/plain": [
       "class\n",
       "119    68\n",
       "79     49\n",
       "161    48\n",
       "167    48\n",
       "144    47\n",
       "       ..\n",
       "175    31\n",
       "64     30\n",
       "158    29\n",
       "99     28\n",
       "136    24\n",
       "Name: count, Length: 196, dtype: int64"
      ]
     },
     "execution_count": 4,
     "metadata": {},
     "output_type": "execute_result"
    }
   ],
   "source": [
    "class_counts = cars_annos_train_df['class'].value_counts()\n",
    "class_counts\n"
   ]
  },
  {
   "cell_type": "code",
   "execution_count": 5,
   "id": "886e31b7-1405-4335-b29e-36624996f240",
   "metadata": {},
   "outputs": [],
   "source": [
    "num_classes = 50"
   ]
  },
  {
   "cell_type": "code",
   "execution_count": 6,
   "id": "02aa9363-5e5a-42ad-98e1-35bc795d97f5",
   "metadata": {},
   "outputs": [
    {
     "data": {
      "text/html": [
       "<div>\n",
       "<style scoped>\n",
       "    .dataframe tbody tr th:only-of-type {\n",
       "        vertical-align: middle;\n",
       "    }\n",
       "\n",
       "    .dataframe tbody tr th {\n",
       "        vertical-align: top;\n",
       "    }\n",
       "\n",
       "    .dataframe thead th {\n",
       "        text-align: right;\n",
       "    }\n",
       "</style>\n",
       "<table border=\"1\" class=\"dataframe\">\n",
       "  <thead>\n",
       "    <tr style=\"text-align: right;\">\n",
       "      <th></th>\n",
       "      <th>bbox_x1</th>\n",
       "      <th>bbox_y1</th>\n",
       "      <th>bbox_x2</th>\n",
       "      <th>bbox_y2</th>\n",
       "      <th>class</th>\n",
       "      <th>fname</th>\n",
       "    </tr>\n",
       "  </thead>\n",
       "  <tbody>\n",
       "    <tr>\n",
       "      <th>5</th>\n",
       "      <td>259</td>\n",
       "      <td>289</td>\n",
       "      <td>515</td>\n",
       "      <td>416</td>\n",
       "      <td>35</td>\n",
       "      <td>00006.jpg</td>\n",
       "    </tr>\n",
       "    <tr>\n",
       "      <th>6</th>\n",
       "      <td>88</td>\n",
       "      <td>80</td>\n",
       "      <td>541</td>\n",
       "      <td>397</td>\n",
       "      <td>45</td>\n",
       "      <td>00007.jpg</td>\n",
       "    </tr>\n",
       "    <tr>\n",
       "      <th>8</th>\n",
       "      <td>20</td>\n",
       "      <td>126</td>\n",
       "      <td>1269</td>\n",
       "      <td>771</td>\n",
       "      <td>3</td>\n",
       "      <td>00009.jpg</td>\n",
       "    </tr>\n",
       "    <tr>\n",
       "      <th>9</th>\n",
       "      <td>21</td>\n",
       "      <td>110</td>\n",
       "      <td>623</td>\n",
       "      <td>367</td>\n",
       "      <td>47</td>\n",
       "      <td>00010.jpg</td>\n",
       "    </tr>\n",
       "    <tr>\n",
       "      <th>17</th>\n",
       "      <td>3</td>\n",
       "      <td>8</td>\n",
       "      <td>190</td>\n",
       "      <td>147</td>\n",
       "      <td>38</td>\n",
       "      <td>00018.jpg</td>\n",
       "    </tr>\n",
       "    <tr>\n",
       "      <th>...</th>\n",
       "      <td>...</td>\n",
       "      <td>...</td>\n",
       "      <td>...</td>\n",
       "      <td>...</td>\n",
       "      <td>...</td>\n",
       "      <td>...</td>\n",
       "    </tr>\n",
       "    <tr>\n",
       "      <th>8127</th>\n",
       "      <td>61</td>\n",
       "      <td>138</td>\n",
       "      <td>768</td>\n",
       "      <td>526</td>\n",
       "      <td>6</td>\n",
       "      <td>08128.jpg</td>\n",
       "    </tr>\n",
       "    <tr>\n",
       "      <th>8130</th>\n",
       "      <td>19</td>\n",
       "      <td>77</td>\n",
       "      <td>619</td>\n",
       "      <td>398</td>\n",
       "      <td>0</td>\n",
       "      <td>08131.jpg</td>\n",
       "    </tr>\n",
       "    <tr>\n",
       "      <th>8131</th>\n",
       "      <td>53</td>\n",
       "      <td>65</td>\n",
       "      <td>424</td>\n",
       "      <td>269</td>\n",
       "      <td>25</td>\n",
       "      <td>08132.jpg</td>\n",
       "    </tr>\n",
       "    <tr>\n",
       "      <th>8138</th>\n",
       "      <td>117</td>\n",
       "      <td>84</td>\n",
       "      <td>583</td>\n",
       "      <td>403</td>\n",
       "      <td>48</td>\n",
       "      <td>08139.jpg</td>\n",
       "    </tr>\n",
       "    <tr>\n",
       "      <th>8142</th>\n",
       "      <td>78</td>\n",
       "      <td>526</td>\n",
       "      <td>1489</td>\n",
       "      <td>908</td>\n",
       "      <td>6</td>\n",
       "      <td>08143.jpg</td>\n",
       "    </tr>\n",
       "  </tbody>\n",
       "</table>\n",
       "<p>2287 rows × 6 columns</p>\n",
       "</div>"
      ],
      "text/plain": [
       "      bbox_x1  bbox_y1  bbox_x2  bbox_y2  class      fname\n",
       "5         259      289      515      416     35  00006.jpg\n",
       "6          88       80      541      397     45  00007.jpg\n",
       "8          20      126     1269      771      3  00009.jpg\n",
       "9          21      110      623      367     47  00010.jpg\n",
       "17          3        8      190      147     38  00018.jpg\n",
       "...       ...      ...      ...      ...    ...        ...\n",
       "8127       61      138      768      526      6  08128.jpg\n",
       "8130       19       77      619      398      0  08131.jpg\n",
       "8131       53       65      424      269     25  08132.jpg\n",
       "8138      117       84      583      403     48  08139.jpg\n",
       "8142       78      526     1489      908      6  08143.jpg\n",
       "\n",
       "[2287 rows x 6 columns]"
      ]
     },
     "execution_count": 6,
     "metadata": {},
     "output_type": "execute_result"
    }
   ],
   "source": [
    "top_classes = cars_annos_train_df['class'].value_counts().head(num_classes).index\n",
    "filtered_train_df = cars_annos_train_df[cars_annos_train_df['class'].isin(top_classes)]\n",
    "filtered_test_df = cars_annos_test_df[cars_annos_test_df['class'].isin(top_classes)]\n",
    "\n",
    "class_mapping = {old_class: new_class for new_class, old_class in enumerate(top_classes)}\n",
    "\n",
    "filtered_train_df.loc[:, 'class'] = filtered_train_df['class'].replace(class_mapping)\n",
    "filtered_test_df.loc[:, 'class'] = filtered_test_df['class'].replace(class_mapping)\n",
    "\n",
    "filtered_train_df\n"
   ]
  },
  {
   "cell_type": "code",
   "execution_count": 7,
   "id": "7f3dc2c4-796d-46c5-bf1a-e91fdafeb9a9",
   "metadata": {},
   "outputs": [
    {
     "data": {
      "text/plain": [
       "class\n",
       "0     68\n",
       "1     49\n",
       "3     48\n",
       "2     48\n",
       "5     47\n",
       "4     47\n",
       "7     46\n",
       "13    46\n",
       "12    46\n",
       "10    46\n",
       "11    46\n",
       "6     46\n",
       "14    46\n",
       "15    46\n",
       "8     46\n",
       "9     46\n",
       "22    45\n",
       "34    45\n",
       "36    45\n",
       "37    45\n",
       "16    45\n",
       "38    45\n",
       "25    45\n",
       "39    45\n",
       "27    45\n",
       "20    45\n",
       "32    45\n",
       "33    45\n",
       "17    45\n",
       "23    45\n",
       "35    45\n",
       "31    45\n",
       "19    45\n",
       "24    45\n",
       "26    45\n",
       "18    45\n",
       "28    45\n",
       "21    45\n",
       "30    45\n",
       "29    45\n",
       "46    44\n",
       "45    44\n",
       "40    44\n",
       "43    44\n",
       "41    44\n",
       "44    44\n",
       "48    44\n",
       "49    44\n",
       "47    44\n",
       "42    44\n",
       "Name: count, dtype: int64"
      ]
     },
     "execution_count": 7,
     "metadata": {},
     "output_type": "execute_result"
    }
   ],
   "source": [
    "filtered_class_counts = filtered_train_df['class'].value_counts()\n",
    "filtered_class_counts\n"
   ]
  },
  {
   "cell_type": "code",
   "execution_count": 8,
   "id": "15cfa0aa-575c-4e15-ad09-c02361627ae3",
   "metadata": {},
   "outputs": [],
   "source": [
    "filtered_train_df_len = len(filtered_train_df)"
   ]
  },
  {
   "cell_type": "code",
   "execution_count": 9,
   "id": "be512e34-c122-4197-9a58-9ee0f88528ad",
   "metadata": {},
   "outputs": [],
   "source": [
    "filtered_test_df_len = len(filtered_test_df)"
   ]
  },
  {
   "cell_type": "code",
   "execution_count": 10,
   "id": "5488781b-8f26-4da4-af87-5f53f19e0168",
   "metadata": {},
   "outputs": [],
   "source": [
    "cars_annos_train_df = filtered_train_df.sample(filtered_train_df_len, random_state=42).reset_index(drop=True)\n",
    "cars_annos_test_df = filtered_test_df.sample(filtered_test_df_len, random_state=42).reset_index(drop=True)\n"
   ]
  },
  {
   "cell_type": "code",
   "execution_count": 11,
   "id": "ff7569c4-bf02-408a-8f44-98867af46e5d",
   "metadata": {},
   "outputs": [],
   "source": [
    "cars_annos_train_df['class'] = cars_annos_train_df['class'].astype('category')\n",
    "cars_annos_test_df['class'] = cars_annos_test_df['class'].astype('category')\n"
   ]
  },
  {
   "cell_type": "markdown",
   "id": "24a33d2e-8130-4de3-91f7-31fbcc4b657c",
   "metadata": {},
   "source": [
    "## Train test split"
   ]
  },
  {
   "cell_type": "code",
   "execution_count": 12,
   "id": "490406ac-1937-488f-bb50-bd0610951e8b",
   "metadata": {},
   "outputs": [],
   "source": [
    "import numpy as np\n",
    "import matplotlib.pyplot as plt\n",
    "from PIL import Image, ImageOps\n",
    "from torchvision.transforms.functional import crop\n",
    "from torch.utils.data import Dataset, DataLoader\n",
    "import torchvision.transforms as transforms\n"
   ]
  },
  {
   "cell_type": "code",
   "execution_count": 13,
   "id": "b4d2affd-a9d0-4519-aba5-bb07c0e10ac8",
   "metadata": {},
   "outputs": [],
   "source": [
    "def plot_batch(images: torch.Tensor, labels: torch.Tensor):\n",
    "    num_images = images.size(0)\n",
    "    num_rows = int(np.ceil(np.sqrt(num_images)))\n",
    "\n",
    "    fig, axs = plt.subplots(num_rows, num_rows)\n",
    "    fig.subplots_adjust(hspace=0.1, wspace=1)\n",
    "\n",
    "    for i, ax in enumerate(axs.flatten()):\n",
    "        if i < num_images:\n",
    "            image, label = images[i], str(int(labels[i]))\n",
    "            image = image.numpy().transpose((1, 2, 0))\n",
    "            image = (image * 0.5) + 0.5\n",
    "\n",
    "            ax.imshow(image.squeeze())\n",
    "            ax.set_title(int(label), fontsize=12)\n",
    "            ax.axis(\"off\")\n",
    "        else:\n",
    "            ax.axis(\"off\")\n",
    "\n",
    "    plt.show()\n",
    "    "
   ]
  },
  {
   "cell_type": "code",
   "execution_count": 14,
   "id": "6d408345-23d1-4f92-919c-fd826a14235f",
   "metadata": {},
   "outputs": [],
   "source": [
    "def padding(img, expected_size):\n",
    "    desired_size = expected_size\n",
    "    delta_width = desired_size[0] - img.size[0]\n",
    "    delta_height = desired_size[1] - img.size[1]\n",
    "    pad_width = delta_width // 2\n",
    "    pad_height = delta_height // 2\n",
    "    padding = (pad_width, pad_height, delta_width - pad_width, delta_height - pad_height)\n",
    "    return ImageOps.expand(img, padding)\n",
    "\n",
    "\n",
    "def resize_with_padding(img, expected_size):\n",
    "    img.thumbnail((expected_size[0], expected_size[1]))\n",
    "    # print(img.size)\n",
    "    delta_width = expected_size[0] - img.size[0]\n",
    "    delta_height = expected_size[1] - img.size[1]\n",
    "    pad_width = delta_width // 2\n",
    "    pad_height = delta_height // 2\n",
    "    padding = (pad_width, pad_height, delta_width - pad_width, delta_height - pad_height)\n",
    "    return ImageOps.expand(img, padding)\n",
    "    "
   ]
  },
  {
   "cell_type": "code",
   "execution_count": 57,
   "id": "5e9f8c12-88b2-4e45-b20b-e2fb9406b9cf",
   "metadata": {},
   "outputs": [],
   "source": [
    "class ImageDataset(Dataset):\n",
    "    def __init__(self, image_dataframe, image_dir, transform=None):\n",
    "        self.image_dataframe = image_dataframe\n",
    "        self.transform = transform\n",
    "        self.image_dataframe['im_path'] = self.image_dataframe['fname'].apply(lambda x: os.path.join(image_dir, x))\n",
    "\n",
    "    def __len__(self):\n",
    "        return len(self.image_dataframe)\n",
    "\n",
    "    def __getitem__(self, idx):\n",
    "        image_path = self.image_dataframe.loc[idx, 'im_path']\n",
    "        label = self.image_dataframe.loc[idx, 'class']\n",
    "            \n",
    "        image = Image.open(image_path)\n",
    "\n",
    "        if image.mode == 'L':\n",
    "            image = image.convert('RGB')\n",
    "\n",
    "        bbox_x1 = self.image_dataframe.loc[idx, 'bbox_x1']\n",
    "        bbox_y1 = self.image_dataframe.loc[idx, 'bbox_y1']\n",
    "        bbox_x2 = self.image_dataframe.loc[idx, 'bbox_x2']\n",
    "        bbox_y2 = self.image_dataframe.loc[idx, 'bbox_y2']\n",
    "\n",
    "        width = bbox_x2 - bbox_x1\n",
    "        height = bbox_y2 - bbox_y1\n",
    "\n",
    "        size = max(width, height)\n",
    "\n",
    "        crop_x1 = bbox_x1\n",
    "        crop_y1 = bbox_y1\n",
    "\n",
    "        pad_y = max(0, (size - height) // 2)\n",
    "\n",
    "        old_image = crop(image, top=bbox_y1, left=bbox_x1, height=bbox_y2-bbox_y1, width=bbox_x2-bbox_x1)\n",
    "\n",
    "        image = resize_with_padding(old_image, (size, size))\n",
    "\n",
    "        if self.transform:\n",
    "            image = self.transform(image)\n",
    "\n",
    "        return image, label\n",
    "        "
   ]
  },
  {
   "cell_type": "code",
   "execution_count": 16,
   "id": "18a0f555-6dfc-416d-97c2-98ef4f9b0e99",
   "metadata": {},
   "outputs": [],
   "source": [
    "torch.manual_seed(42)\n",
    "\n",
    "# transform = transforms.Compose([\n",
    "#   transforms.Resize((224, 224)),\n",
    "#   transforms.ToTensor(),\n",
    "#   transforms.Normalize((0.5, 0.5, 0.5), (0.5, 0.5, 0.5)),\n",
    "# ])\n",
    "\n",
    "transform = transforms.Compose([\n",
    "    # transforms.Grayscale(num_output_channels=3),  # Convert to 3 channels\n",
    "    transforms.Resize((224, 224)),\n",
    "    transforms.ToTensor(),\n",
    "    transforms.Normalize((0.5, 0.5, 0.5), (0.5, 0.5, 0.5)),\n",
    "])\n",
    "\n",
    "train_set = ImageDataset(cars_annos_train_df, 'cars_train', transform=transform)\n",
    "test_set = ImageDataset(cars_annos_test_df, 'cars_test', transform=transform)\n"
   ]
  },
  {
   "cell_type": "code",
   "execution_count": 17,
   "id": "37aa0999-850d-45bc-ab5c-8d2af55e0c8c",
   "metadata": {},
   "outputs": [],
   "source": [
    "batch_size = 4\n",
    "\n",
    "train_loader = DataLoader(train_set, batch_size=batch_size, shuffle=True)\n",
    "test_loader = DataLoader(test_set, batch_size=batch_size, shuffle=False)\n"
   ]
  },
  {
   "cell_type": "code",
   "execution_count": 18,
   "id": "d82f7e6c-fef3-4e7c-beee-59f4d0d37739",
   "metadata": {},
   "outputs": [
    {
     "data": {
      "image/png": "[encoded data removed]",
      "text/plain": [
       "<Figure size 640x480 with 4 Axes>"
      ]
     },
     "metadata": {},
     "output_type": "display_data"
    }
   ],
   "source": [
    "batch_images, batch_labels = next(iter(train_loader))\n",
    "plot_batch(batch_images, batch_labels)\n"
   ]
  },
  {
   "cell_type": "markdown",
   "id": "c10a0961-7e36-4bd1-88b3-4fcadb6f2cc5",
   "metadata": {},
   "source": [
    "## ViT\n"
   ]
  },
  {
   "cell_type": "code",
   "execution_count": 19,
   "id": "2f700651-155a-4908-81bf-49497fed8bc8",
   "metadata": {},
   "outputs": [
    {
     "data": {
      "text/plain": [
       "device(type='cuda')"
      ]
     },
     "execution_count": 19,
     "metadata": {},
     "output_type": "execute_result"
    }
   ],
   "source": [
    "device = torch.device('cuda' if torch.cuda.is_available() else 'cpu')\n",
    "device\n"
   ]
  },
  {
   "cell_type": "code",
   "execution_count": 20,
   "id": "d3d86581-58a6-479a-9e18-aeb16e4b7042",
   "metadata": {},
   "outputs": [],
   "source": [
    "patch_size = 16         # Patch size (P) = 16\n",
    "latent_size = 768       # Latent vector (D). ViT-Base uses 768\n",
    "n_channels = 3          # Number of channels for input images\n",
    "num_heads = 12          # ViT-Base uses 12 heads\n",
    "num_encoders = 12       # ViT-Base uses 12 encoder layers\n",
    "dropout = 0.1           # Dropout = 0.1 is used with ViT-Base & ImageNet-21k\n",
    "# num_classes = 197       # Number of classes in the dataset\n",
    "size = 224              # Size used for training = 224\n",
    "\n",
    "epochs = 30             # Number of epochs\n",
    "base_lr = 10e-3         # Base LR\n",
    "weight_decay = 0.03     # Weight decay for ViT-Base (on ImageNet-21k)\n"
   ]
  },
  {
   "cell_type": "code",
   "execution_count": 21,
   "id": "0954285c-b9e4-4ebf-8ed9-a25531b50995",
   "metadata": {},
   "outputs": [],
   "source": [
    "epochs = 10"
   ]
  },
  {
   "cell_type": "code",
   "execution_count": 58,
   "id": "e486b180-0e38-4cbb-a3d6-652c0c083cf6",
   "metadata": {},
   "outputs": [],
   "source": [
    "class InputEmbedding(nn.Module):\n",
    "    def __init__(self, patch_size=patch_size, n_channels=n_channels, device=device, latent_size=latent_size, batch_size=batch_size):\n",
    "        super(InputEmbedding, self).__init__()\n",
    "        self.latent_size = latent_size\n",
    "        self.patch_size = patch_size\n",
    "        self.n_channels = n_channels\n",
    "        self.device = device\n",
    "        self.batch_size = batch_size\n",
    "        self.input_size = self.patch_size * self.patch_size * self.n_channels\n",
    "\n",
    "        self.linearProjection = nn.Linear(self.input_size, self.latent_size)\n",
    "\n",
    "        self.class_token = nn.Parameter(torch.randn(self.batch_size, 1, self.latent_size)).to(self.device)\n",
    "\n",
    "        self.pos_embedding = nn.Parameter(torch.randn(self.batch_size, 1, self.latent_size)).to(self.device)\n",
    "\n",
    "\n",
    "    def forward(self, input_data):\n",
    "\n",
    "        input_data = input_data.to(self.device)\n",
    "\n",
    "        patches = einops.rearrange(\n",
    "            input_data, 'b c (h h1) (w w1) -> b (h w) (h1 w1 c)', h1=self.patch_size, w1=self.patch_size)\n",
    "\n",
    "        linear_projection = self.linearProjection(patches).to(self.device)\n",
    "        b, n, _ = linear_projection.shape\n",
    "\n",
    "        linear_projection = torch.cat((self.class_token, linear_projection), dim=1)\n",
    "        pos_embed = einops.repeat(self.pos_embedding, 'b 1 d -> b m d', m=n+1)\n",
    "\n",
    "        linear_projection += pos_embed\n",
    "\n",
    "        return linear_projection\n",
    "        "
   ]
  },
  {
   "cell_type": "code",
   "execution_count": 59,
   "id": "e0e578e4-624a-43b0-a276-41fbdc159bbb",
   "metadata": {},
   "outputs": [],
   "source": [
    "class EncoderBlock(nn.Module):\n",
    "    def __init__(self, latent_size=latent_size, num_heads=num_heads, device=device, dropout=dropout):\n",
    "        super(EncoderBlock, self).__init__()\n",
    "\n",
    "        self.latent_size = latent_size\n",
    "        self.num_heads = num_heads\n",
    "        self.device = device\n",
    "        self.dropout = dropout\n",
    "\n",
    "        self.norm = nn.LayerNorm(self.latent_size)\n",
    "        \n",
    "        self.multihead = nn.MultiheadAttention(\n",
    "            self.latent_size, self.num_heads, dropout=self.dropout)          \n",
    "\n",
    "        self.enc_MLP = nn.Sequential(\n",
    "            nn.Linear(self.latent_size, self.latent_size*4),\n",
    "            nn.GELU(),\n",
    "            nn.Dropout(self.dropout),\n",
    "            nn.Linear(self.latent_size*4, self.latent_size),\n",
    "            nn.Dropout(self.dropout)\n",
    "        )\n",
    "\n",
    "    def forward(self, embedded_patches):\n",
    "        firstNorm_out = self.norm(embedded_patches)\n",
    "        attention_output = self.multihead(firstNorm_out, firstNorm_out, firstNorm_out)[0]\n",
    "\n",
    "        first_added_output = attention_output + embedded_patches\n",
    "\n",
    "        secondNorm_out = self.norm(first_added_output)\n",
    "        ff_output = self.enc_MLP(secondNorm_out)\n",
    "\n",
    "        return ff_output + first_added_output\n",
    "        "
   ]
  },
  {
   "cell_type": "code",
   "execution_count": 60,
   "id": "077192b5-9df7-4e31-82e7-f21cda7d4e26",
   "metadata": {},
   "outputs": [],
   "source": [
    "class VitTransformer(nn.Module):\n",
    "    def __init__(self, num_encoders=num_encoders, latent_size=latent_size, device=device, num_classes=num_classes, dropout=dropout):\n",
    "        super(VitTransformer, self).__init__()\n",
    "        self.num_encoders = num_encoders\n",
    "        self.latent_size = latent_size\n",
    "        self.device = device\n",
    "        self.num_classes = num_classes\n",
    "        self.dropout = dropout\n",
    "\n",
    "        self.embedding = InputEmbedding()\n",
    "\n",
    "        self.encStack = nn.ModuleList([EncoderBlock() for i in range(self.num_encoders)])\n",
    "\n",
    "        self.MLP_head = nn.Sequential(\n",
    "            nn.LayerNorm(self.latent_size),\n",
    "            nn.Linear(self.latent_size, self.latent_size),\n",
    "            nn.Linear(self.latent_size, self.num_classes)\n",
    "        )\n",
    "\n",
    "    def forward(self, test_input):\n",
    "        enc_output = self.embedding(test_input)\n",
    "\n",
    "        for enc_layer in self.encStack:\n",
    "            enc_output = enc_layer.forward(enc_output)\n",
    "\n",
    "        cls_token_embedding = enc_output[:, 0]\n",
    "\n",
    "        return self.MLP_head(cls_token_embedding)\n",
    "        "
   ]
  },
  {
   "cell_type": "code",
   "execution_count": 61,
   "id": "20132351-c8fa-4143-9ed5-15c284b17a5a",
   "metadata": {},
   "outputs": [],
   "source": [
    "model = VitTransformer(num_encoders, latent_size, device, num_classes).to(device)\n"
   ]
  },
  {
   "cell_type": "code",
   "execution_count": 62,
   "id": "c22261e1-d9c6-4100-87ea-2c0a3187df1e",
   "metadata": {},
   "outputs": [],
   "source": [
    "import torch\n",
    "import torch.nn as nn\n",
    "import torch.optim as optim\n",
    "\n",
    "class AdaBound(optim.Optimizer):\n",
    "    def __init__(self, params, lr=1e-3, betas=(0.9, 0.999), final_lr=0.1, gamma=1e-3, weight_decay=0):\n",
    "        if not 0.0 <= lr:\n",
    "            raise ValueError(\"Invalid learning rate: {}\".format(lr))\n",
    "        if not 0.0 <= final_lr:\n",
    "            raise ValueError(\"Invalid final learning rate: {}\".format(final_lr))\n",
    "        if not 0.0 <= betas[0] < 1.0:\n",
    "            raise ValueError(\"Invalid beta parameter at index 0: {}\".format(betas[0]))\n",
    "        if not 0.0 <= betas[1] < 1.0:\n",
    "            raise ValueError(\"Invalid beta parameter at index 1: {}\".format(betas[1]))\n",
    "        if not 0.0 <= gamma < 1.0:\n",
    "            raise ValueError(\"Invalid gamma parameter: {}\".format(gamma))\n",
    "        if not 0.0 <= weight_decay:\n",
    "            raise ValueError(\"Invalid weight_decay value: {}\".format(weight_decay))\n",
    "\n",
    "        defaults = dict(lr=lr, betas=betas, final_lr=final_lr, gamma=gamma, weight_decay=weight_decay)\n",
    "        super(AdaBound, self).__init__(params, defaults)\n",
    "\n",
    "    def step(self, closure=None):\n",
    "        loss = None\n",
    "        if closure is not None:\n",
    "            loss = closure()\n",
    "\n",
    "        for group in self.param_groups:\n",
    "            for p in group['params']:\n",
    "                if p.grad is None:\n",
    "                    continue\n",
    "                grad = p.grad.data\n",
    "                state = self.state[p]\n",
    "\n",
    "                if len(state) == 0:\n",
    "                    state['step'] = 0\n",
    "                    state['exp_avg'] = torch.zeros_like(p.data)\n",
    "                    state['exp_avg_sq'] = torch.zeros_like(p.data)\n",
    "\n",
    "                exp_avg, exp_avg_sq = state['exp_avg'], state['exp_avg_sq']\n",
    "                beta1, beta2 = group['betas']\n",
    "\n",
    "                state['step'] += 1\n",
    "\n",
    "                exp_avg.mul_(beta1).add_(1 - beta1, grad)\n",
    "                exp_avg_sq.mul_(beta2).addcmul_(1 - beta2, grad, grad)\n",
    "\n",
    "                lower_bound = group['lr'] * (1.0 - 1.0 / (group['gamma'] * state['step'] + 1))\n",
    "                upper_bound = group['lr'] * (1.0 + 1.0 / (group['gamma'] * state['step']))\n",
    "\n",
    "                lr = min(max(lower_bound, group['lr']), upper_bound)\n",
    "\n",
    "                p.data.addcdiv_(-lr, exp_avg, torch.sqrt(exp_avg_sq) + group['weight_decay'] * p.data)\n",
    "\n",
    "        return loss\n",
    "        "
   ]
  },
  {
   "cell_type": "markdown",
   "id": "a0bc8fdd-c878-493a-bd72-d49eefdc9307",
   "metadata": {},
   "source": [
    "## Training"
   ]
  },
  {
   "cell_type": "code",
   "execution_count": 27,
   "id": "bd1134e4-0031-42cf-909b-1f66b6cfc41a",
   "metadata": {},
   "outputs": [],
   "source": [
    "import torch\n",
    "import torch.nn as nn\n",
    "import torch.optim as optim\n",
    "from tqdm import tqdm\n",
    "from sklearn.metrics import f1_score\n",
    "\n",
    "def fine_tune(name, model, train_data_loader, valid_data_loader, writer, start_epoch=0, epochs=10, device='cuda', optimizer='adabound', learning_rate=0.001):\n",
    "    min_loss = np.inf\n",
    "    \n",
    "    if optimizer == 'adam':\n",
    "        optimizer = optim.Adam(model.parameters(), lr=learning_rate)\n",
    "    elif optimizer == 'adabound':\n",
    "        optimizer = AdaBound(model.parameters(), lr=learning_rate)\n",
    "    else:\n",
    "        raise ValueError(f\"Unsupported optimizer: {optimizer}\")\n",
    "\n",
    "    model.to(device)\n",
    "    model.train()\n",
    "    \n",
    "    for ep in range(epochs):\n",
    "        running_loss = 0.0\n",
    "        train_predictions = []\n",
    "        train_labels = []\n",
    "\n",
    "        epoch = ep + start_epoch\n",
    "\n",
    "        for inputs, labels in tqdm(train_data_loader, desc=f\"Epoch {epoch+1}/{start_epoch + epochs}\"):\n",
    "            optimizer.zero_grad()\n",
    "            inputs, labels = inputs.to(device), labels.to(device)\n",
    "            outputs = model(inputs)\n",
    "\n",
    "            # print('outputs', outputs)\n",
    "            # print('labels', labels)\n",
    "            \n",
    "            loss = nn.CrossEntropyLoss()(outputs, labels)\n",
    "            \n",
    "            loss.backward()\n",
    "            optimizer.step()\n",
    "            \n",
    "            running_loss += loss.item() * inputs.size(0)\n",
    "\n",
    "            _, predicted = torch.max(outputs, 1)\n",
    "            train_predictions.extend(predicted.cpu().numpy())\n",
    "            train_labels.extend(labels.cpu().numpy())\n",
    "\n",
    "        loss = running_loss / len(train_data_loader.dataset)\n",
    "        \n",
    "        valid_loss, f1, accuracy = calculate_metrics(model, valid_data_loader, device)\n",
    "\n",
    "        if valid_loss < min_loss:\n",
    "            print('Saving model...')\n",
    "            min_loss = valid_loss\n",
    "\n",
    "            torch.save(model.state_dict(), f'./checkpoints/{name}_{epoch}_{int(valid_loss)}.pt')\n",
    "\n",
    "        writer.add_scalar(\"Training Loss\", loss, epoch)\n",
    "        writer.add_scalar(\"Validation Loss\", valid_loss, epoch)\n",
    "        writer.add_scalar(\"Validation F1 Score\", f1, epoch)\n",
    "        writer.add_scalar(\"Validation Accuracy\", accuracy, epoch)\n",
    "        print(f'Epoch {epoch+1}/{epochs}, Loss: {loss}, Validation loss: {valid_loss}, Min loss: {min_loss}, F1 Score: {f1}, Accuracy: {accuracy}')\n",
    "    \n",
    "    return model\n",
    "\n",
    "def calculate_metrics(model, data_loader, device='cuda'):\n",
    "    criterion = nn.CrossEntropyLoss()\n",
    "    model.eval()\n",
    "    predictions = []\n",
    "    labels = []\n",
    "    total_loss = 0.0\n",
    "\n",
    "    with torch.no_grad():\n",
    "        for inputs, batch_labels in tqdm(data_loader):\n",
    "            inputs, batch_labels = inputs.to(device), batch_labels.to(device)\n",
    "            outputs = model(inputs)\n",
    "\n",
    "            loss = criterion(outputs, batch_labels)\n",
    "            \n",
    "            total_loss += loss.item()\n",
    "            predictions.extend(torch.argmax(outputs, dim=1).cpu().numpy())\n",
    "            labels.extend(batch_labels.cpu().numpy())\n",
    "\n",
    "    model.train()\n",
    "    \n",
    "    predictions = torch.tensor(predictions)\n",
    "    labels = torch.tensor(labels)\n",
    "\n",
    "    f1 = f1_score(predictions, labels, average='macro')\n",
    "    accuracy = torch.sum(predictions == labels).item() / len(labels)\n",
    "\n",
    "    return total_loss, f1, accuracy\n"
   ]
  },
  {
   "cell_type": "code",
   "execution_count": 34,
   "id": "5dca7902-6895-4d41-a460-394ef9c8b470",
   "metadata": {},
   "outputs": [],
   "source": [
    "from torch.utils.tensorboard import SummaryWriter\n",
    "\n",
    "def fine_tune_model_with_writer(name, model, start_epoch=0, epochs=10, device='cuda', optimizer='adabound', writer=None, learning_rate=0.001):\n",
    "    # writer = SummaryWriter(name)\n",
    "    model = model.to(device)\n",
    "    model = fine_tune(name, model, train_loader, test_loader, writer, start_epoch, epochs, device, optimizer, learning_rate)\n",
    "    writer.flush()\n",
    "\n",
    "    return model\n",
    "    "
   ]
  },
  {
   "cell_type": "code",
   "execution_count": 38,
   "id": "0721eb99-5a96-40a3-bffe-cff6958fdca5",
   "metadata": {},
   "outputs": [
    {
     "name": "stderr",
     "output_type": "stream",
     "text": [
      "[I 2024-01-20 18:16:51,147] A new study created in memory with name: no-name-4ea8e6ae-563a-44a2-b5ab-e360074140d1\n",
      "Epoch 1/15: 100%|████████████████████████████████████████████████████████████████████| 572/572 [01:01<00:00,  9.29it/s]\n",
      "100%|████████████████████████████████████████████████████████████████████████████████| 566/566 [00:24<00:00, 23.53it/s]\n"
     ]
    },
    {
     "name": "stdout",
     "output_type": "stream",
     "text": [
      "Saving model...\n",
      "Epoch 1/15, Loss: 4.557139188377003, Validation loss: 2434.9352855682373, Min loss: 2434.9352855682373, F1 Score: 0.0007635574837310196, Accuracy: 0.019460415745245468\n"
     ]
    },
    {
     "name": "stderr",
     "output_type": "stream",
     "text": [
      "Epoch 2/15: 100%|████████████████████████████████████████████████████████████████████| 572/572 [01:01<00:00,  9.32it/s]\n",
      "100%|████████████████████████████████████████████████████████████████████████████████| 566/566 [00:24<00:00, 23.48it/s]\n"
     ]
    },
    {
     "name": "stdout",
     "output_type": "stream",
     "text": [
      "Saving model...\n",
      "Epoch 2/15, Loss: 4.170322285294794, Validation loss: 2251.1322853565216, Min loss: 2251.1322853565216, F1 Score: 0.001167883211678832, Accuracy: 0.03007518796992481\n"
     ]
    },
    {
     "name": "stderr",
     "output_type": "stream",
     "text": [
      "Epoch 3/15: 100%|████████████████████████████████████████████████████████████████████| 572/572 [01:01<00:00,  9.30it/s]\n",
      "100%|████████████████████████████████████████████████████████████████████████████████| 566/566 [00:23<00:00, 23.67it/s]\n"
     ]
    },
    {
     "name": "stdout",
     "output_type": "stream",
     "text": [
      "Saving model...\n",
      "Epoch 3/15, Loss: 3.945598952677451, Validation loss: 2215.20597243309, Min loss: 2215.20597243309, F1 Score: 0.0027843812679137973, Accuracy: 0.0291906236178682\n"
     ]
    },
    {
     "name": "stderr",
     "output_type": "stream",
     "text": [
      "Epoch 4/15: 100%|████████████████████████████████████████████████████████████████████| 572/572 [01:01<00:00,  9.23it/s]\n",
      "100%|████████████████████████████████████████████████████████████████████████████████| 566/566 [00:25<00:00, 21.86it/s]\n"
     ]
    },
    {
     "name": "stdout",
     "output_type": "stream",
     "text": [
      "Saving model...\n",
      "Epoch 4/15, Loss: 3.9284247529522323, Validation loss: 2212.9270825386047, Min loss: 2212.9270825386047, F1 Score: 0.0024261011560381095, Accuracy: 0.03140203449800973\n"
     ]
    },
    {
     "name": "stderr",
     "output_type": "stream",
     "text": [
      "Epoch 5/15: 100%|████████████████████████████████████████████████████████████████████| 572/572 [01:04<00:00,  8.84it/s]\n",
      "100%|████████████████████████████████████████████████████████████████████████████████| 566/566 [00:24<00:00, 22.91it/s]\n"
     ]
    },
    {
     "name": "stdout",
     "output_type": "stream",
     "text": [
      "Saving model...\n",
      "Epoch 5/15, Loss: 3.9114928117317564, Validation loss: 2206.2329449653625, Min loss: 2206.2329449653625, F1 Score: 0.001970923119647535, Accuracy: 0.025210084033613446\n"
     ]
    },
    {
     "name": "stderr",
     "output_type": "stream",
     "text": [
      "Epoch 6/15: 100%|████████████████████████████████████████████████████████████████████| 572/572 [01:04<00:00,  8.92it/s]\n",
      "100%|████████████████████████████████████████████████████████████████████████████████| 566/566 [00:24<00:00, 23.05it/s]\n"
     ]
    },
    {
     "name": "stdout",
     "output_type": "stream",
     "text": [
      "Saving model...\n",
      "Epoch 6/15, Loss: 3.8970031299390904, Validation loss: 2204.861274242401, Min loss: 2204.861274242401, F1 Score: 0.0060945800380408695, Accuracy: 0.03847854931446263\n"
     ]
    },
    {
     "name": "stderr",
     "output_type": "stream",
     "text": [
      "Epoch 7/15: 100%|████████████████████████████████████████████████████████████████████| 572/572 [01:02<00:00,  9.18it/s]\n",
      "100%|████████████████████████████████████████████████████████████████████████████████| 566/566 [00:25<00:00, 22.57it/s]\n"
     ]
    },
    {
     "name": "stdout",
     "output_type": "stream",
     "text": [
      "Saving model...\n",
      "Epoch 7/15, Loss: 3.872397663919593, Validation loss: 2174.681992292404, Min loss: 2174.681992292404, F1 Score: 0.014020921400916868, Accuracy: 0.03803626713843432\n"
     ]
    },
    {
     "name": "stderr",
     "output_type": "stream",
     "text": [
      "Epoch 8/15: 100%|████████████████████████████████████████████████████████████████████| 572/572 [01:03<00:00,  9.05it/s]\n",
      "100%|████████████████████████████████████████████████████████████████████████████████| 566/566 [00:24<00:00, 22.69it/s]\n"
     ]
    },
    {
     "name": "stdout",
     "output_type": "stream",
     "text": [
      "Epoch 8/15, Loss: 3.82190463289612, Validation loss: 2243.8815412521362, Min loss: 2174.681992292404, F1 Score: 0.009661353917481233, Accuracy: 0.038920831490490936\n"
     ]
    },
    {
     "name": "stderr",
     "output_type": "stream",
     "text": [
      "Epoch 9/15: 100%|████████████████████████████████████████████████████████████████████| 572/572 [01:02<00:00,  9.11it/s]\n",
      "100%|████████████████████████████████████████████████████████████████████████████████| 566/566 [00:24<00:00, 22.88it/s]\n"
     ]
    },
    {
     "name": "stdout",
     "output_type": "stream",
     "text": [
      "Saving model...\n",
      "Epoch 9/15, Loss: 3.797532263206612, Validation loss: 2142.279721736908, Min loss: 2142.279721736908, F1 Score: 0.013097712317082993, Accuracy: 0.045112781954887216\n"
     ]
    },
    {
     "name": "stderr",
     "output_type": "stream",
     "text": [
      "Epoch 10/15: 100%|███████████████████████████████████████████████████████████████████| 572/572 [01:02<00:00,  9.10it/s]\n",
      "100%|████████████████████████████████████████████████████████████████████████████████| 566/566 [00:24<00:00, 22.95it/s]\n"
     ]
    },
    {
     "name": "stdout",
     "output_type": "stream",
     "text": [
      "Epoch 10/15, Loss: 3.7728180062786483, Validation loss: 2152.1902346611023, Min loss: 2142.279721736908, F1 Score: 0.01761891869460032, Accuracy: 0.043343653250773995\n"
     ]
    },
    {
     "name": "stderr",
     "output_type": "stream",
     "text": [
      "Epoch 11/15: 100%|███████████████████████████████████████████████████████████████████| 572/572 [01:02<00:00,  9.16it/s]\n",
      "100%|████████████████████████████████████████████████████████████████████████████████| 566/566 [00:25<00:00, 22.46it/s]\n"
     ]
    },
    {
     "name": "stdout",
     "output_type": "stream",
     "text": [
      "Epoch 11/15, Loss: 3.7623946286206897, Validation loss: 2198.31524848938, Min loss: 2142.279721736908, F1 Score: 0.01768507791242149, Accuracy: 0.044228217602830605\n"
     ]
    },
    {
     "name": "stderr",
     "output_type": "stream",
     "text": [
      "Epoch 12/15: 100%|███████████████████████████████████████████████████████████████████| 572/572 [01:03<00:00,  9.07it/s]\n",
      "100%|████████████████████████████████████████████████████████████████████████████████| 566/566 [00:24<00:00, 23.34it/s]\n"
     ]
    },
    {
     "name": "stdout",
     "output_type": "stream",
     "text": [
      "Saving model...\n",
      "Epoch 12/15, Loss: 3.7313174833415323, Validation loss: 2139.564527273178, Min loss: 2139.564527273178, F1 Score: 0.026490142942121125, Accuracy: 0.047766475011057054\n"
     ]
    },
    {
     "name": "stderr",
     "output_type": "stream",
     "text": [
      "Epoch 13/15: 100%|███████████████████████████████████████████████████████████████████| 572/572 [01:02<00:00,  9.17it/s]\n",
      "100%|████████████████████████████████████████████████████████████████████████████████| 566/566 [00:24<00:00, 23.44it/s]\n"
     ]
    },
    {
     "name": "stdout",
     "output_type": "stream",
     "text": [
      "Epoch 13/15, Loss: 3.721374189379333, Validation loss: 2152.9552001953125, Min loss: 2139.564527273178, F1 Score: 0.027046596709212157, Accuracy: 0.054400707651481646\n"
     ]
    },
    {
     "name": "stderr",
     "output_type": "stream",
     "text": [
      "Epoch 14/15: 100%|███████████████████████████████████████████████████████████████████| 572/572 [01:01<00:00,  9.30it/s]\n",
      "100%|████████████████████████████████████████████████████████████████████████████████| 566/566 [00:24<00:00, 23.41it/s]\n"
     ]
    },
    {
     "name": "stdout",
     "output_type": "stream",
     "text": [
      "Epoch 14/15, Loss: 3.6994689934942784, Validation loss: 2169.904733777046, Min loss: 2139.564527273178, F1 Score: 0.020095939848997206, Accuracy: 0.04555506413091552\n"
     ]
    },
    {
     "name": "stderr",
     "output_type": "stream",
     "text": [
      "Epoch 15/15: 100%|███████████████████████████████████████████████████████████████████| 572/572 [01:01<00:00,  9.30it/s]\n",
      "100%|████████████████████████████████████████████████████████████████████████████████| 566/566 [00:24<00:00, 23.53it/s]\n"
     ]
    },
    {
     "name": "stdout",
     "output_type": "stream",
     "text": [
      "Epoch 15/15, Loss: 3.674966070398682, Validation loss: 2143.684463262558, Min loss: 2139.564527273178, F1 Score: 0.029373639278437544, Accuracy: 0.05572755417956656\n"
     ]
    },
    {
     "name": "stderr",
     "output_type": "stream",
     "text": [
      "100%|████████████████████████████████████████████████████████████████████████████████| 566/566 [00:24<00:00, 23.53it/s]\n",
      "[I 2024-01-20 18:39:02,512] Trial 0 finished with value: 0.05572755417956656 and parameters: {'image_size': 224, 'patch_size': 16, 'dim': 571, 'depth': 9, 'heads': 12, 'dropout': 0.19269592850426362}. Best is trial 0 with value: 0.05572755417956656.\n",
      "Epoch 1/15: 100%|████████████████████████████████████████████████████████████████████| 572/572 [00:49<00:00, 11.52it/s]\n",
      "100%|████████████████████████████████████████████████████████████████████████████████| 566/566 [00:21<00:00, 26.66it/s]\n"
     ]
    },
    {
     "name": "stdout",
     "output_type": "stream",
     "text": [
      "Saving model...\n",
      "Epoch 1/15, Loss: 4.518435628955209, Validation loss: 2552.7673404216766, Min loss: 2552.7673404216766, F1 Score: 0.0007819287576020851, Accuracy: 0.019902697921273773\n"
     ]
    },
    {
     "name": "stderr",
     "output_type": "stream",
     "text": [
      "Epoch 2/15: 100%|████████████████████████████████████████████████████████████████████| 572/572 [00:49<00:00, 11.45it/s]\n",
      "100%|████████████████████████████████████████████████████████████████████████████████| 566/566 [00:21<00:00, 26.70it/s]\n"
     ]
    },
    {
     "name": "stdout",
     "output_type": "stream",
     "text": [
      "Saving model...\n",
      "Epoch 2/15, Loss: 4.121408951558762, Validation loss: 2223.745001554489, Min loss: 2223.745001554489, F1 Score: 0.0007655502392344498, Accuracy: 0.019460415745245468\n"
     ]
    },
    {
     "name": "stderr",
     "output_type": "stream",
     "text": [
      "Epoch 3/15: 100%|████████████████████████████████████████████████████████████████████| 572/572 [00:50<00:00, 11.43it/s]\n",
      "100%|████████████████████████████████████████████████████████████████████████████████| 566/566 [00:21<00:00, 26.01it/s]\n"
     ]
    },
    {
     "name": "stdout",
     "output_type": "stream",
     "text": [
      "Saving model...\n",
      "Epoch 3/15, Loss: 3.92062447057523, Validation loss: 2205.3645265102386, Min loss: 2205.3645265102386, F1 Score: 0.0030519580664393397, Accuracy: 0.02697921273772667\n"
     ]
    },
    {
     "name": "stderr",
     "output_type": "stream",
     "text": [
      "Epoch 4/15: 100%|████████████████████████████████████████████████████████████████████| 572/572 [00:51<00:00, 11.20it/s]\n",
      "100%|████████████████████████████████████████████████████████████████████████████████| 566/566 [00:21<00:00, 26.49it/s]\n"
     ]
    },
    {
     "name": "stdout",
     "output_type": "stream",
     "text": [
      "Saving model...\n",
      "Epoch 4/15, Loss: 3.8775377003553397, Validation loss: 2195.4330060482025, Min loss: 2195.4330060482025, F1 Score: 0.0041766042948123425, Accuracy: 0.030959752321981424\n"
     ]
    },
    {
     "name": "stderr",
     "output_type": "stream",
     "text": [
      "Epoch 5/15: 100%|████████████████████████████████████████████████████████████████████| 572/572 [00:48<00:00, 11.68it/s]\n",
      "100%|████████████████████████████████████████████████████████████████████████████████| 566/566 [00:20<00:00, 27.32it/s]\n"
     ]
    },
    {
     "name": "stdout",
     "output_type": "stream",
     "text": [
      "Saving model...\n",
      "Epoch 5/15, Loss: 3.8137258584706815, Validation loss: 2185.5638115406036, Min loss: 2185.5638115406036, F1 Score: 0.011440193207942557, Accuracy: 0.047766475011057054\n"
     ]
    },
    {
     "name": "stderr",
     "output_type": "stream",
     "text": [
      "Epoch 6/15: 100%|████████████████████████████████████████████████████████████████████| 572/572 [00:50<00:00, 11.34it/s]\n",
      "100%|████████████████████████████████████████████████████████████████████████████████| 566/566 [00:21<00:00, 26.54it/s]\n"
     ]
    },
    {
     "name": "stdout",
     "output_type": "stream",
     "text": [
      "Saving model...\n",
      "Epoch 6/15, Loss: 3.7696092509264294, Validation loss: 2138.14231467247, Min loss: 2138.14231467247, F1 Score: 0.015916670521018368, Accuracy: 0.04201680672268908\n"
     ]
    },
    {
     "name": "stderr",
     "output_type": "stream",
     "text": [
      "Epoch 7/15: 100%|████████████████████████████████████████████████████████████████████| 572/572 [00:50<00:00, 11.40it/s]\n",
      "100%|████████████████████████████████████████████████████████████████████████████████| 566/566 [00:20<00:00, 26.95it/s]\n"
     ]
    },
    {
     "name": "stdout",
     "output_type": "stream",
     "text": [
      "Epoch 7/15, Loss: 3.726816883971194, Validation loss: 2237.292379140854, Min loss: 2138.14231467247, F1 Score: 0.0117894403181777, Accuracy: 0.044228217602830605\n"
     ]
    },
    {
     "name": "stderr",
     "output_type": "stream",
     "text": [
      "Epoch 8/15: 100%|████████████████████████████████████████████████████████████████████| 572/572 [00:50<00:00, 11.25it/s]\n",
      "100%|████████████████████████████████████████████████████████████████████████████████| 566/566 [00:21<00:00, 26.51it/s]\n"
     ]
    },
    {
     "name": "stdout",
     "output_type": "stream",
     "text": [
      "Epoch 8/15, Loss: 3.688332086470537, Validation loss: 2155.1438813209534, Min loss: 2138.14231467247, F1 Score: 0.028498717777703856, Accuracy: 0.0508624502432552\n"
     ]
    },
    {
     "name": "stderr",
     "output_type": "stream",
     "text": [
      "Epoch 9/15: 100%|████████████████████████████████████████████████████████████████████| 572/572 [00:50<00:00, 11.33it/s]\n",
      "100%|████████████████████████████████████████████████████████████████████████████████| 566/566 [00:21<00:00, 26.23it/s]\n"
     ]
    },
    {
     "name": "stdout",
     "output_type": "stream",
     "text": [
      "Epoch 9/15, Loss: 3.655519041996311, Validation loss: 2214.8772757053375, Min loss: 2138.14231467247, F1 Score: 0.023735850551706773, Accuracy: 0.044228217602830605\n"
     ]
    },
    {
     "name": "stderr",
     "output_type": "stream",
     "text": [
      "Epoch 10/15: 100%|███████████████████████████████████████████████████████████████████| 572/572 [00:50<00:00, 11.38it/s]\n",
      "100%|████████████████████████████████████████████████████████████████████████████████| 566/566 [00:21<00:00, 25.90it/s]\n"
     ]
    },
    {
     "name": "stdout",
     "output_type": "stream",
     "text": [
      "Epoch 10/15, Loss: 3.6172015157181674, Validation loss: 2145.91690993309, Min loss: 2138.14231467247, F1 Score: 0.01849747605031123, Accuracy: 0.05263157894736842\n"
     ]
    },
    {
     "name": "stderr",
     "output_type": "stream",
     "text": [
      "Epoch 11/15: 100%|███████████████████████████████████████████████████████████████████| 572/572 [00:50<00:00, 11.40it/s]\n",
      "100%|████████████████████████████████████████████████████████████████████████████████| 566/566 [00:20<00:00, 27.02it/s]\n"
     ]
    },
    {
     "name": "stdout",
     "output_type": "stream",
     "text": [
      "Saving model...\n",
      "Epoch 11/15, Loss: 3.5891681812087888, Validation loss: 2114.361383676529, Min loss: 2114.361383676529, F1 Score: 0.03574952925367881, Accuracy: 0.06678460858027421\n"
     ]
    },
    {
     "name": "stderr",
     "output_type": "stream",
     "text": [
      "Epoch 12/15: 100%|███████████████████████████████████████████████████████████████████| 572/572 [00:49<00:00, 11.48it/s]\n",
      "100%|████████████████████████████████████████████████████████████████████████████████| 566/566 [00:21<00:00, 26.53it/s]\n"
     ]
    },
    {
     "name": "stdout",
     "output_type": "stream",
     "text": [
      "Epoch 12/15, Loss: 3.533445688538745, Validation loss: 2199.1735162734985, Min loss: 2114.361383676529, F1 Score: 0.034161544773149005, Accuracy: 0.06324635117204777\n"
     ]
    },
    {
     "name": "stderr",
     "output_type": "stream",
     "text": [
      "Epoch 13/15: 100%|███████████████████████████████████████████████████████████████████| 572/572 [00:50<00:00, 11.36it/s]\n",
      "100%|████████████████████████████████████████████████████████████████████████████████| 566/566 [00:21<00:00, 26.11it/s]\n"
     ]
    },
    {
     "name": "stdout",
     "output_type": "stream",
     "text": [
      "Epoch 13/15, Loss: 3.511680238466884, Validation loss: 2130.081258535385, Min loss: 2114.361383676529, F1 Score: 0.04390716912515672, Accuracy: 0.06324635117204777\n"
     ]
    },
    {
     "name": "stderr",
     "output_type": "stream",
     "text": [
      "Epoch 14/15: 100%|███████████████████████████████████████████████████████████████████| 572/572 [00:51<00:00, 11.12it/s]\n",
      "100%|████████████████████████████████████████████████████████████████████████████████| 566/566 [00:21<00:00, 26.17it/s]\n"
     ]
    },
    {
     "name": "stdout",
     "output_type": "stream",
     "text": [
      "Epoch 14/15, Loss: 3.493067153739679, Validation loss: 2149.9407165050507, Min loss: 2114.361383676529, F1 Score: 0.03314245222925967, Accuracy: 0.05661211853162318\n"
     ]
    },
    {
     "name": "stderr",
     "output_type": "stream",
     "text": [
      "Epoch 15/15: 100%|███████████████████████████████████████████████████████████████████| 572/572 [00:51<00:00, 11.09it/s]\n",
      "100%|████████████████████████████████████████████████████████████████████████████████| 566/566 [00:21<00:00, 25.97it/s]\n"
     ]
    },
    {
     "name": "stdout",
     "output_type": "stream",
     "text": [
      "Epoch 15/15, Loss: 3.483213663622444, Validation loss: 2193.4446195364, Min loss: 2114.361383676529, F1 Score: 0.036903612250843584, Accuracy: 0.06103494029190624\n"
     ]
    },
    {
     "name": "stderr",
     "output_type": "stream",
     "text": [
      "100%|████████████████████████████████████████████████████████████████████████████████| 566/566 [00:21<00:00, 26.18it/s]\n",
      "[I 2024-01-20 18:57:21,101] Trial 1 finished with value: 0.06103494029190624 and parameters: {'image_size': 224, 'patch_size': 16, 'dim': 536, 'depth': 7, 'heads': 12, 'dropout': 0.1202886836187001}. Best is trial 1 with value: 0.06103494029190624.\n",
      "Epoch 1/15: 100%|████████████████████████████████████████████████████████████████████| 572/572 [01:04<00:00,  8.86it/s]\n",
      "100%|████████████████████████████████████████████████████████████████████████████████| 566/566 [00:24<00:00, 22.99it/s]\n"
     ]
    },
    {
     "name": "stdout",
     "output_type": "stream",
     "text": [
      "Saving model...\n",
      "Epoch 1/15, Loss: 5.024124216710213, Validation loss: 2596.3933091163635, Min loss: 2596.3933091163635, F1 Score: 0.0007465277777777776, Accuracy: 0.01901813356921716\n"
     ]
    },
    {
     "name": "stderr",
     "output_type": "stream",
     "text": [
      "Epoch 2/15: 100%|████████████████████████████████████████████████████████████████████| 572/572 [01:04<00:00,  8.88it/s]\n",
      "100%|████████████████████████████████████████████████████████████████████████████████| 566/566 [00:24<00:00, 23.10it/s]\n"
     ]
    },
    {
     "name": "stdout",
     "output_type": "stream",
     "text": [
      "Saving model...\n",
      "Epoch 2/15, Loss: 4.1858323978762675, Validation loss: 2232.095716714859, Min loss: 2232.095716714859, F1 Score: 0.001095961940125319, Accuracy: 0.019460415745245468\n"
     ]
    },
    {
     "name": "stderr",
     "output_type": "stream",
     "text": [
      "Epoch 3/15: 100%|████████████████████████████████████████████████████████████████████| 572/572 [01:04<00:00,  8.88it/s]\n",
      "100%|████████████████████████████████████████████████████████████████████████████████| 566/566 [00:24<00:00, 23.10it/s]\n"
     ]
    },
    {
     "name": "stdout",
     "output_type": "stream",
     "text": [
      "Saving model...\n",
      "Epoch 3/15, Loss: 3.9184730855669057, Validation loss: 2198.5196425914764, Min loss: 2198.5196425914764, F1 Score: 0.007234212112424221, Accuracy: 0.03361344537815126\n"
     ]
    },
    {
     "name": "stderr",
     "output_type": "stream",
     "text": [
      "Epoch 4/15: 100%|████████████████████████████████████████████████████████████████████| 572/572 [01:05<00:00,  8.71it/s]\n",
      "100%|████████████████████████████████████████████████████████████████████████████████| 566/566 [00:25<00:00, 22.52it/s]\n"
     ]
    },
    {
     "name": "stdout",
     "output_type": "stream",
     "text": [
      "Saving model...\n",
      "Epoch 4/15, Loss: 3.866291684879191, Validation loss: 2179.806322813034, Min loss: 2179.806322813034, F1 Score: 0.012959869680939193, Accuracy: 0.04201680672268908\n"
     ]
    },
    {
     "name": "stderr",
     "output_type": "stream",
     "text": [
      "Epoch 5/15: 100%|████████████████████████████████████████████████████████████████████| 572/572 [01:05<00:00,  8.74it/s]\n",
      "100%|████████████████████████████████████████████████████████████████████████████████| 566/566 [00:24<00:00, 22.65it/s]\n"
     ]
    },
    {
     "name": "stdout",
     "output_type": "stream",
     "text": [
      "Saving model...\n",
      "Epoch 5/15, Loss: 3.8317304763618805, Validation loss: 2166.23193025589, Min loss: 2166.23193025589, F1 Score: 0.018645140236649996, Accuracy: 0.04643962848297214\n"
     ]
    },
    {
     "name": "stderr",
     "output_type": "stream",
     "text": [
      "Epoch 6/15: 100%|████████████████████████████████████████████████████████████████████| 572/572 [01:04<00:00,  8.85it/s]\n",
      "100%|████████████████████████████████████████████████████████████████████████████████| 566/566 [00:24<00:00, 23.14it/s]\n"
     ]
    },
    {
     "name": "stdout",
     "output_type": "stream",
     "text": [
      "Epoch 6/15, Loss: 3.834599299049294, Validation loss: 2166.429148197174, Min loss: 2166.23193025589, F1 Score: 0.009450481166865182, Accuracy: 0.03449800973020787\n"
     ]
    },
    {
     "name": "stderr",
     "output_type": "stream",
     "text": [
      "Epoch 7/15: 100%|████████████████████████████████████████████████████████████████████| 572/572 [01:04<00:00,  8.90it/s]\n",
      "100%|████████████████████████████████████████████████████████████████████████████████| 566/566 [00:24<00:00, 23.17it/s]\n"
     ]
    },
    {
     "name": "stdout",
     "output_type": "stream",
     "text": [
      "Epoch 7/15, Loss: 3.8326056693702166, Validation loss: 2183.2699711322784, Min loss: 2166.23193025589, F1 Score: 0.008107021054332432, Accuracy: 0.03847854931446263\n"
     ]
    },
    {
     "name": "stderr",
     "output_type": "stream",
     "text": [
      "Epoch 8/15: 100%|████████████████████████████████████████████████████████████████████| 572/572 [01:04<00:00,  8.89it/s]\n",
      "100%|████████████████████████████████████████████████████████████████████████████████| 566/566 [00:24<00:00, 23.09it/s]\n"
     ]
    },
    {
     "name": "stdout",
     "output_type": "stream",
     "text": [
      "Saving model...\n",
      "Epoch 8/15, Loss: 3.8056145128225936, Validation loss: 2157.8864765167236, Min loss: 2157.8864765167236, F1 Score: 0.02000449381696348, Accuracy: 0.0437859354268023\n"
     ]
    },
    {
     "name": "stderr",
     "output_type": "stream",
     "text": [
      "Epoch 9/15: 100%|████████████████████████████████████████████████████████████████████| 572/572 [01:04<00:00,  8.89it/s]\n",
      "100%|████████████████████████████████████████████████████████████████████████████████| 566/566 [00:24<00:00, 23.07it/s]\n"
     ]
    },
    {
     "name": "stdout",
     "output_type": "stream",
     "text": [
      "Epoch 9/15, Loss: 3.775758286569126, Validation loss: 2186.423327922821, Min loss: 2157.8864765167236, F1 Score: 0.020472910236637734, Accuracy: 0.04820875718708536\n"
     ]
    },
    {
     "name": "stderr",
     "output_type": "stream",
     "text": [
      "Epoch 10/15: 100%|███████████████████████████████████████████████████████████████████| 572/572 [01:04<00:00,  8.88it/s]\n",
      "100%|████████████████████████████████████████████████████████████████████████████████| 566/566 [00:24<00:00, 23.07it/s]\n"
     ]
    },
    {
     "name": "stdout",
     "output_type": "stream",
     "text": [
      "Saving model...\n",
      "Epoch 10/15, Loss: 3.780905280198705, Validation loss: 2146.5192108154297, Min loss: 2146.5192108154297, F1 Score: 0.022487828607574843, Accuracy: 0.04688191065900044\n"
     ]
    },
    {
     "name": "stderr",
     "output_type": "stream",
     "text": [
      "Epoch 11/15: 100%|███████████████████████████████████████████████████████████████████| 572/572 [01:04<00:00,  8.88it/s]\n",
      "100%|████████████████████████████████████████████████████████████████████████████████| 566/566 [00:23<00:00, 23.93it/s]\n"
     ]
    },
    {
     "name": "stdout",
     "output_type": "stream",
     "text": [
      "Epoch 11/15, Loss: 3.765131247632619, Validation loss: 2178.4669349193573, Min loss: 2146.5192108154297, F1 Score: 0.024002981001543456, Accuracy: 0.04688191065900044\n"
     ]
    },
    {
     "name": "stderr",
     "output_type": "stream",
     "text": [
      "Epoch 12/15: 100%|███████████████████████████████████████████████████████████████████| 572/572 [01:01<00:00,  9.23it/s]\n",
      "100%|████████████████████████████████████████████████████████████████████████████████| 566/566 [00:23<00:00, 23.60it/s]\n"
     ]
    },
    {
     "name": "stdout",
     "output_type": "stream",
     "text": [
      "Epoch 12/15, Loss: 3.7640418187989177, Validation loss: 2193.195739030838, Min loss: 2146.5192108154297, F1 Score: 0.013713156856129309, Accuracy: 0.0362671384343211\n"
     ]
    },
    {
     "name": "stderr",
     "output_type": "stream",
     "text": [
      "Epoch 13/15: 100%|███████████████████████████████████████████████████████████████████| 572/572 [01:02<00:00,  9.15it/s]\n",
      "100%|████████████████████████████████████████████████████████████████████████████████| 566/566 [00:23<00:00, 23.72it/s]\n"
     ]
    },
    {
     "name": "stdout",
     "output_type": "stream",
     "text": [
      "Epoch 13/15, Loss: 3.7760767767822374, Validation loss: 2150.065529346466, Min loss: 2146.5192108154297, F1 Score: 0.02715699512444235, Accuracy: 0.05042016806722689\n"
     ]
    },
    {
     "name": "stderr",
     "output_type": "stream",
     "text": [
      "Epoch 14/15: 100%|███████████████████████████████████████████████████████████████████| 572/572 [01:02<00:00,  9.15it/s]\n",
      "100%|████████████████████████████████████████████████████████████████████████████████| 566/566 [00:23<00:00, 23.78it/s]\n"
     ]
    },
    {
     "name": "stdout",
     "output_type": "stream",
     "text": [
      "Epoch 14/15, Loss: 3.7725455924627505, Validation loss: 2165.7928578853607, Min loss: 2146.5192108154297, F1 Score: 0.011359231176487903, Accuracy: 0.04113224237063246\n"
     ]
    },
    {
     "name": "stderr",
     "output_type": "stream",
     "text": [
      "Epoch 15/15: 100%|███████████████████████████████████████████████████████████████████| 572/572 [01:02<00:00,  9.13it/s]\n",
      "100%|████████████████████████████████████████████████████████████████████████████████| 566/566 [00:23<00:00, 23.62it/s]\n"
     ]
    },
    {
     "name": "stdout",
     "output_type": "stream",
     "text": [
      "Saving model...\n",
      "Epoch 15/15, Loss: 3.7327388185677073, Validation loss: 2143.6539268493652, Min loss: 2143.6539268493652, F1 Score: 0.024574128061104657, Accuracy: 0.0437859354268023\n"
     ]
    },
    {
     "name": "stderr",
     "output_type": "stream",
     "text": [
      "100%|████████████████████████████████████████████████████████████████████████████████| 566/566 [00:23<00:00, 23.67it/s]\n",
      "[I 2024-01-20 19:19:52,310] Trial 2 finished with value: 0.0437859354268023 and parameters: {'image_size': 224, 'patch_size': 16, 'dim': 977, 'depth': 6, 'heads': 12, 'dropout': 0.10874047557613518}. Best is trial 1 with value: 0.06103494029190624.\n",
      "Epoch 1/15: 100%|████████████████████████████████████████████████████████████████████| 572/572 [00:38<00:00, 14.80it/s]\n",
      "100%|████████████████████████████████████████████████████████████████████████████████| 566/566 [00:19<00:00, 29.15it/s]\n"
     ]
    },
    {
     "name": "stdout",
     "output_type": "stream",
     "text": [
      "Saving model...\n",
      "Epoch 1/15, Loss: 4.264589371616578, Validation loss: 2421.399348974228, Min loss: 2421.399348974228, F1 Score: 0.004392727851374467, Accuracy: 0.03228659885006634\n"
     ]
    },
    {
     "name": "stderr",
     "output_type": "stream",
     "text": [
      "Epoch 2/15: 100%|████████████████████████████████████████████████████████████████████| 572/572 [00:38<00:00, 14.68it/s]\n",
      "100%|████████████████████████████████████████████████████████████████████████████████| 566/566 [00:19<00:00, 29.12it/s]\n"
     ]
    },
    {
     "name": "stdout",
     "output_type": "stream",
     "text": [
      "Saving model...\n",
      "Epoch 2/15, Loss: 3.9630656879334976, Validation loss: 2175.4541006088257, Min loss: 2175.4541006088257, F1 Score: 0.014726371662448359, Accuracy: 0.04201680672268908\n"
     ]
    },
    {
     "name": "stderr",
     "output_type": "stream",
     "text": [
      "Epoch 3/15: 100%|████████████████████████████████████████████████████████████████████| 572/572 [00:39<00:00, 14.64it/s]\n",
      "100%|████████████████████████████████████████████████████████████████████████████████| 566/566 [00:18<00:00, 30.01it/s]\n"
     ]
    },
    {
     "name": "stdout",
     "output_type": "stream",
     "text": [
      "Epoch 3/15, Loss: 3.8328754525545334, Validation loss: 2180.8805553913116, Min loss: 2175.4541006088257, F1 Score: 0.014695830603517774, Accuracy: 0.0367094206103494\n"
     ]
    },
    {
     "name": "stderr",
     "output_type": "stream",
     "text": [
      "Epoch 4/15: 100%|████████████████████████████████████████████████████████████████████| 572/572 [00:38<00:00, 14.86it/s]\n",
      "100%|████████████████████████████████████████████████████████████████████████████████| 566/566 [00:19<00:00, 29.16it/s]\n"
     ]
    },
    {
     "name": "stdout",
     "output_type": "stream",
     "text": [
      "Saving model...\n",
      "Epoch 4/15, Loss: 3.8148995592545147, Validation loss: 2163.897466659546, Min loss: 2163.897466659546, F1 Score: 0.016684787472387955, Accuracy: 0.040689960194604156\n"
     ]
    },
    {
     "name": "stderr",
     "output_type": "stream",
     "text": [
      "Epoch 5/15: 100%|████████████████████████████████████████████████████████████████████| 572/572 [00:38<00:00, 14.85it/s]\n",
      "100%|████████████████████████████████████████████████████████████████████████████████| 566/566 [00:18<00:00, 29.83it/s]\n"
     ]
    },
    {
     "name": "stdout",
     "output_type": "stream",
     "text": [
      "Epoch 5/15, Loss: 3.7663872844535917, Validation loss: 2173.937493085861, Min loss: 2163.897466659546, F1 Score: 0.014892804177351724, Accuracy: 0.04467049977885891\n"
     ]
    },
    {
     "name": "stderr",
     "output_type": "stream",
     "text": [
      "Epoch 6/15: 100%|████████████████████████████████████████████████████████████████████| 572/572 [00:38<00:00, 14.92it/s]\n",
      "100%|████████████████████████████████████████████████████████████████████████████████| 566/566 [00:19<00:00, 29.31it/s]\n"
     ]
    },
    {
     "name": "stdout",
     "output_type": "stream",
     "text": [
      "Epoch 6/15, Loss: 3.7287500049539357, Validation loss: 2167.7865340709686, Min loss: 2163.897466659546, F1 Score: 0.01831313928170756, Accuracy: 0.04555506413091552\n"
     ]
    },
    {
     "name": "stderr",
     "output_type": "stream",
     "text": [
      "Epoch 7/15: 100%|████████████████████████████████████████████████████████████████████| 572/572 [00:37<00:00, 15.19it/s]\n",
      "100%|████████████████████████████████████████████████████████████████████████████████| 566/566 [00:18<00:00, 29.89it/s]\n"
     ]
    },
    {
     "name": "stdout",
     "output_type": "stream",
     "text": [
      "Saving model...\n",
      "Epoch 7/15, Loss: 3.6968745360689286, Validation loss: 2142.082494735718, Min loss: 2142.082494735718, F1 Score: 0.021272024978872324, Accuracy: 0.04732419283502875\n"
     ]
    },
    {
     "name": "stderr",
     "output_type": "stream",
     "text": [
      "Epoch 8/15: 100%|████████████████████████████████████████████████████████████████████| 572/572 [00:37<00:00, 15.20it/s]\n",
      "100%|████████████████████████████████████████████████████████████████████████████████| 566/566 [00:18<00:00, 29.95it/s]\n"
     ]
    },
    {
     "name": "stdout",
     "output_type": "stream",
     "text": [
      "Saving model...\n",
      "Epoch 8/15, Loss: 3.669451214206964, Validation loss: 2138.9032113552094, Min loss: 2138.9032113552094, F1 Score: 0.03372026102865223, Accuracy: 0.05661211853162318\n"
     ]
    },
    {
     "name": "stderr",
     "output_type": "stream",
     "text": [
      "Epoch 9/15: 100%|████████████████████████████████████████████████████████████████████| 572/572 [00:37<00:00, 15.22it/s]\n",
      "100%|████████████████████████████████████████████████████████████████████████████████| 566/566 [00:18<00:00, 30.26it/s]\n"
     ]
    },
    {
     "name": "stdout",
     "output_type": "stream",
     "text": [
      "Saving model...\n",
      "Epoch 9/15, Loss: 3.658806002291207, Validation loss: 2118.813383102417, Min loss: 2118.813383102417, F1 Score: 0.03249916837584227, Accuracy: 0.048651039363113664\n"
     ]
    },
    {
     "name": "stderr",
     "output_type": "stream",
     "text": [
      "Epoch 10/15: 100%|███████████████████████████████████████████████████████████████████| 572/572 [00:37<00:00, 15.17it/s]\n",
      "100%|████████████████████████████████████████████████████████████████████████████████| 566/566 [00:18<00:00, 30.16it/s]\n"
     ]
    },
    {
     "name": "stdout",
     "output_type": "stream",
     "text": [
      "Epoch 10/15, Loss: 3.6197198960371395, Validation loss: 2119.252153635025, Min loss: 2118.813383102417, F1 Score: 0.03440127437476443, Accuracy: 0.05174701459531181\n"
     ]
    },
    {
     "name": "stderr",
     "output_type": "stream",
     "text": [
      "Epoch 11/15: 100%|███████████████████████████████████████████████████████████████████| 572/572 [00:37<00:00, 15.18it/s]\n",
      "100%|████████████████████████████████████████████████████████████████████████████████| 566/566 [00:18<00:00, 29.98it/s]\n"
     ]
    },
    {
     "name": "stdout",
     "output_type": "stream",
     "text": [
      "Epoch 11/15, Loss: 3.591063556996401, Validation loss: 2129.822729945183, Min loss: 2118.813383102417, F1 Score: 0.034117380678864564, Accuracy: 0.05572755417956656\n"
     ]
    },
    {
     "name": "stderr",
     "output_type": "stream",
     "text": [
      "Epoch 12/15: 100%|███████████████████████████████████████████████████████████████████| 572/572 [00:37<00:00, 15.22it/s]\n",
      "100%|████████████████████████████████████████████████████████████████████████████████| 566/566 [00:18<00:00, 29.91it/s]\n"
     ]
    },
    {
     "name": "stdout",
     "output_type": "stream",
     "text": [
      "Epoch 12/15, Loss: 3.563790071047077, Validation loss: 2159.4650449752808, Min loss: 2118.813383102417, F1 Score: 0.032463115521969926, Accuracy: 0.05307386112339673\n"
     ]
    },
    {
     "name": "stderr",
     "output_type": "stream",
     "text": [
      "Epoch 13/15: 100%|███████████████████████████████████████████████████████████████████| 572/572 [00:37<00:00, 15.20it/s]\n",
      "100%|████████████████████████████████████████████████████████████████████████████████| 566/566 [00:18<00:00, 29.88it/s]\n"
     ]
    },
    {
     "name": "stdout",
     "output_type": "stream",
     "text": [
      "Epoch 13/15, Loss: 3.528496304296436, Validation loss: 2156.4940613508224, Min loss: 2118.813383102417, F1 Score: 0.03692783607953732, Accuracy: 0.06413091552410438\n"
     ]
    },
    {
     "name": "stderr",
     "output_type": "stream",
     "text": [
      "Epoch 14/15: 100%|███████████████████████████████████████████████████████████████████| 572/572 [00:37<00:00, 15.21it/s]\n",
      "100%|████████████████████████████████████████████████████████████████████████████████| 566/566 [00:18<00:00, 29.88it/s]\n"
     ]
    },
    {
     "name": "stdout",
     "output_type": "stream",
     "text": [
      "Epoch 14/15, Loss: 3.485876114753119, Validation loss: 2148.879536628723, Min loss: 2118.813383102417, F1 Score: 0.04245078938214262, Accuracy: 0.06015037593984962\n"
     ]
    },
    {
     "name": "stderr",
     "output_type": "stream",
     "text": [
      "Epoch 15/15: 100%|███████████████████████████████████████████████████████████████████| 572/572 [00:37<00:00, 15.22it/s]\n",
      "100%|████████████████████████████████████████████████████████████████████████████████| 566/566 [00:18<00:00, 30.13it/s]\n"
     ]
    },
    {
     "name": "stdout",
     "output_type": "stream",
     "text": [
      "Epoch 15/15, Loss: 3.4571846233062677, Validation loss: 2273.906044483185, Min loss: 2118.813383102417, F1 Score: 0.033324878892813395, Accuracy: 0.059708093763821316\n"
     ]
    },
    {
     "name": "stderr",
     "output_type": "stream",
     "text": [
      "100%|████████████████████████████████████████████████████████████████████████████████| 566/566 [00:18<00:00, 30.12it/s]\n",
      "[I 2024-01-20 19:34:27,486] Trial 3 finished with value: 0.059708093763821316 and parameters: {'image_size': 224, 'patch_size': 16, 'dim': 295, 'depth': 6, 'heads': 15, 'dropout': 0.19404533032954252}. Best is trial 1 with value: 0.06103494029190624.\n",
      "Epoch 1/15: 100%|████████████████████████████████████████████████████████████████████| 572/572 [00:42<00:00, 13.31it/s]\n",
      "100%|████████████████████████████████████████████████████████████████████████████████| 566/566 [00:20<00:00, 28.29it/s]\n"
     ]
    },
    {
     "name": "stdout",
     "output_type": "stream",
     "text": [
      "Saving model...\n",
      "Epoch 1/15, Loss: 4.268395322871406, Validation loss: 2371.1346518993378, Min loss: 2371.1346518993378, F1 Score: 0.0007975726051148678, Accuracy: 0.020344980097302078\n"
     ]
    },
    {
     "name": "stderr",
     "output_type": "stream",
     "text": [
      "Epoch 2/15: 100%|████████████████████████████████████████████████████████████████████| 572/572 [00:42<00:00, 13.33it/s]\n",
      "100%|████████████████████████████████████████████████████████████████████████████████| 566/566 [00:20<00:00, 28.16it/s]\n"
     ]
    },
    {
     "name": "stdout",
     "output_type": "stream",
     "text": [
      "Saving model...\n",
      "Epoch 2/15, Loss: 4.111575368298262, Validation loss: 2249.2774996757507, Min loss: 2249.2774996757507, F1 Score: 0.0014657636473719038, Accuracy: 0.021229544449358692\n"
     ]
    },
    {
     "name": "stderr",
     "output_type": "stream",
     "text": [
      "Epoch 3/15: 100%|████████████████████████████████████████████████████████████████████| 572/572 [00:42<00:00, 13.36it/s]\n",
      "100%|████████████████████████████████████████████████████████████████████████████████| 566/566 [00:20<00:00, 28.22it/s]\n"
     ]
    },
    {
     "name": "stdout",
     "output_type": "stream",
     "text": [
      "Saving model...\n",
      "Epoch 3/15, Loss: 3.9879313139713224, Validation loss: 2238.1279125213623, Min loss: 2238.1279125213623, F1 Score: 0.0007805724197745014, Accuracy: 0.019902697921273773\n"
     ]
    },
    {
     "name": "stderr",
     "output_type": "stream",
     "text": [
      "Epoch 4/15: 100%|████████████████████████████████████████████████████████████████████| 572/572 [00:42<00:00, 13.34it/s]\n",
      "100%|████████████████████████████████████████████████████████████████████████████████| 566/566 [00:19<00:00, 28.37it/s]\n"
     ]
    },
    {
     "name": "stdout",
     "output_type": "stream",
     "text": [
      "Saving model...\n",
      "Epoch 4/15, Loss: 3.950103710142869, Validation loss: 2221.576369047165, Min loss: 2221.576369047165, F1 Score: 0.0007635574837310195, Accuracy: 0.019460415745245468\n"
     ]
    },
    {
     "name": "stderr",
     "output_type": "stream",
     "text": [
      "Epoch 5/15: 100%|████████████████████████████████████████████████████████████████████| 572/572 [00:42<00:00, 13.33it/s]\n",
      "100%|████████████████████████████████████████████████████████████████████████████████| 566/566 [00:20<00:00, 28.25it/s]\n"
     ]
    },
    {
     "name": "stdout",
     "output_type": "stream",
     "text": [
      "Epoch 5/15, Loss: 3.9425360121266206, Validation loss: 2229.451558113098, Min loss: 2221.576369047165, F1 Score: 0.00078125, Accuracy: 0.019902697921273773\n"
     ]
    },
    {
     "name": "stderr",
     "output_type": "stream",
     "text": [
      "Epoch 6/15: 100%|████████████████████████████████████████████████████████████████████| 572/572 [00:42<00:00, 13.32it/s]\n",
      "100%|████████████████████████████████████████████████████████████████████████████████| 566/566 [00:20<00:00, 28.13it/s]\n"
     ]
    },
    {
     "name": "stdout",
     "output_type": "stream",
     "text": [
      "Saving model...\n",
      "Epoch 6/15, Loss: 3.943394711614958, Validation loss: 2220.968850374222, Min loss: 2220.968850374222, F1 Score: 0.0011423626135871915, Accuracy: 0.0291906236178682\n"
     ]
    },
    {
     "name": "stderr",
     "output_type": "stream",
     "text": [
      "Epoch 7/15: 100%|████████████████████████████████████████████████████████████████████| 572/572 [00:42<00:00, 13.34it/s]\n",
      "100%|████████████████████████████████████████████████████████████████████████████████| 566/566 [00:20<00:00, 28.23it/s]\n"
     ]
    },
    {
     "name": "stdout",
     "output_type": "stream",
     "text": [
      "Saving model...\n",
      "Epoch 7/15, Loss: 3.9428236312515934, Validation loss: 2216.1916766166687, Min loss: 2216.1916766166687, F1 Score: 0.0011541774332472006, Accuracy: 0.029632905793896505\n"
     ]
    },
    {
     "name": "stderr",
     "output_type": "stream",
     "text": [
      "Epoch 8/15: 100%|████████████████████████████████████████████████████████████████████| 572/572 [00:42<00:00, 13.36it/s]\n",
      "100%|████████████████████████████████████████████████████████████████████████████████| 566/566 [00:19<00:00, 28.33it/s]\n"
     ]
    },
    {
     "name": "stdout",
     "output_type": "stream",
     "text": [
      "Epoch 8/15, Loss: 3.9337049873312018, Validation loss: 2217.6332161426544, Min loss: 2216.1916766166687, F1 Score: 0.0021512047635474842, Accuracy: 0.02786377708978328\n"
     ]
    },
    {
     "name": "stderr",
     "output_type": "stream",
     "text": [
      "Epoch 9/15: 100%|████████████████████████████████████████████████████████████████████| 572/572 [00:42<00:00, 13.36it/s]\n",
      "100%|████████████████████████████████████████████████████████████████████████████████| 566/566 [00:19<00:00, 28.40it/s]\n"
     ]
    },
    {
     "name": "stdout",
     "output_type": "stream",
     "text": [
      "Epoch 9/15, Loss: 3.930493581644249, Validation loss: 2220.8820729255676, Min loss: 2216.1916766166687, F1 Score: 0.002730245346202575, Accuracy: 0.02697921273772667\n"
     ]
    },
    {
     "name": "stderr",
     "output_type": "stream",
     "text": [
      "Epoch 10/15: 100%|███████████████████████████████████████████████████████████████████| 572/572 [00:42<00:00, 13.37it/s]\n",
      "100%|████████████████████████████████████████████████████████████████████████████████| 566/566 [00:20<00:00, 28.23it/s]\n"
     ]
    },
    {
     "name": "stdout",
     "output_type": "stream",
     "text": [
      "Epoch 10/15, Loss: 3.9307712869556597, Validation loss: 2223.2039456367493, Min loss: 2216.1916766166687, F1 Score: 0.0024040897120782933, Accuracy: 0.03051747014595312\n"
     ]
    },
    {
     "name": "stderr",
     "output_type": "stream",
     "text": [
      "Epoch 11/15: 100%|███████████████████████████████████████████████████████████████████| 572/572 [00:42<00:00, 13.33it/s]\n",
      "100%|████████████████████████████████████████████████████████████████████████████████| 566/566 [00:20<00:00, 28.30it/s]\n"
     ]
    },
    {
     "name": "stdout",
     "output_type": "stream",
     "text": [
      "Epoch 11/15, Loss: 3.952281297426011, Validation loss: 2224.673641204834, Min loss: 2216.1916766166687, F1 Score: 0.002085625296943462, Accuracy: 0.02344095532950022\n"
     ]
    },
    {
     "name": "stderr",
     "output_type": "stream",
     "text": [
      "Epoch 12/15: 100%|███████████████████████████████████████████████████████████████████| 572/572 [00:42<00:00, 13.32it/s]\n",
      "100%|████████████████████████████████████████████████████████████████████████████████| 566/566 [00:20<00:00, 28.25it/s]\n"
     ]
    },
    {
     "name": "stdout",
     "output_type": "stream",
     "text": [
      "Saving model...\n",
      "Epoch 12/15, Loss: 3.946167071000113, Validation loss: 2215.6100273132324, Min loss: 2215.6100273132324, F1 Score: 0.0026598184424271388, Accuracy: 0.024325519681556832\n"
     ]
    },
    {
     "name": "stderr",
     "output_type": "stream",
     "text": [
      "Epoch 13/15: 100%|███████████████████████████████████████████████████████████████████| 572/572 [00:42<00:00, 13.43it/s]\n",
      "100%|████████████████████████████████████████████████████████████████████████████████| 566/566 [00:19<00:00, 28.61it/s]\n"
     ]
    },
    {
     "name": "stdout",
     "output_type": "stream",
     "text": [
      "Epoch 13/15, Loss: 3.9383891262651582, Validation loss: 2217.0840487480164, Min loss: 2215.6100273132324, F1 Score: 0.003324965532538624, Accuracy: 0.023883237505528527\n"
     ]
    },
    {
     "name": "stderr",
     "output_type": "stream",
     "text": [
      "Epoch 14/15: 100%|███████████████████████████████████████████████████████████████████| 572/572 [00:42<00:00, 13.50it/s]\n",
      "100%|████████████████████████████████████████████████████████████████████████████████| 566/566 [00:19<00:00, 28.59it/s]\n"
     ]
    },
    {
     "name": "stdout",
     "output_type": "stream",
     "text": [
      "Epoch 14/15, Loss: 3.936985634798351, Validation loss: 2216.868374824524, Min loss: 2215.6100273132324, F1 Score: 0.003918140451015962, Accuracy: 0.023883237505528527\n"
     ]
    },
    {
     "name": "stderr",
     "output_type": "stream",
     "text": [
      "Epoch 15/15: 100%|███████████████████████████████████████████████████████████████████| 572/572 [00:42<00:00, 13.52it/s]\n",
      "100%|████████████████████████████████████████████████████████████████████████████████| 566/566 [00:19<00:00, 28.62it/s]\n"
     ]
    },
    {
     "name": "stdout",
     "output_type": "stream",
     "text": [
      "Epoch 15/15, Loss: 3.9316007589532864, Validation loss: 2216.3631205558777, Min loss: 2215.6100273132324, F1 Score: 0.002333958038647465, Accuracy: 0.028748341441839895\n"
     ]
    },
    {
     "name": "stderr",
     "output_type": "stream",
     "text": [
      "100%|████████████████████████████████████████████████████████████████████████████████| 566/566 [00:19<00:00, 28.54it/s]\n",
      "[I 2024-01-20 19:50:29,374] Trial 4 finished with value: 0.028748341441839895 and parameters: {'image_size': 224, 'patch_size': 16, 'dim': 257, 'depth': 8, 'heads': 13, 'dropout': 0.21435696404038895}. Best is trial 1 with value: 0.06103494029190624.\n",
      "Epoch 1/15: 100%|████████████████████████████████████████████████████████████████████| 572/572 [00:55<00:00, 10.24it/s]\n",
      "100%|████████████████████████████████████████████████████████████████████████████████| 566/566 [00:22<00:00, 24.82it/s]\n"
     ]
    },
    {
     "name": "stdout",
     "output_type": "stream",
     "text": [
      "Saving model...\n",
      "Epoch 1/15, Loss: 4.4206360211057545, Validation loss: 2463.3826825618744, Min loss: 2463.3826825618744, F1 Score: 0.0007635574837310196, Accuracy: 0.019460415745245468\n"
     ]
    },
    {
     "name": "stderr",
     "output_type": "stream",
     "text": [
      "Epoch 2/15: 100%|████████████████████████████████████████████████████████████████████| 572/572 [00:55<00:00, 10.25it/s]\n",
      "100%|████████████████████████████████████████████████████████████████████████████████| 566/566 [00:22<00:00, 24.86it/s]\n"
     ]
    },
    {
     "name": "stdout",
     "output_type": "stream",
     "text": [
      "Saving model...\n",
      "Epoch 2/15, Loss: 4.104378931481712, Validation loss: 2228.156732559204, Min loss: 2228.156732559204, F1 Score: 0.001167883211678832, Accuracy: 0.03007518796992481\n"
     ]
    },
    {
     "name": "stderr",
     "output_type": "stream",
     "text": [
      "Epoch 3/15: 100%|████████████████████████████████████████████████████████████████████| 572/572 [00:55<00:00, 10.25it/s]\n",
      "100%|████████████████████████████████████████████████████████████████████████████████| 566/566 [00:22<00:00, 24.82it/s]\n"
     ]
    },
    {
     "name": "stdout",
     "output_type": "stream",
     "text": [
      "Saving model...\n",
      "Epoch 3/15, Loss: 3.9378372692988854, Validation loss: 2218.2700004577637, Min loss: 2218.2700004577637, F1 Score: 0.001431977242137486, Accuracy: 0.019460415745245468\n"
     ]
    },
    {
     "name": "stderr",
     "output_type": "stream",
     "text": [
      "Epoch 4/15: 100%|████████████████████████████████████████████████████████████████████| 572/572 [00:55<00:00, 10.22it/s]\n",
      "100%|████████████████████████████████████████████████████████████████████████████████| 566/566 [00:22<00:00, 24.65it/s]\n"
     ]
    },
    {
     "name": "stdout",
     "output_type": "stream",
     "text": [
      "Epoch 4/15, Loss: 3.9069297759877992, Validation loss: 2224.071575641632, Min loss: 2218.2700004577637, F1 Score: 0.0022784048956234087, Accuracy: 0.02344095532950022\n"
     ]
    },
    {
     "name": "stderr",
     "output_type": "stream",
     "text": [
      "Epoch 5/15: 100%|████████████████████████████████████████████████████████████████████| 572/572 [00:56<00:00, 10.19it/s]\n",
      "100%|████████████████████████████████████████████████████████████████████████████████| 566/566 [00:23<00:00, 24.25it/s]\n"
     ]
    },
    {
     "name": "stdout",
     "output_type": "stream",
     "text": [
      "Epoch 5/15, Loss: 3.881070057377317, Validation loss: 2255.6074328422546, Min loss: 2218.2700004577637, F1 Score: 0.004100468448254591, Accuracy: 0.03184431667403804\n"
     ]
    },
    {
     "name": "stderr",
     "output_type": "stream",
     "text": [
      "Epoch 6/15: 100%|████████████████████████████████████████████████████████████████████| 572/572 [00:56<00:00, 10.04it/s]\n",
      "100%|████████████████████████████████████████████████████████████████████████████████| 566/566 [00:23<00:00, 23.73it/s]\n"
     ]
    },
    {
     "name": "stdout",
     "output_type": "stream",
     "text": [
      "Epoch 6/15, Loss: 3.8435021754065923, Validation loss: 2249.2212538719177, Min loss: 2218.2700004577637, F1 Score: 0.007407895532313646, Accuracy: 0.0367094206103494\n"
     ]
    },
    {
     "name": "stderr",
     "output_type": "stream",
     "text": [
      "Epoch 7/15: 100%|████████████████████████████████████████████████████████████████████| 572/572 [00:56<00:00, 10.07it/s]\n",
      "100%|████████████████████████████████████████████████████████████████████████████████| 566/566 [00:22<00:00, 24.75it/s]\n"
     ]
    },
    {
     "name": "stdout",
     "output_type": "stream",
     "text": [
      "Saving model...\n",
      "Epoch 7/15, Loss: 3.834183508410535, Validation loss: 2213.0218558311462, Min loss: 2213.0218558311462, F1 Score: 0.01034871144602735, Accuracy: 0.033171163202122954\n"
     ]
    },
    {
     "name": "stderr",
     "output_type": "stream",
     "text": [
      "Epoch 8/15: 100%|████████████████████████████████████████████████████████████████████| 572/572 [00:56<00:00, 10.20it/s]\n",
      "100%|████████████████████████████████████████████████████████████████████████████████| 566/566 [00:22<00:00, 24.69it/s]\n"
     ]
    },
    {
     "name": "stdout",
     "output_type": "stream",
     "text": [
      "Epoch 8/15, Loss: 3.8224122214640497, Validation loss: 2215.1378366947174, Min loss: 2213.0218558311462, F1 Score: 0.012283933818223715, Accuracy: 0.043343653250773995\n"
     ]
    },
    {
     "name": "stderr",
     "output_type": "stream",
     "text": [
      "Epoch 9/15: 100%|████████████████████████████████████████████████████████████████████| 572/572 [00:55<00:00, 10.22it/s]\n",
      "100%|████████████████████████████████████████████████████████████████████████████████| 566/566 [00:22<00:00, 24.75it/s]\n"
     ]
    },
    {
     "name": "stdout",
     "output_type": "stream",
     "text": [
      "Saving model...\n",
      "Epoch 9/15, Loss: 3.8159236816219435, Validation loss: 2175.7754938602448, Min loss: 2175.7754938602448, F1 Score: 0.014066271111784094, Accuracy: 0.040689960194604156\n"
     ]
    },
    {
     "name": "stderr",
     "output_type": "stream",
     "text": [
      "Epoch 10/15: 100%|███████████████████████████████████████████████████████████████████| 572/572 [00:55<00:00, 10.23it/s]\n",
      "100%|████████████████████████████████████████████████████████████████████████████████| 566/566 [00:22<00:00, 24.72it/s]\n"
     ]
    },
    {
     "name": "stdout",
     "output_type": "stream",
     "text": [
      "Saving model...\n",
      "Epoch 10/15, Loss: 3.792304181093517, Validation loss: 2162.5237214565277, Min loss: 2162.5237214565277, F1 Score: 0.015904900109150927, Accuracy: 0.03847854931446263\n"
     ]
    },
    {
     "name": "stderr",
     "output_type": "stream",
     "text": [
      "Epoch 11/15: 100%|███████████████████████████████████████████████████████████████████| 572/572 [00:56<00:00, 10.20it/s]\n",
      "100%|████████████████████████████████████████████████████████████████████████████████| 566/566 [00:22<00:00, 24.67it/s]\n"
     ]
    },
    {
     "name": "stdout",
     "output_type": "stream",
     "text": [
      "Saving model...\n",
      "Epoch 11/15, Loss: 3.7838290432003006, Validation loss: 2159.960522890091, Min loss: 2159.960522890091, F1 Score: 0.01520336843121198, Accuracy: 0.04290137107474569\n"
     ]
    },
    {
     "name": "stderr",
     "output_type": "stream",
     "text": [
      "Epoch 12/15: 100%|███████████████████████████████████████████████████████████████████| 572/572 [00:55<00:00, 10.22it/s]\n",
      "100%|████████████████████████████████████████████████████████████████████████████████| 566/566 [00:22<00:00, 24.73it/s]\n"
     ]
    },
    {
     "name": "stdout",
     "output_type": "stream",
     "text": [
      "Saving model...\n",
      "Epoch 12/15, Loss: 3.7654180411016465, Validation loss: 2138.153866291046, Min loss: 2138.153866291046, F1 Score: 0.013078596313761933, Accuracy: 0.045112781954887216\n"
     ]
    },
    {
     "name": "stderr",
     "output_type": "stream",
     "text": [
      "Epoch 13/15: 100%|███████████████████████████████████████████████████████████████████| 572/572 [00:56<00:00, 10.19it/s]\n",
      "100%|████████████████████████████████████████████████████████████████████████████████| 566/566 [00:22<00:00, 24.75it/s]\n"
     ]
    },
    {
     "name": "stdout",
     "output_type": "stream",
     "text": [
      "Epoch 13/15, Loss: 3.7333679357677974, Validation loss: 2169.635566711426, Min loss: 2138.153866291046, F1 Score: 0.013459733202891653, Accuracy: 0.03184431667403804\n"
     ]
    },
    {
     "name": "stderr",
     "output_type": "stream",
     "text": [
      "Epoch 14/15: 100%|███████████████████████████████████████████████████████████████████| 572/572 [00:56<00:00, 10.17it/s]\n",
      "100%|████████████████████████████████████████████████████████████████████████████████| 566/566 [00:23<00:00, 23.94it/s]\n"
     ]
    },
    {
     "name": "stdout",
     "output_type": "stream",
     "text": [
      "Epoch 14/15, Loss: 3.7129867667968375, Validation loss: 2221.0166959762573, Min loss: 2138.153866291046, F1 Score: 0.023064309420392847, Accuracy: 0.042459088898717384\n"
     ]
    },
    {
     "name": "stderr",
     "output_type": "stream",
     "text": [
      "Epoch 15/15: 100%|███████████████████████████████████████████████████████████████████| 572/572 [00:58<00:00,  9.84it/s]\n",
      "100%|████████████████████████████████████████████████████████████████████████████████| 566/566 [00:23<00:00, 24.00it/s]\n"
     ]
    },
    {
     "name": "stdout",
     "output_type": "stream",
     "text": [
      "Epoch 15/15, Loss: 3.670175549344929, Validation loss: 2153.827642917633, Min loss: 2138.153866291046, F1 Score: 0.02200312024534785, Accuracy: 0.04555506413091552\n"
     ]
    },
    {
     "name": "stderr",
     "output_type": "stream",
     "text": [
      "100%|████████████████████████████████████████████████████████████████████████████████| 566/566 [00:23<00:00, 23.64it/s]\n",
      "[I 2024-01-20 20:10:44,184] Trial 5 finished with value: 0.04555506413091552 and parameters: {'image_size': 224, 'patch_size': 16, 'dim': 402, 'depth': 9, 'heads': 15, 'dropout': 0.24669137974018143}. Best is trial 1 with value: 0.06103494029190624.\n",
      "Epoch 1/15: 100%|████████████████████████████████████████████████████████████████████| 572/572 [01:23<00:00,  6.83it/s]\n",
      "100%|████████████████████████████████████████████████████████████████████████████████| 566/566 [00:28<00:00, 19.86it/s]\n"
     ]
    },
    {
     "name": "stdout",
     "output_type": "stream",
     "text": [
      "Saving model...\n",
      "Epoch 1/15, Loss: 4.942739135582061, Validation loss: 2728.6358597278595, Min loss: 2728.6358597278595, F1 Score: 0.0017609514255390295, Accuracy: 0.019460415745245468\n"
     ]
    },
    {
     "name": "stderr",
     "output_type": "stream",
     "text": [
      "Epoch 2/15: 100%|████████████████████████████████████████████████████████████████████| 572/572 [01:23<00:00,  6.87it/s]\n",
      "100%|████████████████████████████████████████████████████████████████████████████████| 566/566 [00:28<00:00, 19.85it/s]\n"
     ]
    },
    {
     "name": "stdout",
     "output_type": "stream",
     "text": [
      "Saving model...\n",
      "Epoch 2/15, Loss: 4.2084715334046185, Validation loss: 2220.491452932358, Min loss: 2220.491452932358, F1 Score: 0.003900305996986253, Accuracy: 0.034055727554179564\n"
     ]
    },
    {
     "name": "stderr",
     "output_type": "stream",
     "text": [
      "Epoch 3/15: 100%|████████████████████████████████████████████████████████████████████| 572/572 [01:24<00:00,  6.73it/s]\n",
      "100%|████████████████████████████████████████████████████████████████████████████████| 566/566 [00:28<00:00, 19.54it/s]\n"
     ]
    },
    {
     "name": "stdout",
     "output_type": "stream",
     "text": [
      "Epoch 3/15, Loss: 3.9952484073730656, Validation loss: 2225.2648537158966, Min loss: 2220.491452932358, F1 Score: 0.00364724996694128, Accuracy: 0.019902697921273773\n"
     ]
    },
    {
     "name": "stderr",
     "output_type": "stream",
     "text": [
      "Epoch 4/15: 100%|████████████████████████████████████████████████████████████████████| 572/572 [01:23<00:00,  6.86it/s]\n",
      "100%|████████████████████████████████████████████████████████████████████████████████| 566/566 [00:29<00:00, 19.41it/s]\n"
     ]
    },
    {
     "name": "stdout",
     "output_type": "stream",
     "text": [
      "Saving model...\n",
      "Epoch 4/15, Loss: 3.931126371658052, Validation loss: 2213.9971692562103, Min loss: 2213.9971692562103, F1 Score: 0.006640686222598751, Accuracy: 0.03184431667403804\n"
     ]
    },
    {
     "name": "stderr",
     "output_type": "stream",
     "text": [
      "Epoch 5/15: 100%|████████████████████████████████████████████████████████████████████| 572/572 [01:24<00:00,  6.76it/s]\n",
      "100%|████████████████████████████████████████████████████████████████████████████████| 566/566 [00:28<00:00, 19.75it/s]\n"
     ]
    },
    {
     "name": "stdout",
     "output_type": "stream",
     "text": [
      "Saving model...\n",
      "Epoch 5/15, Loss: 3.90980378748498, Validation loss: 2199.204566001892, Min loss: 2199.204566001892, F1 Score: 0.010567907426816141, Accuracy: 0.03007518796992481\n"
     ]
    },
    {
     "name": "stderr",
     "output_type": "stream",
     "text": [
      "Epoch 6/15: 100%|████████████████████████████████████████████████████████████████████| 572/572 [01:24<00:00,  6.73it/s]\n",
      "100%|████████████████████████████████████████████████████████████████████████████████| 566/566 [00:28<00:00, 19.71it/s]\n"
     ]
    },
    {
     "name": "stdout",
     "output_type": "stream",
     "text": [
      "Epoch 6/15, Loss: 3.90010009773131, Validation loss: 2218.1896617412567, Min loss: 2199.204566001892, F1 Score: 0.006015103491129832, Accuracy: 0.02476780185758514\n"
     ]
    },
    {
     "name": "stderr",
     "output_type": "stream",
     "text": [
      "Epoch 7/15: 100%|████████████████████████████████████████████████████████████████████| 572/572 [01:22<00:00,  6.90it/s]\n",
      "100%|████████████████████████████████████████████████████████████████████████████████| 566/566 [00:28<00:00, 20.11it/s]\n"
     ]
    },
    {
     "name": "stdout",
     "output_type": "stream",
     "text": [
      "Epoch 7/15, Loss: 3.9104956916497167, Validation loss: 2214.9235529899597, Min loss: 2199.204566001892, F1 Score: 0.011206188204503018, Accuracy: 0.02697921273772667\n"
     ]
    },
    {
     "name": "stderr",
     "output_type": "stream",
     "text": [
      "Epoch 8/15: 100%|████████████████████████████████████████████████████████████████████| 572/572 [01:23<00:00,  6.89it/s]\n",
      "100%|████████████████████████████████████████████████████████████████████████████████| 566/566 [00:28<00:00, 20.02it/s]\n"
     ]
    },
    {
     "name": "stdout",
     "output_type": "stream",
     "text": [
      "Epoch 8/15, Loss: 3.9020379789541733, Validation loss: 2210.676420688629, Min loss: 2199.204566001892, F1 Score: 0.00874377435947661, Accuracy: 0.033171163202122954\n"
     ]
    },
    {
     "name": "stderr",
     "output_type": "stream",
     "text": [
      "Epoch 9/15: 100%|████████████████████████████████████████████████████████████████████| 572/572 [01:23<00:00,  6.84it/s]\n",
      "100%|████████████████████████████████████████████████████████████████████████████████| 566/566 [00:29<00:00, 19.43it/s]\n"
     ]
    },
    {
     "name": "stdout",
     "output_type": "stream",
     "text": [
      "Saving model...\n",
      "Epoch 9/15, Loss: 3.907410254059372, Validation loss: 2197.781519174576, Min loss: 2197.781519174576, F1 Score: 0.00968106994720244, Accuracy: 0.03494029190623618\n"
     ]
    },
    {
     "name": "stderr",
     "output_type": "stream",
     "text": [
      "Epoch 10/15: 100%|███████████████████████████████████████████████████████████████████| 572/572 [01:25<00:00,  6.72it/s]\n",
      "100%|████████████████████████████████████████████████████████████████████████████████| 566/566 [00:28<00:00, 19.83it/s]\n"
     ]
    },
    {
     "name": "stdout",
     "output_type": "stream",
     "text": [
      "Epoch 10/15, Loss: 3.899740042621828, Validation loss: 2222.4135196208954, Min loss: 2197.781519174576, F1 Score: 0.013416203600805358, Accuracy: 0.04157452454666077\n"
     ]
    },
    {
     "name": "stderr",
     "output_type": "stream",
     "text": [
      "Epoch 11/15: 100%|███████████████████████████████████████████████████████████████████| 572/572 [01:24<00:00,  6.78it/s]\n",
      "100%|████████████████████████████████████████████████████████████████████████████████| 566/566 [00:28<00:00, 19.87it/s]\n"
     ]
    },
    {
     "name": "stdout",
     "output_type": "stream",
     "text": [
      "Epoch 11/15, Loss: 3.879353234066315, Validation loss: 2222.181061267853, Min loss: 2197.781519174576, F1 Score: 0.00975705057356751, Accuracy: 0.026094648385670056\n"
     ]
    },
    {
     "name": "stderr",
     "output_type": "stream",
     "text": [
      "Epoch 12/15: 100%|███████████████████████████████████████████████████████████████████| 572/572 [01:24<00:00,  6.79it/s]\n",
      "100%|████████████████████████████████████████████████████████████████████████████████| 566/566 [00:28<00:00, 19.83it/s]\n"
     ]
    },
    {
     "name": "stdout",
     "output_type": "stream",
     "text": [
      "Epoch 12/15, Loss: 3.894321062599252, Validation loss: 2208.976566553116, Min loss: 2197.781519174576, F1 Score: 0.007556067571333147, Accuracy: 0.0291906236178682\n"
     ]
    },
    {
     "name": "stderr",
     "output_type": "stream",
     "text": [
      "Epoch 13/15: 100%|███████████████████████████████████████████████████████████████████| 572/572 [01:25<00:00,  6.70it/s]\n",
      "100%|████████████████████████████████████████████████████████████████████████████████| 566/566 [00:28<00:00, 19.71it/s]\n"
     ]
    },
    {
     "name": "stdout",
     "output_type": "stream",
     "text": [
      "Saving model...\n",
      "Epoch 13/15, Loss: 3.8748676661169053, Validation loss: 2180.421052455902, Min loss: 2180.421052455902, F1 Score: 0.016511251231324752, Accuracy: 0.04643962848297214\n"
     ]
    },
    {
     "name": "stderr",
     "output_type": "stream",
     "text": [
      "Epoch 14/15: 100%|███████████████████████████████████████████████████████████████████| 572/572 [01:24<00:00,  6.81it/s]\n",
      "100%|████████████████████████████████████████████████████████████████████████████████| 566/566 [00:28<00:00, 19.59it/s]\n"
     ]
    },
    {
     "name": "stdout",
     "output_type": "stream",
     "text": [
      "Epoch 14/15, Loss: 3.8612696451029507, Validation loss: 2238.90052485466, Min loss: 2180.421052455902, F1 Score: 0.015812779739400075, Accuracy: 0.04290137107474569\n"
     ]
    },
    {
     "name": "stderr",
     "output_type": "stream",
     "text": [
      "Epoch 15/15: 100%|███████████████████████████████████████████████████████████████████| 572/572 [01:24<00:00,  6.75it/s]\n",
      "100%|████████████████████████████████████████████████████████████████████████████████| 566/566 [00:29<00:00, 19.46it/s]\n"
     ]
    },
    {
     "name": "stdout",
     "output_type": "stream",
     "text": [
      "Epoch 15/15, Loss: 3.854409891807413, Validation loss: 2206.058480978012, Min loss: 2180.421052455902, F1 Score: 0.009094318791098052, Accuracy: 0.03361344537815126\n"
     ]
    },
    {
     "name": "stderr",
     "output_type": "stream",
     "text": [
      "100%|████████████████████████████████████████████████████████████████████████████████| 566/566 [00:29<00:00, 19.47it/s]\n",
      "[I 2024-01-20 20:39:27,738] Trial 6 finished with value: 0.03361344537815126 and parameters: {'image_size': 224, 'patch_size': 16, 'dim': 932, 'depth': 8, 'heads': 16, 'dropout': 0.19316940061204552}. Best is trial 1 with value: 0.06103494029190624.\n",
      "Epoch 1/15: 100%|████████████████████████████████████████████████████████████████████| 572/572 [00:55<00:00, 10.39it/s]\n",
      "100%|████████████████████████████████████████████████████████████████████████████████| 566/566 [00:22<00:00, 25.16it/s]\n"
     ]
    },
    {
     "name": "stdout",
     "output_type": "stream",
     "text": [
      "Saving model...\n",
      "Epoch 1/15, Loss: 4.691347624257917, Validation loss: 2616.2825922966003, Min loss: 2616.2825922966003, F1 Score: 0.0007805724197745014, Accuracy: 0.019902697921273773\n"
     ]
    },
    {
     "name": "stderr",
     "output_type": "stream",
     "text": [
      "Epoch 2/15: 100%|████████████████████████████████████████████████████████████████████| 572/572 [00:55<00:00, 10.29it/s]\n",
      "100%|████████████████████████████████████████████████████████████████████████████████| 566/566 [00:22<00:00, 25.07it/s]\n"
     ]
    },
    {
     "name": "stdout",
     "output_type": "stream",
     "text": [
      "Saving model...\n",
      "Epoch 2/15, Loss: 4.190628949137405, Validation loss: 2241.442786693573, Min loss: 2241.442786693573, F1 Score: 0.0023558528428093643, Accuracy: 0.021671826625386997\n"
     ]
    },
    {
     "name": "stderr",
     "output_type": "stream",
     "text": [
      "Epoch 3/15: 100%|████████████████████████████████████████████████████████████████████| 572/572 [00:54<00:00, 10.42it/s]\n",
      "100%|████████████████████████████████████████████████████████████████████████████████| 566/566 [00:22<00:00, 24.62it/s]\n"
     ]
    },
    {
     "name": "stdout",
     "output_type": "stream",
     "text": [
      "Saving model...\n",
      "Epoch 3/15, Loss: 3.937696175018564, Validation loss: 2212.847886323929, Min loss: 2212.847886323929, F1 Score: 0.003461566392455992, Accuracy: 0.02697921273772667\n"
     ]
    },
    {
     "name": "stderr",
     "output_type": "stream",
     "text": [
      "Epoch 4/15: 100%|████████████████████████████████████████████████████████████████████| 572/572 [00:55<00:00, 10.26it/s]\n",
      "100%|████████████████████████████████████████████████████████████████████████████████| 566/566 [00:22<00:00, 24.62it/s]\n"
     ]
    },
    {
     "name": "stdout",
     "output_type": "stream",
     "text": [
      "Epoch 4/15, Loss: 3.9192067116277416, Validation loss: 2225.5687601566315, Min loss: 2212.847886323929, F1 Score: 0.0008207934336525308, Accuracy: 0.019902697921273773\n"
     ]
    },
    {
     "name": "stderr",
     "output_type": "stream",
     "text": [
      "Epoch 5/15: 100%|████████████████████████████████████████████████████████████████████| 572/572 [00:55<00:00, 10.24it/s]\n",
      "100%|████████████████████████████████████████████████████████████████████████████████| 566/566 [00:22<00:00, 25.19it/s]\n"
     ]
    },
    {
     "name": "stdout",
     "output_type": "stream",
     "text": [
      "Epoch 5/15, Loss: 3.9097285443745067, Validation loss: 2224.0066163539886, Min loss: 2212.847886323929, F1 Score: 0.0073514727757291, Accuracy: 0.02830605926581159\n"
     ]
    },
    {
     "name": "stderr",
     "output_type": "stream",
     "text": [
      "Epoch 6/15: 100%|████████████████████████████████████████████████████████████████████| 572/572 [00:54<00:00, 10.48it/s]\n",
      "100%|████████████████████████████████████████████████████████████████████████████████| 566/566 [00:22<00:00, 25.30it/s]\n"
     ]
    },
    {
     "name": "stdout",
     "output_type": "stream",
     "text": [
      "Saving model...\n",
      "Epoch 6/15, Loss: 3.898997134082329, Validation loss: 2206.4418365955353, Min loss: 2206.4418365955353, F1 Score: 0.007339239152098165, Accuracy: 0.03007518796992481\n"
     ]
    },
    {
     "name": "stderr",
     "output_type": "stream",
     "text": [
      "Epoch 7/15: 100%|████████████████████████████████████████████████████████████████████| 572/572 [00:56<00:00, 10.18it/s]\n",
      "100%|████████████████████████████████████████████████████████████████████████████████| 566/566 [00:23<00:00, 24.57it/s]\n"
     ]
    },
    {
     "name": "stdout",
     "output_type": "stream",
     "text": [
      "Saving model...\n",
      "Epoch 7/15, Loss: 3.8824131253196206, Validation loss: 2192.1399211883545, Min loss: 2192.1399211883545, F1 Score: 0.012759313348323871, Accuracy: 0.043343653250773995\n"
     ]
    },
    {
     "name": "stderr",
     "output_type": "stream",
     "text": [
      "Epoch 8/15: 100%|████████████████████████████████████████████████████████████████████| 572/572 [00:56<00:00, 10.15it/s]\n",
      "100%|████████████████████████████████████████████████████████████████████████████████| 566/566 [00:23<00:00, 24.29it/s]\n"
     ]
    },
    {
     "name": "stdout",
     "output_type": "stream",
     "text": [
      "Epoch 8/15, Loss: 3.876149704219683, Validation loss: 2214.400688648224, Min loss: 2192.1399211883545, F1 Score: 0.008123298257620822, Accuracy: 0.030959752321981424\n"
     ]
    },
    {
     "name": "stderr",
     "output_type": "stream",
     "text": [
      "Epoch 9/15: 100%|████████████████████████████████████████████████████████████████████| 572/572 [00:56<00:00, 10.12it/s]\n",
      "100%|████████████████████████████████████████████████████████████████████████████████| 566/566 [00:22<00:00, 24.94it/s]\n"
     ]
    },
    {
     "name": "stdout",
     "output_type": "stream",
     "text": [
      "Epoch 9/15, Loss: 3.890195095648555, Validation loss: 2200.8499958515167, Min loss: 2192.1399211883545, F1 Score: 0.005590629945662771, Accuracy: 0.027421494913754976\n"
     ]
    },
    {
     "name": "stderr",
     "output_type": "stream",
     "text": [
      "Epoch 10/15: 100%|███████████████████████████████████████████████████████████████████| 572/572 [00:56<00:00, 10.17it/s]\n",
      "100%|████████████████████████████████████████████████████████████████████████████████| 566/566 [00:23<00:00, 24.53it/s]\n"
     ]
    },
    {
     "name": "stdout",
     "output_type": "stream",
     "text": [
      "Saving model...\n",
      "Epoch 10/15, Loss: 3.8561267248136173, Validation loss: 2190.9088246822357, Min loss: 2190.9088246822357, F1 Score: 0.008523973807675278, Accuracy: 0.03361344537815126\n"
     ]
    },
    {
     "name": "stderr",
     "output_type": "stream",
     "text": [
      "Epoch 11/15: 100%|███████████████████████████████████████████████████████████████████| 572/572 [00:56<00:00, 10.20it/s]\n",
      "100%|████████████████████████████████████████████████████████████████████████████████| 566/566 [00:22<00:00, 25.09it/s]\n"
     ]
    },
    {
     "name": "stdout",
     "output_type": "stream",
     "text": [
      "Saving model...\n",
      "Epoch 11/15, Loss: 3.8435682163105085, Validation loss: 2170.31769156456, Min loss: 2170.31769156456, F1 Score: 0.01569240032748672, Accuracy: 0.038920831490490936\n"
     ]
    },
    {
     "name": "stderr",
     "output_type": "stream",
     "text": [
      "Epoch 12/15: 100%|███████████████████████████████████████████████████████████████████| 572/572 [00:55<00:00, 10.39it/s]\n",
      "100%|████████████████████████████████████████████████████████████████████████████████| 566/566 [00:22<00:00, 25.60it/s]\n"
     ]
    },
    {
     "name": "stdout",
     "output_type": "stream",
     "text": [
      "Saving model...\n",
      "Epoch 12/15, Loss: 3.834706319384456, Validation loss: 2167.9957456588745, Min loss: 2167.9957456588745, F1 Score: 0.016184591921107064, Accuracy: 0.044228217602830605\n"
     ]
    },
    {
     "name": "stderr",
     "output_type": "stream",
     "text": [
      "Epoch 13/15: 100%|███████████████████████████████████████████████████████████████████| 572/572 [00:55<00:00, 10.40it/s]\n",
      "100%|████████████████████████████████████████████████████████████████████████████████| 566/566 [00:22<00:00, 25.29it/s]\n"
     ]
    },
    {
     "name": "stdout",
     "output_type": "stream",
     "text": [
      "Epoch 13/15, Loss: 3.8149298202746498, Validation loss: 2169.7137768268585, Min loss: 2167.9957456588745, F1 Score: 0.01210601828780825, Accuracy: 0.04024767801857585\n"
     ]
    },
    {
     "name": "stderr",
     "output_type": "stream",
     "text": [
      "Epoch 14/15: 100%|███████████████████████████████████████████████████████████████████| 572/572 [00:55<00:00, 10.34it/s]\n",
      "100%|████████████████████████████████████████████████████████████████████████████████| 566/566 [00:22<00:00, 25.26it/s]\n"
     ]
    },
    {
     "name": "stdout",
     "output_type": "stream",
     "text": [
      "Saving model...\n",
      "Epoch 14/15, Loss: 3.861212512109287, Validation loss: 2166.849139213562, Min loss: 2166.849139213562, F1 Score: 0.017911232892287465, Accuracy: 0.0513047324192835\n"
     ]
    },
    {
     "name": "stderr",
     "output_type": "stream",
     "text": [
      "Epoch 15/15: 100%|███████████████████████████████████████████████████████████████████| 572/572 [00:54<00:00, 10.48it/s]\n",
      "100%|████████████████████████████████████████████████████████████████████████████████| 566/566 [00:22<00:00, 24.93it/s]\n"
     ]
    },
    {
     "name": "stdout",
     "output_type": "stream",
     "text": [
      "Epoch 15/15, Loss: 3.84039225597073, Validation loss: 2189.8348977565765, Min loss: 2166.849139213562, F1 Score: 0.011360951499645042, Accuracy: 0.03051747014595312\n"
     ]
    },
    {
     "name": "stderr",
     "output_type": "stream",
     "text": [
      "100%|████████████████████████████████████████████████████████████████████████████████| 566/566 [00:22<00:00, 25.49it/s]\n",
      "[I 2024-01-20 20:59:24,381] Trial 7 finished with value: 0.03051747014595312 and parameters: {'image_size': 224, 'patch_size': 16, 'dim': 686, 'depth': 6, 'heads': 15, 'dropout': 0.1085607787527591}. Best is trial 1 with value: 0.06103494029190624.\n",
      "Epoch 1/15: 100%|████████████████████████████████████████████████████████████████████| 572/572 [01:11<00:00,  8.06it/s]\n",
      "100%|████████████████████████████████████████████████████████████████████████████████| 566/566 [00:25<00:00, 21.84it/s]\n"
     ]
    },
    {
     "name": "stdout",
     "output_type": "stream",
     "text": [
      "Saving model...\n",
      "Epoch 1/15, Loss: 4.727161645785033, Validation loss: 2483.8806943893433, Min loss: 2483.8806943893433, F1 Score: 0.0007805724197745014, Accuracy: 0.019902697921273773\n"
     ]
    },
    {
     "name": "stderr",
     "output_type": "stream",
     "text": [
      "Epoch 2/15: 100%|████████████████████████████████████████████████████████████████████| 572/572 [01:10<00:00,  8.10it/s]\n",
      "100%|████████████████████████████████████████████████████████████████████████████████| 566/566 [00:25<00:00, 22.12it/s]\n"
     ]
    },
    {
     "name": "stdout",
     "output_type": "stream",
     "text": [
      "Saving model...\n",
      "Epoch 2/15, Loss: 4.199314118786884, Validation loss: 2237.645141363144, Min loss: 2237.645141363144, F1 Score: 0.0007635574837310196, Accuracy: 0.019460415745245468\n"
     ]
    },
    {
     "name": "stderr",
     "output_type": "stream",
     "text": [
      "Epoch 3/15: 100%|████████████████████████████████████████████████████████████████████| 572/572 [01:10<00:00,  8.08it/s]\n",
      "100%|████████████████████████████████████████████████████████████████████████████████| 566/566 [00:25<00:00, 22.18it/s]\n"
     ]
    },
    {
     "name": "stdout",
     "output_type": "stream",
     "text": [
      "Saving model...\n",
      "Epoch 3/15, Loss: 3.9505838249049754, Validation loss: 2214.888433933258, Min loss: 2214.888433933258, F1 Score: 0.002234111543450065, Accuracy: 0.02830605926581159\n"
     ]
    },
    {
     "name": "stderr",
     "output_type": "stream",
     "text": [
      "Epoch 4/15: 100%|████████████████████████████████████████████████████████████████████| 572/572 [01:10<00:00,  8.10it/s]\n",
      "100%|████████████████████████████████████████████████████████████████████████████████| 566/566 [00:25<00:00, 22.14it/s]\n"
     ]
    },
    {
     "name": "stdout",
     "output_type": "stream",
     "text": [
      "Saving model...\n",
      "Epoch 4/15, Loss: 3.9153754087739183, Validation loss: 2202.875682115555, Min loss: 2202.875682115555, F1 Score: 0.0014261502304980566, Accuracy: 0.01901813356921716\n"
     ]
    },
    {
     "name": "stderr",
     "output_type": "stream",
     "text": [
      "Epoch 5/15: 100%|████████████████████████████████████████████████████████████████████| 572/572 [01:09<00:00,  8.18it/s]\n",
      "100%|████████████████████████████████████████████████████████████████████████████████| 566/566 [00:25<00:00, 22.08it/s]\n"
     ]
    },
    {
     "name": "stdout",
     "output_type": "stream",
     "text": [
      "Saving model...\n",
      "Epoch 5/15, Loss: 3.8561263792265645, Validation loss: 2197.320511817932, Min loss: 2197.320511817932, F1 Score: 0.014273229318042167, Accuracy: 0.0362671384343211\n"
     ]
    },
    {
     "name": "stderr",
     "output_type": "stream",
     "text": [
      "Epoch 6/15: 100%|████████████████████████████████████████████████████████████████████| 572/572 [01:10<00:00,  8.09it/s]\n",
      "100%|████████████████████████████████████████████████████████████████████████████████| 566/566 [00:25<00:00, 22.20it/s]\n"
     ]
    },
    {
     "name": "stdout",
     "output_type": "stream",
     "text": [
      "Saving model...\n",
      "Epoch 6/15, Loss: 3.817624609179511, Validation loss: 2151.0484385490417, Min loss: 2151.0484385490417, F1 Score: 0.014157996414314238, Accuracy: 0.045112781954887216\n"
     ]
    },
    {
     "name": "stderr",
     "output_type": "stream",
     "text": [
      "Epoch 7/15: 100%|████████████████████████████████████████████████████████████████████| 572/572 [01:10<00:00,  8.11it/s]\n",
      "100%|████████████████████████████████████████████████████████████████████████████████| 566/566 [00:25<00:00, 21.92it/s]\n"
     ]
    },
    {
     "name": "stdout",
     "output_type": "stream",
     "text": [
      "Epoch 7/15, Loss: 3.7993061514363626, Validation loss: 2153.721592903137, Min loss: 2151.0484385490417, F1 Score: 0.012001857203476317, Accuracy: 0.03361344537815126\n"
     ]
    },
    {
     "name": "stderr",
     "output_type": "stream",
     "text": [
      "Epoch 8/15: 100%|████████████████████████████████████████████████████████████████████| 572/572 [01:09<00:00,  8.20it/s]\n",
      "100%|████████████████████████████████████████████████████████████████████████████████| 566/566 [00:26<00:00, 21.66it/s]\n"
     ]
    },
    {
     "name": "stdout",
     "output_type": "stream",
     "text": [
      "Epoch 8/15, Loss: 3.77442620641861, Validation loss: 2176.1010987758636, Min loss: 2151.0484385490417, F1 Score: 0.0179463754017225, Accuracy: 0.038920831490490936\n"
     ]
    },
    {
     "name": "stderr",
     "output_type": "stream",
     "text": [
      "Epoch 9/15: 100%|████████████████████████████████████████████████████████████████████| 572/572 [01:10<00:00,  8.17it/s]\n",
      "100%|████████████████████████████████████████████████████████████████████████████████| 566/566 [00:24<00:00, 22.65it/s]\n"
     ]
    },
    {
     "name": "stdout",
     "output_type": "stream",
     "text": [
      "Saving model...\n",
      "Epoch 9/15, Loss: 3.770698382857589, Validation loss: 2144.8486849069595, Min loss: 2144.8486849069595, F1 Score: 0.014152876876013718, Accuracy: 0.053516143299425036\n"
     ]
    },
    {
     "name": "stderr",
     "output_type": "stream",
     "text": [
      "Epoch 10/15: 100%|███████████████████████████████████████████████████████████████████| 572/572 [01:09<00:00,  8.21it/s]\n",
      "100%|████████████████████████████████████████████████████████████████████████████████| 566/566 [00:26<00:00, 21.66it/s]\n"
     ]
    },
    {
     "name": "stdout",
     "output_type": "stream",
     "text": [
      "Saving model...\n",
      "Epoch 10/15, Loss: 3.7366648094592576, Validation loss: 2130.667948484421, Min loss: 2130.667948484421, F1 Score: 0.01878339780414046, Accuracy: 0.055285272003538256\n"
     ]
    },
    {
     "name": "stderr",
     "output_type": "stream",
     "text": [
      "Epoch 11/15: 100%|███████████████████████████████████████████████████████████████████| 572/572 [01:11<00:00,  8.04it/s]\n",
      "100%|████████████████████████████████████████████████████████████████████████████████| 566/566 [00:26<00:00, 21.48it/s]\n"
     ]
    },
    {
     "name": "stdout",
     "output_type": "stream",
     "text": [
      "Epoch 11/15, Loss: 3.728511870871687, Validation loss: 2159.5138878822327, Min loss: 2130.667948484421, F1 Score: 0.015756230234507295, Accuracy: 0.04599734630694383\n"
     ]
    },
    {
     "name": "stderr",
     "output_type": "stream",
     "text": [
      "Epoch 12/15: 100%|███████████████████████████████████████████████████████████████████| 572/572 [01:11<00:00,  7.99it/s]\n",
      "100%|████████████████████████████████████████████████████████████████████████████████| 566/566 [00:25<00:00, 22.36it/s]\n"
     ]
    },
    {
     "name": "stdout",
     "output_type": "stream",
     "text": [
      "Epoch 12/15, Loss: 3.7080111620360503, Validation loss: 2147.1132514476776, Min loss: 2130.667948484421, F1 Score: 0.02024254035126549, Accuracy: 0.042459088898717384\n"
     ]
    },
    {
     "name": "stderr",
     "output_type": "stream",
     "text": [
      "Epoch 13/15: 100%|███████████████████████████████████████████████████████████████████| 572/572 [01:09<00:00,  8.20it/s]\n",
      "100%|████████████████████████████████████████████████████████████████████████████████| 566/566 [00:25<00:00, 22.06it/s]\n"
     ]
    },
    {
     "name": "stdout",
     "output_type": "stream",
     "text": [
      "Epoch 13/15, Loss: 3.695867089762352, Validation loss: 2163.316719532013, Min loss: 2130.667948484421, F1 Score: 0.017346975566145582, Accuracy: 0.04157452454666077\n"
     ]
    },
    {
     "name": "stderr",
     "output_type": "stream",
     "text": [
      "Epoch 14/15: 100%|███████████████████████████████████████████████████████████████████| 572/572 [01:10<00:00,  8.08it/s]\n",
      "100%|████████████████████████████████████████████████████████████████████████████████| 566/566 [00:25<00:00, 21.81it/s]\n"
     ]
    },
    {
     "name": "stdout",
     "output_type": "stream",
     "text": [
      "Epoch 14/15, Loss: 3.677927009705951, Validation loss: 2160.1303622722626, Min loss: 2130.667948484421, F1 Score: 0.020224009687003747, Accuracy: 0.04997788589119859\n"
     ]
    },
    {
     "name": "stderr",
     "output_type": "stream",
     "text": [
      "Epoch 15/15: 100%|███████████████████████████████████████████████████████████████████| 572/572 [01:11<00:00,  7.97it/s]\n",
      "100%|████████████████████████████████████████████████████████████████████████████████| 566/566 [00:25<00:00, 22.29it/s]\n"
     ]
    },
    {
     "name": "stdout",
     "output_type": "stream",
     "text": [
      "Epoch 15/15, Loss: 3.662529154536919, Validation loss: 2146.209921360016, Min loss: 2130.667948484421, F1 Score: 0.0189624512967986, Accuracy: 0.0508624502432552\n"
     ]
    },
    {
     "name": "stderr",
     "output_type": "stream",
     "text": [
      "100%|████████████████████████████████████████████████████████████████████████████████| 566/566 [00:25<00:00, 22.42it/s]\n",
      "[I 2024-01-20 21:23:55,109] Trial 8 finished with value: 0.0508624502432552 and parameters: {'image_size': 224, 'patch_size': 16, 'dim': 688, 'depth': 8, 'heads': 16, 'dropout': 0.16446923857131504}. Best is trial 1 with value: 0.06103494029190624.\n",
      "Epoch 1/15: 100%|████████████████████████████████████████████████████████████████████| 572/572 [00:53<00:00, 10.73it/s]\n",
      "100%|████████████████████████████████████████████████████████████████████████████████| 566/566 [00:22<00:00, 25.08it/s]\n"
     ]
    },
    {
     "name": "stdout",
     "output_type": "stream",
     "text": [
      "Saving model...\n",
      "Epoch 1/15, Loss: 4.653482066526859, Validation loss: 2527.940695285797, Min loss: 2527.940695285797, F1 Score: 0.0007805724197745014, Accuracy: 0.019902697921273773\n"
     ]
    },
    {
     "name": "stderr",
     "output_type": "stream",
     "text": [
      "Epoch 2/15: 100%|████████████████████████████████████████████████████████████████████| 572/572 [00:53<00:00, 10.73it/s]\n",
      "100%|████████████████████████████████████████████████████████████████████████████████| 566/566 [00:22<00:00, 25.69it/s]\n"
     ]
    },
    {
     "name": "stdout",
     "output_type": "stream",
     "text": [
      "Saving model...\n",
      "Epoch 2/15, Loss: 4.134349704153631, Validation loss: 2230.7087349891663, Min loss: 2230.7087349891663, F1 Score: 0.0013241944932630345, Accuracy: 0.020344980097302078\n"
     ]
    },
    {
     "name": "stderr",
     "output_type": "stream",
     "text": [
      "Epoch 3/15: 100%|████████████████████████████████████████████████████████████████████| 572/572 [00:53<00:00, 10.78it/s]\n",
      "100%|████████████████████████████████████████████████████████████████████████████████| 566/566 [00:22<00:00, 25.20it/s]\n"
     ]
    },
    {
     "name": "stdout",
     "output_type": "stream",
     "text": [
      "Saving model...\n",
      "Epoch 3/15, Loss: 3.94187646199899, Validation loss: 2209.5867087841034, Min loss: 2209.5867087841034, F1 Score: 0.0026977216906093893, Accuracy: 0.029632905793896505\n"
     ]
    },
    {
     "name": "stderr",
     "output_type": "stream",
     "text": [
      "Epoch 4/15: 100%|████████████████████████████████████████████████████████████████████| 572/572 [00:53<00:00, 10.70it/s]\n",
      "100%|████████████████████████████████████████████████████████████████████████████████| 566/566 [00:22<00:00, 25.25it/s]\n"
     ]
    },
    {
     "name": "stdout",
     "output_type": "stream",
     "text": [
      "Saving model...\n",
      "Epoch 4/15, Loss: 3.907179132006186, Validation loss: 2201.9611711502075, Min loss: 2201.9611711502075, F1 Score: 0.007902641408141566, Accuracy: 0.029632905793896505\n"
     ]
    },
    {
     "name": "stderr",
     "output_type": "stream",
     "text": [
      "Epoch 5/15: 100%|████████████████████████████████████████████████████████████████████| 572/572 [00:53<00:00, 10.78it/s]\n",
      "100%|████████████████████████████████████████████████████████████████████████████████| 566/566 [00:22<00:00, 25.13it/s]\n"
     ]
    },
    {
     "name": "stdout",
     "output_type": "stream",
     "text": [
      "Saving model...\n",
      "Epoch 5/15, Loss: 3.8906423588949988, Validation loss: 2181.7220628261566, Min loss: 2181.7220628261566, F1 Score: 0.00984098902774078, Accuracy: 0.03803626713843432\n"
     ]
    },
    {
     "name": "stderr",
     "output_type": "stream",
     "text": [
      "Epoch 6/15: 100%|████████████████████████████████████████████████████████████████████| 572/572 [00:54<00:00, 10.56it/s]\n",
      "100%|████████████████████████████████████████████████████████████████████████████████| 566/566 [00:22<00:00, 24.65it/s]\n"
     ]
    },
    {
     "name": "stdout",
     "output_type": "stream",
     "text": [
      "Epoch 6/15, Loss: 3.86858352824596, Validation loss: 2189.9860289096832, Min loss: 2181.7220628261566, F1 Score: 0.014329062265215185, Accuracy: 0.045112781954887216\n"
     ]
    },
    {
     "name": "stderr",
     "output_type": "stream",
     "text": [
      "Epoch 7/15: 100%|████████████████████████████████████████████████████████████████████| 572/572 [00:53<00:00, 10.68it/s]\n",
      "100%|████████████████████████████████████████████████████████████████████████████████| 566/566 [00:22<00:00, 25.52it/s]\n"
     ]
    },
    {
     "name": "stdout",
     "output_type": "stream",
     "text": [
      "Epoch 7/15, Loss: 3.860529535557956, Validation loss: 2223.9173374176025, Min loss: 2181.7220628261566, F1 Score: 0.008961243221406385, Accuracy: 0.023883237505528527\n"
     ]
    },
    {
     "name": "stderr",
     "output_type": "stream",
     "text": [
      "Epoch 8/15: 100%|████████████████████████████████████████████████████████████████████| 572/572 [00:53<00:00, 10.63it/s]\n",
      "100%|████████████████████████████████████████████████████████████████████████████████| 566/566 [00:22<00:00, 25.56it/s]\n"
     ]
    },
    {
     "name": "stdout",
     "output_type": "stream",
     "text": [
      "Epoch 8/15, Loss: 3.9225491788327878, Validation loss: 2215.097464799881, Min loss: 2181.7220628261566, F1 Score: 0.007407559488909104, Accuracy: 0.03582485625829279\n"
     ]
    },
    {
     "name": "stderr",
     "output_type": "stream",
     "text": [
      "Epoch 9/15: 100%|████████████████████████████████████████████████████████████████████| 572/572 [00:53<00:00, 10.78it/s]\n",
      "100%|████████████████████████████████████████████████████████████████████████████████| 566/566 [00:23<00:00, 24.56it/s]\n"
     ]
    },
    {
     "name": "stdout",
     "output_type": "stream",
     "text": [
      "Epoch 9/15, Loss: 3.8865069977101876, Validation loss: 2195.408298254013, Min loss: 2181.7220628261566, F1 Score: 0.004259127001267584, Accuracy: 0.02697921273772667\n"
     ]
    },
    {
     "name": "stderr",
     "output_type": "stream",
     "text": [
      "Epoch 10/15: 100%|███████████████████████████████████████████████████████████████████| 572/572 [00:53<00:00, 10.59it/s]\n",
      "100%|████████████████████████████████████████████████████████████████████████████████| 566/566 [00:22<00:00, 25.10it/s]\n"
     ]
    },
    {
     "name": "stdout",
     "output_type": "stream",
     "text": [
      "Epoch 10/15, Loss: 3.989016786432704, Validation loss: 2228.7257301807404, Min loss: 2181.7220628261566, F1 Score: 0.003618762922514536, Accuracy: 0.025210084033613446\n"
     ]
    },
    {
     "name": "stderr",
     "output_type": "stream",
     "text": [
      "Epoch 11/15: 100%|███████████████████████████████████████████████████████████████████| 572/572 [00:53<00:00, 10.65it/s]\n",
      "100%|████████████████████████████████████████████████████████████████████████████████| 566/566 [00:21<00:00, 25.88it/s]\n"
     ]
    },
    {
     "name": "stdout",
     "output_type": "stream",
     "text": [
      "Epoch 11/15, Loss: 3.958393843350162, Validation loss: 2230.7910187244415, Min loss: 2181.7220628261566, F1 Score: 0.003455085081503999, Accuracy: 0.020344980097302078\n"
     ]
    },
    {
     "name": "stderr",
     "output_type": "stream",
     "text": [
      "Epoch 12/15: 100%|███████████████████████████████████████████████████████████████████| 572/572 [00:52<00:00, 10.93it/s]\n",
      "100%|████████████████████████████████████████████████████████████████████████████████| 566/566 [00:22<00:00, 25.43it/s]\n"
     ]
    },
    {
     "name": "stdout",
     "output_type": "stream",
     "text": [
      "Epoch 12/15, Loss: 3.949319110148121, Validation loss: 2258.1215817928314, Min loss: 2181.7220628261566, F1 Score: 0.001167883211678832, Accuracy: 0.03007518796992481\n"
     ]
    },
    {
     "name": "stderr",
     "output_type": "stream",
     "text": [
      "Epoch 13/15: 100%|███████████████████████████████████████████████████████████████████| 572/572 [00:52<00:00, 10.92it/s]\n",
      "100%|████████████████████████████████████████████████████████████████████████████████| 566/566 [00:21<00:00, 26.06it/s]\n"
     ]
    },
    {
     "name": "stdout",
     "output_type": "stream",
     "text": [
      "Epoch 13/15, Loss: 3.930615079418561, Validation loss: 2206.953816652298, Min loss: 2181.7220628261566, F1 Score: 0.007289580969911196, Accuracy: 0.03582485625829279\n"
     ]
    },
    {
     "name": "stderr",
     "output_type": "stream",
     "text": [
      "Epoch 14/15: 100%|███████████████████████████████████████████████████████████████████| 572/572 [00:51<00:00, 11.10it/s]\n",
      "100%|████████████████████████████████████████████████████████████████████████████████| 566/566 [00:21<00:00, 26.17it/s]\n"
     ]
    },
    {
     "name": "stdout",
     "output_type": "stream",
     "text": [
      "Epoch 14/15, Loss: 3.916208502607258, Validation loss: 2209.91277551651, Min loss: 2181.7220628261566, F1 Score: 0.008783152128517303, Accuracy: 0.045112781954887216\n"
     ]
    },
    {
     "name": "stderr",
     "output_type": "stream",
     "text": [
      "Epoch 15/15: 100%|███████████████████████████████████████████████████████████████████| 572/572 [00:51<00:00, 11.07it/s]\n",
      "100%|████████████████████████████████████████████████████████████████████████████████| 566/566 [00:21<00:00, 26.35it/s]\n"
     ]
    },
    {
     "name": "stdout",
     "output_type": "stream",
     "text": [
      "Epoch 15/15, Loss: 3.9381354583836976, Validation loss: 2212.6340866088867, Min loss: 2181.7220628261566, F1 Score: 0.009717700153984273, Accuracy: 0.026094648385670056\n"
     ]
    },
    {
     "name": "stderr",
     "output_type": "stream",
     "text": [
      "100%|████████████████████████████████████████████████████████████████████████████████| 566/566 [00:21<00:00, 26.19it/s]\n",
      "[I 2024-01-20 21:43:07,753] Trial 9 finished with value: 0.026094648385670056 and parameters: {'image_size': 224, 'patch_size': 16, 'dim': 641, 'depth': 6, 'heads': 14, 'dropout': 0.15449096666572812}. Best is trial 1 with value: 0.06103494029190624.\n",
      "Epoch 1/15: 100%|████████████████████████████████████████████████████████████████████| 572/572 [00:48<00:00, 11.80it/s]\n",
      "100%|████████████████████████████████████████████████████████████████████████████████| 566/566 [00:21<00:00, 26.93it/s]\n"
     ]
    },
    {
     "name": "stdout",
     "output_type": "stream",
     "text": [
      "Saving model...\n",
      "Epoch 1/15, Loss: 4.465021158755477, Validation loss: 2441.3612563610077, Min loss: 2441.3612563610077, F1 Score: 0.0007635574837310196, Accuracy: 0.019460415745245468\n"
     ]
    },
    {
     "name": "stderr",
     "output_type": "stream",
     "text": [
      "Epoch 2/15: 100%|████████████████████████████████████████████████████████████████████| 572/572 [00:48<00:00, 11.80it/s]\n",
      "100%|████████████████████████████████████████████████████████████████████████████████| 566/566 [00:20<00:00, 27.08it/s]\n"
     ]
    },
    {
     "name": "stdout",
     "output_type": "stream",
     "text": [
      "Saving model...\n",
      "Epoch 2/15, Loss: 4.08625343297317, Validation loss: 2233.1586117744446, Min loss: 2233.1586117744446, F1 Score: 0.0043152620919103, Accuracy: 0.021671826625386997\n"
     ]
    },
    {
     "name": "stderr",
     "output_type": "stream",
     "text": [
      "Epoch 3/15: 100%|████████████████████████████████████████████████████████████████████| 572/572 [00:48<00:00, 11.78it/s]\n",
      "100%|████████████████████████████████████████████████████████████████████████████████| 566/566 [00:20<00:00, 26.96it/s]\n"
     ]
    },
    {
     "name": "stdout",
     "output_type": "stream",
     "text": [
      "Saving model...\n",
      "Epoch 3/15, Loss: 3.9028901089525245, Validation loss: 2188.1980090141296, Min loss: 2188.1980090141296, F1 Score: 0.01444608619221474, Accuracy: 0.03936311366651924\n"
     ]
    },
    {
     "name": "stderr",
     "output_type": "stream",
     "text": [
      "Epoch 4/15: 100%|████████████████████████████████████████████████████████████████████| 572/572 [00:49<00:00, 11.62it/s]\n",
      "100%|████████████████████████████████████████████████████████████████████████████████| 566/566 [00:21<00:00, 26.31it/s]\n"
     ]
    },
    {
     "name": "stdout",
     "output_type": "stream",
     "text": [
      "Saving model...\n",
      "Epoch 4/15, Loss: 3.845827135186973, Validation loss: 2161.7366783618927, Min loss: 2161.7366783618927, F1 Score: 0.014698000336458437, Accuracy: 0.04467049977885891\n"
     ]
    },
    {
     "name": "stderr",
     "output_type": "stream",
     "text": [
      "Epoch 5/15: 100%|████████████████████████████████████████████████████████████████████| 572/572 [00:51<00:00, 11.15it/s]\n",
      "100%|████████████████████████████████████████████████████████████████████████████████| 566/566 [00:22<00:00, 24.83it/s]\n"
     ]
    },
    {
     "name": "stdout",
     "output_type": "stream",
     "text": [
      "Epoch 5/15, Loss: 3.803267169843139, Validation loss: 2169.3504281044006, Min loss: 2161.7366783618927, F1 Score: 0.01673607706518487, Accuracy: 0.04643962848297214\n"
     ]
    },
    {
     "name": "stderr",
     "output_type": "stream",
     "text": [
      "Epoch 6/15: 100%|████████████████████████████████████████████████████████████████████| 572/572 [00:51<00:00, 11.02it/s]\n",
      "100%|████████████████████████████████████████████████████████████████████████████████| 566/566 [00:22<00:00, 25.58it/s]\n"
     ]
    },
    {
     "name": "stdout",
     "output_type": "stream",
     "text": [
      "Saving model...\n",
      "Epoch 6/15, Loss: 3.795934864773102, Validation loss: 2143.7425529956818, Min loss: 2143.7425529956818, F1 Score: 0.018147316464206552, Accuracy: 0.0437859354268023\n"
     ]
    },
    {
     "name": "stderr",
     "output_type": "stream",
     "text": [
      "Epoch 7/15: 100%|████████████████████████████████████████████████████████████████████| 572/572 [00:50<00:00, 11.31it/s]\n",
      "100%|████████████████████████████████████████████████████████████████████████████████| 566/566 [00:21<00:00, 26.29it/s]\n"
     ]
    },
    {
     "name": "stdout",
     "output_type": "stream",
     "text": [
      "Epoch 7/15, Loss: 3.774692816144262, Validation loss: 2171.967878103256, Min loss: 2143.7425529956818, F1 Score: 0.02083763345800752, Accuracy: 0.05042016806722689\n"
     ]
    },
    {
     "name": "stderr",
     "output_type": "stream",
     "text": [
      "Epoch 8/15: 100%|████████████████████████████████████████████████████████████████████| 572/572 [00:49<00:00, 11.62it/s]\n",
      "100%|████████████████████████████████████████████████████████████████████████████████| 566/566 [00:20<00:00, 26.97it/s]\n"
     ]
    },
    {
     "name": "stdout",
     "output_type": "stream",
     "text": [
      "Epoch 8/15, Loss: 3.7860713689985053, Validation loss: 2157.7319025993347, Min loss: 2143.7425529956818, F1 Score: 0.016406300677018742, Accuracy: 0.04157452454666077\n"
     ]
    },
    {
     "name": "stderr",
     "output_type": "stream",
     "text": [
      "Epoch 9/15: 100%|████████████████████████████████████████████████████████████████████| 572/572 [00:48<00:00, 11.71it/s]\n",
      "100%|████████████████████████████████████████████████████████████████████████████████| 566/566 [00:20<00:00, 26.99it/s]\n"
     ]
    },
    {
     "name": "stdout",
     "output_type": "stream",
     "text": [
      "Epoch 9/15, Loss: 3.7660179044359055, Validation loss: 2182.7573099136353, Min loss: 2143.7425529956818, F1 Score: 0.01180441013321725, Accuracy: 0.03582485625829279\n"
     ]
    },
    {
     "name": "stderr",
     "output_type": "stream",
     "text": [
      "Epoch 10/15: 100%|███████████████████████████████████████████████████████████████████| 572/572 [00:48<00:00, 11.78it/s]\n",
      "100%|████████████████████████████████████████████████████████████████████████████████| 566/566 [00:21<00:00, 26.91it/s]\n"
     ]
    },
    {
     "name": "stdout",
     "output_type": "stream",
     "text": [
      "Saving model...\n",
      "Epoch 10/15, Loss: 3.7422461140661403, Validation loss: 2127.2351908683777, Min loss: 2127.2351908683777, F1 Score: 0.028061215851682676, Accuracy: 0.054400707651481646\n"
     ]
    },
    {
     "name": "stderr",
     "output_type": "stream",
     "text": [
      "Epoch 11/15: 100%|███████████████████████████████████████████████████████████████████| 572/572 [00:49<00:00, 11.44it/s]\n",
      "100%|████████████████████████████████████████████████████████████████████████████████| 566/566 [00:22<00:00, 25.26it/s]\n"
     ]
    },
    {
     "name": "stdout",
     "output_type": "stream",
     "text": [
      "Epoch 11/15, Loss: 3.719014069791126, Validation loss: 2149.7463200092316, Min loss: 2127.2351908683777, F1 Score: 0.025824257941610414, Accuracy: 0.04643962848297214\n"
     ]
    },
    {
     "name": "stderr",
     "output_type": "stream",
     "text": [
      "Epoch 12/15: 100%|███████████████████████████████████████████████████████████████████| 572/572 [00:51<00:00, 11.14it/s]\n",
      "100%|████████████████████████████████████████████████████████████████████████████████| 566/566 [00:22<00:00, 25.51it/s]\n"
     ]
    },
    {
     "name": "stdout",
     "output_type": "stream",
     "text": [
      "Epoch 12/15, Loss: 3.6939371985329985, Validation loss: 2140.07225894928, Min loss: 2127.2351908683777, F1 Score: 0.02382787314884536, Accuracy: 0.04555506413091552\n"
     ]
    },
    {
     "name": "stderr",
     "output_type": "stream",
     "text": [
      "Epoch 13/15: 100%|███████████████████████████████████████████████████████████████████| 572/572 [00:51<00:00, 11.06it/s]\n",
      "100%|████████████████████████████████████████████████████████████████████████████████| 566/566 [00:21<00:00, 25.90it/s]\n"
     ]
    },
    {
     "name": "stdout",
     "output_type": "stream",
     "text": [
      "Saving model...\n",
      "Epoch 13/15, Loss: 3.654872170691413, Validation loss: 2122.623596429825, Min loss: 2122.623596429825, F1 Score: 0.03589673830899926, Accuracy: 0.054400707651481646\n"
     ]
    },
    {
     "name": "stderr",
     "output_type": "stream",
     "text": [
      "Epoch 14/15: 100%|███████████████████████████████████████████████████████████████████| 572/572 [00:51<00:00, 11.06it/s]\n",
      "100%|████████████████████████████████████████████████████████████████████████████████| 566/566 [00:22<00:00, 25.37it/s]\n"
     ]
    },
    {
     "name": "stdout",
     "output_type": "stream",
     "text": [
      "Epoch 14/15, Loss: 3.6287978998583688, Validation loss: 2189.612693309784, Min loss: 2122.623596429825, F1 Score: 0.025940958153803307, Accuracy: 0.04953560371517028\n"
     ]
    },
    {
     "name": "stderr",
     "output_type": "stream",
     "text": [
      "Epoch 15/15: 100%|███████████████████████████████████████████████████████████████████| 572/572 [00:51<00:00, 11.12it/s]\n",
      "100%|████████████████████████████████████████████████████████████████████████████████| 566/566 [00:20<00:00, 27.08it/s]\n"
     ]
    },
    {
     "name": "stdout",
     "output_type": "stream",
     "text": [
      "Epoch 15/15, Loss: 3.6228356708539957, Validation loss: 2174.604522705078, Min loss: 2122.623596429825, F1 Score: 0.03724516183052493, Accuracy: 0.05616983635559487\n"
     ]
    },
    {
     "name": "stderr",
     "output_type": "stream",
     "text": [
      "100%|████████████████████████████████████████████████████████████████████████████████| 566/566 [00:21<00:00, 26.41it/s]\n",
      "[I 2024-01-20 22:01:24,971] Trial 10 finished with value: 0.05616983635559487 and parameters: {'image_size': 224, 'patch_size': 16, 'dim': 497, 'depth': 7, 'heads': 13, 'dropout': 0.2925571676876985}. Best is trial 1 with value: 0.06103494029190624.\n",
      "Epoch 1/15: 100%|████████████████████████████████████████████████████████████████████| 572/572 [00:42<00:00, 13.48it/s]\n",
      "100%|████████████████████████████████████████████████████████████████████████████████| 566/566 [00:19<00:00, 29.30it/s]\n"
     ]
    },
    {
     "name": "stdout",
     "output_type": "stream",
     "text": [
      "Saving model...\n",
      "Epoch 1/15, Loss: 4.29168305941216, Validation loss: 2413.468749523163, Min loss: 2413.468749523163, F1 Score: 0.0007805724197745014, Accuracy: 0.019902697921273773\n"
     ]
    },
    {
     "name": "stderr",
     "output_type": "stream",
     "text": [
      "Epoch 2/15: 100%|████████████████████████████████████████████████████████████████████| 572/572 [00:40<00:00, 14.04it/s]\n",
      "100%|████████████████████████████████████████████████████████████████████████████████| 566/566 [00:19<00:00, 29.10it/s]\n"
     ]
    },
    {
     "name": "stdout",
     "output_type": "stream",
     "text": [
      "Saving model...\n",
      "Epoch 2/15, Loss: 4.080169771037667, Validation loss: 2234.385808467865, Min loss: 2234.385808467865, F1 Score: 0.0007635574837310196, Accuracy: 0.019460415745245468\n"
     ]
    },
    {
     "name": "stderr",
     "output_type": "stream",
     "text": [
      "Epoch 3/15: 100%|████████████████████████████████████████████████████████████████████| 572/572 [00:41<00:00, 13.87it/s]\n",
      "100%|████████████████████████████████████████████████████████████████████████████████| 566/566 [00:20<00:00, 27.86it/s]\n"
     ]
    },
    {
     "name": "stdout",
     "output_type": "stream",
     "text": [
      "Saving model...\n",
      "Epoch 3/15, Loss: 3.9322181304678105, Validation loss: 2202.0656621456146, Min loss: 2202.0656621456146, F1 Score: 0.007033631613697424, Accuracy: 0.03449800973020787\n"
     ]
    },
    {
     "name": "stderr",
     "output_type": "stream",
     "text": [
      "Epoch 4/15: 100%|████████████████████████████████████████████████████████████████████| 572/572 [00:42<00:00, 13.44it/s]\n",
      "100%|████████████████████████████████████████████████████████████████████████████████| 566/566 [00:19<00:00, 28.71it/s]\n"
     ]
    },
    {
     "name": "stdout",
     "output_type": "stream",
     "text": [
      "Saving model...\n",
      "Epoch 4/15, Loss: 3.891533771872677, Validation loss: 2183.206750869751, Min loss: 2183.206750869751, F1 Score: 0.008677500287932871, Accuracy: 0.040689960194604156\n"
     ]
    },
    {
     "name": "stderr",
     "output_type": "stream",
     "text": [
      "Epoch 5/15: 100%|████████████████████████████████████████████████████████████████████| 572/572 [00:40<00:00, 14.10it/s]\n",
      "100%|████████████████████████████████████████████████████████████████████████████████| 566/566 [00:19<00:00, 29.24it/s]\n"
     ]
    },
    {
     "name": "stdout",
     "output_type": "stream",
     "text": [
      "Saving model...\n",
      "Epoch 5/15, Loss: 3.868784980790606, Validation loss: 2180.189713716507, Min loss: 2180.189713716507, F1 Score: 0.010210333787816923, Accuracy: 0.04024767801857585\n"
     ]
    },
    {
     "name": "stderr",
     "output_type": "stream",
     "text": [
      "Epoch 6/15: 100%|████████████████████████████████████████████████████████████████████| 572/572 [00:40<00:00, 14.09it/s]\n",
      "100%|████████████████████████████████████████████████████████████████████████████████| 566/566 [00:19<00:00, 29.13it/s]\n"
     ]
    },
    {
     "name": "stdout",
     "output_type": "stream",
     "text": [
      "Saving model...\n",
      "Epoch 6/15, Loss: 3.835547286451879, Validation loss: 2159.9683690071106, Min loss: 2159.9683690071106, F1 Score: 0.00773388094956498, Accuracy: 0.04909332153914197\n"
     ]
    },
    {
     "name": "stderr",
     "output_type": "stream",
     "text": [
      "Epoch 7/15: 100%|████████████████████████████████████████████████████████████████████| 572/572 [00:40<00:00, 14.04it/s]\n",
      "100%|████████████████████████████████████████████████████████████████████████████████| 566/566 [00:19<00:00, 28.99it/s]\n"
     ]
    },
    {
     "name": "stdout",
     "output_type": "stream",
     "text": [
      "Epoch 7/15, Loss: 3.812077867030889, Validation loss: 2179.3135373592377, Min loss: 2159.9683690071106, F1 Score: 0.010327999153334568, Accuracy: 0.03715170278637771\n"
     ]
    },
    {
     "name": "stderr",
     "output_type": "stream",
     "text": [
      "Epoch 8/15: 100%|████████████████████████████████████████████████████████████████████| 572/572 [00:40<00:00, 14.04it/s]\n",
      "100%|████████████████████████████████████████████████████████████████████████████████| 566/566 [00:20<00:00, 28.26it/s]\n"
     ]
    },
    {
     "name": "stdout",
     "output_type": "stream",
     "text": [
      "Saving model...\n",
      "Epoch 8/15, Loss: 3.7958764370007967, Validation loss: 2151.948354959488, Min loss: 2151.948354959488, F1 Score: 0.00727699575404956, Accuracy: 0.03494029190623618\n"
     ]
    },
    {
     "name": "stderr",
     "output_type": "stream",
     "text": [
      "Epoch 9/15: 100%|████████████████████████████████████████████████████████████████████| 572/572 [00:42<00:00, 13.36it/s]\n",
      "100%|████████████████████████████████████████████████████████████████████████████████| 566/566 [00:20<00:00, 27.92it/s]\n"
     ]
    },
    {
     "name": "stdout",
     "output_type": "stream",
     "text": [
      "Saving model...\n",
      "Epoch 9/15, Loss: 3.7680058921326913, Validation loss: 2144.8170495033264, Min loss: 2144.8170495033264, F1 Score: 0.020570643020577747, Accuracy: 0.047766475011057054\n"
     ]
    },
    {
     "name": "stderr",
     "output_type": "stream",
     "text": [
      "Epoch 10/15: 100%|███████████████████████████████████████████████████████████████████| 572/572 [00:40<00:00, 13.97it/s]\n",
      "100%|████████████████████████████████████████████████████████████████████████████████| 566/566 [00:19<00:00, 29.01it/s]\n"
     ]
    },
    {
     "name": "stdout",
     "output_type": "stream",
     "text": [
      "Saving model...\n",
      "Epoch 10/15, Loss: 3.7541995880433863, Validation loss: 2141.3274099826813, Min loss: 2141.3274099826813, F1 Score: 0.011929447019429315, Accuracy: 0.03759398496240601\n"
     ]
    },
    {
     "name": "stderr",
     "output_type": "stream",
     "text": [
      "Epoch 11/15: 100%|███████████████████████████████████████████████████████████████████| 572/572 [00:40<00:00, 13.99it/s]\n",
      "100%|████████████████████████████████████████████████████████████████████████████████| 566/566 [00:19<00:00, 29.20it/s]\n"
     ]
    },
    {
     "name": "stdout",
     "output_type": "stream",
     "text": [
      "Epoch 11/15, Loss: 3.714618583094568, Validation loss: 2171.714042663574, Min loss: 2141.3274099826813, F1 Score: 0.018253969643503093, Accuracy: 0.04599734630694383\n"
     ]
    },
    {
     "name": "stderr",
     "output_type": "stream",
     "text": [
      "Epoch 12/15: 100%|███████████████████████████████████████████████████████████████████| 572/572 [00:42<00:00, 13.38it/s]\n",
      "100%|████████████████████████████████████████████████████████████████████████████████| 566/566 [00:19<00:00, 28.57it/s]\n"
     ]
    },
    {
     "name": "stdout",
     "output_type": "stream",
     "text": [
      "Saving model...\n",
      "Epoch 12/15, Loss: 3.694407792085115, Validation loss: 2133.7942790985107, Min loss: 2133.7942790985107, F1 Score: 0.02432195619727305, Accuracy: 0.04467049977885891\n"
     ]
    },
    {
     "name": "stderr",
     "output_type": "stream",
     "text": [
      "Epoch 13/15: 100%|███████████████████████████████████████████████████████████████████| 572/572 [00:40<00:00, 14.00it/s]\n",
      "100%|████████████████████████████████████████████████████████████████████████████████| 566/566 [00:19<00:00, 28.37it/s]\n"
     ]
    },
    {
     "name": "stdout",
     "output_type": "stream",
     "text": [
      "Epoch 13/15, Loss: 3.660303203518546, Validation loss: 2135.620282649994, Min loss: 2133.7942790985107, F1 Score: 0.01728664946309006, Accuracy: 0.04113224237063246\n"
     ]
    },
    {
     "name": "stderr",
     "output_type": "stream",
     "text": [
      "Epoch 14/15: 100%|███████████████████████████████████████████████████████████████████| 572/572 [00:42<00:00, 13.47it/s]\n",
      "100%|████████████████████████████████████████████████████████████████████████████████| 566/566 [00:20<00:00, 27.78it/s]\n"
     ]
    },
    {
     "name": "stdout",
     "output_type": "stream",
     "text": [
      "Epoch 14/15, Loss: 3.615790555088292, Validation loss: 2161.206743955612, Min loss: 2133.7942790985107, F1 Score: 0.021212361859696566, Accuracy: 0.05174701459531181\n"
     ]
    },
    {
     "name": "stderr",
     "output_type": "stream",
     "text": [
      "Epoch 15/15: 100%|███████████████████████████████████████████████████████████████████| 572/572 [00:42<00:00, 13.35it/s]\n",
      "100%|████████████████████████████████████████████████████████████████████████████████| 566/566 [00:20<00:00, 27.24it/s]\n"
     ]
    },
    {
     "name": "stdout",
     "output_type": "stream",
     "text": [
      "Epoch 15/15, Loss: 3.6011630056412085, Validation loss: 2145.766277074814, Min loss: 2133.7942790985107, F1 Score: 0.02317761890991221, Accuracy: 0.05042016806722689\n"
     ]
    },
    {
     "name": "stderr",
     "output_type": "stream",
     "text": [
      "100%|████████████████████████████████████████████████████████████████████████████████| 566/566 [00:21<00:00, 26.40it/s]\n",
      "[I 2024-01-20 22:17:07,547] Trial 11 finished with value: 0.05042016806722689 and parameters: {'image_size': 224, 'patch_size': 16, 'dim': 287, 'depth': 7, 'heads': 14, 'dropout': 0.14411631726724142}. Best is trial 1 with value: 0.06103494029190624.\n",
      "Epoch 1/15: 100%|████████████████████████████████████████████████████████████████████| 572/572 [00:49<00:00, 11.61it/s]\n",
      "100%|████████████████████████████████████████████████████████████████████████████████| 566/566 [00:21<00:00, 26.08it/s]\n"
     ]
    },
    {
     "name": "stdout",
     "output_type": "stream",
     "text": [
      "Saving model...\n",
      "Epoch 1/15, Loss: 4.4196101010601545, Validation loss: 2443.2332537174225, Min loss: 2443.2332537174225, F1 Score: 0.001167883211678832, Accuracy: 0.03007518796992481\n"
     ]
    },
    {
     "name": "stderr",
     "output_type": "stream",
     "text": [
      "Epoch 2/15: 100%|████████████████████████████████████████████████████████████████████| 572/572 [00:47<00:00, 12.12it/s]\n",
      "100%|████████████████████████████████████████████████████████████████████████████████| 566/566 [00:20<00:00, 27.01it/s]\n"
     ]
    },
    {
     "name": "stdout",
     "output_type": "stream",
     "text": [
      "Saving model...\n",
      "Epoch 2/15, Loss: 4.116748526360095, Validation loss: 2255.448007106781, Min loss: 2255.448007106781, F1 Score: 0.0027144597163909967, Accuracy: 0.028748341441839895\n"
     ]
    },
    {
     "name": "stderr",
     "output_type": "stream",
     "text": [
      "Epoch 3/15: 100%|████████████████████████████████████████████████████████████████████| 572/572 [00:47<00:00, 12.10it/s]\n",
      "100%|████████████████████████████████████████████████████████████████████████████████| 566/566 [00:21<00:00, 25.77it/s]\n"
     ]
    },
    {
     "name": "stdout",
     "output_type": "stream",
     "text": [
      "Saving model...\n",
      "Epoch 3/15, Loss: 3.9411876021278025, Validation loss: 2206.999485731125, Min loss: 2206.999485731125, F1 Score: 0.006526575809160615, Accuracy: 0.03847854931446263\n"
     ]
    },
    {
     "name": "stderr",
     "output_type": "stream",
     "text": [
      "Epoch 4/15: 100%|████████████████████████████████████████████████████████████████████| 572/572 [00:48<00:00, 11.80it/s]\n",
      "100%|████████████████████████████████████████████████████████████████████████████████| 566/566 [00:20<00:00, 27.05it/s]\n"
     ]
    },
    {
     "name": "stdout",
     "output_type": "stream",
     "text": [
      "Epoch 4/15, Loss: 3.8870087013945187, Validation loss: 2252.8999922275543, Min loss: 2206.999485731125, F1 Score: 0.0048122259300445456, Accuracy: 0.022114108801415303\n"
     ]
    },
    {
     "name": "stderr",
     "output_type": "stream",
     "text": [
      "Epoch 5/15: 100%|████████████████████████████████████████████████████████████████████| 572/572 [00:47<00:00, 12.13it/s]\n",
      "100%|████████████████████████████████████████████████████████████████████████████████| 566/566 [00:21<00:00, 26.94it/s]\n"
     ]
    },
    {
     "name": "stdout",
     "output_type": "stream",
     "text": [
      "Saving model...\n",
      "Epoch 5/15, Loss: 3.8771915274204307, Validation loss: 2191.011825799942, Min loss: 2191.011825799942, F1 Score: 0.01061553113926581, Accuracy: 0.03272888102609465\n"
     ]
    },
    {
     "name": "stderr",
     "output_type": "stream",
     "text": [
      "Epoch 6/15: 100%|████████████████████████████████████████████████████████████████████| 572/572 [00:47<00:00, 12.12it/s]\n",
      "100%|████████████████████████████████████████████████████████████████████████████████| 566/566 [00:21<00:00, 26.93it/s]\n"
     ]
    },
    {
     "name": "stdout",
     "output_type": "stream",
     "text": [
      "Saving model...\n",
      "Epoch 6/15, Loss: 3.844079503129026, Validation loss: 2179.3686385154724, Min loss: 2179.3686385154724, F1 Score: 0.010809852114195167, Accuracy: 0.0367094206103494\n"
     ]
    },
    {
     "name": "stderr",
     "output_type": "stream",
     "text": [
      "Epoch 7/15: 100%|████████████████████████████████████████████████████████████████████| 572/572 [00:47<00:00, 12.10it/s]\n",
      "100%|████████████████████████████████████████████████████████████████████████████████| 566/566 [00:20<00:00, 27.02it/s]\n"
     ]
    },
    {
     "name": "stdout",
     "output_type": "stream",
     "text": [
      "Epoch 7/15, Loss: 3.844311671638572, Validation loss: 2181.294196128845, Min loss: 2179.3686385154724, F1 Score: 0.015493235620560679, Accuracy: 0.03936311366651924\n"
     ]
    },
    {
     "name": "stderr",
     "output_type": "stream",
     "text": [
      "Epoch 8/15: 100%|████████████████████████████████████████████████████████████████████| 572/572 [00:47<00:00, 12.06it/s]\n",
      "100%|████████████████████████████████████████████████████████████████████████████████| 566/566 [00:21<00:00, 26.92it/s]\n"
     ]
    },
    {
     "name": "stdout",
     "output_type": "stream",
     "text": [
      "Saving model...\n",
      "Epoch 8/15, Loss: 3.818851545589899, Validation loss: 2175.2004539966583, Min loss: 2175.2004539966583, F1 Score: 0.014881620084756221, Accuracy: 0.04599734630694383\n"
     ]
    },
    {
     "name": "stderr",
     "output_type": "stream",
     "text": [
      "Epoch 9/15: 100%|████████████████████████████████████████████████████████████████████| 572/572 [00:47<00:00, 12.05it/s]\n",
      "100%|████████████████████████████████████████████████████████████████████████████████| 566/566 [00:20<00:00, 26.96it/s]\n"
     ]
    },
    {
     "name": "stdout",
     "output_type": "stream",
     "text": [
      "Saving model...\n",
      "Epoch 9/15, Loss: 3.786905928058399, Validation loss: 2165.723486661911, Min loss: 2165.723486661911, F1 Score: 0.016624638954584513, Accuracy: 0.038920831490490936\n"
     ]
    },
    {
     "name": "stderr",
     "output_type": "stream",
     "text": [
      "Epoch 10/15: 100%|███████████████████████████████████████████████████████████████████| 572/572 [00:47<00:00, 12.06it/s]\n",
      "100%|████████████████████████████████████████████████████████████████████████████████| 566/566 [00:21<00:00, 26.93it/s]\n"
     ]
    },
    {
     "name": "stdout",
     "output_type": "stream",
     "text": [
      "Epoch 10/15, Loss: 3.771305276568821, Validation loss: 2166.0297310352325, Min loss: 2165.723486661911, F1 Score: 0.014725275870869681, Accuracy: 0.04732419283502875\n"
     ]
    },
    {
     "name": "stderr",
     "output_type": "stream",
     "text": [
      "Epoch 11/15: 100%|███████████████████████████████████████████████████████████████████| 572/572 [00:48<00:00, 11.81it/s]\n",
      "100%|████████████████████████████████████████████████████████████████████████████████| 566/566 [00:22<00:00, 25.67it/s]\n"
     ]
    },
    {
     "name": "stdout",
     "output_type": "stream",
     "text": [
      "Epoch 11/15, Loss: 3.755054501398818, Validation loss: 2173.5912787914276, Min loss: 2165.723486661911, F1 Score: 0.012015397440373327, Accuracy: 0.0437859354268023\n"
     ]
    },
    {
     "name": "stderr",
     "output_type": "stream",
     "text": [
      "Epoch 12/15: 100%|███████████████████████████████████████████████████████████████████| 572/572 [00:49<00:00, 11.53it/s]\n",
      "100%|████████████████████████████████████████████████████████████████████████████████| 566/566 [00:22<00:00, 25.65it/s]\n"
     ]
    },
    {
     "name": "stdout",
     "output_type": "stream",
     "text": [
      "Epoch 12/15, Loss: 3.750274270499279, Validation loss: 2169.0468769073486, Min loss: 2165.723486661911, F1 Score: 0.017582608570340455, Accuracy: 0.038920831490490936\n"
     ]
    },
    {
     "name": "stderr",
     "output_type": "stream",
     "text": [
      "Epoch 13/15: 100%|███████████████████████████████████████████████████████████████████| 572/572 [00:50<00:00, 11.34it/s]\n",
      "100%|████████████████████████████████████████████████████████████████████████████████| 566/566 [00:22<00:00, 25.18it/s]\n"
     ]
    },
    {
     "name": "stdout",
     "output_type": "stream",
     "text": [
      "Epoch 13/15, Loss: 3.727932784773139, Validation loss: 2179.098954677582, Min loss: 2165.723486661911, F1 Score: 0.01878489084851555, Accuracy: 0.039805395842547546\n"
     ]
    },
    {
     "name": "stderr",
     "output_type": "stream",
     "text": [
      "Epoch 14/15: 100%|███████████████████████████████████████████████████████████████████| 572/572 [00:49<00:00, 11.55it/s]\n",
      "100%|████████████████████████████████████████████████████████████████████████████████| 566/566 [00:21<00:00, 25.74it/s]\n"
     ]
    },
    {
     "name": "stdout",
     "output_type": "stream",
     "text": [
      "Epoch 14/15, Loss: 3.7231354740544806, Validation loss: 2176.6953551769257, Min loss: 2165.723486661911, F1 Score: 0.019901950683972953, Accuracy: 0.03715170278637771\n"
     ]
    },
    {
     "name": "stderr",
     "output_type": "stream",
     "text": [
      "Epoch 15/15: 100%|███████████████████████████████████████████████████████████████████| 572/572 [00:49<00:00, 11.57it/s]\n",
      "100%|████████████████████████████████████████████████████████████████████████████████| 566/566 [00:21<00:00, 26.01it/s]\n"
     ]
    },
    {
     "name": "stdout",
     "output_type": "stream",
     "text": [
      "Epoch 15/15, Loss: 3.700875087132556, Validation loss: 2169.1753261089325, Min loss: 2165.723486661911, F1 Score: 0.01768889896268958, Accuracy: 0.04201680672268908\n"
     ]
    },
    {
     "name": "stderr",
     "output_type": "stream",
     "text": [
      "100%|████████████████████████████████████████████████████████████████████████████████| 566/566 [00:21<00:00, 26.11it/s]\n",
      "[I 2024-01-20 22:34:55,535] Trial 12 finished with value: 0.04201680672268908 and parameters: {'image_size': 224, 'patch_size': 16, 'dim': 405, 'depth': 7, 'heads': 15, 'dropout': 0.24018745063523753}. Best is trial 1 with value: 0.06103494029190624.\n",
      "Epoch 1/15: 100%|████████████████████████████████████████████████████████████████████| 572/572 [01:01<00:00,  9.34it/s]\n",
      "100%|████████████████████████████████████████████████████████████████████████████████| 566/566 [00:24<00:00, 23.43it/s]\n"
     ]
    },
    {
     "name": "stdout",
     "output_type": "stream",
     "text": [
      "Saving model...\n",
      "Epoch 1/15, Loss: 4.407798727475038, Validation loss: 2568.295677423477, Min loss: 2568.295677423477, F1 Score: 0.0007648848326814429, Accuracy: 0.019460415745245468\n"
     ]
    },
    {
     "name": "stderr",
     "output_type": "stream",
     "text": [
      "Epoch 2/15: 100%|████████████████████████████████████████████████████████████████████| 572/572 [01:00<00:00,  9.42it/s]\n",
      "100%|████████████████████████████████████████████████████████████████████████████████| 566/566 [00:24<00:00, 22.88it/s]\n"
     ]
    },
    {
     "name": "stdout",
     "output_type": "stream",
     "text": [
      "Saving model...\n",
      "Epoch 2/15, Loss: 4.154433007942937, Validation loss: 2249.4231057167053, Min loss: 2249.4231057167053, F1 Score: 0.0007497820401046208, Accuracy: 0.01901813356921716\n"
     ]
    },
    {
     "name": "stderr",
     "output_type": "stream",
     "text": [
      "Epoch 3/15: 100%|████████████████████████████████████████████████████████████████████| 572/572 [01:01<00:00,  9.36it/s]\n",
      "100%|████████████████████████████████████████████████████████████████████████████████| 566/566 [00:24<00:00, 22.85it/s]\n"
     ]
    },
    {
     "name": "stdout",
     "output_type": "stream",
     "text": [
      "Saving model...\n",
      "Epoch 3/15, Loss: 3.950232101727324, Validation loss: 2223.745271921158, Min loss: 2223.745271921158, F1 Score: 0.0007805724197745014, Accuracy: 0.019902697921273773\n"
     ]
    },
    {
     "name": "stderr",
     "output_type": "stream",
     "text": [
      "Epoch 4/15: 100%|████████████████████████████████████████████████████████████████████| 572/572 [01:00<00:00,  9.47it/s]\n",
      "100%|████████████████████████████████████████████████████████████████████████████████| 566/566 [00:25<00:00, 22.63it/s]\n"
     ]
    },
    {
     "name": "stdout",
     "output_type": "stream",
     "text": [
      "Saving model...\n",
      "Epoch 4/15, Loss: 3.9285346183601715, Validation loss: 2207.8270225524902, Min loss: 2207.8270225524902, F1 Score: 0.003124249100158669, Accuracy: 0.03228659885006634\n"
     ]
    },
    {
     "name": "stderr",
     "output_type": "stream",
     "text": [
      "Epoch 5/15: 100%|████████████████████████████████████████████████████████████████████| 572/572 [00:59<00:00,  9.56it/s]\n",
      "100%|████████████████████████████████████████████████████████████████████████████████| 566/566 [00:24<00:00, 23.45it/s]\n"
     ]
    },
    {
     "name": "stdout",
     "output_type": "stream",
     "text": [
      "Saving model...\n",
      "Epoch 5/15, Loss: 3.906338313807032, Validation loss: 2200.9777941703796, Min loss: 2200.9777941703796, F1 Score: 0.006114551495455949, Accuracy: 0.03228659885006634\n"
     ]
    },
    {
     "name": "stderr",
     "output_type": "stream",
     "text": [
      "Epoch 6/15: 100%|████████████████████████████████████████████████████████████████████| 572/572 [00:59<00:00,  9.60it/s]\n",
      "100%|████████████████████████████████████████████████████████████████████████████████| 566/566 [00:24<00:00, 23.48it/s]\n"
     ]
    },
    {
     "name": "stdout",
     "output_type": "stream",
     "text": [
      "Saving model...\n",
      "Epoch 6/15, Loss: 3.886329692474452, Validation loss: 2185.628359556198, Min loss: 2185.628359556198, F1 Score: 0.008764315846003562, Accuracy: 0.04290137107474569\n"
     ]
    },
    {
     "name": "stderr",
     "output_type": "stream",
     "text": [
      "Epoch 7/15: 100%|████████████████████████████████████████████████████████████████████| 572/572 [01:00<00:00,  9.43it/s]\n",
      "100%|████████████████████████████████████████████████████████████████████████████████| 566/566 [00:24<00:00, 23.09it/s]\n"
     ]
    },
    {
     "name": "stdout",
     "output_type": "stream",
     "text": [
      "Epoch 7/15, Loss: 3.8624688599064823, Validation loss: 2191.872859477997, Min loss: 2185.628359556198, F1 Score: 0.007774057003927026, Accuracy: 0.038920831490490936\n"
     ]
    },
    {
     "name": "stderr",
     "output_type": "stream",
     "text": [
      "Epoch 8/15: 100%|████████████████████████████████████████████████████████████████████| 572/572 [01:00<00:00,  9.50it/s]\n",
      "100%|████████████████████████████████████████████████████████████████████████████████| 566/566 [00:25<00:00, 22.03it/s]\n"
     ]
    },
    {
     "name": "stdout",
     "output_type": "stream",
     "text": [
      "Saving model...\n",
      "Epoch 8/15, Loss: 3.8376284263829348, Validation loss: 2183.0931191444397, Min loss: 2183.0931191444397, F1 Score: 0.00992006526747268, Accuracy: 0.03538257408226449\n"
     ]
    },
    {
     "name": "stderr",
     "output_type": "stream",
     "text": [
      "Epoch 9/15: 100%|████████████████████████████████████████████████████████████████████| 572/572 [01:02<00:00,  9.15it/s]\n",
      "100%|████████████████████████████████████████████████████████████████████████████████| 566/566 [00:25<00:00, 22.34it/s]\n"
     ]
    },
    {
     "name": "stdout",
     "output_type": "stream",
     "text": [
      "Epoch 9/15, Loss: 3.8647801006627387, Validation loss: 2197.2194492816925, Min loss: 2183.0931191444397, F1 Score: 0.005341422416933268, Accuracy: 0.03184431667403804\n"
     ]
    },
    {
     "name": "stderr",
     "output_type": "stream",
     "text": [
      "Epoch 10/15: 100%|███████████████████████████████████████████████████████████████████| 572/572 [01:01<00:00,  9.25it/s]\n",
      "100%|████████████████████████████████████████████████████████████████████████████████| 566/566 [00:25<00:00, 22.36it/s]\n"
     ]
    },
    {
     "name": "stdout",
     "output_type": "stream",
     "text": [
      "Saving model...\n",
      "Epoch 10/15, Loss: 3.8170637112806394, Validation loss: 2163.3118777275085, Min loss: 2163.3118777275085, F1 Score: 0.010858169074718921, Accuracy: 0.038920831490490936\n"
     ]
    },
    {
     "name": "stderr",
     "output_type": "stream",
     "text": [
      "Epoch 11/15: 100%|███████████████████████████████████████████████████████████████████| 572/572 [01:02<00:00,  9.11it/s]\n",
      "100%|████████████████████████████████████████████████████████████████████████████████| 566/566 [00:25<00:00, 22.14it/s]\n"
     ]
    },
    {
     "name": "stdout",
     "output_type": "stream",
     "text": [
      "Epoch 11/15, Loss: 3.8077682045593395, Validation loss: 2166.2531037330627, Min loss: 2163.3118777275085, F1 Score: 0.014974412323857163, Accuracy: 0.04599734630694383\n"
     ]
    },
    {
     "name": "stderr",
     "output_type": "stream",
     "text": [
      "Epoch 12/15: 100%|███████████████████████████████████████████████████████████████████| 572/572 [01:02<00:00,  9.13it/s]\n",
      "100%|████████████████████████████████████████████████████████████████████████████████| 566/566 [00:25<00:00, 22.38it/s]\n"
     ]
    },
    {
     "name": "stdout",
     "output_type": "stream",
     "text": [
      "Saving model...\n",
      "Epoch 12/15, Loss: 3.7810563697114383, Validation loss: 2157.679039478302, Min loss: 2157.679039478302, F1 Score: 0.017699164392460904, Accuracy: 0.04599734630694383\n"
     ]
    },
    {
     "name": "stderr",
     "output_type": "stream",
     "text": [
      "Epoch 13/15: 100%|███████████████████████████████████████████████████████████████████| 572/572 [01:02<00:00,  9.11it/s]\n",
      "100%|████████████████████████████████████████████████████████████████████████████████| 566/566 [00:24<00:00, 22.94it/s]\n"
     ]
    },
    {
     "name": "stdout",
     "output_type": "stream",
     "text": [
      "Saving model...\n",
      "Epoch 13/15, Loss: 3.758538873319705, Validation loss: 2149.8805170059204, Min loss: 2149.8805170059204, F1 Score: 0.01545439081671578, Accuracy: 0.043343653250773995\n"
     ]
    },
    {
     "name": "stderr",
     "output_type": "stream",
     "text": [
      "Epoch 14/15: 100%|███████████████████████████████████████████████████████████████████| 572/572 [01:00<00:00,  9.48it/s]\n",
      "100%|████████████████████████████████████████████████████████████████████████████████| 566/566 [00:24<00:00, 23.42it/s]\n"
     ]
    },
    {
     "name": "stdout",
     "output_type": "stream",
     "text": [
      "Saving model...\n",
      "Epoch 14/15, Loss: 3.755971398893589, Validation loss: 2136.107171535492, Min loss: 2136.107171535492, F1 Score: 0.015790010197551975, Accuracy: 0.04599734630694383\n"
     ]
    },
    {
     "name": "stderr",
     "output_type": "stream",
     "text": [
      "Epoch 15/15: 100%|███████████████████████████████████████████████████████████████████| 572/572 [01:00<00:00,  9.38it/s]\n",
      "100%|████████████████████████████████████████████████████████████████████████████████| 566/566 [00:24<00:00, 23.54it/s]\n"
     ]
    },
    {
     "name": "stdout",
     "output_type": "stream",
     "text": [
      "Epoch 15/15, Loss: 3.918957552745137, Validation loss: 2197.1582272052765, Min loss: 2136.107171535492, F1 Score: 0.007171818858703017, Accuracy: 0.03759398496240601\n"
     ]
    },
    {
     "name": "stderr",
     "output_type": "stream",
     "text": [
      "100%|████████████████████████████████████████████████████████████████████████████████| 566/566 [00:25<00:00, 22.21it/s]\n",
      "[I 2024-01-20 22:56:51,911] Trial 13 finished with value: 0.03759398496240601 and parameters: {'image_size': 224, 'patch_size': 16, 'dim': 407, 'depth': 10, 'heads': 13, 'dropout': 0.133733887326772}. Best is trial 1 with value: 0.06103494029190624.\n",
      "Epoch 1/15: 100%|████████████████████████████████████████████████████████████████████| 572/572 [01:14<00:00,  7.68it/s]\n",
      "100%|████████████████████████████████████████████████████████████████████████████████| 566/566 [00:26<00:00, 20.99it/s]\n"
     ]
    },
    {
     "name": "stdout",
     "output_type": "stream",
     "text": [
      "Saving model...\n",
      "Epoch 1/15, Loss: 4.833171894939174, Validation loss: 2654.6685519218445, Min loss: 2654.6685519218445, F1 Score: 0.0007635574837310196, Accuracy: 0.019460415745245468\n"
     ]
    },
    {
     "name": "stderr",
     "output_type": "stream",
     "text": [
      "Epoch 2/15: 100%|████████████████████████████████████████████████████████████████████| 572/572 [01:12<00:00,  7.85it/s]\n",
      "100%|████████████████████████████████████████████████████████████████████████████████| 566/566 [00:26<00:00, 21.18it/s]\n"
     ]
    },
    {
     "name": "stdout",
     "output_type": "stream",
     "text": [
      "Saving model...\n",
      "Epoch 2/15, Loss: 4.209037206555538, Validation loss: 2209.7633106708527, Min loss: 2209.7633106708527, F1 Score: 0.004474711623779947, Accuracy: 0.03228659885006634\n"
     ]
    },
    {
     "name": "stderr",
     "output_type": "stream",
     "text": [
      "Epoch 3/15: 100%|████████████████████████████████████████████████████████████████████| 572/572 [01:11<00:00,  8.02it/s]\n",
      "100%|████████████████████████████████████████████████████████████████████████████████| 566/566 [00:26<00:00, 21.53it/s]\n"
     ]
    },
    {
     "name": "stdout",
     "output_type": "stream",
     "text": [
      "Saving model...\n",
      "Epoch 3/15, Loss: 3.8704652844634597, Validation loss: 2177.221096754074, Min loss: 2177.221096754074, F1 Score: 0.006457602438628704, Accuracy: 0.03140203449800973\n"
     ]
    },
    {
     "name": "stderr",
     "output_type": "stream",
     "text": [
      "Epoch 4/15: 100%|████████████████████████████████████████████████████████████████████| 572/572 [01:11<00:00,  7.97it/s]\n",
      "100%|████████████████████████████████████████████████████████████████████████████████| 566/566 [00:25<00:00, 22.16it/s]\n"
     ]
    },
    {
     "name": "stdout",
     "output_type": "stream",
     "text": [
      "Saving model...\n",
      "Epoch 4/15, Loss: 3.8080007064587487, Validation loss: 2157.559257507324, Min loss: 2157.559257507324, F1 Score: 0.02108502289287286, Accuracy: 0.05395842547545334\n"
     ]
    },
    {
     "name": "stderr",
     "output_type": "stream",
     "text": [
      "Epoch 5/15: 100%|████████████████████████████████████████████████████████████████████| 572/572 [01:09<00:00,  8.19it/s]\n",
      "100%|████████████████████████████████████████████████████████████████████████████████| 566/566 [00:25<00:00, 22.61it/s]\n"
     ]
    },
    {
     "name": "stdout",
     "output_type": "stream",
     "text": [
      "Saving model...\n",
      "Epoch 5/15, Loss: 3.795495257921807, Validation loss: 2156.07745552063, Min loss: 2156.07745552063, F1 Score: 0.023776984769742552, Accuracy: 0.04732419283502875\n"
     ]
    },
    {
     "name": "stderr",
     "output_type": "stream",
     "text": [
      "Epoch 6/15: 100%|████████████████████████████████████████████████████████████████████| 572/572 [01:09<00:00,  8.25it/s]\n",
      "100%|████████████████████████████████████████████████████████████████████████████████| 566/566 [00:24<00:00, 22.65it/s]\n"
     ]
    },
    {
     "name": "stdout",
     "output_type": "stream",
     "text": [
      "Saving model...\n",
      "Epoch 6/15, Loss: 3.7720675344387935, Validation loss: 2131.4107456207275, Min loss: 2131.4107456207275, F1 Score: 0.033658342161757206, Accuracy: 0.06147722246793454\n"
     ]
    },
    {
     "name": "stderr",
     "output_type": "stream",
     "text": [
      "Epoch 7/15: 100%|████████████████████████████████████████████████████████████████████| 572/572 [01:09<00:00,  8.24it/s]\n",
      "100%|████████████████████████████████████████████████████████████████████████████████| 566/566 [00:25<00:00, 22.59it/s]\n"
     ]
    },
    {
     "name": "stdout",
     "output_type": "stream",
     "text": [
      "Epoch 7/15, Loss: 3.718949151549946, Validation loss: 2148.5587124824524, Min loss: 2131.4107456207275, F1 Score: 0.03259913179042972, Accuracy: 0.06191950464396285\n"
     ]
    },
    {
     "name": "stderr",
     "output_type": "stream",
     "text": [
      "Epoch 8/15: 100%|████████████████████████████████████████████████████████████████████| 572/572 [01:10<00:00,  8.17it/s]\n",
      "100%|████████████████████████████████████████████████████████████████████████████████| 566/566 [00:25<00:00, 22.18it/s]\n"
     ]
    },
    {
     "name": "stdout",
     "output_type": "stream",
     "text": [
      "Epoch 8/15, Loss: 3.7176642073884403, Validation loss: 2164.9974088668823, Min loss: 2131.4107456207275, F1 Score: 0.031097440577675228, Accuracy: 0.058823529411764705\n"
     ]
    },
    {
     "name": "stderr",
     "output_type": "stream",
     "text": [
      "Epoch 9/15: 100%|████████████████████████████████████████████████████████████████████| 572/572 [01:10<00:00,  8.08it/s]\n",
      "100%|████████████████████████████████████████████████████████████████████████████████| 566/566 [00:26<00:00, 21.71it/s]\n"
     ]
    },
    {
     "name": "stdout",
     "output_type": "stream",
     "text": [
      "Epoch 9/15, Loss: 3.684906516577617, Validation loss: 2150.637808084488, Min loss: 2131.4107456207275, F1 Score: 0.0322698892183484, Accuracy: 0.053516143299425036\n"
     ]
    },
    {
     "name": "stderr",
     "output_type": "stream",
     "text": [
      "Epoch 10/15: 100%|███████████████████████████████████████████████████████████████████| 572/572 [01:11<00:00,  8.04it/s]\n",
      "100%|████████████████████████████████████████████████████████████████████████████████| 566/566 [00:25<00:00, 22.16it/s]\n"
     ]
    },
    {
     "name": "stdout",
     "output_type": "stream",
     "text": [
      "Saving model...\n",
      "Epoch 10/15, Loss: 3.6636871883949444, Validation loss: 2127.4335103034973, Min loss: 2127.4335103034973, F1 Score: 0.03887333875804919, Accuracy: 0.06722689075630252\n"
     ]
    },
    {
     "name": "stderr",
     "output_type": "stream",
     "text": [
      "Epoch 11/15: 100%|███████████████████████████████████████████████████████████████████| 572/572 [01:10<00:00,  8.14it/s]\n",
      "100%|████████████████████████████████████████████████████████████████████████████████| 566/566 [00:25<00:00, 21.95it/s]\n"
     ]
    },
    {
     "name": "stdout",
     "output_type": "stream",
     "text": [
      "Epoch 11/15, Loss: 3.620631932691033, Validation loss: 2149.247407436371, Min loss: 2127.4335103034973, F1 Score: 0.037345809826564255, Accuracy: 0.0654577620521893\n"
     ]
    },
    {
     "name": "stderr",
     "output_type": "stream",
     "text": [
      "Epoch 12/15: 100%|███████████████████████████████████████████████████████████████████| 572/572 [01:10<00:00,  8.08it/s]\n",
      "100%|████████████████████████████████████████████████████████████████████████████████| 566/566 [00:25<00:00, 22.34it/s]\n"
     ]
    },
    {
     "name": "stdout",
     "output_type": "stream",
     "text": [
      "Epoch 12/15, Loss: 3.616267190210987, Validation loss: 2137.5097422599792, Min loss: 2127.4335103034973, F1 Score: 0.04091486489101552, Accuracy: 0.06015037593984962\n"
     ]
    },
    {
     "name": "stderr",
     "output_type": "stream",
     "text": [
      "Epoch 13/15: 100%|███████████████████████████████████████████████████████████████████| 572/572 [01:09<00:00,  8.26it/s]\n",
      "100%|████████████████████████████████████████████████████████████████████████████████| 566/566 [00:25<00:00, 22.60it/s]\n"
     ]
    },
    {
     "name": "stdout",
     "output_type": "stream",
     "text": [
      "Epoch 13/15, Loss: 3.575173453467352, Validation loss: 2189.4638671875, Min loss: 2127.4335103034973, F1 Score: 0.03665543659915998, Accuracy: 0.05926581158779301\n"
     ]
    },
    {
     "name": "stderr",
     "output_type": "stream",
     "text": [
      "Epoch 14/15: 100%|███████████████████████████████████████████████████████████████████| 572/572 [01:09<00:00,  8.25it/s]\n",
      "100%|████████████████████████████████████████████████████████████████████████████████| 566/566 [00:24<00:00, 22.65it/s]\n"
     ]
    },
    {
     "name": "stdout",
     "output_type": "stream",
     "text": [
      "Saving model...\n",
      "Epoch 14/15, Loss: 3.5659277318188027, Validation loss: 2126.0163612365723, Min loss: 2126.0163612365723, F1 Score: 0.05028591521805394, Accuracy: 0.0725342768686422\n"
     ]
    },
    {
     "name": "stderr",
     "output_type": "stream",
     "text": [
      "Epoch 15/15: 100%|███████████████████████████████████████████████████████████████████| 572/572 [01:09<00:00,  8.23it/s]\n",
      "100%|████████████████████████████████████████████████████████████████████████████████| 566/566 [00:25<00:00, 22.53it/s]\n"
     ]
    },
    {
     "name": "stdout",
     "output_type": "stream",
     "text": [
      "Epoch 15/15, Loss: 3.540830683489267, Validation loss: 2144.4493782520294, Min loss: 2126.0163612365723, F1 Score: 0.046026678510417814, Accuracy: 0.0659000442282176\n"
     ]
    },
    {
     "name": "stderr",
     "output_type": "stream",
     "text": [
      "100%|████████████████████████████████████████████████████████████████████████████████| 566/566 [00:25<00:00, 22.59it/s]\n",
      "[I 2024-01-20 23:21:22,596] Trial 14 finished with value: 0.0659000442282176 and parameters: {'image_size': 224, 'patch_size': 16, 'dim': 847, 'depth': 7, 'heads': 15, 'dropout': 0.17412278405799006}. Best is trial 14 with value: 0.0659000442282176.\n",
      "Epoch 1/15: 100%|████████████████████████████████████████████████████████████████████| 572/572 [01:02<00:00,  9.16it/s]\n",
      "100%|████████████████████████████████████████████████████████████████████████████████| 566/566 [00:23<00:00, 23.82it/s]\n"
     ]
    },
    {
     "name": "stdout",
     "output_type": "stream",
     "text": [
      "Saving model...\n",
      "Epoch 1/15, Loss: 4.883862907520589, Validation loss: 2723.9610619544983, Min loss: 2723.9610619544983, F1 Score: 0.0008145580589254766, Accuracy: 0.020787262273330383\n"
     ]
    },
    {
     "name": "stderr",
     "output_type": "stream",
     "text": [
      "Epoch 2/15: 100%|████████████████████████████████████████████████████████████████████| 572/572 [01:02<00:00,  9.18it/s]\n",
      "100%|████████████████████████████████████████████████████████████████████████████████| 566/566 [00:23<00:00, 23.77it/s]\n"
     ]
    },
    {
     "name": "stdout",
     "output_type": "stream",
     "text": [
      "Saving model...\n",
      "Epoch 2/15, Loss: 4.1446486142821115, Validation loss: 2189.2280519008636, Min loss: 2189.2280519008636, F1 Score: 0.006258272520839554, Accuracy: 0.03228659885006634\n"
     ]
    },
    {
     "name": "stderr",
     "output_type": "stream",
     "text": [
      "Epoch 3/15: 100%|████████████████████████████████████████████████████████████████████| 572/572 [01:02<00:00,  9.16it/s]\n",
      "100%|████████████████████████████████████████████████████████████████████████████████| 566/566 [00:23<00:00, 23.65it/s]\n"
     ]
    },
    {
     "name": "stdout",
     "output_type": "stream",
     "text": [
      "Saving model...\n",
      "Epoch 3/15, Loss: 3.852947506468839, Validation loss: 2168.0232994556427, Min loss: 2168.0232994556427, F1 Score: 0.013408608236425265, Accuracy: 0.039805395842547546\n"
     ]
    },
    {
     "name": "stderr",
     "output_type": "stream",
     "text": [
      "Epoch 4/15: 100%|████████████████████████████████████████████████████████████████████| 572/572 [01:02<00:00,  9.17it/s]\n",
      "100%|████████████████████████████████████████████████████████████████████████████████| 566/566 [00:23<00:00, 23.84it/s]\n"
     ]
    },
    {
     "name": "stdout",
     "output_type": "stream",
     "text": [
      "Saving model...\n",
      "Epoch 4/15, Loss: 3.799114750314603, Validation loss: 2147.8358771800995, Min loss: 2147.8358771800995, F1 Score: 0.010451052019227183, Accuracy: 0.044228217602830605\n"
     ]
    },
    {
     "name": "stderr",
     "output_type": "stream",
     "text": [
      "Epoch 5/15: 100%|████████████████████████████████████████████████████████████████████| 572/572 [01:02<00:00,  9.19it/s]\n",
      "100%|████████████████████████████████████████████████████████████████████████████████| 566/566 [00:23<00:00, 24.08it/s]\n"
     ]
    },
    {
     "name": "stdout",
     "output_type": "stream",
     "text": [
      "Epoch 5/15, Loss: 3.8003210992233485, Validation loss: 2153.385700941086, Min loss: 2147.8358771800995, F1 Score: 0.016616682098445815, Accuracy: 0.04467049977885891\n"
     ]
    },
    {
     "name": "stderr",
     "output_type": "stream",
     "text": [
      "Epoch 6/15: 100%|████████████████████████████████████████████████████████████████████| 572/572 [01:02<00:00,  9.21it/s]\n",
      "100%|████████████████████████████████████████████████████████████████████████████████| 566/566 [00:23<00:00, 24.11it/s]\n"
     ]
    },
    {
     "name": "stdout",
     "output_type": "stream",
     "text": [
      "Epoch 6/15, Loss: 3.772719701721932, Validation loss: 2162.063755750656, Min loss: 2147.8358771800995, F1 Score: 0.016836839537245688, Accuracy: 0.03361344537815126\n"
     ]
    },
    {
     "name": "stderr",
     "output_type": "stream",
     "text": [
      "Epoch 7/15: 100%|████████████████████████████████████████████████████████████████████| 572/572 [01:02<00:00,  9.21it/s]\n",
      "100%|████████████████████████████████████████████████████████████████████████████████| 566/566 [00:23<00:00, 24.02it/s]\n"
     ]
    },
    {
     "name": "stdout",
     "output_type": "stream",
     "text": [
      "Epoch 7/15, Loss: 3.7264478515213004, Validation loss: 2187.2774455547333, Min loss: 2147.8358771800995, F1 Score: 0.011675001880292009, Accuracy: 0.03494029190623618\n"
     ]
    },
    {
     "name": "stderr",
     "output_type": "stream",
     "text": [
      "Epoch 8/15: 100%|████████████████████████████████████████████████████████████████████| 572/572 [01:02<00:00,  9.21it/s]\n",
      "100%|████████████████████████████████████████████████████████████████████████████████| 566/566 [00:23<00:00, 24.07it/s]\n"
     ]
    },
    {
     "name": "stdout",
     "output_type": "stream",
     "text": [
      "Epoch 8/15, Loss: 3.707651927370039, Validation loss: 2182.1489095687866, Min loss: 2147.8358771800995, F1 Score: 0.01932659127829612, Accuracy: 0.0437859354268023\n"
     ]
    },
    {
     "name": "stderr",
     "output_type": "stream",
     "text": [
      "Epoch 9/15: 100%|████████████████████████████████████████████████████████████████████| 572/572 [01:02<00:00,  9.21it/s]\n",
      "100%|████████████████████████████████████████████████████████████████████████████████| 566/566 [00:23<00:00, 24.03it/s]\n"
     ]
    },
    {
     "name": "stdout",
     "output_type": "stream",
     "text": [
      "Epoch 9/15, Loss: 3.6850125201675223, Validation loss: 2199.341152906418, Min loss: 2147.8358771800995, F1 Score: 0.017537373483603926, Accuracy: 0.045112781954887216\n"
     ]
    },
    {
     "name": "stderr",
     "output_type": "stream",
     "text": [
      "Epoch 10/15: 100%|███████████████████████████████████████████████████████████████████| 572/572 [01:02<00:00,  9.19it/s]\n",
      "100%|████████████████████████████████████████████████████████████████████████████████| 566/566 [00:23<00:00, 23.96it/s]\n"
     ]
    },
    {
     "name": "stdout",
     "output_type": "stream",
     "text": [
      "Epoch 10/15, Loss: 3.6704507028373716, Validation loss: 2159.3623304367065, Min loss: 2147.8358771800995, F1 Score: 0.02347441453227866, Accuracy: 0.047766475011057054\n"
     ]
    },
    {
     "name": "stderr",
     "output_type": "stream",
     "text": [
      "Epoch 11/15: 100%|███████████████████████████████████████████████████████████████████| 572/572 [01:02<00:00,  9.21it/s]\n",
      "100%|████████████████████████████████████████████████████████████████████████████████| 566/566 [00:23<00:00, 24.01it/s]\n"
     ]
    },
    {
     "name": "stdout",
     "output_type": "stream",
     "text": [
      "Epoch 11/15, Loss: 3.6503368499865947, Validation loss: 2220.518639564514, Min loss: 2147.8358771800995, F1 Score: 0.0201093322443761, Accuracy: 0.043343653250773995\n"
     ]
    },
    {
     "name": "stderr",
     "output_type": "stream",
     "text": [
      "Epoch 12/15: 100%|███████████████████████████████████████████████████████████████████| 572/572 [01:02<00:00,  9.19it/s]\n",
      "100%|████████████████████████████████████████████████████████████████████████████████| 566/566 [00:23<00:00, 24.04it/s]\n"
     ]
    },
    {
     "name": "stdout",
     "output_type": "stream",
     "text": [
      "Epoch 12/15, Loss: 3.634220253081628, Validation loss: 2199.135636806488, Min loss: 2147.8358771800995, F1 Score: 0.022144543717282316, Accuracy: 0.0362671384343211\n"
     ]
    },
    {
     "name": "stderr",
     "output_type": "stream",
     "text": [
      "Epoch 13/15: 100%|███████████████████████████████████████████████████████████████████| 572/572 [01:02<00:00,  9.21it/s]\n",
      "100%|████████████████████████████████████████████████████████████████████████████████| 566/566 [00:23<00:00, 23.94it/s]\n"
     ]
    },
    {
     "name": "stdout",
     "output_type": "stream",
     "text": [
      "Epoch 13/15, Loss: 3.5863444658153485, Validation loss: 2223.237541437149, Min loss: 2147.8358771800995, F1 Score: 0.02477474310020459, Accuracy: 0.04555506413091552\n"
     ]
    },
    {
     "name": "stderr",
     "output_type": "stream",
     "text": [
      "Epoch 14/15: 100%|███████████████████████████████████████████████████████████████████| 572/572 [01:02<00:00,  9.19it/s]\n",
      "100%|████████████████████████████████████████████████████████████████████████████████| 566/566 [00:23<00:00, 23.92it/s]\n"
     ]
    },
    {
     "name": "stdout",
     "output_type": "stream",
     "text": [
      "Epoch 14/15, Loss: 3.6028847115812312, Validation loss: 2230.589846611023, Min loss: 2147.8358771800995, F1 Score: 0.02644107517518471, Accuracy: 0.04024767801857585\n"
     ]
    },
    {
     "name": "stderr",
     "output_type": "stream",
     "text": [
      "Epoch 15/15: 100%|███████████████████████████████████████████████████████████████████| 572/572 [01:02<00:00,  9.19it/s]\n",
      "100%|████████████████████████████████████████████████████████████████████████████████| 566/566 [00:23<00:00, 23.92it/s]\n"
     ]
    },
    {
     "name": "stdout",
     "output_type": "stream",
     "text": [
      "Epoch 15/15, Loss: 3.5488969159011607, Validation loss: 2196.840923666954, Min loss: 2147.8358771800995, F1 Score: 0.02246717232570956, Accuracy: 0.05263157894736842\n"
     ]
    },
    {
     "name": "stderr",
     "output_type": "stream",
     "text": [
      "100%|████████████████████████████████████████████████████████████████████████████████| 566/566 [00:23<00:00, 23.92it/s]\n",
      "[I 2024-01-20 23:43:15,139] Trial 15 finished with value: 0.05263157894736842 and parameters: {'image_size': 224, 'patch_size': 16, 'dim': 829, 'depth': 7, 'heads': 12, 'dropout': 0.16839154395217265}. Best is trial 14 with value: 0.0659000442282176.\n",
      "Epoch 1/15: 100%|████████████████████████████████████████████████████████████████████| 572/572 [01:04<00:00,  8.80it/s]\n",
      "100%|████████████████████████████████████████████████████████████████████████████████| 566/566 [00:23<00:00, 23.73it/s]\n"
     ]
    },
    {
     "name": "stdout",
     "output_type": "stream",
     "text": [
      "Saving model...\n",
      "Epoch 1/15, Loss: 4.827915621158281, Validation loss: 2682.1206500530243, Min loss: 2682.1206500530243, F1 Score: 0.0007635574837310196, Accuracy: 0.019460415745245468\n"
     ]
    },
    {
     "name": "stderr",
     "output_type": "stream",
     "text": [
      "Epoch 2/15: 100%|████████████████████████████████████████████████████████████████████| 572/572 [01:05<00:00,  8.80it/s]\n",
      "100%|████████████████████████████████████████████████████████████████████████████████| 566/566 [00:23<00:00, 23.72it/s]\n"
     ]
    },
    {
     "name": "stdout",
     "output_type": "stream",
     "text": [
      "Saving model...\n",
      "Epoch 2/15, Loss: 4.211387869672688, Validation loss: 2227.512981414795, Min loss: 2227.512981414795, F1 Score: 0.0052839524196923015, Accuracy: 0.022998673153471916\n"
     ]
    },
    {
     "name": "stderr",
     "output_type": "stream",
     "text": [
      "Epoch 3/15: 100%|████████████████████████████████████████████████████████████████████| 572/572 [01:05<00:00,  8.78it/s]\n",
      "100%|████████████████████████████████████████████████████████████████████████████████| 566/566 [00:23<00:00, 23.70it/s]\n"
     ]
    },
    {
     "name": "stdout",
     "output_type": "stream",
     "text": [
      "Saving model...\n",
      "Epoch 3/15, Loss: 3.928514082357776, Validation loss: 2222.640900373459, Min loss: 2222.640900373459, F1 Score: 0.004558376441234197, Accuracy: 0.03449800973020787\n"
     ]
    },
    {
     "name": "stderr",
     "output_type": "stream",
     "text": [
      "Epoch 4/15: 100%|████████████████████████████████████████████████████████████████████| 572/572 [01:04<00:00,  8.80it/s]\n",
      "100%|████████████████████████████████████████████████████████████████████████████████| 566/566 [00:23<00:00, 23.79it/s]\n"
     ]
    },
    {
     "name": "stdout",
     "output_type": "stream",
     "text": [
      "Saving model...\n",
      "Epoch 4/15, Loss: 3.91360347689006, Validation loss: 2215.0683166980743, Min loss: 2215.0683166980743, F1 Score: 0.005578778442743721, Accuracy: 0.02476780185758514\n"
     ]
    },
    {
     "name": "stderr",
     "output_type": "stream",
     "text": [
      "Epoch 5/15: 100%|████████████████████████████████████████████████████████████████████| 572/572 [01:04<00:00,  8.81it/s]\n",
      "100%|████████████████████████████████████████████████████████████████████████████████| 566/566 [00:23<00:00, 23.71it/s]\n"
     ]
    },
    {
     "name": "stdout",
     "output_type": "stream",
     "text": [
      "Saving model...\n",
      "Epoch 5/15, Loss: 3.910851749833828, Validation loss: 2204.3503677845, Min loss: 2204.3503677845, F1 Score: 0.009326593048818943, Accuracy: 0.03538257408226449\n"
     ]
    },
    {
     "name": "stderr",
     "output_type": "stream",
     "text": [
      "Epoch 6/15: 100%|████████████████████████████████████████████████████████████████████| 572/572 [01:04<00:00,  8.81it/s]\n",
      "100%|████████████████████████████████████████████████████████████████████████████████| 566/566 [00:23<00:00, 23.80it/s]\n"
     ]
    },
    {
     "name": "stdout",
     "output_type": "stream",
     "text": [
      "Saving model...\n",
      "Epoch 6/15, Loss: 3.883702861725841, Validation loss: 2198.22349357605, Min loss: 2198.22349357605, F1 Score: 0.00637400586510264, Accuracy: 0.04201680672268908\n"
     ]
    },
    {
     "name": "stderr",
     "output_type": "stream",
     "text": [
      "Epoch 7/15: 100%|████████████████████████████████████████████████████████████████████| 572/572 [01:04<00:00,  8.81it/s]\n",
      "100%|████████████████████████████████████████████████████████████████████████████████| 566/566 [00:23<00:00, 23.76it/s]\n"
     ]
    },
    {
     "name": "stdout",
     "output_type": "stream",
     "text": [
      "Saving model...\n",
      "Epoch 7/15, Loss: 3.8881845325166395, Validation loss: 2177.8967010974884, Min loss: 2177.8967010974884, F1 Score: 0.011259663418305805, Accuracy: 0.03759398496240601\n"
     ]
    },
    {
     "name": "stderr",
     "output_type": "stream",
     "text": [
      "Epoch 8/15: 100%|████████████████████████████████████████████████████████████████████| 572/572 [01:05<00:00,  8.79it/s]\n",
      "100%|████████████████████████████████████████████████████████████████████████████████| 566/566 [00:23<00:00, 23.63it/s]\n"
     ]
    },
    {
     "name": "stdout",
     "output_type": "stream",
     "text": [
      "Saving model...\n",
      "Epoch 8/15, Loss: 3.858342839997045, Validation loss: 2171.880318880081, Min loss: 2171.880318880081, F1 Score: 0.01570540246955797, Accuracy: 0.043343653250773995\n"
     ]
    },
    {
     "name": "stderr",
     "output_type": "stream",
     "text": [
      "Epoch 9/15: 100%|████████████████████████████████████████████████████████████████████| 572/572 [01:05<00:00,  8.78it/s]\n",
      "100%|████████████████████████████████████████████████████████████████████████████████| 566/566 [00:24<00:00, 23.56it/s]\n"
     ]
    },
    {
     "name": "stdout",
     "output_type": "stream",
     "text": [
      "Saving model...\n",
      "Epoch 9/15, Loss: 3.8258846568185585, Validation loss: 2170.2451133728027, Min loss: 2170.2451133728027, F1 Score: 0.01561052206012143, Accuracy: 0.0362671384343211\n"
     ]
    },
    {
     "name": "stderr",
     "output_type": "stream",
     "text": [
      "Epoch 10/15: 100%|███████████████████████████████████████████████████████████████████| 572/572 [01:05<00:00,  8.76it/s]\n",
      "100%|████████████████████████████████████████████████████████████████████████████████| 566/566 [00:24<00:00, 23.46it/s]\n"
     ]
    },
    {
     "name": "stdout",
     "output_type": "stream",
     "text": [
      "Saving model...\n",
      "Epoch 10/15, Loss: 3.8374300040581573, Validation loss: 2170.1412041187286, Min loss: 2170.1412041187286, F1 Score: 0.014994699046756464, Accuracy: 0.04024767801857585\n"
     ]
    },
    {
     "name": "stderr",
     "output_type": "stream",
     "text": [
      "Epoch 11/15: 100%|███████████████████████████████████████████████████████████████████| 572/572 [01:05<00:00,  8.67it/s]\n",
      "100%|████████████████████████████████████████████████████████████████████████████████| 566/566 [00:24<00:00, 22.70it/s]\n"
     ]
    },
    {
     "name": "stdout",
     "output_type": "stream",
     "text": [
      "Saving model...\n",
      "Epoch 11/15, Loss: 3.8066109889555455, Validation loss: 2166.87952208519, Min loss: 2166.87952208519, F1 Score: 0.008861028672629744, Accuracy: 0.039805395842547546\n"
     ]
    },
    {
     "name": "stderr",
     "output_type": "stream",
     "text": [
      "Epoch 12/15: 100%|███████████████████████████████████████████████████████████████████| 572/572 [01:05<00:00,  8.75it/s]\n",
      "100%|████████████████████████████████████████████████████████████████████████████████| 566/566 [00:24<00:00, 23.50it/s]\n"
     ]
    },
    {
     "name": "stdout",
     "output_type": "stream",
     "text": [
      "Epoch 12/15, Loss: 3.793405027852394, Validation loss: 2173.5026230812073, Min loss: 2166.87952208519, F1 Score: 0.010689407314561862, Accuracy: 0.03759398496240601\n"
     ]
    },
    {
     "name": "stderr",
     "output_type": "stream",
     "text": [
      "Epoch 13/15: 100%|███████████████████████████████████████████████████████████████████| 572/572 [01:05<00:00,  8.76it/s]\n",
      "100%|████████████████████████████████████████████████████████████████████████████████| 566/566 [00:23<00:00, 23.59it/s]\n"
     ]
    },
    {
     "name": "stdout",
     "output_type": "stream",
     "text": [
      "Epoch 13/15, Loss: 3.800755274572068, Validation loss: 2189.6201028823853, Min loss: 2166.87952208519, F1 Score: 0.012754632077280021, Accuracy: 0.03803626713843432\n"
     ]
    },
    {
     "name": "stderr",
     "output_type": "stream",
     "text": [
      "Epoch 14/15: 100%|███████████████████████████████████████████████████████████████████| 572/572 [01:05<00:00,  8.76it/s]\n",
      "100%|████████████████████████████████████████████████████████████████████████████████| 566/566 [00:24<00:00, 23.53it/s]\n"
     ]
    },
    {
     "name": "stdout",
     "output_type": "stream",
     "text": [
      "Saving model...\n",
      "Epoch 14/15, Loss: 3.8214736704123715, Validation loss: 2159.248673915863, Min loss: 2159.248673915863, F1 Score: 0.015905648858196432, Accuracy: 0.04024767801857585\n"
     ]
    },
    {
     "name": "stderr",
     "output_type": "stream",
     "text": [
      "Epoch 15/15: 100%|███████████████████████████████████████████████████████████████████| 572/572 [01:05<00:00,  8.76it/s]\n",
      "100%|████████████████████████████████████████████████████████████████████████████████| 566/566 [00:24<00:00, 23.33it/s]\n"
     ]
    },
    {
     "name": "stdout",
     "output_type": "stream",
     "text": [
      "Epoch 15/15, Loss: 3.767785271234683, Validation loss: 2162.8106780052185, Min loss: 2159.248673915863, F1 Score: 0.016510083905490455, Accuracy: 0.040689960194604156\n"
     ]
    },
    {
     "name": "stderr",
     "output_type": "stream",
     "text": [
      "100%|████████████████████████████████████████████████████████████████████████████████| 566/566 [00:24<00:00, 23.48it/s]\n",
      "[I 2024-01-21 00:05:59,194] Trial 16 finished with value: 0.040689960194604156 and parameters: {'image_size': 224, 'patch_size': 16, 'dim': 808, 'depth': 7, 'heads': 14, 'dropout': 0.12680100266685496}. Best is trial 14 with value: 0.0659000442282176.\n",
      "Epoch 1/15: 100%|████████████████████████████████████████████████████████████████████| 572/572 [01:17<00:00,  7.38it/s]\n",
      "100%|████████████████████████████████████████████████████████████████████████████████| 566/566 [00:26<00:00, 21.13it/s]\n"
     ]
    },
    {
     "name": "stdout",
     "output_type": "stream",
     "text": [
      "Saving model...\n",
      "Epoch 1/15, Loss: 4.803150048358085, Validation loss: 2553.1617567539215, Min loss: 2553.1617567539215, F1 Score: 0.002515289064597213, Accuracy: 0.021229544449358692\n"
     ]
    },
    {
     "name": "stderr",
     "output_type": "stream",
     "text": [
      "Epoch 2/15: 100%|████████████████████████████████████████████████████████████████████| 572/572 [01:17<00:00,  7.39it/s]\n",
      "100%|████████████████████████████████████████████████████████████████████████████████| 566/566 [00:26<00:00, 21.14it/s]\n"
     ]
    },
    {
     "name": "stdout",
     "output_type": "stream",
     "text": [
      "Saving model...\n",
      "Epoch 2/15, Loss: 4.1548578111584344, Validation loss: 2192.7300465106964, Min loss: 2192.7300465106964, F1 Score: 0.003323715238301098, Accuracy: 0.024325519681556832\n"
     ]
    },
    {
     "name": "stderr",
     "output_type": "stream",
     "text": [
      "Epoch 3/15: 100%|████████████████████████████████████████████████████████████████████| 572/572 [01:17<00:00,  7.38it/s]\n",
      "100%|████████████████████████████████████████████████████████████████████████████████| 566/566 [00:26<00:00, 21.04it/s]\n"
     ]
    },
    {
     "name": "stdout",
     "output_type": "stream",
     "text": [
      "Saving model...\n",
      "Epoch 3/15, Loss: 3.8571452973553018, Validation loss: 2157.3727629184723, Min loss: 2157.3727629184723, F1 Score: 0.012984380541138103, Accuracy: 0.04157452454666077\n"
     ]
    },
    {
     "name": "stderr",
     "output_type": "stream",
     "text": [
      "Epoch 4/15: 100%|████████████████████████████████████████████████████████████████████| 572/572 [01:17<00:00,  7.41it/s]\n",
      "100%|████████████████████████████████████████████████████████████████████████████████| 566/566 [00:26<00:00, 21.27it/s]\n"
     ]
    },
    {
     "name": "stdout",
     "output_type": "stream",
     "text": [
      "Saving model...\n",
      "Epoch 4/15, Loss: 3.8233793884789415, Validation loss: 2154.047221660614, Min loss: 2154.047221660614, F1 Score: 0.012218118347185678, Accuracy: 0.04732419283502875\n"
     ]
    },
    {
     "name": "stderr",
     "output_type": "stream",
     "text": [
      "Epoch 5/15: 100%|████████████████████████████████████████████████████████████████████| 572/572 [01:17<00:00,  7.41it/s]\n",
      "100%|████████████████████████████████████████████████████████████████████████████████| 566/566 [00:26<00:00, 21.33it/s]\n"
     ]
    },
    {
     "name": "stdout",
     "output_type": "stream",
     "text": [
      "Epoch 5/15, Loss: 3.801362955888182, Validation loss: 2155.742316007614, Min loss: 2154.047221660614, F1 Score: 0.013606936394277265, Accuracy: 0.0437859354268023\n"
     ]
    },
    {
     "name": "stderr",
     "output_type": "stream",
     "text": [
      "Epoch 6/15: 100%|████████████████████████████████████████████████████████████████████| 572/572 [01:17<00:00,  7.41it/s]\n",
      "100%|████████████████████████████████████████████████████████████████████████████████| 566/566 [00:26<00:00, 21.18it/s]\n"
     ]
    },
    {
     "name": "stdout",
     "output_type": "stream",
     "text": [
      "Epoch 6/15, Loss: 3.7910102569853628, Validation loss: 2158.1414291858673, Min loss: 2154.047221660614, F1 Score: 0.014078370664446546, Accuracy: 0.03847854931446263\n"
     ]
    },
    {
     "name": "stderr",
     "output_type": "stream",
     "text": [
      "Epoch 7/15: 100%|████████████████████████████████████████████████████████████████████| 572/572 [01:17<00:00,  7.42it/s]\n",
      "100%|████████████████████████████████████████████████████████████████████████████████| 566/566 [00:26<00:00, 21.26it/s]\n"
     ]
    },
    {
     "name": "stdout",
     "output_type": "stream",
     "text": [
      "Saving model...\n",
      "Epoch 7/15, Loss: 3.7736006138571807, Validation loss: 2146.939223766327, Min loss: 2146.939223766327, F1 Score: 0.02110701610517832, Accuracy: 0.04820875718708536\n"
     ]
    },
    {
     "name": "stderr",
     "output_type": "stream",
     "text": [
      "Epoch 8/15: 100%|████████████████████████████████████████████████████████████████████| 572/572 [01:17<00:00,  7.40it/s]\n",
      "100%|████████████████████████████████████████████████████████████████████████████████| 566/566 [00:26<00:00, 21.22it/s]\n"
     ]
    },
    {
     "name": "stdout",
     "output_type": "stream",
     "text": [
      "Epoch 8/15, Loss: 3.7429982802729236, Validation loss: 2155.6828565597534, Min loss: 2146.939223766327, F1 Score: 0.01900295696738128, Accuracy: 0.04555506413091552\n"
     ]
    },
    {
     "name": "stderr",
     "output_type": "stream",
     "text": [
      "Epoch 9/15: 100%|████████████████████████████████████████████████████████████████████| 572/572 [01:17<00:00,  7.41it/s]\n",
      "100%|████████████████████████████████████████████████████████████████████████████████| 566/566 [00:26<00:00, 21.20it/s]\n"
     ]
    },
    {
     "name": "stdout",
     "output_type": "stream",
     "text": [
      "Epoch 9/15, Loss: 3.7510421521078827, Validation loss: 2150.458992958069, Min loss: 2146.939223766327, F1 Score: 0.019621088929419148, Accuracy: 0.04909332153914197\n"
     ]
    },
    {
     "name": "stderr",
     "output_type": "stream",
     "text": [
      "Epoch 10/15: 100%|███████████████████████████████████████████████████████████████████| 572/572 [01:17<00:00,  7.41it/s]\n",
      "100%|████████████████████████████████████████████████████████████████████████████████| 566/566 [00:26<00:00, 21.17it/s]\n"
     ]
    },
    {
     "name": "stdout",
     "output_type": "stream",
     "text": [
      "Saving model...\n",
      "Epoch 10/15, Loss: 3.734247239124947, Validation loss: 2133.086266517639, Min loss: 2133.086266517639, F1 Score: 0.019494037830708924, Accuracy: 0.04467049977885891\n"
     ]
    },
    {
     "name": "stderr",
     "output_type": "stream",
     "text": [
      "Epoch 11/15: 100%|███████████████████████████████████████████████████████████████████| 572/572 [01:17<00:00,  7.39it/s]\n",
      "100%|████████████████████████████████████████████████████████████████████████████████| 566/566 [00:26<00:00, 21.12it/s]\n"
     ]
    },
    {
     "name": "stdout",
     "output_type": "stream",
     "text": [
      "Saving model...\n",
      "Epoch 11/15, Loss: 3.7096330678562017, Validation loss: 2125.2979387044907, Min loss: 2125.2979387044907, F1 Score: 0.01775252975216788, Accuracy: 0.0513047324192835\n"
     ]
    },
    {
     "name": "stderr",
     "output_type": "stream",
     "text": [
      "Epoch 12/15: 100%|███████████████████████████████████████████████████████████████████| 572/572 [01:17<00:00,  7.34it/s]\n",
      "100%|████████████████████████████████████████████████████████████████████████████████| 566/566 [00:26<00:00, 21.22it/s]\n"
     ]
    },
    {
     "name": "stdout",
     "output_type": "stream",
     "text": [
      "Epoch 12/15, Loss: 3.6994302275924116, Validation loss: 2132.98547911644, Min loss: 2125.2979387044907, F1 Score: 0.023645791359245435, Accuracy: 0.0513047324192835\n"
     ]
    },
    {
     "name": "stderr",
     "output_type": "stream",
     "text": [
      "Epoch 13/15: 100%|███████████████████████████████████████████████████████████████████| 572/572 [01:17<00:00,  7.40it/s]\n",
      "100%|████████████████████████████████████████████████████████████████████████████████| 566/566 [00:26<00:00, 21.21it/s]\n"
     ]
    },
    {
     "name": "stdout",
     "output_type": "stream",
     "text": [
      "Epoch 13/15, Loss: 3.6816791419540893, Validation loss: 2170.3450647592545, Min loss: 2125.2979387044907, F1 Score: 0.022814483797134136, Accuracy: 0.04113224237063246\n"
     ]
    },
    {
     "name": "stderr",
     "output_type": "stream",
     "text": [
      "Epoch 14/15: 100%|███████████████████████████████████████████████████████████████████| 572/572 [01:17<00:00,  7.41it/s]\n",
      "100%|████████████████████████████████████████████████████████████████████████████████| 566/566 [00:26<00:00, 21.15it/s]\n"
     ]
    },
    {
     "name": "stdout",
     "output_type": "stream",
     "text": [
      "Epoch 14/15, Loss: 3.665325598472792, Validation loss: 2135.2129385471344, Min loss: 2125.2979387044907, F1 Score: 0.02405737564082634, Accuracy: 0.055285272003538256\n"
     ]
    },
    {
     "name": "stderr",
     "output_type": "stream",
     "text": [
      "Epoch 15/15: 100%|███████████████████████████████████████████████████████████████████| 572/572 [01:17<00:00,  7.40it/s]\n",
      "100%|████████████████████████████████████████████████████████████████████████████████| 566/566 [00:26<00:00, 21.18it/s]\n"
     ]
    },
    {
     "name": "stdout",
     "output_type": "stream",
     "text": [
      "Epoch 15/15, Loss: 3.6490452865038474, Validation loss: 2141.736953020096, Min loss: 2125.2979387044907, F1 Score: 0.02015305176911302, Accuracy: 0.04820875718708536\n"
     ]
    },
    {
     "name": "stderr",
     "output_type": "stream",
     "text": [
      "100%|████████████████████████████████████████████████████████████████████████████████| 566/566 [00:26<00:00, 21.14it/s]\n",
      "[I 2024-01-21 00:32:27,910] Trial 17 finished with value: 0.04820875718708536 and parameters: {'image_size': 224, 'patch_size': 16, 'dim': 792, 'depth': 9, 'heads': 13, 'dropout': 0.10278841355108949}. Best is trial 14 with value: 0.0659000442282176.\n",
      "Epoch 1/15: 100%|████████████████████████████████████████████████████████████████████| 572/572 [01:12<00:00,  7.87it/s]\n",
      "100%|████████████████████████████████████████████████████████████████████████████████| 566/566 [00:25<00:00, 21.89it/s]\n"
     ]
    },
    {
     "name": "stdout",
     "output_type": "stream",
     "text": [
      "Saving model...\n",
      "Epoch 1/15, Loss: 4.896252396745769, Validation loss: 2815.472183704376, Min loss: 2815.472183704376, F1 Score: 0.0007635574837310196, Accuracy: 0.019460415745245468\n"
     ]
    },
    {
     "name": "stderr",
     "output_type": "stream",
     "text": [
      "Epoch 2/15: 100%|████████████████████████████████████████████████████████████████████| 572/572 [01:12<00:00,  7.87it/s]\n",
      "100%|████████████████████████████████████████████████████████████████████████████████| 566/566 [00:26<00:00, 21.73it/s]\n"
     ]
    },
    {
     "name": "stdout",
     "output_type": "stream",
     "text": [
      "Saving model...\n",
      "Epoch 2/15, Loss: 4.289799180987833, Validation loss: 2256.7952303886414, Min loss: 2256.7952303886414, F1 Score: 0.0007809110629067243, Accuracy: 0.019902697921273773\n"
     ]
    },
    {
     "name": "stderr",
     "output_type": "stream",
     "text": [
      "Epoch 3/15: 100%|████████████████████████████████████████████████████████████████████| 572/572 [01:12<00:00,  7.87it/s]\n",
      "100%|████████████████████████████████████████████████████████████████████████████████| 566/566 [00:26<00:00, 21.65it/s]\n"
     ]
    },
    {
     "name": "stdout",
     "output_type": "stream",
     "text": [
      "Saving model...\n",
      "Epoch 3/15, Loss: 3.9605291285888047, Validation loss: 2220.9031443595886, Min loss: 2220.9031443595886, F1 Score: 0.003263404056731016, Accuracy: 0.021671826625386997\n"
     ]
    },
    {
     "name": "stderr",
     "output_type": "stream",
     "text": [
      "Epoch 4/15: 100%|████████████████████████████████████████████████████████████████████| 572/572 [01:12<00:00,  7.87it/s]\n",
      "100%|████████████████████████████████████████████████████████████████████████████████| 566/566 [00:25<00:00, 21.94it/s]\n"
     ]
    },
    {
     "name": "stdout",
     "output_type": "stream",
     "text": [
      "Epoch 4/15, Loss: 3.9455235223348972, Validation loss: 2221.764805793762, Min loss: 2220.9031443595886, F1 Score: 0.002083358637694185, Accuracy: 0.026536930561698365\n"
     ]
    },
    {
     "name": "stderr",
     "output_type": "stream",
     "text": [
      "Epoch 5/15: 100%|████████████████████████████████████████████████████████████████████| 572/572 [01:12<00:00,  7.87it/s]\n",
      "100%|████████████████████████████████████████████████████████████████████████████████| 566/566 [00:25<00:00, 21.88it/s]\n"
     ]
    },
    {
     "name": "stdout",
     "output_type": "stream",
     "text": [
      "Epoch 5/15, Loss: 3.9398272843354647, Validation loss: 2222.9857189655304, Min loss: 2220.9031443595886, F1 Score: 0.002404560959207043, Accuracy: 0.020344980097302078\n"
     ]
    },
    {
     "name": "stderr",
     "output_type": "stream",
     "text": [
      "Epoch 6/15: 100%|████████████████████████████████████████████████████████████████████| 572/572 [01:12<00:00,  7.85it/s]\n",
      "100%|████████████████████████████████████████████████████████████████████████████████| 566/566 [00:26<00:00, 21.36it/s]\n"
     ]
    },
    {
     "name": "stdout",
     "output_type": "stream",
     "text": [
      "Epoch 6/15, Loss: 3.9417416832569026, Validation loss: 2221.5291905403137, Min loss: 2220.9031443595886, F1 Score: 0.0026536907466090842, Accuracy: 0.028748341441839895\n"
     ]
    },
    {
     "name": "stderr",
     "output_type": "stream",
     "text": [
      "Epoch 7/15: 100%|████████████████████████████████████████████████████████████████████| 572/572 [01:13<00:00,  7.83it/s]\n",
      "100%|████████████████████████████████████████████████████████████████████████████████| 566/566 [00:26<00:00, 21.46it/s]\n"
     ]
    },
    {
     "name": "stdout",
     "output_type": "stream",
     "text": [
      "Saving model...\n",
      "Epoch 7/15, Loss: 3.9367739857155315, Validation loss: 2217.5384929180145, Min loss: 2217.5384929180145, F1 Score: 0.0033952975820519273, Accuracy: 0.019460415745245468\n"
     ]
    },
    {
     "name": "stderr",
     "output_type": "stream",
     "text": [
      "Epoch 8/15: 100%|████████████████████████████████████████████████████████████████████| 572/572 [01:12<00:00,  7.86it/s]\n",
      "100%|████████████████████████████████████████████████████████████████████████████████| 566/566 [00:25<00:00, 21.79it/s]\n"
     ]
    },
    {
     "name": "stdout",
     "output_type": "stream",
     "text": [
      "Saving model...\n",
      "Epoch 8/15, Loss: 3.8926940248895536, Validation loss: 2172.7671403884888, Min loss: 2172.7671403884888, F1 Score: 0.011220104539434951, Accuracy: 0.0367094206103494\n"
     ]
    },
    {
     "name": "stderr",
     "output_type": "stream",
     "text": [
      "Epoch 9/15: 100%|████████████████████████████████████████████████████████████████████| 572/572 [01:12<00:00,  7.85it/s]\n",
      "100%|████████████████████████████████████████████████████████████████████████████████| 566/566 [00:25<00:00, 21.88it/s]\n"
     ]
    },
    {
     "name": "stdout",
     "output_type": "stream",
     "text": [
      "Saving model...\n",
      "Epoch 9/15, Loss: 3.859055191864861, Validation loss: 2159.7471277713776, Min loss: 2159.7471277713776, F1 Score: 0.012918270085390789, Accuracy: 0.038920831490490936\n"
     ]
    },
    {
     "name": "stderr",
     "output_type": "stream",
     "text": [
      "Epoch 10/15: 100%|███████████████████████████████████████████████████████████████████| 572/572 [01:12<00:00,  7.84it/s]\n",
      "100%|████████████████████████████████████████████████████████████████████████████████| 566/566 [00:25<00:00, 21.85it/s]\n"
     ]
    },
    {
     "name": "stdout",
     "output_type": "stream",
     "text": [
      "Epoch 10/15, Loss: 3.822293256014051, Validation loss: 2176.742361307144, Min loss: 2159.7471277713776, F1 Score: 0.008269262967329025, Accuracy: 0.04157452454666077\n"
     ]
    },
    {
     "name": "stderr",
     "output_type": "stream",
     "text": [
      "Epoch 11/15: 100%|███████████████████████████████████████████████████████████████████| 572/572 [01:12<00:00,  7.86it/s]\n",
      "100%|████████████████████████████████████████████████████████████████████████████████| 566/566 [00:25<00:00, 21.83it/s]\n"
     ]
    },
    {
     "name": "stdout",
     "output_type": "stream",
     "text": [
      "Epoch 11/15, Loss: 3.8195070874289647, Validation loss: 2163.7941393852234, Min loss: 2159.7471277713776, F1 Score: 0.012786183333066439, Accuracy: 0.04157452454666077\n"
     ]
    },
    {
     "name": "stderr",
     "output_type": "stream",
     "text": [
      "Epoch 12/15: 100%|███████████████████████████████████████████████████████████████████| 572/572 [01:12<00:00,  7.85it/s]\n",
      "100%|████████████████████████████████████████████████████████████████████████████████| 566/566 [00:25<00:00, 21.80it/s]\n"
     ]
    },
    {
     "name": "stdout",
     "output_type": "stream",
     "text": [
      "Epoch 12/15, Loss: 3.819462604172427, Validation loss: 2171.5670342445374, Min loss: 2159.7471277713776, F1 Score: 0.0159046310327015, Accuracy: 0.04290137107474569\n"
     ]
    },
    {
     "name": "stderr",
     "output_type": "stream",
     "text": [
      "Epoch 13/15: 100%|███████████████████████████████████████████████████████████████████| 572/572 [01:12<00:00,  7.85it/s]\n",
      "100%|████████████████████████████████████████████████████████████████████████████████| 566/566 [00:25<00:00, 21.87it/s]\n"
     ]
    },
    {
     "name": "stdout",
     "output_type": "stream",
     "text": [
      "Epoch 13/15, Loss: 3.8145051473710128, Validation loss: 2229.859601020813, Min loss: 2159.7471277713776, F1 Score: 0.014269719463053367, Accuracy: 0.04024767801857585\n"
     ]
    },
    {
     "name": "stderr",
     "output_type": "stream",
     "text": [
      "Epoch 14/15: 100%|████████████████████████████████████████████████████████████████| 572/572 [11:39:24<00:00, 73.36s/it]\n",
      "100%|██████████████████████████████████████████████████████████████████████████████| 566/566 [1:36:57<00:00, 10.28s/it]\n"
     ]
    },
    {
     "name": "stdout",
     "output_type": "stream",
     "text": [
      "Epoch 14/15, Loss: 3.8233251072300227, Validation loss: 2167.983516931534, Min loss: 2159.7471277713776, F1 Score: 0.015512093273424718, Accuracy: 0.03449800973020787\n"
     ]
    },
    {
     "name": "stderr",
     "output_type": "stream",
     "text": [
      "Epoch 15/15: 100%|███████████████████████████████████████████████████████████████████| 572/572 [01:12<00:00,  7.86it/s]\n",
      "100%|████████████████████████████████████████████████████████████████████████████████| 566/566 [00:26<00:00, 21.18it/s]\n"
     ]
    },
    {
     "name": "stdout",
     "output_type": "stream",
     "text": [
      "Epoch 15/15, Loss: 3.8154239819255205, Validation loss: 2209.8299725055695, Min loss: 2159.7471277713776, F1 Score: 0.007765004372660339, Accuracy: 0.03582485625829279\n"
     ]
    },
    {
     "name": "stderr",
     "output_type": "stream",
     "text": [
      "100%|████████████████████████████████████████████████████████████████████████████████| 566/566 [00:27<00:00, 20.67it/s]\n",
      "[I 2024-01-21 14:12:22,265] Trial 18 finished with value: 0.03582485625829279 and parameters: {'image_size': 224, 'patch_size': 16, 'dim': 894, 'depth': 7, 'heads': 16, 'dropout': 0.1760171952182648}. Best is trial 14 with value: 0.0659000442282176.\n",
      "Epoch 1/15: 100%|████████████████████████████████████████████████████████████████████| 572/572 [01:47<00:00,  5.34it/s]\n",
      "100%|████████████████████████████████████████████████████████████████████████████████| 566/566 [00:33<00:00, 17.11it/s]\n"
     ]
    },
    {
     "name": "stdout",
     "output_type": "stream",
     "text": [
      "Saving model...\n",
      "Epoch 1/15, Loss: 5.050643111505413, Validation loss: 2703.8553104400635, Min loss: 2703.8553104400635, F1 Score: 0.0016149527186761227, Accuracy: 0.019902697921273773\n"
     ]
    },
    {
     "name": "stderr",
     "output_type": "stream",
     "text": [
      "Epoch 2/15: 100%|████████████████████████████████████████████████████████████████████| 572/572 [01:44<00:00,  5.49it/s]\n",
      "100%|████████████████████████████████████████████████████████████████████████████████| 566/566 [00:33<00:00, 17.14it/s]\n"
     ]
    },
    {
     "name": "stdout",
     "output_type": "stream",
     "text": [
      "Saving model...\n",
      "Epoch 2/15, Loss: 4.270797330737896, Validation loss: 2241.471923828125, Min loss: 2241.471923828125, F1 Score: 0.0021083056439050686, Accuracy: 0.026536930561698365\n"
     ]
    },
    {
     "name": "stderr",
     "output_type": "stream",
     "text": [
      "Epoch 3/15: 100%|████████████████████████████████████████████████████████████████████| 572/572 [01:44<00:00,  5.50it/s]\n",
      "100%|████████████████████████████████████████████████████████████████████████████████| 566/566 [00:32<00:00, 17.25it/s]\n"
     ]
    },
    {
     "name": "stdout",
     "output_type": "stream",
     "text": [
      "Saving model...\n",
      "Epoch 3/15, Loss: 3.9281069552684698, Validation loss: 2228.2746336460114, Min loss: 2228.2746336460114, F1 Score: 0.002899859943977591, Accuracy: 0.02476780185758514\n"
     ]
    },
    {
     "name": "stderr",
     "output_type": "stream",
     "text": [
      "Epoch 4/15: 100%|████████████████████████████████████████████████████████████████████| 572/572 [01:44<00:00,  5.49it/s]\n",
      "100%|████████████████████████████████████████████████████████████████████████████████| 566/566 [00:32<00:00, 17.19it/s]\n"
     ]
    },
    {
     "name": "stdout",
     "output_type": "stream",
     "text": [
      "Saving model...\n",
      "Epoch 4/15, Loss: 3.9055282846516692, Validation loss: 2203.800308942795, Min loss: 2203.800308942795, F1 Score: 0.005325882048964761, Accuracy: 0.0291906236178682\n"
     ]
    },
    {
     "name": "stderr",
     "output_type": "stream",
     "text": [
      "Epoch 5/15: 100%|████████████████████████████████████████████████████████████████████| 572/572 [56:57<00:00,  5.98s/it]\n",
      "100%|████████████████████████████████████████████████████████████████████████████████| 566/566 [00:33<00:00, 17.13it/s]\n"
     ]
    },
    {
     "name": "stdout",
     "output_type": "stream",
     "text": [
      "Saving model...\n",
      "Epoch 5/15, Loss: 3.879511098544776, Validation loss: 2180.1661043167114, Min loss: 2180.1661043167114, F1 Score: 0.012741872055085141, Accuracy: 0.04467049977885891\n"
     ]
    },
    {
     "name": "stderr",
     "output_type": "stream",
     "text": [
      "Epoch 6/15: 100%|████████████████████████████████████████████████████████████████████| 572/572 [01:44<00:00,  5.45it/s]\n",
      "100%|████████████████████████████████████████████████████████████████████████████████| 566/566 [00:32<00:00, 17.16it/s]\n"
     ]
    },
    {
     "name": "stdout",
     "output_type": "stream",
     "text": [
      "Saving model...\n",
      "Epoch 6/15, Loss: 3.8469540375416384, Validation loss: 2176.331452846527, Min loss: 2176.331452846527, F1 Score: 0.008913946606907714, Accuracy: 0.04201680672268908\n"
     ]
    },
    {
     "name": "stderr",
     "output_type": "stream",
     "text": [
      "Epoch 7/15: 100%|████████████████████████████████████████████████████████████████████| 572/572 [01:44<00:00,  5.49it/s]\n",
      "100%|████████████████████████████████████████████████████████████████████████████████| 566/566 [00:33<00:00, 17.00it/s]\n"
     ]
    },
    {
     "name": "stdout",
     "output_type": "stream",
     "text": [
      "Epoch 7/15, Loss: 3.829788751356144, Validation loss: 2187.4084300994873, Min loss: 2176.331452846527, F1 Score: 0.011212681201512862, Accuracy: 0.04113224237063246\n"
     ]
    },
    {
     "name": "stderr",
     "output_type": "stream",
     "text": [
      "Epoch 8/15: 100%|████████████████████████████████████████████████████████████████████| 572/572 [01:44<00:00,  5.48it/s]\n",
      "100%|████████████████████████████████████████████████████████████████████████████████| 566/566 [00:40<00:00, 13.89it/s]\n"
     ]
    },
    {
     "name": "stdout",
     "output_type": "stream",
     "text": [
      "Epoch 8/15, Loss: 3.816944901370877, Validation loss: 2237.4652469158173, Min loss: 2176.331452846527, F1 Score: 0.008456501363481531, Accuracy: 0.039805395842547546\n"
     ]
    },
    {
     "name": "stderr",
     "output_type": "stream",
     "text": [
      "Epoch 9/15: 100%|████████████████████████████████████████████████████████████████████| 572/572 [01:51<00:00,  5.11it/s]\n",
      "100%|████████████████████████████████████████████████████████████████████████████████| 566/566 [00:33<00:00, 16.79it/s]\n"
     ]
    },
    {
     "name": "stdout",
     "output_type": "stream",
     "text": [
      "Epoch 9/15, Loss: 3.822866959711533, Validation loss: 2181.3084378242493, Min loss: 2176.331452846527, F1 Score: 0.01140397066871314, Accuracy: 0.04732419283502875\n"
     ]
    },
    {
     "name": "stderr",
     "output_type": "stream",
     "text": [
      "Epoch 10/15: 100%|███████████████████████████████████████████████████████████████████| 572/572 [01:44<00:00,  5.48it/s]\n",
      "100%|████████████████████████████████████████████████████████████████████████████████| 566/566 [00:33<00:00, 17.00it/s]\n"
     ]
    },
    {
     "name": "stdout",
     "output_type": "stream",
     "text": [
      "Epoch 10/15, Loss: 3.812707172609804, Validation loss: 2179.8798553943634, Min loss: 2176.331452846527, F1 Score: 0.01095803315130681, Accuracy: 0.04290137107474569\n"
     ]
    },
    {
     "name": "stderr",
     "output_type": "stream",
     "text": [
      "Epoch 11/15: 100%|███████████████████████████████████████████████████████████████████| 572/572 [01:44<00:00,  5.47it/s]\n",
      "100%|████████████████████████████████████████████████████████████████████████████████| 566/566 [00:33<00:00, 16.96it/s]\n"
     ]
    },
    {
     "name": "stdout",
     "output_type": "stream",
     "text": [
      "Saving model...\n",
      "Epoch 11/15, Loss: 3.806569963446026, Validation loss: 2167.9785430431366, Min loss: 2167.9785430431366, F1 Score: 0.013927696091676028, Accuracy: 0.04555506413091552\n"
     ]
    },
    {
     "name": "stderr",
     "output_type": "stream",
     "text": [
      "Epoch 12/15: 100%|███████████████████████████████████████████████████████████████████| 572/572 [01:48<00:00,  5.29it/s]\n",
      "100%|████████████████████████████████████████████████████████████████████████████████| 566/566 [00:39<00:00, 14.21it/s]\n"
     ]
    },
    {
     "name": "stdout",
     "output_type": "stream",
     "text": [
      "Epoch 12/15, Loss: 3.803617450833373, Validation loss: 2241.2137393951416, Min loss: 2167.9785430431366, F1 Score: 0.006052379657872169, Accuracy: 0.03051747014595312\n"
     ]
    },
    {
     "name": "stderr",
     "output_type": "stream",
     "text": [
      "Epoch 13/15: 100%|███████████████████████████████████████████████████████████████████| 572/572 [01:48<00:00,  5.25it/s]\n",
      "100%|████████████████████████████████████████████████████████████████████████████████| 566/566 [00:32<00:00, 17.17it/s]\n"
     ]
    },
    {
     "name": "stdout",
     "output_type": "stream",
     "text": [
      "Epoch 13/15, Loss: 3.805761132534279, Validation loss: 2211.941720724106, Min loss: 2167.9785430431366, F1 Score: 0.010883479787262612, Accuracy: 0.038920831490490936\n"
     ]
    },
    {
     "name": "stderr",
     "output_type": "stream",
     "text": [
      "Epoch 14/15: 100%|███████████████████████████████████████████████████████████████████| 572/572 [01:44<00:00,  5.49it/s]\n",
      "100%|████████████████████████████████████████████████████████████████████████████████| 566/566 [00:32<00:00, 17.21it/s]\n"
     ]
    },
    {
     "name": "stdout",
     "output_type": "stream",
     "text": [
      "Epoch 14/15, Loss: 3.7973890861257695, Validation loss: 2192.0110170841217, Min loss: 2167.9785430431366, F1 Score: 0.008964835561085897, Accuracy: 0.03936311366651924\n"
     ]
    },
    {
     "name": "stderr",
     "output_type": "stream",
     "text": [
      "Epoch 15/15: 100%|███████████████████████████████████████████████████████████████████| 572/572 [01:44<00:00,  5.47it/s]\n",
      "100%|████████████████████████████████████████████████████████████████████████████████| 566/566 [00:33<00:00, 16.94it/s]\n"
     ]
    },
    {
     "name": "stdout",
     "output_type": "stream",
     "text": [
      "Epoch 15/15, Loss: 3.7682224735715373, Validation loss: 2243.4460723400116, Min loss: 2167.9785430431366, F1 Score: 0.01004251640249773, Accuracy: 0.03847854931446263\n"
     ]
    },
    {
     "name": "stderr",
     "output_type": "stream",
     "text": [
      "100%|████████████████████████████████████████████████████████████████████████████████| 566/566 [00:33<00:00, 16.92it/s]\n",
      "[I 2024-01-21 15:43:07,576] Trial 19 finished with value: 0.03847854931446263 and parameters: {'image_size': 224, 'patch_size': 16, 'dim': 1023, 'depth': 10, 'heads': 15, 'dropout': 0.22484879056553916}. Best is trial 14 with value: 0.0659000442282176.\n"
     ]
    },
    {
     "name": "stdout",
     "output_type": "stream",
     "text": [
      "Number of finished trials:  20\n",
      "Best trial:\n",
      "Value:  0.0659000442282176\n",
      "Params: \n",
      "    image_size: 224\n",
      "    patch_size: 16\n",
      "    dim: 847\n",
      "    depth: 7\n",
      "    heads: 15\n",
      "    dropout: 0.17412278405799006\n"
     ]
    }
   ],
   "source": [
    "import optuna\n",
    "import torch\n",
    "import torch.optim as optim\n",
    "from torch.utils.tensorboard import SummaryWriter\n",
    "from vit_pytorch import ViT\n",
    "from adabound import AdaBound\n",
    "from tqdm import tqdm\n",
    "from sklearn.metrics import f1_score\n",
    "\n",
    "# patch_size = 16         # Patch size (P) = 16\n",
    "# latent_size = 768       # Latent vector (D). ViT-Base uses 768\n",
    "# n_channels = 3          # Number of channels for input images\n",
    "# num_heads = 12          # ViT-Base uses 12 heads\n",
    "# num_encoders = 12       # ViT-Base uses 12 encoder layers\n",
    "# dropout = 0.1           # Dropout = 0.1 is used with ViT-Base & ImageNet-21k\n",
    "# # num_classes = 197       # Number of classes in the dataset\n",
    "# size = 224              # Size used for training = 224\n",
    "\n",
    "# epochs = 30             # Number of epochs\n",
    "# base_lr = 10e-3         # Base LR\n",
    "# weight_decay = 0.03     # Weight decay for ViT-Base (on ImageNet-21k)\n",
    "\n",
    "def objective(trial):\n",
    "    size = trial.suggest_int('image_size', 224, 224)\n",
    "    patch_size = trial.suggest_int('patch_size', 16, 16)\n",
    "    latent_size = trial.suggest_int('dim', 256, 1024)\n",
    "    num_encoders = trial.suggest_int('depth', 6, 10)\n",
    "    num_heads = trial.suggest_int('heads', 12, 16)\n",
    "    dropout = trial.suggest_float('dropout', 0.1, 0.3)\n",
    "\n",
    "    model_vit_adabound = ViT(\n",
    "        image_size=size,\n",
    "        patch_size=patch_size,\n",
    "        num_classes=num_classes,\n",
    "        dim=latent_size,\n",
    "        depth=num_encoders,\n",
    "        heads=num_heads,\n",
    "        mlp_dim=2048,\n",
    "        dropout=dropout,\n",
    "        emb_dropout=dropout\n",
    "    ).to(device)\n",
    "\n",
    "    trial_name = f\"vit_adabound_trial_{trial.number}\"\n",
    "\n",
    "    writer = SummaryWriter(trial_name)\n",
    "\n",
    "    fine_tune_model_with_writer(trial_name, model_vit_adabound, epochs=15, optimizer='adabound', writer=writer)\n",
    "\n",
    "    validation_loss, _, validation_accuracy = calculate_metrics(model_vit_adabound, test_loader, device)\n",
    "    writer.close()\n",
    "\n",
    "    return validation_accuracy\n",
    "\n",
    "n_trials = 20\n",
    "\n",
    "study = optuna.create_study(direction='maximize')\n",
    "study.optimize(objective, n_trials=n_trials)\n",
    "\n",
    "print('Number of finished trials: ', len(study.trials))\n",
    "print('Best trial:')\n",
    "trial = study.best_trial\n",
    "\n",
    "print('Value: ', trial.value)\n",
    "print('Params: ')\n",
    "for key, value in trial.params.items():\n",
    "    print(f'    {key}: {value}')\n"
   ]
  },
  {
   "cell_type": "code",
   "execution_count": 39,
   "id": "6f0f9fbf-352d-44f0-8b54-6eda79b37bc4",
   "metadata": {},
   "outputs": [
    {
     "name": "stderr",
     "output_type": "stream",
     "text": [
      "Epoch 51/100: 100%|██████████████████████████████████████████████████████████████████| 572/572 [01:31<00:00,  6.23it/s]\n",
      "100%|████████████████████████████████████████████████████████████████████████████████| 566/566 [00:30<00:00, 18.59it/s]\n"
     ]
    },
    {
     "name": "stdout",
     "output_type": "stream",
     "text": [
      "Saving model...\n",
      "Epoch 51/50, Loss: 3.806860799397451, Validation loss: 2145.9900295734406, Min loss: 2145.9900295734406, F1 Score: 0.021545027132069086, Accuracy: 0.042459088898717384\n"
     ]
    },
    {
     "name": "stderr",
     "output_type": "stream",
     "text": [
      "Epoch 52/100: 100%|██████████████████████████████████████████████████████████████████| 572/572 [01:31<00:00,  6.24it/s]\n",
      "100%|████████████████████████████████████████████████████████████████████████████████| 566/566 [00:30<00:00, 18.65it/s]\n"
     ]
    },
    {
     "name": "stdout",
     "output_type": "stream",
     "text": [
      "Epoch 52/50, Loss: 3.7104197467942397, Validation loss: 2147.986264705658, Min loss: 2145.9900295734406, F1 Score: 0.03801242927638554, Accuracy: 0.05218929677134011\n"
     ]
    },
    {
     "name": "stderr",
     "output_type": "stream",
     "text": [
      "Epoch 53/100: 100%|██████████████████████████████████████████████████████████████████| 572/572 [01:31<00:00,  6.23it/s]\n",
      "100%|████████████████████████████████████████████████████████████████████████████████| 566/566 [00:30<00:00, 18.65it/s]\n"
     ]
    },
    {
     "name": "stdout",
     "output_type": "stream",
     "text": [
      "Epoch 53/50, Loss: 3.6699451393157467, Validation loss: 2148.9027432203293, Min loss: 2145.9900295734406, F1 Score: 0.03340185372891951, Accuracy: 0.05616983635559487\n"
     ]
    },
    {
     "name": "stderr",
     "output_type": "stream",
     "text": [
      "Epoch 54/100: 100%|██████████████████████████████████████████████████████████████████| 572/572 [01:31<00:00,  6.28it/s]\n",
      "100%|████████████████████████████████████████████████████████████████████████████████| 566/566 [00:30<00:00, 18.59it/s]\n"
     ]
    },
    {
     "name": "stdout",
     "output_type": "stream",
     "text": [
      "Epoch 54/50, Loss: 3.6233472310146704, Validation loss: 2150.0310020446777, Min loss: 2145.9900295734406, F1 Score: 0.03877841354299582, Accuracy: 0.057054400707651484\n"
     ]
    },
    {
     "name": "stderr",
     "output_type": "stream",
     "text": [
      "Epoch 55/100: 100%|██████████████████████████████████████████████████████████████████| 572/572 [01:31<00:00,  6.27it/s]\n",
      "100%|████████████████████████████████████████████████████████████████████████████████| 566/566 [00:30<00:00, 18.63it/s]\n"
     ]
    },
    {
     "name": "stdout",
     "output_type": "stream",
     "text": [
      "Epoch 55/50, Loss: 3.6036822530031727, Validation loss: 2161.1902713775635, Min loss: 2145.9900295734406, F1 Score: 0.030518985133491005, Accuracy: 0.05395842547545334\n"
     ]
    },
    {
     "name": "stderr",
     "output_type": "stream",
     "text": [
      "Epoch 56/100: 100%|██████████████████████████████████████████████████████████████████| 572/572 [01:30<00:00,  6.29it/s]\n",
      "100%|████████████████████████████████████████████████████████████████████████████████| 566/566 [00:30<00:00, 18.61it/s]\n"
     ]
    },
    {
     "name": "stdout",
     "output_type": "stream",
     "text": [
      "Epoch 56/50, Loss: 3.6210280628145965, Validation loss: 2178.1370162963867, Min loss: 2145.9900295734406, F1 Score: 0.034970044072953815, Accuracy: 0.04643962848297214\n"
     ]
    },
    {
     "name": "stderr",
     "output_type": "stream",
     "text": [
      "Epoch 57/100: 100%|██████████████████████████████████████████████████████████████████| 572/572 [01:31<00:00,  6.28it/s]\n",
      "100%|████████████████████████████████████████████████████████████████████████████████| 566/566 [00:30<00:00, 18.57it/s]\n"
     ]
    },
    {
     "name": "stdout",
     "output_type": "stream",
     "text": [
      "Epoch 57/50, Loss: 3.7566133955966765, Validation loss: 2230.736709356308, Min loss: 2145.9900295734406, F1 Score: 0.009860901500574061, Accuracy: 0.026536930561698365\n"
     ]
    },
    {
     "name": "stderr",
     "output_type": "stream",
     "text": [
      "Epoch 58/100: 100%|██████████████████████████████████████████████████████████████████| 572/572 [01:30<00:00,  6.30it/s]\n",
      "100%|████████████████████████████████████████████████████████████████████████████████| 566/566 [00:30<00:00, 18.62it/s]\n"
     ]
    },
    {
     "name": "stdout",
     "output_type": "stream",
     "text": [
      "Epoch 58/50, Loss: 3.827323927752149, Validation loss: 2173.0927226543427, Min loss: 2145.9900295734406, F1 Score: 0.02894911879214122, Accuracy: 0.048651039363113664\n"
     ]
    },
    {
     "name": "stderr",
     "output_type": "stream",
     "text": [
      "Epoch 59/100: 100%|██████████████████████████████████████████████████████████████████| 572/572 [01:30<00:00,  6.29it/s]\n",
      "100%|████████████████████████████████████████████████████████████████████████████████| 566/566 [00:30<00:00, 18.61it/s]\n"
     ]
    },
    {
     "name": "stdout",
     "output_type": "stream",
     "text": [
      "Epoch 59/50, Loss: 3.7248334670932106, Validation loss: 2157.1111447811127, Min loss: 2145.9900295734406, F1 Score: 0.02759928668859343, Accuracy: 0.04467049977885891\n"
     ]
    },
    {
     "name": "stderr",
     "output_type": "stream",
     "text": [
      "Epoch 60/100: 100%|██████████████████████████████████████████████████████████████████| 572/572 [01:30<00:00,  6.29it/s]\n",
      "100%|████████████████████████████████████████████████████████████████████████████████| 566/566 [00:30<00:00, 18.60it/s]\n"
     ]
    },
    {
     "name": "stdout",
     "output_type": "stream",
     "text": [
      "Epoch 60/50, Loss: 3.6706951837327004, Validation loss: 2161.0673184394836, Min loss: 2145.9900295734406, F1 Score: 0.03262825551723493, Accuracy: 0.04997788589119859\n"
     ]
    },
    {
     "name": "stderr",
     "output_type": "stream",
     "text": [
      "Epoch 61/100: 100%|██████████████████████████████████████████████████████████████████| 572/572 [01:30<00:00,  6.29it/s]\n",
      "100%|████████████████████████████████████████████████████████████████████████████████| 566/566 [00:30<00:00, 18.54it/s]\n"
     ]
    },
    {
     "name": "stdout",
     "output_type": "stream",
     "text": [
      "Epoch 61/50, Loss: 3.6330235548607375, Validation loss: 2152.3618619441986, Min loss: 2145.9900295734406, F1 Score: 0.03371681775727835, Accuracy: 0.045112781954887216\n"
     ]
    },
    {
     "name": "stderr",
     "output_type": "stream",
     "text": [
      "Epoch 62/100: 100%|██████████████████████████████████████████████████████████████████| 572/572 [01:30<00:00,  6.29it/s]\n",
      "100%|████████████████████████████████████████████████████████████████████████████████| 566/566 [00:30<00:00, 18.56it/s]\n"
     ]
    },
    {
     "name": "stdout",
     "output_type": "stream",
     "text": [
      "Epoch 62/50, Loss: 3.6495791789898457, Validation loss: 2158.5636599063873, Min loss: 2145.9900295734406, F1 Score: 0.027006539094718108, Accuracy: 0.05174701459531181\n"
     ]
    },
    {
     "name": "stderr",
     "output_type": "stream",
     "text": [
      "Epoch 63/100: 100%|██████████████████████████████████████████████████████████████████| 572/572 [01:30<00:00,  6.30it/s]\n",
      "100%|████████████████████████████████████████████████████████████████████████████████| 566/566 [00:30<00:00, 18.51it/s]\n"
     ]
    },
    {
     "name": "stdout",
     "output_type": "stream",
     "text": [
      "Epoch 63/50, Loss: 3.6645328552377867, Validation loss: 2154.4396634101868, Min loss: 2145.9900295734406, F1 Score: 0.03610260401514775, Accuracy: 0.05263157894736842\n"
     ]
    },
    {
     "name": "stderr",
     "output_type": "stream",
     "text": [
      "Epoch 64/100: 100%|██████████████████████████████████████████████████████████████████| 572/572 [01:30<00:00,  6.30it/s]\n",
      "100%|████████████████████████████████████████████████████████████████████████████████| 566/566 [00:30<00:00, 18.58it/s]\n"
     ]
    },
    {
     "name": "stdout",
     "output_type": "stream",
     "text": [
      "Epoch 64/50, Loss: 3.6642680864538435, Validation loss: 2155.911870598793, Min loss: 2145.9900295734406, F1 Score: 0.03994855778814824, Accuracy: 0.05395842547545334\n"
     ]
    },
    {
     "name": "stderr",
     "output_type": "stream",
     "text": [
      "Epoch 65/100: 100%|██████████████████████████████████████████████████████████████████| 572/572 [01:30<00:00,  6.30it/s]\n",
      "100%|████████████████████████████████████████████████████████████████████████████████| 566/566 [00:30<00:00, 18.58it/s]\n"
     ]
    },
    {
     "name": "stdout",
     "output_type": "stream",
     "text": [
      "Epoch 65/50, Loss: 3.6197373649153484, Validation loss: 2157.932365179062, Min loss: 2145.9900295734406, F1 Score: 0.0425501951204005, Accuracy: 0.05926581158779301\n"
     ]
    },
    {
     "name": "stderr",
     "output_type": "stream",
     "text": [
      "Epoch 66/100: 100%|██████████████████████████████████████████████████████████████████| 572/572 [01:30<00:00,  6.29it/s]\n",
      "100%|████████████████████████████████████████████████████████████████████████████████| 566/566 [00:30<00:00, 18.58it/s]\n"
     ]
    },
    {
     "name": "stdout",
     "output_type": "stream",
     "text": [
      "Epoch 66/50, Loss: 3.6215970051252118, Validation loss: 2149.065445661545, Min loss: 2145.9900295734406, F1 Score: 0.042699628917505145, Accuracy: 0.057938965059708095\n"
     ]
    },
    {
     "name": "stderr",
     "output_type": "stream",
     "text": [
      "Epoch 67/100: 100%|██████████████████████████████████████████████████████████████████| 572/572 [01:30<00:00,  6.29it/s]\n",
      "100%|████████████████████████████████████████████████████████████████████████████████| 566/566 [00:30<00:00, 18.58it/s]\n"
     ]
    },
    {
     "name": "stdout",
     "output_type": "stream",
     "text": [
      "Epoch 67/50, Loss: 3.6212904183271415, Validation loss: 2176.3809905052185, Min loss: 2145.9900295734406, F1 Score: 0.04344556163347001, Accuracy: 0.06059265811587793\n"
     ]
    },
    {
     "name": "stderr",
     "output_type": "stream",
     "text": [
      "Epoch 68/100: 100%|██████████████████████████████████████████████████████████████████| 572/572 [01:30<00:00,  6.29it/s]\n",
      "100%|████████████████████████████████████████████████████████████████████████████████| 566/566 [00:30<00:00, 18.53it/s]\n"
     ]
    },
    {
     "name": "stdout",
     "output_type": "stream",
     "text": [
      "Saving model...\n",
      "Epoch 68/50, Loss: 3.5996469008542067, Validation loss: 2133.539755821228, Min loss: 2133.539755821228, F1 Score: 0.04256353422498751, Accuracy: 0.05926581158779301\n"
     ]
    },
    {
     "name": "stderr",
     "output_type": "stream",
     "text": [
      "Epoch 69/100: 100%|██████████████████████████████████████████████████████████████████| 572/572 [01:31<00:00,  6.27it/s]\n",
      "100%|████████████████████████████████████████████████████████████████████████████████| 566/566 [00:30<00:00, 18.52it/s]\n"
     ]
    },
    {
     "name": "stdout",
     "output_type": "stream",
     "text": [
      "Saving model...\n",
      "Epoch 69/50, Loss: 3.5821401231613126, Validation loss: 2130.341575860977, Min loss: 2130.341575860977, F1 Score: 0.05457316300709227, Accuracy: 0.06899601946041574\n"
     ]
    },
    {
     "name": "stderr",
     "output_type": "stream",
     "text": [
      "Epoch 70/100: 100%|██████████████████████████████████████████████████████████████████| 572/572 [01:30<00:00,  6.30it/s]\n",
      "100%|████████████████████████████████████████████████████████████████████████████████| 566/566 [00:30<00:00, 18.75it/s]\n"
     ]
    },
    {
     "name": "stdout",
     "output_type": "stream",
     "text": [
      "Epoch 70/50, Loss: 3.5680296201084607, Validation loss: 2149.6127636432648, Min loss: 2130.341575860977, F1 Score: 0.04993142352513622, Accuracy: 0.0659000442282176\n"
     ]
    },
    {
     "name": "stderr",
     "output_type": "stream",
     "text": [
      "Epoch 71/100: 100%|██████████████████████████████████████████████████████████████████| 572/572 [01:30<00:00,  6.29it/s]\n",
      "100%|████████████████████████████████████████████████████████████████████████████████| 566/566 [00:30<00:00, 18.68it/s]\n"
     ]
    },
    {
     "name": "stdout",
     "output_type": "stream",
     "text": [
      "Epoch 71/50, Loss: 3.536628835629729, Validation loss: 2162.5740444660187, Min loss: 2130.341575860977, F1 Score: 0.04362476695603906, Accuracy: 0.06191950464396285\n"
     ]
    },
    {
     "name": "stderr",
     "output_type": "stream",
     "text": [
      "Epoch 72/100: 100%|██████████████████████████████████████████████████████████████████| 572/572 [01:30<00:00,  6.32it/s]\n",
      "100%|████████████████████████████████████████████████████████████████████████████████| 566/566 [00:30<00:00, 18.76it/s]\n"
     ]
    },
    {
     "name": "stdout",
     "output_type": "stream",
     "text": [
      "Epoch 72/50, Loss: 3.546952139095912, Validation loss: 2172.9973695278168, Min loss: 2130.341575860977, F1 Score: 0.04374695140257624, Accuracy: 0.07651481645289694\n"
     ]
    },
    {
     "name": "stderr",
     "output_type": "stream",
     "text": [
      "Epoch 73/100: 100%|██████████████████████████████████████████████████████████████████| 572/572 [01:30<00:00,  6.32it/s]\n",
      "100%|████████████████████████████████████████████████████████████████████████████████| 566/566 [00:30<00:00, 18.77it/s]\n"
     ]
    },
    {
     "name": "stdout",
     "output_type": "stream",
     "text": [
      "Epoch 73/50, Loss: 3.5856812345340465, Validation loss: 2169.4791448116302, Min loss: 2130.341575860977, F1 Score: 0.04388140802433359, Accuracy: 0.05263157894736842\n"
     ]
    },
    {
     "name": "stderr",
     "output_type": "stream",
     "text": [
      "Epoch 74/100: 100%|██████████████████████████████████████████████████████████████████| 572/572 [01:30<00:00,  6.31it/s]\n",
      "100%|████████████████████████████████████████████████████████████████████████████████| 566/566 [00:30<00:00, 18.70it/s]\n"
     ]
    },
    {
     "name": "stdout",
     "output_type": "stream",
     "text": [
      "Epoch 74/50, Loss: 3.530514571465516, Validation loss: 2234.3133680820465, Min loss: 2130.341575860977, F1 Score: 0.03456186340283917, Accuracy: 0.04909332153914197\n"
     ]
    },
    {
     "name": "stderr",
     "output_type": "stream",
     "text": [
      "Epoch 75/100: 100%|██████████████████████████████████████████████████████████████████| 572/572 [01:31<00:00,  6.27it/s]\n",
      "100%|████████████████████████████████████████████████████████████████████████████████| 566/566 [00:30<00:00, 18.82it/s]\n"
     ]
    },
    {
     "name": "stdout",
     "output_type": "stream",
     "text": [
      "Epoch 75/50, Loss: 3.5431441045193157, Validation loss: 2179.2076630592346, Min loss: 2130.341575860977, F1 Score: 0.04155988486796496, Accuracy: 0.0659000442282176\n"
     ]
    },
    {
     "name": "stderr",
     "output_type": "stream",
     "text": [
      "Epoch 76/100: 100%|██████████████████████████████████████████████████████████████████| 572/572 [01:30<00:00,  6.33it/s]\n",
      "100%|████████████████████████████████████████████████████████████████████████████████| 566/566 [00:30<00:00, 18.85it/s]\n"
     ]
    },
    {
     "name": "stdout",
     "output_type": "stream",
     "text": [
      "Epoch 76/50, Loss: 3.538149902900859, Validation loss: 2200.9955399036407, Min loss: 2130.341575860977, F1 Score: 0.037371212819472095, Accuracy: 0.05395842547545334\n"
     ]
    },
    {
     "name": "stderr",
     "output_type": "stream",
     "text": [
      "Epoch 77/100: 100%|██████████████████████████████████████████████████████████████████| 572/572 [01:30<00:00,  6.31it/s]\n",
      "100%|████████████████████████████████████████████████████████████████████████████████| 566/566 [00:30<00:00, 18.85it/s]\n"
     ]
    },
    {
     "name": "stdout",
     "output_type": "stream",
     "text": [
      "Epoch 77/50, Loss: 3.6568101708629426, Validation loss: 2158.7664988040924, Min loss: 2130.341575860977, F1 Score: 0.033448860202367384, Accuracy: 0.04953560371517028\n"
     ]
    },
    {
     "name": "stderr",
     "output_type": "stream",
     "text": [
      "Epoch 78/100: 100%|██████████████████████████████████████████████████████████████████| 572/572 [01:30<00:00,  6.32it/s]\n",
      "100%|████████████████████████████████████████████████████████████████████████████████| 566/566 [00:30<00:00, 18.83it/s]\n"
     ]
    },
    {
     "name": "stdout",
     "output_type": "stream",
     "text": [
      "Epoch 78/50, Loss: 3.5657198580269425, Validation loss: 2191.494852781296, Min loss: 2130.341575860977, F1 Score: 0.03876756939184247, Accuracy: 0.05749668288367979\n"
     ]
    },
    {
     "name": "stderr",
     "output_type": "stream",
     "text": [
      "Epoch 79/100: 100%|██████████████████████████████████████████████████████████████████| 572/572 [01:30<00:00,  6.33it/s]\n",
      "100%|████████████████████████████████████████████████████████████████████████████████| 566/566 [00:30<00:00, 18.83it/s]\n"
     ]
    },
    {
     "name": "stdout",
     "output_type": "stream",
     "text": [
      "Epoch 79/50, Loss: 3.5680374191169086, Validation loss: 2188.815393447876, Min loss: 2130.341575860977, F1 Score: 0.03502778024126268, Accuracy: 0.04290137107474569\n"
     ]
    },
    {
     "name": "stderr",
     "output_type": "stream",
     "text": [
      "Epoch 80/100: 100%|██████████████████████████████████████████████████████████████████| 572/572 [01:30<00:00,  6.33it/s]\n",
      "100%|████████████████████████████████████████████████████████████████████████████████| 566/566 [00:30<00:00, 18.80it/s]\n"
     ]
    },
    {
     "name": "stdout",
     "output_type": "stream",
     "text": [
      "Epoch 80/50, Loss: 3.586727690165044, Validation loss: 2188.6954691410065, Min loss: 2130.341575860977, F1 Score: 0.04085231192554906, Accuracy: 0.06059265811587793\n"
     ]
    },
    {
     "name": "stderr",
     "output_type": "stream",
     "text": [
      "Epoch 81/100: 100%|██████████████████████████████████████████████████████████████████| 572/572 [01:30<00:00,  6.32it/s]\n",
      "100%|████████████████████████████████████████████████████████████████████████████████| 566/566 [00:30<00:00, 18.83it/s]\n"
     ]
    },
    {
     "name": "stdout",
     "output_type": "stream",
     "text": [
      "Epoch 81/50, Loss: 3.6060124714404775, Validation loss: 2201.985553264618, Min loss: 2130.341575860977, F1 Score: 0.02732248988012496, Accuracy: 0.04953560371517028\n"
     ]
    },
    {
     "name": "stderr",
     "output_type": "stream",
     "text": [
      "Epoch 82/100: 100%|██████████████████████████████████████████████████████████████████| 572/572 [01:30<00:00,  6.33it/s]\n",
      "100%|████████████████████████████████████████████████████████████████████████████████| 566/566 [00:30<00:00, 18.81it/s]\n"
     ]
    },
    {
     "name": "stdout",
     "output_type": "stream",
     "text": [
      "Epoch 82/50, Loss: 3.6563012091207567, Validation loss: 2169.688953399658, Min loss: 2130.341575860977, F1 Score: 0.03605637743508605, Accuracy: 0.054400707651481646\n"
     ]
    },
    {
     "name": "stderr",
     "output_type": "stream",
     "text": [
      "Epoch 83/100: 100%|██████████████████████████████████████████████████████████████████| 572/572 [01:30<00:00,  6.32it/s]\n",
      "100%|████████████████████████████████████████████████████████████████████████████████| 566/566 [00:30<00:00, 18.80it/s]\n"
     ]
    },
    {
     "name": "stdout",
     "output_type": "stream",
     "text": [
      "Epoch 83/50, Loss: 3.628750719563326, Validation loss: 2175.850956439972, Min loss: 2130.341575860977, F1 Score: 0.037697588596386285, Accuracy: 0.0513047324192835\n"
     ]
    },
    {
     "name": "stderr",
     "output_type": "stream",
     "text": [
      "Epoch 84/100: 100%|██████████████████████████████████████████████████████████████████| 572/572 [01:30<00:00,  6.32it/s]\n",
      "100%|████████████████████████████████████████████████████████████████████████████████| 566/566 [00:30<00:00, 18.80it/s]\n"
     ]
    },
    {
     "name": "stdout",
     "output_type": "stream",
     "text": [
      "Saving model...\n",
      "Epoch 84/50, Loss: 3.612737624364802, Validation loss: 2120.133554458618, Min loss: 2120.133554458618, F1 Score: 0.04910882212374497, Accuracy: 0.059708093763821316\n"
     ]
    },
    {
     "name": "stderr",
     "output_type": "stream",
     "text": [
      "Epoch 85/100: 100%|██████████████████████████████████████████████████████████████████| 572/572 [01:31<00:00,  6.28it/s]\n",
      "100%|████████████████████████████████████████████████████████████████████████████████| 566/566 [00:30<00:00, 18.30it/s]\n"
     ]
    },
    {
     "name": "stdout",
     "output_type": "stream",
     "text": [
      "Epoch 85/50, Loss: 3.574345923637687, Validation loss: 2180.471489429474, Min loss: 2120.133554458618, F1 Score: 0.03359315199776925, Accuracy: 0.05218929677134011\n"
     ]
    },
    {
     "name": "stderr",
     "output_type": "stream",
     "text": [
      "Epoch 86/100: 100%|██████████████████████████████████████████████████████████████████| 572/572 [01:30<00:00,  6.30it/s]\n",
      "100%|████████████████████████████████████████████████████████████████████████████████| 566/566 [00:30<00:00, 18.72it/s]\n"
     ]
    },
    {
     "name": "stdout",
     "output_type": "stream",
     "text": [
      "Epoch 86/50, Loss: 3.5850802948238236, Validation loss: 2138.6672298908234, Min loss: 2120.133554458618, F1 Score: 0.04314347933567056, Accuracy: 0.05661211853162318\n"
     ]
    },
    {
     "name": "stderr",
     "output_type": "stream",
     "text": [
      "Epoch 87/100: 100%|██████████████████████████████████████████████████████████████████| 572/572 [01:30<00:00,  6.31it/s]\n",
      "100%|████████████████████████████████████████████████████████████████████████████████| 566/566 [00:30<00:00, 18.75it/s]\n"
     ]
    },
    {
     "name": "stdout",
     "output_type": "stream",
     "text": [
      "Epoch 87/50, Loss: 3.6132498182581148, Validation loss: 2172.8565533161163, Min loss: 2120.133554458618, F1 Score: 0.03269827604823641, Accuracy: 0.0508624502432552\n"
     ]
    },
    {
     "name": "stderr",
     "output_type": "stream",
     "text": [
      "Epoch 88/100: 100%|██████████████████████████████████████████████████████████████████| 572/572 [01:30<00:00,  6.31it/s]\n",
      "100%|████████████████████████████████████████████████████████████████████████████████| 566/566 [00:30<00:00, 18.68it/s]\n"
     ]
    },
    {
     "name": "stdout",
     "output_type": "stream",
     "text": [
      "Epoch 88/50, Loss: 3.6574539090537272, Validation loss: 2209.513640165329, Min loss: 2120.133554458618, F1 Score: 0.028246827181643338, Accuracy: 0.04820875718708536\n"
     ]
    },
    {
     "name": "stderr",
     "output_type": "stream",
     "text": [
      "Epoch 89/100: 100%|██████████████████████████████████████████████████████████████████| 572/572 [01:30<00:00,  6.32it/s]\n",
      "100%|████████████████████████████████████████████████████████████████████████████████| 566/566 [00:30<00:00, 18.68it/s]\n"
     ]
    },
    {
     "name": "stdout",
     "output_type": "stream",
     "text": [
      "Epoch 89/50, Loss: 3.621438572070043, Validation loss: 2220.062212705612, Min loss: 2120.133554458618, F1 Score: 0.03080232487365343, Accuracy: 0.04732419283502875\n"
     ]
    },
    {
     "name": "stderr",
     "output_type": "stream",
     "text": [
      "Epoch 90/100: 100%|██████████████████████████████████████████████████████████████████| 572/572 [01:30<00:00,  6.31it/s]\n",
      "100%|████████████████████████████████████████████████████████████████████████████████| 566/566 [00:30<00:00, 18.67it/s]\n"
     ]
    },
    {
     "name": "stdout",
     "output_type": "stream",
     "text": [
      "Epoch 90/50, Loss: 3.6600125153928955, Validation loss: 2168.907496213913, Min loss: 2120.133554458618, F1 Score: 0.03274009086163118, Accuracy: 0.04643962848297214\n"
     ]
    },
    {
     "name": "stderr",
     "output_type": "stream",
     "text": [
      "Epoch 91/100: 100%|██████████████████████████████████████████████████████████████████| 572/572 [01:30<00:00,  6.31it/s]\n",
      "100%|████████████████████████████████████████████████████████████████████████████████| 566/566 [00:30<00:00, 18.60it/s]\n"
     ]
    },
    {
     "name": "stdout",
     "output_type": "stream",
     "text": [
      "Epoch 91/50, Loss: 3.6247648446383725, Validation loss: 2204.9097328186035, Min loss: 2120.133554458618, F1 Score: 0.038017436143126034, Accuracy: 0.0513047324192835\n"
     ]
    },
    {
     "name": "stderr",
     "output_type": "stream",
     "text": [
      "Epoch 92/100: 100%|██████████████████████████████████████████████████████████████████| 572/572 [01:30<00:00,  6.31it/s]\n",
      "100%|████████████████████████████████████████████████████████████████████████████████| 566/566 [00:30<00:00, 18.68it/s]\n"
     ]
    },
    {
     "name": "stdout",
     "output_type": "stream",
     "text": [
      "Epoch 92/50, Loss: 3.7066908366408056, Validation loss: 2168.076378107071, Min loss: 2120.133554458618, F1 Score: 0.031908410808385766, Accuracy: 0.04820875718708536\n"
     ]
    },
    {
     "name": "stderr",
     "output_type": "stream",
     "text": [
      "Epoch 93/100: 100%|██████████████████████████████████████████████████████████████████| 572/572 [01:30<00:00,  6.31it/s]\n",
      "100%|████████████████████████████████████████████████████████████████████████████████| 566/566 [00:30<00:00, 18.68it/s]\n"
     ]
    },
    {
     "name": "stdout",
     "output_type": "stream",
     "text": [
      "Epoch 93/50, Loss: 3.8472022014671294, Validation loss: 2197.2376358509064, Min loss: 2120.133554458618, F1 Score: 0.01819491100012934, Accuracy: 0.0437859354268023\n"
     ]
    },
    {
     "name": "stderr",
     "output_type": "stream",
     "text": [
      "Epoch 94/100: 100%|██████████████████████████████████████████████████████████████████| 572/572 [01:30<00:00,  6.31it/s]\n",
      "100%|████████████████████████████████████████████████████████████████████████████████| 566/566 [00:30<00:00, 18.69it/s]\n"
     ]
    },
    {
     "name": "stdout",
     "output_type": "stream",
     "text": [
      "Epoch 94/50, Loss: 3.7940727957586664, Validation loss: 2197.8474175930023, Min loss: 2120.133554458618, F1 Score: 0.02103879635598246, Accuracy: 0.038920831490490936\n"
     ]
    },
    {
     "name": "stderr",
     "output_type": "stream",
     "text": [
      "Epoch 95/100: 100%|██████████████████████████████████████████████████████████████████| 572/572 [01:30<00:00,  6.31it/s]\n",
      "100%|████████████████████████████████████████████████████████████████████████████████| 566/566 [00:30<00:00, 18.60it/s]\n"
     ]
    },
    {
     "name": "stdout",
     "output_type": "stream",
     "text": [
      "Epoch 95/50, Loss: 3.6970180456013884, Validation loss: 2159.256603002548, Min loss: 2120.133554458618, F1 Score: 0.02520310712256207, Accuracy: 0.04290137107474569\n"
     ]
    },
    {
     "name": "stderr",
     "output_type": "stream",
     "text": [
      "Epoch 96/100: 100%|██████████████████████████████████████████████████████████████████| 572/572 [01:30<00:00,  6.30it/s]\n",
      "100%|████████████████████████████████████████████████████████████████████████████████| 566/566 [00:30<00:00, 18.47it/s]\n"
     ]
    },
    {
     "name": "stdout",
     "output_type": "stream",
     "text": [
      "Epoch 96/50, Loss: 3.7735980731929084, Validation loss: 2167.599177837372, Min loss: 2120.133554458618, F1 Score: 0.03168422017854974, Accuracy: 0.043343653250773995\n"
     ]
    },
    {
     "name": "stderr",
     "output_type": "stream",
     "text": [
      "Epoch 97/100: 100%|██████████████████████████████████████████████████████████████████| 572/572 [01:30<00:00,  6.29it/s]\n",
      "100%|████████████████████████████████████████████████████████████████████████████████| 566/566 [00:30<00:00, 18.45it/s]\n"
     ]
    },
    {
     "name": "stdout",
     "output_type": "stream",
     "text": [
      "Epoch 97/50, Loss: 3.828886365077357, Validation loss: 2191.7074913978577, Min loss: 2120.133554458618, F1 Score: 0.02755515545990678, Accuracy: 0.04643962848297214\n"
     ]
    },
    {
     "name": "stderr",
     "output_type": "stream",
     "text": [
      "Epoch 98/100: 100%|██████████████████████████████████████████████████████████████████| 572/572 [01:30<00:00,  6.29it/s]\n",
      "100%|████████████████████████████████████████████████████████████████████████████████| 566/566 [00:30<00:00, 18.39it/s]\n"
     ]
    },
    {
     "name": "stdout",
     "output_type": "stream",
     "text": [
      "Epoch 98/50, Loss: 3.832951356919509, Validation loss: 2175.16685295105, Min loss: 2120.133554458618, F1 Score: 0.016084442490346972, Accuracy: 0.03803626713843432\n"
     ]
    },
    {
     "name": "stderr",
     "output_type": "stream",
     "text": [
      "Epoch 99/100: 100%|██████████████████████████████████████████████████████████████████| 572/572 [01:30<00:00,  6.29it/s]\n",
      "100%|████████████████████████████████████████████████████████████████████████████████| 566/566 [00:30<00:00, 18.27it/s]\n"
     ]
    },
    {
     "name": "stdout",
     "output_type": "stream",
     "text": [
      "Epoch 99/50, Loss: 3.827916826386612, Validation loss: 2218.8312768936157, Min loss: 2120.133554458618, F1 Score: 0.025267170723974455, Accuracy: 0.04113224237063246\n"
     ]
    },
    {
     "name": "stderr",
     "output_type": "stream",
     "text": [
      "Epoch 100/100: 100%|█████████████████████████████████████████████████████████████████| 572/572 [01:31<00:00,  6.29it/s]\n",
      "100%|████████████████████████████████████████████████████████████████████████████████| 566/566 [00:30<00:00, 18.34it/s]"
     ]
    },
    {
     "name": "stdout",
     "output_type": "stream",
     "text": [
      "Epoch 100/50, Loss: 3.815358643558904, Validation loss: 2213.483504295349, Min loss: 2120.133554458618, F1 Score: 0.019081955305876277, Accuracy: 0.03759398496240601\n"
     ]
    },
    {
     "name": "stderr",
     "output_type": "stream",
     "text": [
      "\n"
     ]
    },
    {
     "data": {
      "text/plain": [
       "ViT(\n",
       "  (to_patch_embedding): Sequential(\n",
       "    (0): Rearrange('b c (h p1) (w p2) -> b (h w) (p1 p2 c)', p1=16, p2=16)\n",
       "    (1): LayerNorm((768,), eps=1e-05, elementwise_affine=True)\n",
       "    (2): Linear(in_features=768, out_features=768, bias=True)\n",
       "    (3): LayerNorm((768,), eps=1e-05, elementwise_affine=True)\n",
       "  )\n",
       "  (dropout): Dropout(p=0.1, inplace=False)\n",
       "  (transformer): Transformer(\n",
       "    (norm): LayerNorm((768,), eps=1e-05, elementwise_affine=True)\n",
       "    (layers): ModuleList(\n",
       "      (0-11): 12 x ModuleList(\n",
       "        (0): Attention(\n",
       "          (norm): LayerNorm((768,), eps=1e-05, elementwise_affine=True)\n",
       "          (attend): Softmax(dim=-1)\n",
       "          (dropout): Dropout(p=0.1, inplace=False)\n",
       "          (to_qkv): Linear(in_features=768, out_features=2304, bias=False)\n",
       "          (to_out): Sequential(\n",
       "            (0): Linear(in_features=768, out_features=768, bias=True)\n",
       "            (1): Dropout(p=0.1, inplace=False)\n",
       "          )\n",
       "        )\n",
       "        (1): FeedForward(\n",
       "          (net): Sequential(\n",
       "            (0): LayerNorm((768,), eps=1e-05, elementwise_affine=True)\n",
       "            (1): Linear(in_features=768, out_features=2048, bias=True)\n",
       "            (2): GELU(approximate='none')\n",
       "            (3): Dropout(p=0.1, inplace=False)\n",
       "            (4): Linear(in_features=2048, out_features=768, bias=True)\n",
       "            (5): Dropout(p=0.1, inplace=False)\n",
       "          )\n",
       "        )\n",
       "      )\n",
       "    )\n",
       "  )\n",
       "  (to_latent): Identity()\n",
       "  (mlp_head): Linear(in_features=768, out_features=50, bias=True)\n",
       ")"
      ]
     },
     "execution_count": 39,
     "metadata": {},
     "output_type": "execute_result"
    }
   ],
   "source": [
    "fine_tune_model_with_writer(\"vit_adabound\", model_vit_adabound, start_epoch=50, epochs=50, optimizer='adabound')"
   ]
  },
  {
   "cell_type": "markdown",
   "id": "29f83c1d-dbb3-4510-8405-6e14bf958936",
   "metadata": {},
   "source": [
    "## Results"
   ]
  },
  {
   "cell_type": "code",
   "execution_count": 42,
   "id": "04811c3a-5a24-4e05-b574-08a921b7989e",
   "metadata": {},
   "outputs": [
    {
     "data": {
      "text/plain": [
       "[WindowsPath('checkpoints/custom_vit_adabound_0_2880.pt'),\n",
       " WindowsPath('checkpoints/custom_vit_adabound_1_2688.pt'),\n",
       " WindowsPath('checkpoints/custom_vit_adabound_2_2651.pt'),\n",
       " WindowsPath('checkpoints/custom_vit_adabound_3_2646.pt'),\n",
       " WindowsPath('checkpoints/custom_vit_adam_0_2724.pt'),\n",
       " WindowsPath('checkpoints/custom_vit_adam_0_2729.pt'),\n",
       " WindowsPath('checkpoints/custom_vit_adam_0_5327.pt'),\n",
       " WindowsPath('checkpoints/custom_vit_adam_1_2695.pt'),\n",
       " WindowsPath('checkpoints/custom_vit_adam_2_2649.pt'),\n",
       " WindowsPath('checkpoints/custom_vit_adam_2_2674.pt'),\n",
       " WindowsPath('checkpoints/custom_vit_adam_2_5291.pt'),\n",
       " WindowsPath('checkpoints/custom_vit_adam_3_2658.pt'),\n",
       " WindowsPath('checkpoints/custom_vit_adam_4_2652.pt'),\n",
       " WindowsPath('checkpoints/vit_adabound_0_132.pt'),\n",
       " WindowsPath('checkpoints/vit_adabound_0_133.pt'),\n",
       " WindowsPath('checkpoints/vit_adabound_0_141.pt'),\n",
       " WindowsPath('checkpoints/vit_adabound_0_2594.pt'),\n",
       " WindowsPath('checkpoints/vit_adabound_0_2597.pt'),\n",
       " WindowsPath('checkpoints/vit_adabound_0_2753.pt'),\n",
       " WindowsPath('checkpoints/vit_adabound_0_2863.pt'),\n",
       " WindowsPath('checkpoints/vit_adabound_10_2132.pt'),\n",
       " WindowsPath('checkpoints/vit_adabound_13_2123.pt'),\n",
       " WindowsPath('checkpoints/vit_adabound_14_108.pt'),\n",
       " WindowsPath('checkpoints/vit_adabound_18_108.pt'),\n",
       " WindowsPath('checkpoints/vit_adabound_1_109.pt'),\n",
       " WindowsPath('checkpoints/vit_adabound_1_120.pt'),\n",
       " WindowsPath('checkpoints/vit_adabound_1_129.pt'),\n",
       " WindowsPath('checkpoints/vit_adabound_1_2233.pt'),\n",
       " WindowsPath('checkpoints/vit_adabound_1_2269.pt'),\n",
       " WindowsPath('checkpoints/vit_adabound_1_2634.pt'),\n",
       " WindowsPath('checkpoints/vit_adabound_22_107.pt'),\n",
       " WindowsPath('checkpoints/vit_adabound_25_104.pt'),\n",
       " WindowsPath('checkpoints/vit_adabound_2_104.pt'),\n",
       " WindowsPath('checkpoints/vit_adabound_2_117.pt'),\n",
       " WindowsPath('checkpoints/vit_adabound_2_2197.pt'),\n",
       " WindowsPath('checkpoints/vit_adabound_2_2219.pt'),\n",
       " WindowsPath('checkpoints/vit_adabound_2_2634.pt'),\n",
       " WindowsPath('checkpoints/vit_adabound_30_104.pt'),\n",
       " WindowsPath('checkpoints/vit_adabound_32_104.pt'),\n",
       " WindowsPath('checkpoints/vit_adabound_3_2158.pt'),\n",
       " WindowsPath('checkpoints/vit_adabound_3_2216.pt'),\n",
       " WindowsPath('checkpoints/vit_adabound_4_2155.pt'),\n",
       " WindowsPath('checkpoints/vit_adabound_4_2215.pt'),\n",
       " WindowsPath('checkpoints/vit_adabound_50_2145.pt'),\n",
       " WindowsPath('checkpoints/vit_adabound_5_111.pt'),\n",
       " WindowsPath('checkpoints/vit_adabound_5_2201.pt'),\n",
       " WindowsPath('checkpoints/vit_adabound_5_2634.pt'),\n",
       " WindowsPath('checkpoints/vit_adabound_67_2133.pt'),\n",
       " WindowsPath('checkpoints/vit_adabound_68_2130.pt'),\n",
       " WindowsPath('checkpoints/vit_adabound_6_2135.pt'),\n",
       " WindowsPath('checkpoints/vit_adabound_6_2192.pt'),\n",
       " WindowsPath('checkpoints/vit_adabound_7_2124.pt'),\n",
       " WindowsPath('checkpoints/vit_adabound_7_2180.pt'),\n",
       " WindowsPath('checkpoints/vit_adabound_83_2120.pt'),\n",
       " WindowsPath('checkpoints/vit_adabound_8_2160.pt'),\n",
       " WindowsPath('checkpoints/vit_adabound_trial_0_0_2434.pt'),\n",
       " WindowsPath('checkpoints/vit_adabound_trial_0_0_2490.pt'),\n",
       " WindowsPath('checkpoints/vit_adabound_trial_0_0_2502.pt'),\n",
       " WindowsPath('checkpoints/vit_adabound_trial_0_0_2630.pt'),\n",
       " WindowsPath('checkpoints/vit_adabound_trial_0_11_2139.pt'),\n",
       " WindowsPath('checkpoints/vit_adabound_trial_0_1_2233.pt'),\n",
       " WindowsPath('checkpoints/vit_adabound_trial_0_1_2251.pt'),\n",
       " WindowsPath('checkpoints/vit_adabound_trial_0_1_2277.pt'),\n",
       " WindowsPath('checkpoints/vit_adabound_trial_0_2_2214.pt'),\n",
       " WindowsPath('checkpoints/vit_adabound_trial_0_2_2215.pt'),\n",
       " WindowsPath('checkpoints/vit_adabound_trial_0_2_2229.pt'),\n",
       " WindowsPath('checkpoints/vit_adabound_trial_0_3_2212.pt'),\n",
       " WindowsPath('checkpoints/vit_adabound_trial_0_4_2206.pt'),\n",
       " WindowsPath('checkpoints/vit_adabound_trial_0_5_2204.pt'),\n",
       " WindowsPath('checkpoints/vit_adabound_trial_0_6_2174.pt'),\n",
       " WindowsPath('checkpoints/vit_adabound_trial_0_8_2142.pt'),\n",
       " WindowsPath('checkpoints/vit_adabound_trial_10_0_2441.pt'),\n",
       " WindowsPath('checkpoints/vit_adabound_trial_10_12_2122.pt'),\n",
       " WindowsPath('checkpoints/vit_adabound_trial_10_1_2233.pt'),\n",
       " WindowsPath('checkpoints/vit_adabound_trial_10_2_2188.pt'),\n",
       " WindowsPath('checkpoints/vit_adabound_trial_10_3_2161.pt'),\n",
       " WindowsPath('checkpoints/vit_adabound_trial_10_5_2143.pt'),\n",
       " WindowsPath('checkpoints/vit_adabound_trial_10_9_2127.pt'),\n",
       " WindowsPath('checkpoints/vit_adabound_trial_11_0_2413.pt'),\n",
       " WindowsPath('checkpoints/vit_adabound_trial_11_11_2133.pt'),\n",
       " WindowsPath('checkpoints/vit_adabound_trial_11_1_2234.pt'),\n",
       " WindowsPath('checkpoints/vit_adabound_trial_11_2_2202.pt'),\n",
       " WindowsPath('checkpoints/vit_adabound_trial_11_3_2183.pt'),\n",
       " WindowsPath('checkpoints/vit_adabound_trial_11_4_2180.pt'),\n",
       " WindowsPath('checkpoints/vit_adabound_trial_11_5_2159.pt'),\n",
       " WindowsPath('checkpoints/vit_adabound_trial_11_7_2151.pt'),\n",
       " WindowsPath('checkpoints/vit_adabound_trial_11_8_2144.pt'),\n",
       " WindowsPath('checkpoints/vit_adabound_trial_11_9_2141.pt'),\n",
       " WindowsPath('checkpoints/vit_adabound_trial_12_0_2443.pt'),\n",
       " WindowsPath('checkpoints/vit_adabound_trial_12_1_2255.pt'),\n",
       " WindowsPath('checkpoints/vit_adabound_trial_12_2_2206.pt'),\n",
       " WindowsPath('checkpoints/vit_adabound_trial_12_4_2191.pt'),\n",
       " WindowsPath('checkpoints/vit_adabound_trial_12_5_2179.pt'),\n",
       " WindowsPath('checkpoints/vit_adabound_trial_12_7_2175.pt'),\n",
       " WindowsPath('checkpoints/vit_adabound_trial_12_8_2165.pt'),\n",
       " WindowsPath('checkpoints/vit_adabound_trial_13_0_2568.pt'),\n",
       " WindowsPath('checkpoints/vit_adabound_trial_13_11_2157.pt'),\n",
       " WindowsPath('checkpoints/vit_adabound_trial_13_12_2149.pt'),\n",
       " WindowsPath('checkpoints/vit_adabound_trial_13_13_2136.pt'),\n",
       " WindowsPath('checkpoints/vit_adabound_trial_13_1_2249.pt'),\n",
       " WindowsPath('checkpoints/vit_adabound_trial_13_2_2223.pt'),\n",
       " WindowsPath('checkpoints/vit_adabound_trial_13_3_2207.pt'),\n",
       " WindowsPath('checkpoints/vit_adabound_trial_13_4_2200.pt'),\n",
       " WindowsPath('checkpoints/vit_adabound_trial_13_5_2185.pt'),\n",
       " WindowsPath('checkpoints/vit_adabound_trial_13_7_2183.pt'),\n",
       " WindowsPath('checkpoints/vit_adabound_trial_13_9_2163.pt'),\n",
       " WindowsPath('checkpoints/vit_adabound_trial_14_0_2654.pt'),\n",
       " WindowsPath('checkpoints/vit_adabound_trial_14_13_2126.pt'),\n",
       " WindowsPath('checkpoints/vit_adabound_trial_14_1_2209.pt'),\n",
       " WindowsPath('checkpoints/vit_adabound_trial_14_2_2177.pt'),\n",
       " WindowsPath('checkpoints/vit_adabound_trial_14_3_2157.pt'),\n",
       " WindowsPath('checkpoints/vit_adabound_trial_14_4_2156.pt'),\n",
       " WindowsPath('checkpoints/vit_adabound_trial_14_5_2131.pt'),\n",
       " WindowsPath('checkpoints/vit_adabound_trial_14_9_2127.pt'),\n",
       " WindowsPath('checkpoints/vit_adabound_trial_15_0_2723.pt'),\n",
       " WindowsPath('checkpoints/vit_adabound_trial_15_1_2189.pt'),\n",
       " WindowsPath('checkpoints/vit_adabound_trial_15_2_2168.pt'),\n",
       " WindowsPath('checkpoints/vit_adabound_trial_15_3_2147.pt'),\n",
       " WindowsPath('checkpoints/vit_adabound_trial_16_0_2682.pt'),\n",
       " WindowsPath('checkpoints/vit_adabound_trial_16_10_2166.pt'),\n",
       " WindowsPath('checkpoints/vit_adabound_trial_16_13_2159.pt'),\n",
       " WindowsPath('checkpoints/vit_adabound_trial_16_1_2227.pt'),\n",
       " WindowsPath('checkpoints/vit_adabound_trial_16_2_2222.pt'),\n",
       " WindowsPath('checkpoints/vit_adabound_trial_16_3_2215.pt'),\n",
       " WindowsPath('checkpoints/vit_adabound_trial_16_4_2204.pt'),\n",
       " WindowsPath('checkpoints/vit_adabound_trial_16_5_2198.pt'),\n",
       " WindowsPath('checkpoints/vit_adabound_trial_16_6_2177.pt'),\n",
       " WindowsPath('checkpoints/vit_adabound_trial_16_7_2171.pt'),\n",
       " WindowsPath('checkpoints/vit_adabound_trial_16_8_2170.pt'),\n",
       " WindowsPath('checkpoints/vit_adabound_trial_16_9_2170.pt'),\n",
       " WindowsPath('checkpoints/vit_adabound_trial_17_0_2553.pt'),\n",
       " WindowsPath('checkpoints/vit_adabound_trial_17_10_2125.pt'),\n",
       " WindowsPath('checkpoints/vit_adabound_trial_17_1_2192.pt'),\n",
       " WindowsPath('checkpoints/vit_adabound_trial_17_2_2157.pt'),\n",
       " WindowsPath('checkpoints/vit_adabound_trial_17_3_2154.pt'),\n",
       " WindowsPath('checkpoints/vit_adabound_trial_17_6_2146.pt'),\n",
       " WindowsPath('checkpoints/vit_adabound_trial_17_9_2133.pt'),\n",
       " WindowsPath('checkpoints/vit_adabound_trial_18_0_2815.pt'),\n",
       " WindowsPath('checkpoints/vit_adabound_trial_18_1_2256.pt'),\n",
       " WindowsPath('checkpoints/vit_adabound_trial_18_2_2220.pt'),\n",
       " WindowsPath('checkpoints/vit_adabound_trial_18_6_2217.pt'),\n",
       " WindowsPath('checkpoints/vit_adabound_trial_18_7_2172.pt'),\n",
       " WindowsPath('checkpoints/vit_adabound_trial_18_8_2159.pt'),\n",
       " WindowsPath('checkpoints/vit_adabound_trial_19_0_2703.pt'),\n",
       " WindowsPath('checkpoints/vit_adabound_trial_19_10_2167.pt'),\n",
       " WindowsPath('checkpoints/vit_adabound_trial_19_1_2241.pt'),\n",
       " WindowsPath('checkpoints/vit_adabound_trial_19_2_2228.pt'),\n",
       " WindowsPath('checkpoints/vit_adabound_trial_19_3_2203.pt'),\n",
       " WindowsPath('checkpoints/vit_adabound_trial_19_4_2180.pt'),\n",
       " WindowsPath('checkpoints/vit_adabound_trial_19_5_2176.pt'),\n",
       " WindowsPath('checkpoints/vit_adabound_trial_1_0_2392.pt'),\n",
       " WindowsPath('checkpoints/vit_adabound_trial_1_0_2552.pt'),\n",
       " WindowsPath('checkpoints/vit_adabound_trial_1_10_2114.pt'),\n",
       " WindowsPath('checkpoints/vit_adabound_trial_1_1_2223.pt'),\n",
       " WindowsPath('checkpoints/vit_adabound_trial_1_1_2242.pt'),\n",
       " WindowsPath('checkpoints/vit_adabound_trial_1_2_2205.pt'),\n",
       " WindowsPath('checkpoints/vit_adabound_trial_1_2_2218.pt'),\n",
       " WindowsPath('checkpoints/vit_adabound_trial_1_3_2195.pt'),\n",
       " WindowsPath('checkpoints/vit_adabound_trial_1_4_2185.pt'),\n",
       " WindowsPath('checkpoints/vit_adabound_trial_1_5_2138.pt'),\n",
       " WindowsPath('checkpoints/vit_adabound_trial_2_0_2484.pt'),\n",
       " WindowsPath('checkpoints/vit_adabound_trial_2_0_2596.pt'),\n",
       " WindowsPath('checkpoints/vit_adabound_trial_2_14_2143.pt'),\n",
       " WindowsPath('checkpoints/vit_adabound_trial_2_1_2232.pt'),\n",
       " WindowsPath('checkpoints/vit_adabound_trial_2_1_2343.pt'),\n",
       " WindowsPath('checkpoints/vit_adabound_trial_2_2_2198.pt'),\n",
       " WindowsPath('checkpoints/vit_adabound_trial_2_2_2246.pt'),\n",
       " WindowsPath('checkpoints/vit_adabound_trial_2_3_2179.pt'),\n",
       " WindowsPath('checkpoints/vit_adabound_trial_2_4_2166.pt'),\n",
       " WindowsPath('checkpoints/vit_adabound_trial_2_7_2157.pt'),\n",
       " WindowsPath('checkpoints/vit_adabound_trial_2_9_2146.pt'),\n",
       " WindowsPath('checkpoints/vit_adabound_trial_3_0_2421.pt'),\n",
       " WindowsPath('checkpoints/vit_adabound_trial_3_0_2746.pt'),\n",
       " WindowsPath('checkpoints/vit_adabound_trial_3_1_2175.pt'),\n",
       " WindowsPath('checkpoints/vit_adabound_trial_3_1_2244.pt'),\n",
       " WindowsPath('checkpoints/vit_adabound_trial_3_2_2200.pt'),\n",
       " WindowsPath('checkpoints/vit_adabound_trial_3_3_2163.pt'),\n",
       " WindowsPath('checkpoints/vit_adabound_trial_3_6_2142.pt'),\n",
       " WindowsPath('checkpoints/vit_adabound_trial_3_7_2138.pt'),\n",
       " WindowsPath('checkpoints/vit_adabound_trial_3_8_2118.pt'),\n",
       " WindowsPath('checkpoints/vit_adabound_trial_4_0_2371.pt'),\n",
       " WindowsPath('checkpoints/vit_adabound_trial_4_0_2401.pt'),\n",
       " WindowsPath('checkpoints/vit_adabound_trial_4_11_2215.pt'),\n",
       " WindowsPath('checkpoints/vit_adabound_trial_4_1_2229.pt'),\n",
       " WindowsPath('checkpoints/vit_adabound_trial_4_1_2249.pt'),\n",
       " WindowsPath('checkpoints/vit_adabound_trial_4_2_2222.pt'),\n",
       " WindowsPath('checkpoints/vit_adabound_trial_4_2_2238.pt'),\n",
       " WindowsPath('checkpoints/vit_adabound_trial_4_3_2221.pt'),\n",
       " WindowsPath('checkpoints/vit_adabound_trial_4_5_2220.pt'),\n",
       " WindowsPath('checkpoints/vit_adabound_trial_4_6_2216.pt'),\n",
       " WindowsPath('checkpoints/vit_adabound_trial_5_0_2463.pt'),\n",
       " WindowsPath('checkpoints/vit_adabound_trial_5_0_2517.pt'),\n",
       " WindowsPath('checkpoints/vit_adabound_trial_5_10_2159.pt'),\n",
       " WindowsPath('checkpoints/vit_adabound_trial_5_11_2138.pt'),\n",
       " WindowsPath('checkpoints/vit_adabound_trial_5_1_2228.pt'),\n",
       " WindowsPath('checkpoints/vit_adabound_trial_5_1_2368.pt'),\n",
       " WindowsPath('checkpoints/vit_adabound_trial_5_2_2218.pt'),\n",
       " WindowsPath('checkpoints/vit_adabound_trial_5_6_2213.pt'),\n",
       " WindowsPath('checkpoints/vit_adabound_trial_5_8_2175.pt'),\n",
       " WindowsPath('checkpoints/vit_adabound_trial_5_9_2162.pt'),\n",
       " WindowsPath('checkpoints/vit_adabound_trial_6_0_2710.pt'),\n",
       " WindowsPath('checkpoints/vit_adabound_trial_6_0_2728.pt'),\n",
       " WindowsPath('checkpoints/vit_adabound_trial_6_12_2180.pt'),\n",
       " WindowsPath('checkpoints/vit_adabound_trial_6_1_2220.pt'),\n",
       " WindowsPath('checkpoints/vit_adabound_trial_6_1_2227.pt'),\n",
       " WindowsPath('checkpoints/vit_adabound_trial_6_2_2208.pt'),\n",
       " WindowsPath('checkpoints/vit_adabound_trial_6_3_2213.pt'),\n",
       " WindowsPath('checkpoints/vit_adabound_trial_6_4_2199.pt'),\n",
       " WindowsPath('checkpoints/vit_adabound_trial_6_8_2197.pt'),\n",
       " WindowsPath('checkpoints/vit_adabound_trial_7_0_2616.pt'),\n",
       " WindowsPath('checkpoints/vit_adabound_trial_7_0_2624.pt'),\n",
       " WindowsPath('checkpoints/vit_adabound_trial_7_10_2170.pt'),\n",
       " WindowsPath('checkpoints/vit_adabound_trial_7_11_2167.pt'),\n",
       " WindowsPath('checkpoints/vit_adabound_trial_7_13_2166.pt'),\n",
       " WindowsPath('checkpoints/vit_adabound_trial_7_1_2241.pt'),\n",
       " WindowsPath('checkpoints/vit_adabound_trial_7_1_2247.pt'),\n",
       " WindowsPath('checkpoints/vit_adabound_trial_7_2_2212.pt'),\n",
       " WindowsPath('checkpoints/vit_adabound_trial_7_2_2216.pt'),\n",
       " WindowsPath('checkpoints/vit_adabound_trial_7_5_2206.pt'),\n",
       " WindowsPath('checkpoints/vit_adabound_trial_7_6_2192.pt'),\n",
       " WindowsPath('checkpoints/vit_adabound_trial_7_9_2190.pt'),\n",
       " WindowsPath('checkpoints/vit_adabound_trial_8_0_2418.pt'),\n",
       " WindowsPath('checkpoints/vit_adabound_trial_8_0_2483.pt'),\n",
       " WindowsPath('checkpoints/vit_adabound_trial_8_1_2231.pt'),\n",
       " WindowsPath('checkpoints/vit_adabound_trial_8_1_2237.pt'),\n",
       " WindowsPath('checkpoints/vit_adabound_trial_8_2_2214.pt'),\n",
       " WindowsPath('checkpoints/vit_adabound_trial_8_2_2217.pt'),\n",
       " WindowsPath('checkpoints/vit_adabound_trial_8_3_2202.pt'),\n",
       " WindowsPath('checkpoints/vit_adabound_trial_8_4_2197.pt'),\n",
       " WindowsPath('checkpoints/vit_adabound_trial_8_5_2151.pt'),\n",
       " WindowsPath('checkpoints/vit_adabound_trial_8_8_2144.pt'),\n",
       " WindowsPath('checkpoints/vit_adabound_trial_8_9_2130.pt'),\n",
       " WindowsPath('checkpoints/vit_adabound_trial_9_0_2527.pt'),\n",
       " WindowsPath('checkpoints/vit_adabound_trial_9_0_2733.pt'),\n",
       " WindowsPath('checkpoints/vit_adabound_trial_9_1_2230.pt'),\n",
       " WindowsPath('checkpoints/vit_adabound_trial_9_1_2268.pt'),\n",
       " WindowsPath('checkpoints/vit_adabound_trial_9_2_2209.pt'),\n",
       " WindowsPath('checkpoints/vit_adabound_trial_9_2_2220.pt'),\n",
       " WindowsPath('checkpoints/vit_adabound_trial_9_3_2201.pt'),\n",
       " WindowsPath('checkpoints/vit_adabound_trial_9_4_2181.pt'),\n",
       " WindowsPath('checkpoints/vit_adam_0_5383.pt'),\n",
       " WindowsPath('checkpoints/vit_adam_1_5310.pt'),\n",
       " WindowsPath('checkpoints/vit_adam_2_5243.pt'),\n",
       " WindowsPath('checkpoints/vit_adam_3_5210.pt')]"
      ]
     },
     "execution_count": 42,
     "metadata": {},
     "output_type": "execute_result"
    }
   ],
   "source": [
    "from pathlib import Path\n",
    "checkpoints = list(Path('./checkpoints/').glob('*.pt'))\n",
    "checkpoints\n"
   ]
  },
  {
   "cell_type": "code",
   "execution_count": 43,
   "id": "49208f0f-ae5a-4af1-bb4f-151a3e39b84b",
   "metadata": {},
   "outputs": [],
   "source": [
    "def print_results(name, model, test_loader, scaler=None):\n",
    "    total_loss, f1, accuracy = calculate_metrics(model, test_loader, device='cuda')\n",
    "    print(f'loss: {total_loss}')\n",
    "    print(f'f1: {f1}')\n",
    "    print(f'accuracy: {accuracy}\\n')\n"
   ]
  },
  {
   "cell_type": "markdown",
   "id": "fd559f48-7162-41e6-9460-44ae82df222a",
   "metadata": {},
   "source": [
    "### Before hyperparams tuning, 50 classes"
   ]
  },
  {
   "cell_type": "code",
   "execution_count": 46,
   "id": "9cc6faa4-e64b-4f8d-a2c5-66bb34fe3b9e",
   "metadata": {},
   "outputs": [],
   "source": [
    "model = VitTransformer(num_encoders, latent_size, device, num_classes).to(device)\n"
   ]
  },
  {
   "cell_type": "code",
   "execution_count": 49,
   "id": "0c908c4c-938a-4d88-be02-513f1ab5c0bd",
   "metadata": {},
   "outputs": [
    {
     "name": "stderr",
     "output_type": "stream",
     "text": [
      "100%|████████████████████████████████████████████████████████████████████████████████| 566/566 [00:31<00:00, 18.02it/s]"
     ]
    },
    {
     "name": "stdout",
     "output_type": "stream",
     "text": [
      "loss: 2251.21350812912\n",
      "f1: 0.0038878215385961343\n",
      "accuracy: 0.02344095532950022\n",
      "\n"
     ]
    },
    {
     "name": "stderr",
     "output_type": "stream",
     "text": [
      "\n"
     ]
    }
   ],
   "source": [
    "model.load_state_dict(torch.load('checkpoints/vit_adabound_old__24_253.pt'))\n",
    "print_results(\"custom_vit_adabound_old_50\", model, test_loader)\n"
   ]
  },
  {
   "cell_type": "markdown",
   "id": "5e22e6b5-604d-429a-85d2-94d936071783",
   "metadata": {},
   "source": [
    "### After hyperparams tuning, 50 classes"
   ]
  },
  {
   "cell_type": "code",
   "execution_count": 50,
   "id": "afc2ef7e-0f45-4bf9-9896-91c6c8d125cb",
   "metadata": {},
   "outputs": [],
   "source": [
    "model1 = VitTransformer(num_encoders, latent_size, device, num_classes).to(device)\n"
   ]
  },
  {
   "cell_type": "code",
   "execution_count": 56,
   "id": "31ac04a8-8464-4b16-9555-9644af0cb8c4",
   "metadata": {},
   "outputs": [
    {
     "name": "stderr",
     "output_type": "stream",
     "text": [
      "100%|████████████████████████████████████████████████████████████████████████████████| 566/566 [00:25<00:00, 21.83it/s]"
     ]
    },
    {
     "name": "stdout",
     "output_type": "stream",
     "text": [
      "loss: 2127.4335103034973\n",
      "f1: 0.03887333875804919\n",
      "accuracy: 0.06722689075630252\n",
      "\n"
     ]
    },
    {
     "name": "stderr",
     "output_type": "stream",
     "text": [
      "\n"
     ]
    }
   ],
   "source": [
    "model1.load_state_dict(torch.load('checkpoints/vit_adabound_trial_14_9_2127.pt'))\n",
    "print_results(\"custom_vit_adabound_new_50\", model1, test_loader)\n"
   ]
  },
  {
   "cell_type": "code",
   "execution_count": null,
   "id": "346bbf6f-9f36-4cd6-9b6d-2c760cb3d36d",
   "metadata": {},
   "outputs": [],
   "source": []
  }
 ],
 "metadata": {
  "kernelspec": {
   "display_name": "itmo_cv",
   "language": "python",
   "name": "itmo_cv"
  },
  "language_info": {
   "codemirror_mode": {
    "name": "ipython",
    "version": 3
   },
   "file_extension": ".py",
   "mimetype": "text/x-python",
   "name": "python",
   "nbconvert_exporter": "python",
   "pygments_lexer": "ipython3",
   "version": "3.11.6"
  }
 },
 "nbformat": 4,
 "nbformat_minor": 5
}
