{
 "cells": [
  {
   "cell_type": "markdown",
   "id": "35f87a5f-9813-41d8-9cc7-014855d3277e",
   "metadata": {},
   "source": [
    "# Лабораторная работа 1: Классификация изображений"
   ]
  },
  {
   "cell_type": "markdown",
   "id": "27412b90-de1d-494b-8ad4-98cf51474a8f",
   "metadata": {},
   "source": [
    "## Import libs"
   ]
  },
  {
   "cell_type": "code",
   "execution_count": 3,
   "id": "58dfe175-4b85-4be4-8a30-85006f7f0ca1",
   "metadata": {},
   "outputs": [],
   "source": [
    "import einops\n",
    "from tqdm.notebook import tqdm\n",
    "\n",
    "from torchsummary import summary\n",
    "\n",
    "import time\n",
    "\n",
    "import pandas as pd\n",
    "import torch\n",
    "from torch import nn\n",
    "import torchvision\n",
    "import torch.optim as optim\n",
    "from torchvision.transforms import Compose, Resize, ToTensor, Normalize, RandomHorizontalFlip, RandomCrop\n"
   ]
  },
  {
   "cell_type": "markdown",
   "id": "d76c9862-9430-4604-950a-e9c79ec2f942",
   "metadata": {},
   "source": [
    "## Get data"
   ]
  },
  {
   "cell_type": "code",
   "execution_count": 4,
   "id": "643cc82d-737a-4c5c-ae4a-bab50de0003e",
   "metadata": {},
   "outputs": [],
   "source": [
    "import os\n"
   ]
  },
  {
   "cell_type": "code",
   "execution_count": 5,
   "id": "7191a550-42f2-4436-8f14-826776c69681",
   "metadata": {},
   "outputs": [
    {
     "data": {
      "text/html": [
       "<div>\n",
       "<style scoped>\n",
       "    .dataframe tbody tr th:only-of-type {\n",
       "        vertical-align: middle;\n",
       "    }\n",
       "\n",
       "    .dataframe tbody tr th {\n",
       "        vertical-align: top;\n",
       "    }\n",
       "\n",
       "    .dataframe thead th {\n",
       "        text-align: right;\n",
       "    }\n",
       "</style>\n",
       "<table border=\"1\" class=\"dataframe\">\n",
       "  <thead>\n",
       "    <tr style=\"text-align: right;\">\n",
       "      <th></th>\n",
       "      <th>bbox_x1</th>\n",
       "      <th>bbox_y1</th>\n",
       "      <th>bbox_x2</th>\n",
       "      <th>bbox_y2</th>\n",
       "      <th>class</th>\n",
       "      <th>fname</th>\n",
       "    </tr>\n",
       "  </thead>\n",
       "  <tbody>\n",
       "    <tr>\n",
       "      <th>0</th>\n",
       "      <td>39</td>\n",
       "      <td>116</td>\n",
       "      <td>569</td>\n",
       "      <td>375</td>\n",
       "      <td>14</td>\n",
       "      <td>00001.jpg</td>\n",
       "    </tr>\n",
       "    <tr>\n",
       "      <th>1</th>\n",
       "      <td>36</td>\n",
       "      <td>116</td>\n",
       "      <td>868</td>\n",
       "      <td>587</td>\n",
       "      <td>3</td>\n",
       "      <td>00002.jpg</td>\n",
       "    </tr>\n",
       "    <tr>\n",
       "      <th>2</th>\n",
       "      <td>85</td>\n",
       "      <td>109</td>\n",
       "      <td>601</td>\n",
       "      <td>381</td>\n",
       "      <td>91</td>\n",
       "      <td>00003.jpg</td>\n",
       "    </tr>\n",
       "    <tr>\n",
       "      <th>3</th>\n",
       "      <td>621</td>\n",
       "      <td>393</td>\n",
       "      <td>1484</td>\n",
       "      <td>1096</td>\n",
       "      <td>134</td>\n",
       "      <td>00004.jpg</td>\n",
       "    </tr>\n",
       "    <tr>\n",
       "      <th>4</th>\n",
       "      <td>14</td>\n",
       "      <td>36</td>\n",
       "      <td>133</td>\n",
       "      <td>99</td>\n",
       "      <td>106</td>\n",
       "      <td>00005.jpg</td>\n",
       "    </tr>\n",
       "    <tr>\n",
       "      <th>...</th>\n",
       "      <td>...</td>\n",
       "      <td>...</td>\n",
       "      <td>...</td>\n",
       "      <td>...</td>\n",
       "      <td>...</td>\n",
       "      <td>...</td>\n",
       "    </tr>\n",
       "    <tr>\n",
       "      <th>8139</th>\n",
       "      <td>3</td>\n",
       "      <td>44</td>\n",
       "      <td>423</td>\n",
       "      <td>336</td>\n",
       "      <td>78</td>\n",
       "      <td>08140.jpg</td>\n",
       "    </tr>\n",
       "    <tr>\n",
       "      <th>8140</th>\n",
       "      <td>138</td>\n",
       "      <td>150</td>\n",
       "      <td>706</td>\n",
       "      <td>523</td>\n",
       "      <td>196</td>\n",
       "      <td>08141.jpg</td>\n",
       "    </tr>\n",
       "    <tr>\n",
       "      <th>8141</th>\n",
       "      <td>26</td>\n",
       "      <td>246</td>\n",
       "      <td>660</td>\n",
       "      <td>449</td>\n",
       "      <td>163</td>\n",
       "      <td>08142.jpg</td>\n",
       "    </tr>\n",
       "    <tr>\n",
       "      <th>8142</th>\n",
       "      <td>78</td>\n",
       "      <td>526</td>\n",
       "      <td>1489</td>\n",
       "      <td>908</td>\n",
       "      <td>112</td>\n",
       "      <td>08143.jpg</td>\n",
       "    </tr>\n",
       "    <tr>\n",
       "      <th>8143</th>\n",
       "      <td>20</td>\n",
       "      <td>240</td>\n",
       "      <td>862</td>\n",
       "      <td>677</td>\n",
       "      <td>17</td>\n",
       "      <td>08144.jpg</td>\n",
       "    </tr>\n",
       "  </tbody>\n",
       "</table>\n",
       "<p>8144 rows × 6 columns</p>\n",
       "</div>"
      ],
      "text/plain": [
       "      bbox_x1  bbox_y1  bbox_x2  bbox_y2  class      fname\n",
       "0          39      116      569      375     14  00001.jpg\n",
       "1          36      116      868      587      3  00002.jpg\n",
       "2          85      109      601      381     91  00003.jpg\n",
       "3         621      393     1484     1096    134  00004.jpg\n",
       "4          14       36      133       99    106  00005.jpg\n",
       "...       ...      ...      ...      ...    ...        ...\n",
       "8139        3       44      423      336     78  08140.jpg\n",
       "8140      138      150      706      523    196  08141.jpg\n",
       "8141       26      246      660      449    163  08142.jpg\n",
       "8142       78      526     1489      908    112  08143.jpg\n",
       "8143       20      240      862      677     17  08144.jpg\n",
       "\n",
       "[8144 rows x 6 columns]"
      ]
     },
     "execution_count": 5,
     "metadata": {},
     "output_type": "execute_result"
    }
   ],
   "source": [
    "cars_annos_train_df = pd.read_csv('cars_annos_train.csv')\n",
    "cars_annos_test_df = pd.read_csv('cars_annos_test.csv')\n",
    "\n",
    "cars_annos_train_df\n"
   ]
  },
  {
   "cell_type": "code",
   "execution_count": 36,
   "id": "99081b24-3c60-4243-9374-8df50ccd373d",
   "metadata": {},
   "outputs": [
    {
     "data": {
      "text/plain": [
       "class\n",
       "147    31\n",
       "119    30\n",
       "20     30\n",
       "146    29\n",
       "193    29\n",
       "       ..\n",
       "33     13\n",
       "67     13\n",
       "64     12\n",
       "163    11\n",
       "136     9\n",
       "Name: count, Length: 196, dtype: int64"
      ]
     },
     "execution_count": 36,
     "metadata": {},
     "output_type": "execute_result"
    }
   ],
   "source": [
    "class_counts = cars_annos_train_df['class'].value_counts()\n",
    "class_counts\n"
   ]
  },
  {
   "cell_type": "code",
   "execution_count": 37,
   "id": "5488781b-8f26-4da4-af87-5f53f19e0168",
   "metadata": {},
   "outputs": [],
   "source": [
    "cars_annos_train_df = cars_annos_train_df.sample(2000, random_state=42).reset_index(drop=True)\n",
    "cars_annos_test_df = cars_annos_test_df.sample(2000, random_state=42).reset_index(drop=True)\n"
   ]
  },
  {
   "cell_type": "code",
   "execution_count": 38,
   "id": "ff7569c4-bf02-408a-8f44-98867af46e5d",
   "metadata": {},
   "outputs": [],
   "source": [
    "cars_annos_train_df['class'] = cars_annos_train_df['class'].astype('category')\n",
    "cars_annos_test_df['class'] = cars_annos_test_df['class'].astype('category')\n"
   ]
  },
  {
   "cell_type": "markdown",
   "id": "24a33d2e-8130-4de3-91f7-31fbcc4b657c",
   "metadata": {},
   "source": [
    "## Train test split"
   ]
  },
  {
   "cell_type": "code",
   "execution_count": 39,
   "id": "490406ac-1937-488f-bb50-bd0610951e8b",
   "metadata": {},
   "outputs": [],
   "source": [
    "import numpy as np\n",
    "import matplotlib.pyplot as plt\n",
    "from PIL import Image\n",
    "from torchvision.transforms.functional import crop\n",
    "from torch.utils.data import Dataset, DataLoader\n",
    "import torchvision.transforms as transforms\n"
   ]
  },
  {
   "cell_type": "code",
   "execution_count": 40,
   "id": "b4d2affd-a9d0-4519-aba5-bb07c0e10ac8",
   "metadata": {},
   "outputs": [],
   "source": [
    "def plot_batch(images: torch.Tensor, labels: torch.Tensor):\n",
    "    num_images = images.size(0)\n",
    "    num_rows = int(np.ceil(np.sqrt(num_images)))\n",
    "\n",
    "    fig, axs = plt.subplots(num_rows, num_rows)\n",
    "    fig.subplots_adjust(hspace=0.1, wspace=1)\n",
    "\n",
    "    for i, ax in enumerate(axs.flatten()):\n",
    "        if i < num_images:\n",
    "            image, label = images[i], str(int(labels[i]))\n",
    "            image = image.numpy().transpose((1, 2, 0))\n",
    "            image = (image * 0.5) + 0.5\n",
    "\n",
    "            ax.imshow(image.squeeze())\n",
    "            ax.set_title(int(label), fontsize=12)\n",
    "            ax.axis(\"off\")\n",
    "        else:\n",
    "            ax.axis(\"off\")\n",
    "\n",
    "    plt.show()\n",
    "    "
   ]
  },
  {
   "cell_type": "code",
   "execution_count": 41,
   "id": "5e9f8c12-88b2-4e45-b20b-e2fb9406b9cf",
   "metadata": {},
   "outputs": [],
   "source": [
    "class ImageDataset(Dataset):\n",
    "    def __init__(self, image_dataframe, image_dir, transform=None):\n",
    "        self.image_dataframe = image_dataframe\n",
    "        self.transform = transform\n",
    "        self.image_dataframe['im_path'] = self.image_dataframe['fname'].apply(lambda x: os.path.join(image_dir, x))\n",
    "\n",
    "    def __len__(self):\n",
    "        return len(self.image_dataframe)\n",
    "\n",
    "    def __getitem__(self, idx):\n",
    "        image_path = self.image_dataframe.loc[idx, 'im_path']\n",
    "        label = self.image_dataframe.loc[idx, 'class']\n",
    "            \n",
    "        image = Image.open(image_path)\n",
    "\n",
    "        if image.mode == 'L':\n",
    "            image = image.convert('RGB')\n",
    "\n",
    "        # Get bounding box coordinates\n",
    "        bbox_x1 = self.image_dataframe.loc[idx, 'bbox_x1']\n",
    "        bbox_y1 = self.image_dataframe.loc[idx, 'bbox_y1']\n",
    "        bbox_x2 = self.image_dataframe.loc[idx, 'bbox_x2']\n",
    "        bbox_y2 = self.image_dataframe.loc[idx, 'bbox_y2']\n",
    "\n",
    "        # Crop the image using bounding box coordinates\n",
    "        image = crop(image, top=bbox_y1, left=bbox_x1, height=bbox_y2-bbox_y1, width=bbox_x2-bbox_x1)\n",
    "\n",
    "        if self.transform:\n",
    "            image = self.transform(image)\n",
    "\n",
    "        return image, label\n"
   ]
  },
  {
   "cell_type": "code",
   "execution_count": 42,
   "id": "18a0f555-6dfc-416d-97c2-98ef4f9b0e99",
   "metadata": {},
   "outputs": [],
   "source": [
    "torch.manual_seed(42)\n",
    "\n",
    "# transform = transforms.Compose([\n",
    "#   transforms.Resize((224, 224)),\n",
    "#   transforms.ToTensor(),\n",
    "#   transforms.Normalize((0.5, 0.5, 0.5), (0.5, 0.5, 0.5)),\n",
    "# ])\n",
    "\n",
    "transform = transforms.Compose([\n",
    "    # transforms.Grayscale(num_output_channels=3),  # Convert to 3 channels\n",
    "    transforms.Resize((224, 224)),\n",
    "    transforms.ToTensor(),\n",
    "    transforms.Normalize((0.5, 0.5, 0.5), (0.5, 0.5, 0.5)),\n",
    "])\n",
    "\n",
    "train_set = ImageDataset(cars_annos_train_df, 'cars_train', transform=transform)\n",
    "test_set = ImageDataset(cars_annos_test_df, 'cars_test', transform=transform)\n"
   ]
  },
  {
   "cell_type": "code",
   "execution_count": 43,
   "id": "37aa0999-850d-45bc-ab5c-8d2af55e0c8c",
   "metadata": {},
   "outputs": [],
   "source": [
    "batch_size = 4\n",
    "\n",
    "train_loader = DataLoader(train_set, batch_size=batch_size, shuffle=True)\n",
    "test_loader = DataLoader(test_set, batch_size=batch_size, shuffle=False)\n"
   ]
  },
  {
   "cell_type": "code",
   "execution_count": 44,
   "id": "d82f7e6c-fef3-4e7c-beee-59f4d0d37739",
   "metadata": {},
   "outputs": [
    {
     "data": {
      "image/png": "[encoded data removed]",
      "text/plain": [
       "<Figure size 640x480 with 4 Axes>"
      ]
     },
     "metadata": {},
     "output_type": "display_data"
    }
   ],
   "source": [
    "batch_images, batch_labels = next(iter(train_loader))\n",
    "plot_batch(batch_images, batch_labels)\n"
   ]
  },
  {
   "cell_type": "markdown",
   "id": "c10a0961-7e36-4bd1-88b3-4fcadb6f2cc5",
   "metadata": {},
   "source": [
    "## ViT\n"
   ]
  },
  {
   "cell_type": "code",
   "execution_count": 45,
   "id": "2f700651-155a-4908-81bf-49497fed8bc8",
   "metadata": {},
   "outputs": [
    {
     "data": {
      "text/plain": [
       "device(type='cuda')"
      ]
     },
     "execution_count": 45,
     "metadata": {},
     "output_type": "execute_result"
    }
   ],
   "source": [
    "device = torch.device('cuda' if torch.cuda.is_available() else 'cpu')\n",
    "device\n"
   ]
  },
  {
   "cell_type": "code",
   "execution_count": 46,
   "id": "d3d86581-58a6-479a-9e18-aeb16e4b7042",
   "metadata": {},
   "outputs": [],
   "source": [
    "patch_size = 16         # Patch size (P) = 16\n",
    "latent_size = 768       # Latent vector (D). ViT-Base uses 768\n",
    "n_channels = 3          # Number of channels for input images\n",
    "num_heads = 12          # ViT-Base uses 12 heads\n",
    "num_encoders = 12       # ViT-Base uses 12 encoder layers\n",
    "dropout = 0.1           # Dropout = 0.1 is used with ViT-Base & ImageNet-21k\n",
    "num_classes = 197       # Number of classes in the dataset\n",
    "size = 224              # Size used for training = 224\n",
    "\n",
    "epochs = 30             # Number of epochs\n",
    "base_lr = 10e-3         # Base LR\n",
    "weight_decay = 0.03     # Weight decay for ViT-Base (on ImageNet-21k)\n"
   ]
  },
  {
   "cell_type": "code",
   "execution_count": 47,
   "id": "0954285c-b9e4-4ebf-8ed9-a25531b50995",
   "metadata": {},
   "outputs": [],
   "source": [
    "epochs = 10"
   ]
  },
  {
   "cell_type": "code",
   "execution_count": 48,
   "id": "e486b180-0e38-4cbb-a3d6-652c0c083cf6",
   "metadata": {},
   "outputs": [],
   "source": [
    "class InputEmbedding(nn.Module):\n",
    "    def __init__(self, patch_size=patch_size, n_channels=n_channels, device=device, latent_size=latent_size, batch_size=batch_size):\n",
    "        super(InputEmbedding, self).__init__()\n",
    "        self.latent_size = latent_size\n",
    "        self.patch_size = patch_size\n",
    "        self.n_channels = n_channels\n",
    "        self.device = device\n",
    "        self.batch_size = batch_size\n",
    "        self.input_size = self.patch_size * self.patch_size * self.n_channels\n",
    "\n",
    "        self.linearProjection = nn.Linear(self.input_size, self.latent_size)\n",
    "\n",
    "        # Random initialization of of [class] token that is prepended to the linear projection vector.\n",
    "        self.class_token = nn.Parameter(torch.randn(self.batch_size, 1, self.latent_size)).to(self.device)\n",
    "\n",
    "        # Positional embedding\n",
    "        self.pos_embedding = nn.Parameter(torch.randn(self.batch_size, 1, self.latent_size)).to(self.device)\n",
    "\n",
    "\n",
    "    def forward(self, input_data):\n",
    "\n",
    "        input_data = input_data.to(self.device)\n",
    "\n",
    "        # Re-arrange image into patches.\n",
    "        patches = einops.rearrange(\n",
    "            input_data, 'b c (h h1) (w w1) -> b (h w) (h1 w1 c)', h1=self.patch_size, w1=self.patch_size)\n",
    "\n",
    "        linear_projection = self.linearProjection(patches).to(self.device)\n",
    "        b, n, _ = linear_projection.shape\n",
    "\n",
    "        # Prepend the [class] token to the original linear projection\n",
    "        linear_projection = torch.cat((self.class_token, linear_projection), dim=1)\n",
    "        pos_embed = einops.repeat(self.pos_embedding, 'b 1 d -> b m d', m=n+1)\n",
    "\n",
    "        # Add positional embedding to linear projection\n",
    "        linear_projection += pos_embed\n",
    "\n",
    "        return linear_projection\n",
    "        "
   ]
  },
  {
   "cell_type": "code",
   "execution_count": 49,
   "id": "e0e578e4-624a-43b0-a276-41fbdc159bbb",
   "metadata": {},
   "outputs": [],
   "source": [
    "class EncoderBlock(nn.Module):\n",
    "    def __init__(self, latent_size=latent_size, num_heads=num_heads, device=device, dropout=dropout):\n",
    "        super(EncoderBlock, self).__init__()\n",
    "\n",
    "        self.latent_size = latent_size\n",
    "        self.num_heads = num_heads\n",
    "        self.device = device\n",
    "        self.dropout = dropout\n",
    "\n",
    "        # Normalization layer for both sublayers\n",
    "        self.norm = nn.LayerNorm(self.latent_size)\n",
    "        \n",
    "        # Multi-Head Attention layer\n",
    "        self.multihead = nn.MultiheadAttention(\n",
    "            self.latent_size, self.num_heads, dropout=self.dropout)          \n",
    "\n",
    "        # MLP_head layer in the encoder. I use the same configuration as that \n",
    "        # used in the original VitTransformer implementation. The ViT-Base\n",
    "        # variant uses MLP_head size 3072, which is latent_size*4.\n",
    "        self.enc_MLP = nn.Sequential(\n",
    "            nn.Linear(self.latent_size, self.latent_size*4),\n",
    "            nn.GELU(),\n",
    "            nn.Dropout(self.dropout),\n",
    "            nn.Linear(self.latent_size*4, self.latent_size),\n",
    "            nn.Dropout(self.dropout)\n",
    "        )\n",
    "\n",
    "    def forward(self, embedded_patches):\n",
    "\n",
    "        # First sublayer: Norm + Multi-Head Attention + residual connection.\n",
    "        # We take the first element ([0]) of the returned output from nn.MultiheadAttention()\n",
    "        # because this module returns 'Tuple[attention_output, attention_output_weights]'. \n",
    "        # Refer to here for more info: https://pytorch.org/docs/stable/generated/torch.nn.MultiheadAttention.html \n",
    "        firstNorm_out = self.norm(embedded_patches)\n",
    "        attention_output = self.multihead(firstNorm_out, firstNorm_out, firstNorm_out)[0]\n",
    "\n",
    "        # First residual connection\n",
    "        first_added_output = attention_output + embedded_patches\n",
    "\n",
    "        # Second sublayer: Norm + enc_MLP (Feed forward)\n",
    "        secondNorm_out = self.norm(first_added_output)\n",
    "        ff_output = self.enc_MLP(secondNorm_out)\n",
    "\n",
    "        # Return the output of the second residual connection\n",
    "        return ff_output + first_added_output\n",
    "        "
   ]
  },
  {
   "cell_type": "code",
   "execution_count": 50,
   "id": "077192b5-9df7-4e31-82e7-f21cda7d4e26",
   "metadata": {},
   "outputs": [],
   "source": [
    "class VitTransformer(nn.Module):\n",
    "    def __init__(self, num_encoders=num_encoders, latent_size=latent_size, device=device, num_classes=num_classes, dropout=dropout):\n",
    "        super(VitTransformer, self).__init__()\n",
    "        self.num_encoders = num_encoders\n",
    "        self.latent_size = latent_size\n",
    "        self.device = device\n",
    "        self.num_classes = num_classes\n",
    "        self.dropout = dropout\n",
    "\n",
    "        self.embedding = InputEmbedding()\n",
    "\n",
    "        # Create a stack of encoder layers\n",
    "        self.encStack = nn.ModuleList([EncoderBlock() for i in range(self.num_encoders)])\n",
    "\n",
    "        # MLP_head at the classification stage has 'one hidden layer at pre-training time\n",
    "        # and by a single linear layer at fine-tuning time'. For this implementation I will\n",
    "        # use what was used for training, so I'll have a total of two layers, one hidden\n",
    "        # layer and one output layer.\n",
    "        self.MLP_head = nn.Sequential(\n",
    "            nn.LayerNorm(self.latent_size),\n",
    "            nn.Linear(self.latent_size, self.latent_size),\n",
    "            nn.Linear(self.latent_size, self.num_classes)\n",
    "        )\n",
    "\n",
    "    def forward(self, test_input):\n",
    "\n",
    "        # Apply input embedding (patchify + linear projection + position embeding)\n",
    "        # to the input image passed to the model\n",
    "        enc_output = self.embedding(test_input)\n",
    "\n",
    "        # Loop through all the encoder layers\n",
    "        for enc_layer in self.encStack:\n",
    "            enc_output = enc_layer.forward(enc_output)\n",
    "\n",
    "        # Extract the output embedding information of the [class] token\n",
    "        cls_token_embedding = enc_output[:, 0]\n",
    "\n",
    "        # Finally, return the classification vector for all image in the batch\n",
    "        return self.MLP_head(cls_token_embedding)\n",
    "        "
   ]
  },
  {
   "cell_type": "code",
   "execution_count": 51,
   "id": "20132351-c8fa-4143-9ed5-15c284b17a5a",
   "metadata": {},
   "outputs": [],
   "source": [
    "model = VitTransformer(num_encoders, latent_size, device, num_classes).to(device)\n",
    "\n",
    "# Betas used for Adam in paper are 0.9 and 0.999, which are the default in PyTorch\n",
    "# optimizer = optim.Adam(model.parameters(), lr=base_lr, weight_decay=weight_decay)\n",
    "# criterion = nn.CrossEntropyLoss()\n",
    "# scheduler = optim.lr_scheduler.LinearLR(optimizer)\n"
   ]
  },
  {
   "cell_type": "code",
   "execution_count": 52,
   "id": "c22261e1-d9c6-4100-87ea-2c0a3187df1e",
   "metadata": {},
   "outputs": [],
   "source": [
    "import torch\n",
    "import torch.nn as nn\n",
    "import torch.optim as optim\n",
    "\n",
    "class AdaBound(optim.Optimizer):\n",
    "    def __init__(self, params, lr=1e-3, betas=(0.9, 0.999), final_lr=0.1, gamma=1e-3, weight_decay=0):\n",
    "        if not 0.0 <= lr:\n",
    "            raise ValueError(\"Invalid learning rate: {}\".format(lr))\n",
    "        if not 0.0 <= final_lr:\n",
    "            raise ValueError(\"Invalid final learning rate: {}\".format(final_lr))\n",
    "        if not 0.0 <= betas[0] < 1.0:\n",
    "            raise ValueError(\"Invalid beta parameter at index 0: {}\".format(betas[0]))\n",
    "        if not 0.0 <= betas[1] < 1.0:\n",
    "            raise ValueError(\"Invalid beta parameter at index 1: {}\".format(betas[1]))\n",
    "        if not 0.0 <= gamma < 1.0:\n",
    "            raise ValueError(\"Invalid gamma parameter: {}\".format(gamma))\n",
    "        if not 0.0 <= weight_decay:\n",
    "            raise ValueError(\"Invalid weight_decay value: {}\".format(weight_decay))\n",
    "\n",
    "        defaults = dict(lr=lr, betas=betas, final_lr=final_lr, gamma=gamma, weight_decay=weight_decay)\n",
    "        super(AdaBound, self).__init__(params, defaults)\n",
    "\n",
    "    def step(self, closure=None):\n",
    "        loss = None\n",
    "        if closure is not None:\n",
    "            loss = closure()\n",
    "\n",
    "        for group in self.param_groups:\n",
    "            for p in group['params']:\n",
    "                if p.grad is None:\n",
    "                    continue\n",
    "                grad = p.grad.data\n",
    "                state = self.state[p]\n",
    "\n",
    "                # State initialization\n",
    "                if len(state) == 0:\n",
    "                    state['step'] = 0\n",
    "                    state['exp_avg'] = torch.zeros_like(p.data)\n",
    "                    state['exp_avg_sq'] = torch.zeros_like(p.data)\n",
    "\n",
    "                exp_avg, exp_avg_sq = state['exp_avg'], state['exp_avg_sq']\n",
    "                beta1, beta2 = group['betas']\n",
    "\n",
    "                state['step'] += 1\n",
    "\n",
    "                # Update exponential moving averages\n",
    "                exp_avg.mul_(beta1).add_(1 - beta1, grad)\n",
    "                exp_avg_sq.mul_(beta2).addcmul_(1 - beta2, grad, grad)\n",
    "\n",
    "                # Compute the bounds\n",
    "                lower_bound = group['lr'] * (1.0 - 1.0 / (group['gamma'] * state['step'] + 1))\n",
    "                upper_bound = group['lr'] * (1.0 + 1.0 / (group['gamma'] * state['step']))\n",
    "\n",
    "                # Clamp the learning rate\n",
    "                lr = min(max(lower_bound, group['lr']), upper_bound)\n",
    "\n",
    "                # Perform the parameter update\n",
    "                p.data.addcdiv_(-lr, exp_avg, torch.sqrt(exp_avg_sq) + group['weight_decay'] * p.data)\n",
    "\n",
    "        return loss\n",
    "        "
   ]
  },
  {
   "cell_type": "markdown",
   "id": "a0bc8fdd-c878-493a-bd72-d49eefdc9307",
   "metadata": {},
   "source": [
    "## Training"
   ]
  },
  {
   "cell_type": "code",
   "execution_count": 55,
   "id": "bd1134e4-0031-42cf-909b-1f66b6cfc41a",
   "metadata": {},
   "outputs": [],
   "source": [
    "import torch\n",
    "import torch.nn as nn\n",
    "import torch.optim as optim\n",
    "from tqdm import tqdm\n",
    "from sklearn.metrics import f1_score\n",
    "\n",
    "def fine_tune(name, model, train_data_loader, valid_data_loader, writer, start_epoch=0, epochs=10, device='cuda', optimizer='adabound', learning_rate=0.001):\n",
    "    min_loss = np.inf\n",
    "    \n",
    "    if optimizer == 'adam':\n",
    "        optimizer = optim.Adam(model.parameters(), lr=learning_rate)\n",
    "    elif optimizer == 'adabound':\n",
    "        optimizer = AdaBound(model.parameters(), lr=learning_rate)\n",
    "    else:\n",
    "        raise ValueError(f\"Unsupported optimizer: {optimizer}\")\n",
    "\n",
    "    model.to(device)\n",
    "    model.train()\n",
    "    \n",
    "    for ep in range(epochs):\n",
    "        running_loss = 0.0\n",
    "        train_predictions = []\n",
    "        train_labels = []\n",
    "\n",
    "        epoch = ep + start_epoch\n",
    "\n",
    "        for inputs, labels in tqdm(train_data_loader, desc=f\"Epoch {epoch+1}/{start_epoch + epochs}\"):\n",
    "            optimizer.zero_grad()\n",
    "            inputs, labels = inputs.to(device), labels.to(device)\n",
    "            outputs = model(inputs)\n",
    "            \n",
    "            loss = nn.CrossEntropyLoss()(outputs, labels)\n",
    "            \n",
    "            loss.backward()\n",
    "            optimizer.step()\n",
    "            \n",
    "            running_loss += loss.item() * inputs.size(0)\n",
    "\n",
    "            _, predicted = torch.max(outputs, 1)\n",
    "            train_predictions.extend(predicted.cpu().numpy())\n",
    "            train_labels.extend(labels.cpu().numpy())\n",
    "\n",
    "        loss = running_loss / len(train_data_loader.dataset)\n",
    "        \n",
    "        valid_loss, f1, accuracy = calculate_metrics(model, valid_data_loader, device)\n",
    "\n",
    "        if valid_loss < min_loss:\n",
    "            print('Saving model...')\n",
    "            min_loss = valid_loss\n",
    "\n",
    "            torch.save(model.state_dict(), f'./checkpoints/{name}_{epoch}_{int(valid_loss)}.pt')\n",
    "\n",
    "        writer.add_scalar(\"Training Loss\", loss, epoch)\n",
    "        writer.add_scalar(\"Validation Loss\", valid_loss, epoch)\n",
    "        writer.add_scalar(\"Validation F1 Score\", f1, epoch)\n",
    "        writer.add_scalar(\"Validation Accuracy\", accuracy, epoch)\n",
    "        print(f'Epoch {epoch+1}/{epochs}, Loss: {loss}, Validation loss: {valid_loss}, Min loss: {min_loss}, F1 Score: {f1}, Accuracy: {accuracy}')\n",
    "    \n",
    "    return model\n",
    "\n",
    "def calculate_metrics(model, data_loader, device='cuda'):\n",
    "    criterion = nn.CrossEntropyLoss()\n",
    "    model.eval()\n",
    "    predictions = []\n",
    "    labels = []\n",
    "    total_loss = 0.0\n",
    "    # f1 = f1_score(num_classes=num_classes)  # Replace 'your_num_classes' with the actual number of classes\n",
    "\n",
    "    with torch.no_grad():\n",
    "        for inputs, batch_labels in tqdm(data_loader):\n",
    "            inputs, batch_labels = inputs.to(device), batch_labels.to(device)\n",
    "            outputs = model(inputs)\n",
    "\n",
    "            loss = criterion(outputs, batch_labels)\n",
    "            \n",
    "            total_loss += loss.item()\n",
    "            predictions.extend(torch.argmax(outputs, dim=1).cpu().numpy())\n",
    "            labels.extend(batch_labels.cpu().numpy())\n",
    "\n",
    "    model.train()\n",
    "    \n",
    "    predictions = torch.tensor(predictions)\n",
    "    labels = torch.tensor(labels)\n",
    "\n",
    "    f1 = f1_score(predictions, labels, average='macro')\n",
    "    accuracy = torch.sum(predictions == labels).item() / len(labels)\n",
    "\n",
    "    return total_loss, f1, accuracy\n"
   ]
  },
  {
   "cell_type": "code",
   "execution_count": 56,
   "id": "5dca7902-6895-4d41-a460-394ef9c8b470",
   "metadata": {},
   "outputs": [],
   "source": [
    "from torch.utils.tensorboard import SummaryWriter\n",
    "\n",
    "def fine_tune_model_with_writer(name, model, start_epoch=0, epochs=10, device='cuda', optimizer='adabound', learning_rate=0.001):\n",
    "    writer = SummaryWriter(name)\n",
    "    model = model.to(device)\n",
    "    model = fine_tune(name, model, train_loader, test_loader, writer, start_epoch, epochs, device, optimizer, learning_rate)\n",
    "    writer.flush()\n",
    "\n",
    "    return model\n",
    "    "
   ]
  },
  {
   "cell_type": "markdown",
   "id": "08a3dba4-67e6-4915-a3c0-940e19ea58f0",
   "metadata": {},
   "source": [
    "### Adabound"
   ]
  },
  {
   "cell_type": "code",
   "execution_count": 61,
   "id": "0842bbfc-b0b8-485e-90eb-ddfa3fbb9849",
   "metadata": {},
   "outputs": [
    {
     "name": "stderr",
     "output_type": "stream",
     "text": [
      "Epoch 1/42: 100%|████████████████████████████████████████████████████████████████████| 500/500 [01:33<00:00,  5.34it/s]\n",
      "100%|████████████████████████████████████████████████████████████████████████████████| 500/500 [00:25<00:00, 19.36it/s]\n"
     ]
    },
    {
     "name": "stdout",
     "output_type": "stream",
     "text": [
      "Saving model...\n",
      "Epoch 1/42, Loss: 5.909276173591614, Validation loss: 2880.098961830139, Min loss: 2880.098961830139, F1 Score: 4.065371168387674e-05, Accuracy: 0.004\n"
     ]
    },
    {
     "name": "stderr",
     "output_type": "stream",
     "text": [
      "Epoch 2/42: 100%|████████████████████████████████████████████████████████████████████| 500/500 [01:32<00:00,  5.43it/s]\n",
      "100%|████████████████████████████████████████████████████████████████████████████████| 500/500 [00:26<00:00, 19.03it/s]\n"
     ]
    },
    {
     "name": "stdout",
     "output_type": "stream",
     "text": [
      "Saving model...\n",
      "Epoch 2/42, Loss: 5.439171188354492, Validation loss: 2688.0297527313232, Min loss: 2688.0297527313232, F1 Score: 3.052068284941095e-05, Accuracy: 0.003\n"
     ]
    },
    {
     "name": "stderr",
     "output_type": "stream",
     "text": [
      "Epoch 3/42: 100%|████████████████████████████████████████████████████████████████████| 500/500 [01:32<00:00,  5.43it/s]\n",
      "100%|████████████████████████████████████████████████████████████████████████████████| 500/500 [00:26<00:00, 19.01it/s]\n"
     ]
    },
    {
     "name": "stdout",
     "output_type": "stream",
     "text": [
      "Saving model...\n",
      "Epoch 3/42, Loss: 5.302112481117248, Validation loss: 2651.99937582016, Min loss: 2651.99937582016, F1 Score: 5.58154639279879e-05, Accuracy: 0.0055\n"
     ]
    },
    {
     "name": "stderr",
     "output_type": "stream",
     "text": [
      "Epoch 4/42: 100%|████████████████████████████████████████████████████████████████████| 500/500 [01:31<00:00,  5.46it/s]\n",
      "100%|████████████████████████████████████████████████████████████████████████████████| 500/500 [00:25<00:00, 19.30it/s]\n"
     ]
    },
    {
     "name": "stdout",
     "output_type": "stream",
     "text": [
      "Saving model...\n",
      "Epoch 4/42, Loss: 5.275788950920105, Validation loss: 2646.7427549362183, Min loss: 2646.7427549362183, F1 Score: 7.343824248223099e-05, Accuracy: 0.0035\n"
     ]
    },
    {
     "name": "stderr",
     "output_type": "stream",
     "text": [
      "Epoch 5/42: 100%|████████████████████████████████████████████████████████████████████| 500/500 [01:30<00:00,  5.50it/s]\n",
      "100%|████████████████████████████████████████████████████████████████████████████████| 500/500 [00:25<00:00, 19.66it/s]\n"
     ]
    },
    {
     "name": "stdout",
     "output_type": "stream",
     "text": [
      "Epoch 5/42, Loss: 5.270287240028382, Validation loss: 2654.576156139374, Min loss: 2646.7427549362183, F1 Score: 4.571266037525015e-05, Accuracy: 0.0045\n"
     ]
    },
    {
     "name": "stderr",
     "output_type": "stream",
     "text": [
      "Epoch 6/42: 100%|████████████████████████████████████████████████████████████████████| 500/500 [01:30<00:00,  5.54it/s]\n",
      "100%|████████████████████████████████████████████████████████████████████████████████| 500/500 [00:25<00:00, 19.71it/s]\n"
     ]
    },
    {
     "name": "stdout",
     "output_type": "stream",
     "text": [
      "Epoch 6/42, Loss: 5.264158421516418, Validation loss: 2650.579120159149, Min loss: 2646.7427549362183, F1 Score: 0.00012123661345726409, Accuracy: 0.006\n"
     ]
    },
    {
     "name": "stderr",
     "output_type": "stream",
     "text": [
      "Epoch 7/42: 100%|████████████████████████████████████████████████████████████████████| 500/500 [01:31<00:00,  5.46it/s]\n",
      "100%|████████████████████████████████████████████████████████████████████████████████| 500/500 [00:25<00:00, 19.35it/s]\n"
     ]
    },
    {
     "name": "stdout",
     "output_type": "stream",
     "text": [
      "Epoch 7/42, Loss: 5.266866542816162, Validation loss: 2647.7628774642944, Min loss: 2646.7427549362183, F1 Score: 4.065371168387674e-05, Accuracy: 0.004\n"
     ]
    },
    {
     "name": "stderr",
     "output_type": "stream",
     "text": [
      "Epoch 8/42: 100%|████████████████████████████████████████████████████████████████████| 500/500 [01:31<00:00,  5.46it/s]\n",
      "100%|████████████████████████████████████████████████████████████████████████████████| 500/500 [00:25<00:00, 19.32it/s]\n"
     ]
    },
    {
     "name": "stdout",
     "output_type": "stream",
     "text": [
      "Epoch 8/42, Loss: 5.264205783843994, Validation loss: 2660.148729801178, Min loss: 2646.7427549362183, F1 Score: 4.571266037525015e-05, Accuracy: 0.0045\n"
     ]
    },
    {
     "name": "stderr",
     "output_type": "stream",
     "text": [
      "Epoch 9/42: 100%|████████████████████████████████████████████████████████████████████| 500/500 [01:31<00:00,  5.45it/s]\n",
      "100%|████████████████████████████████████████████████████████████████████████████████| 500/500 [00:25<00:00, 19.49it/s]\n"
     ]
    },
    {
     "name": "stdout",
     "output_type": "stream",
     "text": [
      "Epoch 9/42, Loss: 5.2646510124206545, Validation loss: 2649.785886287689, Min loss: 2646.7427549362183, F1 Score: 4.065371168387674e-05, Accuracy: 0.004\n"
     ]
    },
    {
     "name": "stderr",
     "output_type": "stream",
     "text": [
      "Epoch 10/42: 100%|███████████████████████████████████████████████████████████████████| 500/500 [01:30<00:00,  5.52it/s]\n",
      "100%|████████████████████████████████████████████████████████████████████████████████| 500/500 [00:25<00:00, 19.36it/s]\n"
     ]
    },
    {
     "name": "stdout",
     "output_type": "stream",
     "text": [
      "Epoch 10/42, Loss: 5.265734882354736, Validation loss: 2651.9002199172974, Min loss: 2646.7427549362183, F1 Score: 4.733503739467954e-05, Accuracy: 0.0035\n"
     ]
    },
    {
     "name": "stderr",
     "output_type": "stream",
     "text": [
      "Epoch 11/42: 100%|███████████████████████████████████████████████████████████████████| 500/500 [01:31<00:00,  5.49it/s]\n",
      "100%|████████████████████████████████████████████████████████████████████████████████| 500/500 [00:24<00:00, 20.22it/s]\n"
     ]
    },
    {
     "name": "stdout",
     "output_type": "stream",
     "text": [
      "Epoch 11/42, Loss: 5.263744033813476, Validation loss: 2653.1162915229797, Min loss: 2646.7427549362183, F1 Score: 0.00016056034034913217, Accuracy: 0.008\n"
     ]
    },
    {
     "name": "stderr",
     "output_type": "stream",
     "text": [
      "Epoch 12/42: 100%|███████████████████████████████████████████████████████████████████| 500/500 [01:30<00:00,  5.55it/s]\n",
      "100%|████████████████████████████████████████████████████████████████████████████████| 500/500 [00:25<00:00, 19.99it/s]\n"
     ]
    },
    {
     "name": "stdout",
     "output_type": "stream",
     "text": [
      "Epoch 12/42, Loss: 5.265470935821533, Validation loss: 2652.7632298469543, Min loss: 2646.7427549362183, F1 Score: 5.076657528683116e-05, Accuracy: 0.005\n"
     ]
    },
    {
     "name": "stderr",
     "output_type": "stream",
     "text": [
      "Epoch 13/42: 100%|███████████████████████████████████████████████████████████████████| 500/500 [01:30<00:00,  5.51it/s]\n",
      "100%|████████████████████████████████████████████████████████████████████████████████| 500/500 [00:24<00:00, 20.51it/s]\n"
     ]
    },
    {
     "name": "stdout",
     "output_type": "stream",
     "text": [
      "Epoch 13/42, Loss: 5.264869437217713, Validation loss: 2658.382553577423, Min loss: 2646.7427549362183, F1 Score: 5.076657528683116e-05, Accuracy: 0.005\n"
     ]
    },
    {
     "name": "stderr",
     "output_type": "stream",
     "text": [
      "Epoch 14/42: 100%|███████████████████████████████████████████████████████████████████| 500/500 [01:29<00:00,  5.56it/s]\n",
      "100%|████████████████████████████████████████████████████████████████████████████████| 500/500 [00:24<00:00, 20.07it/s]\n"
     ]
    },
    {
     "name": "stdout",
     "output_type": "stream",
     "text": [
      "Epoch 14/42, Loss: 5.263840545654297, Validation loss: 2668.0515995025635, Min loss: 2646.7427549362183, F1 Score: 0.00010602954690040293, Accuracy: 0.0105\n"
     ]
    },
    {
     "name": "stderr",
     "output_type": "stream",
     "text": [
      "Epoch 15/42: 100%|███████████████████████████████████████████████████████████████████| 500/500 [01:30<00:00,  5.52it/s]\n",
      "100%|████████████████████████████████████████████████████████████████████████████████| 500/500 [00:24<00:00, 20.07it/s]\n"
     ]
    },
    {
     "name": "stdout",
     "output_type": "stream",
     "text": [
      "Epoch 15/42, Loss: 5.266244863510132, Validation loss: 2653.8213925361633, Min loss: 2646.7427549362183, F1 Score: 7.5960905453993e-05, Accuracy: 0.0075\n"
     ]
    },
    {
     "name": "stderr",
     "output_type": "stream",
     "text": [
      "Epoch 16/42: 100%|███████████████████████████████████████████████████████████████████| 500/500 [01:30<00:00,  5.52it/s]\n",
      "100%|████████████████████████████████████████████████████████████████████████████████| 500/500 [00:24<00:00, 20.02it/s]\n"
     ]
    },
    {
     "name": "stdout",
     "output_type": "stream",
     "text": [
      "Epoch 16/42, Loss: 5.266288453102112, Validation loss: 2661.675651550293, Min loss: 2646.7427549362183, F1 Score: 4.065371168387674e-05, Accuracy: 0.004\n"
     ]
    },
    {
     "name": "stderr",
     "output_type": "stream",
     "text": [
      "Epoch 17/42: 100%|███████████████████████████████████████████████████████████████████| 500/500 [01:31<00:00,  5.49it/s]\n",
      "100%|████████████████████████████████████████████████████████████████████████████████| 500/500 [00:24<00:00, 20.25it/s]\n"
     ]
    },
    {
     "name": "stdout",
     "output_type": "stream",
     "text": [
      "Epoch 17/42, Loss: 5.265206086158752, Validation loss: 2668.331865787506, Min loss: 2646.7427549362183, F1 Score: 7.5960905453993e-05, Accuracy: 0.0075\n"
     ]
    },
    {
     "name": "stderr",
     "output_type": "stream",
     "text": [
      "Epoch 18/42: 100%|███████████████████████████████████████████████████████████████████| 500/500 [01:29<00:00,  5.57it/s]\n",
      "100%|████████████████████████████████████████████████████████████████████████████████| 500/500 [00:25<00:00, 19.86it/s]\n"
     ]
    },
    {
     "name": "stdout",
     "output_type": "stream",
     "text": [
      "Epoch 18/42, Loss: 5.260724196434021, Validation loss: 2668.518389225006, Min loss: 2646.7427549362183, F1 Score: 4.571266037525015e-05, Accuracy: 0.0045\n"
     ]
    },
    {
     "name": "stderr",
     "output_type": "stream",
     "text": [
      "Epoch 19/42: 100%|███████████████████████████████████████████████████████████████████| 500/500 [01:30<00:00,  5.53it/s]\n",
      "100%|████████████████████████████████████████████████████████████████████████████████| 500/500 [00:25<00:00, 19.90it/s]\n"
     ]
    },
    {
     "name": "stdout",
     "output_type": "stream",
     "text": [
      "Epoch 19/42, Loss: 5.2637417640686035, Validation loss: 2659.426664829254, Min loss: 2646.7427549362183, F1 Score: 0.00012715451742444165, Accuracy: 0.0085\n"
     ]
    },
    {
     "name": "stderr",
     "output_type": "stream",
     "text": [
      "Epoch 20/42: 100%|███████████████████████████████████████████████████████████████████| 500/500 [01:39<00:00,  5.02it/s]\n",
      "100%|████████████████████████████████████████████████████████████████████████████████| 500/500 [00:29<00:00, 16.79it/s]\n"
     ]
    },
    {
     "name": "stdout",
     "output_type": "stream",
     "text": [
      "Epoch 20/42, Loss: 5.265643187522889, Validation loss: 2659.50000667572, Min loss: 2646.7427549362183, F1 Score: 7.5960905453993e-05, Accuracy: 0.0075\n"
     ]
    },
    {
     "name": "stderr",
     "output_type": "stream",
     "text": [
      "Epoch 21/42: 100%|███████████████████████████████████████████████████████████████████| 500/500 [01:51<00:00,  4.50it/s]\n",
      "100%|████████████████████████████████████████████████████████████████████████████████| 500/500 [00:29<00:00, 17.03it/s]\n"
     ]
    },
    {
     "name": "stdout",
     "output_type": "stream",
     "text": [
      "Epoch 21/42, Loss: 5.26427663230896, Validation loss: 2653.052426338196, Min loss: 2646.7427549362183, F1 Score: 4.571266037525015e-05, Accuracy: 0.0045\n"
     ]
    },
    {
     "name": "stderr",
     "output_type": "stream",
     "text": [
      "Epoch 22/42: 100%|███████████████████████████████████████████████████████████████████| 500/500 [01:51<00:00,  4.48it/s]\n",
      "100%|████████████████████████████████████████████████████████████████████████████████| 500/500 [00:29<00:00, 17.15it/s]\n"
     ]
    },
    {
     "name": "stdout",
     "output_type": "stream",
     "text": [
      "Epoch 22/42, Loss: 5.2670370988845825, Validation loss: 2659.5789704322815, Min loss: 2646.7427549362183, F1 Score: 5.58154639279879e-05, Accuracy: 0.0055\n"
     ]
    },
    {
     "name": "stderr",
     "output_type": "stream",
     "text": [
      "Epoch 23/42: 100%|███████████████████████████████████████████████████████████████████| 500/500 [01:50<00:00,  4.52it/s]\n",
      "100%|████████████████████████████████████████████████████████████████████████████████| 500/500 [00:29<00:00, 17.14it/s]\n"
     ]
    },
    {
     "name": "stdout",
     "output_type": "stream",
     "text": [
      "Epoch 23/42, Loss: 5.2626408748626705, Validation loss: 2661.543269634247, Min loss: 2646.7427549362183, F1 Score: 2.5446587612601155e-05, Accuracy: 0.0025\n"
     ]
    },
    {
     "name": "stderr",
     "output_type": "stream",
     "text": [
      "Epoch 24/42: 100%|███████████████████████████████████████████████████████████████████| 500/500 [01:49<00:00,  4.57it/s]\n",
      "100%|████████████████████████████████████████████████████████████████████████████████| 500/500 [00:28<00:00, 17.32it/s]\n"
     ]
    },
    {
     "name": "stdout",
     "output_type": "stream",
     "text": [
      "Epoch 24/42, Loss: 5.260377449989319, Validation loss: 2673.4760389328003, Min loss: 2646.7427549362183, F1 Score: 8.107542946105238e-05, Accuracy: 0.004\n"
     ]
    },
    {
     "name": "stderr",
     "output_type": "stream",
     "text": [
      "Epoch 25/42: 100%|███████████████████████████████████████████████████████████████████| 500/500 [01:49<00:00,  4.56it/s]\n",
      "100%|████████████████████████████████████████████████████████████████████████████████| 500/500 [00:28<00:00, 17.58it/s]\n"
     ]
    },
    {
     "name": "stdout",
     "output_type": "stream",
     "text": [
      "Epoch 25/42, Loss: 5.263528100967407, Validation loss: 2668.068796157837, Min loss: 2646.7427549362183, F1 Score: 0.0001453257043793411, Accuracy: 0.006\n"
     ]
    },
    {
     "name": "stderr",
     "output_type": "stream",
     "text": [
      "Epoch 26/42: 100%|███████████████████████████████████████████████████████████████████| 500/500 [01:49<00:00,  4.56it/s]\n",
      "100%|████████████████████████████████████████████████████████████████████████████████| 500/500 [00:28<00:00, 17.35it/s]\n"
     ]
    },
    {
     "name": "stdout",
     "output_type": "stream",
     "text": [
      "Epoch 26/42, Loss: 5.265404742240905, Validation loss: 2668.5666880607605, Min loss: 2646.7427549362183, F1 Score: 7.5960905453993e-05, Accuracy: 0.0075\n"
     ]
    },
    {
     "name": "stderr",
     "output_type": "stream",
     "text": [
      "Epoch 27/42: 100%|███████████████████████████████████████████████████████████████████| 500/500 [01:49<00:00,  4.55it/s]\n",
      "100%|████████████████████████████████████████████████████████████████████████████████| 500/500 [00:29<00:00, 16.77it/s]\n"
     ]
    },
    {
     "name": "stdout",
     "output_type": "stream",
     "text": [
      "Epoch 27/42, Loss: 5.266378722190857, Validation loss: 2667.201560497284, Min loss: 2646.7427549362183, F1 Score: 4.571266037525015e-05, Accuracy: 0.0045\n"
     ]
    },
    {
     "name": "stderr",
     "output_type": "stream",
     "text": [
      "Epoch 28/42: 100%|███████████████████████████████████████████████████████████████████| 500/500 [01:50<00:00,  4.51it/s]\n",
      "100%|████████████████████████████████████████████████████████████████████████████████| 500/500 [00:30<00:00, 16.58it/s]\n"
     ]
    },
    {
     "name": "stdout",
     "output_type": "stream",
     "text": [
      "Epoch 28/42, Loss: 5.263775690078735, Validation loss: 2663.619854927063, Min loss: 2646.7427549362183, F1 Score: 7.5960905453993e-05, Accuracy: 0.0075\n"
     ]
    },
    {
     "name": "stderr",
     "output_type": "stream",
     "text": [
      "Epoch 29/42: 100%|███████████████████████████████████████████████████████████████████| 500/500 [01:49<00:00,  4.55it/s]\n",
      "100%|████████████████████████████████████████████████████████████████████████████████| 500/500 [00:28<00:00, 17.27it/s]\n"
     ]
    },
    {
     "name": "stdout",
     "output_type": "stream",
     "text": [
      "Epoch 29/42, Loss: 5.261575777053833, Validation loss: 2664.8789710998535, Min loss: 2646.7427549362183, F1 Score: 5.076657528683116e-05, Accuracy: 0.005\n"
     ]
    },
    {
     "name": "stderr",
     "output_type": "stream",
     "text": [
      "Epoch 30/42: 100%|███████████████████████████████████████████████████████████████████| 500/500 [01:49<00:00,  4.56it/s]\n",
      "100%|████████████████████████████████████████████████████████████████████████████████| 500/500 [00:29<00:00, 17.20it/s]\n"
     ]
    },
    {
     "name": "stdout",
     "output_type": "stream",
     "text": [
      "Epoch 30/42, Loss: 5.266384140014648, Validation loss: 2674.908661365509, Min loss: 2646.7427549362183, F1 Score: 0.000134372680582366, Accuracy: 0.006\n"
     ]
    },
    {
     "name": "stderr",
     "output_type": "stream",
     "text": [
      "Epoch 31/42: 100%|███████████████████████████████████████████████████████████████████| 500/500 [01:49<00:00,  4.57it/s]\n",
      "100%|████████████████████████████████████████████████████████████████████████████████| 500/500 [00:29<00:00, 17.13it/s]\n"
     ]
    },
    {
     "name": "stdout",
     "output_type": "stream",
     "text": [
      "Epoch 31/42, Loss: 5.262342454910279, Validation loss: 2652.890989303589, Min loss: 2646.7427549362183, F1 Score: 7.5960905453993e-05, Accuracy: 0.0075\n"
     ]
    },
    {
     "name": "stderr",
     "output_type": "stream",
     "text": [
      "Epoch 32/42: 100%|███████████████████████████████████████████████████████████████████| 500/500 [01:49<00:00,  4.58it/s]\n",
      "100%|████████████████████████████████████████████████████████████████████████████████| 500/500 [00:28<00:00, 17.25it/s]\n"
     ]
    },
    {
     "name": "stdout",
     "output_type": "stream",
     "text": [
      "Epoch 32/42, Loss: 5.2632615242004395, Validation loss: 2658.6350922584534, Min loss: 2646.7427549362183, F1 Score: 4.065371168387674e-05, Accuracy: 0.004\n"
     ]
    },
    {
     "name": "stderr",
     "output_type": "stream",
     "text": [
      "Epoch 33/42: 100%|███████████████████████████████████████████████████████████████████| 500/500 [01:49<00:00,  4.55it/s]\n",
      "100%|████████████████████████████████████████████████████████████████████████████████| 500/500 [00:28<00:00, 17.30it/s]\n"
     ]
    },
    {
     "name": "stdout",
     "output_type": "stream",
     "text": [
      "Epoch 33/42, Loss: 5.263329956054688, Validation loss: 2675.613133430481, Min loss: 2646.7427549362183, F1 Score: 7.5960905453993e-05, Accuracy: 0.0075\n"
     ]
    },
    {
     "name": "stderr",
     "output_type": "stream",
     "text": [
      "Epoch 34/42: 100%|███████████████████████████████████████████████████████████████████| 500/500 [01:54<00:00,  4.36it/s]\n",
      "100%|████████████████████████████████████████████████████████████████████████████████| 500/500 [00:35<00:00, 14.03it/s]\n"
     ]
    },
    {
     "name": "stdout",
     "output_type": "stream",
     "text": [
      "Epoch 34/42, Loss: 5.263445608139038, Validation loss: 2657.528754234314, Min loss: 2646.7427549362183, F1 Score: 0.0001603798860700203, Accuracy: 0.008\n"
     ]
    },
    {
     "name": "stderr",
     "output_type": "stream",
     "text": [
      "Epoch 35/42: 100%|███████████████████████████████████████████████████████████████████| 500/500 [01:50<00:00,  4.53it/s]\n",
      "100%|████████████████████████████████████████████████████████████████████████████████| 500/500 [00:28<00:00, 17.53it/s]\n"
     ]
    },
    {
     "name": "stdout",
     "output_type": "stream",
     "text": [
      "Epoch 35/42, Loss: 5.2588711318969725, Validation loss: 2667.854359149933, Min loss: 2646.7427549362183, F1 Score: 4.571266037525015e-05, Accuracy: 0.0045\n"
     ]
    },
    {
     "name": "stderr",
     "output_type": "stream",
     "text": [
      "Epoch 36/42: 100%|███████████████████████████████████████████████████████████████████| 500/500 [01:48<00:00,  4.60it/s]\n",
      "100%|████████████████████████████████████████████████████████████████████████████████| 500/500 [00:28<00:00, 17.25it/s]\n"
     ]
    },
    {
     "name": "stdout",
     "output_type": "stream",
     "text": [
      "Epoch 36/42, Loss: 5.2601221723556515, Validation loss: 2671.183853149414, Min loss: 2646.7427549362183, F1 Score: 4.571266037525015e-05, Accuracy: 0.0045\n"
     ]
    },
    {
     "name": "stderr",
     "output_type": "stream",
     "text": [
      "Epoch 37/42: 100%|███████████████████████████████████████████████████████████████████| 500/500 [01:48<00:00,  4.61it/s]\n",
      "100%|████████████████████████████████████████████████████████████████████████████████| 500/500 [00:28<00:00, 17.26it/s]\n"
     ]
    },
    {
     "name": "stdout",
     "output_type": "stream",
     "text": [
      "Epoch 37/42, Loss: 5.257732374191284, Validation loss: 2671.3934597969055, Min loss: 2646.7427549362183, F1 Score: 4.571266037525015e-05, Accuracy: 0.0045\n"
     ]
    },
    {
     "name": "stderr",
     "output_type": "stream",
     "text": [
      "Epoch 38/42: 100%|███████████████████████████████████████████████████████████████████| 500/500 [01:48<00:00,  4.61it/s]\n",
      "100%|████████████████████████████████████████████████████████████████████████████████| 500/500 [00:28<00:00, 17.54it/s]\n"
     ]
    },
    {
     "name": "stdout",
     "output_type": "stream",
     "text": [
      "Epoch 38/42, Loss: 5.261939499855042, Validation loss: 2661.6607093811035, Min loss: 2646.7427549362183, F1 Score: 7.5960905453993e-05, Accuracy: 0.0075\n"
     ]
    },
    {
     "name": "stderr",
     "output_type": "stream",
     "text": [
      "Epoch 39/42: 100%|███████████████████████████████████████████████████████████████████| 500/500 [01:49<00:00,  4.57it/s]\n",
      "100%|████████████████████████████████████████████████████████████████████████████████| 500/500 [00:28<00:00, 17.48it/s]\n"
     ]
    },
    {
     "name": "stdout",
     "output_type": "stream",
     "text": [
      "Epoch 39/42, Loss: 5.261767372131348, Validation loss: 2671.1857771873474, Min loss: 2646.7427549362183, F1 Score: 7.5960905453993e-05, Accuracy: 0.0075\n"
     ]
    },
    {
     "name": "stderr",
     "output_type": "stream",
     "text": [
      "Epoch 40/42: 100%|███████████████████████████████████████████████████████████████████| 500/500 [01:48<00:00,  4.61it/s]\n",
      "100%|████████████████████████████████████████████████████████████████████████████████| 500/500 [00:28<00:00, 17.34it/s]\n"
     ]
    },
    {
     "name": "stdout",
     "output_type": "stream",
     "text": [
      "Epoch 40/42, Loss: 5.262199352264404, Validation loss: 2664.5704221725464, Min loss: 2646.7427549362183, F1 Score: 7.5960905453993e-05, Accuracy: 0.0075\n"
     ]
    },
    {
     "name": "stderr",
     "output_type": "stream",
     "text": [
      "Epoch 41/42: 100%|███████████████████████████████████████████████████████████████████| 500/500 [01:49<00:00,  4.58it/s]\n",
      "100%|████████████████████████████████████████████████████████████████████████████████| 500/500 [00:29<00:00, 17.14it/s]\n"
     ]
    },
    {
     "name": "stdout",
     "output_type": "stream",
     "text": [
      "Epoch 41/42, Loss: 5.266164926528931, Validation loss: 2665.828278541565, Min loss: 2646.7427549362183, F1 Score: 0.0001305691878838946, Accuracy: 0.0045\n"
     ]
    },
    {
     "name": "stderr",
     "output_type": "stream",
     "text": [
      "Epoch 42/42: 100%|███████████████████████████████████████████████████████████████████| 500/500 [01:49<00:00,  4.58it/s]\n",
      "100%|████████████████████████████████████████████████████████████████████████████████| 500/500 [00:28<00:00, 17.30it/s]"
     ]
    },
    {
     "name": "stdout",
     "output_type": "stream",
     "text": [
      "Epoch 42/42, Loss: 5.255730401992798, Validation loss: 2669.0720915794373, Min loss: 2646.7427549362183, F1 Score: 5.58154639279879e-05, Accuracy: 0.0055\n"
     ]
    },
    {
     "name": "stderr",
     "output_type": "stream",
     "text": [
      "\n"
     ]
    },
    {
     "data": {
      "text/plain": [
       "VitTransformer(\n",
       "  (embedding): InputEmbedding(\n",
       "    (linearProjection): Linear(in_features=768, out_features=768, bias=True)\n",
       "  )\n",
       "  (encStack): ModuleList(\n",
       "    (0-11): 12 x EncoderBlock(\n",
       "      (norm): LayerNorm((768,), eps=1e-05, elementwise_affine=True)\n",
       "      (multihead): MultiheadAttention(\n",
       "        (out_proj): NonDynamicallyQuantizableLinear(in_features=768, out_features=768, bias=True)\n",
       "      )\n",
       "      (enc_MLP): Sequential(\n",
       "        (0): Linear(in_features=768, out_features=3072, bias=True)\n",
       "        (1): GELU(approximate='none')\n",
       "        (2): Dropout(p=0.1, inplace=False)\n",
       "        (3): Linear(in_features=3072, out_features=768, bias=True)\n",
       "        (4): Dropout(p=0.1, inplace=False)\n",
       "      )\n",
       "    )\n",
       "  )\n",
       "  (MLP_head): Sequential(\n",
       "    (0): LayerNorm((768,), eps=1e-05, elementwise_affine=True)\n",
       "    (1): Linear(in_features=768, out_features=768, bias=True)\n",
       "    (2): Linear(in_features=768, out_features=197, bias=True)\n",
       "  )\n",
       ")"
      ]
     },
     "execution_count": 61,
     "metadata": {},
     "output_type": "execute_result"
    }
   ],
   "source": [
    "model_custom_vit_adabound = VitTransformer(num_encoders, latent_size, device, num_classes).to(device)\n",
    "fine_tune_model_with_writer(\"custom_vit_adabound\", model_custom_vit_adabound, epochs=42, optimizer='adabound')\n"
   ]
  },
  {
   "cell_type": "markdown",
   "id": "cac6e151-037f-46c6-a760-b3ce3bc2adfc",
   "metadata": {},
   "source": [
    "### Adam"
   ]
  },
  {
   "cell_type": "code",
   "execution_count": 62,
   "id": "b0a2e227-3940-43b6-aedd-c52c5e4a0736",
   "metadata": {},
   "outputs": [
    {
     "name": "stderr",
     "output_type": "stream",
     "text": [
      "Epoch 1/42: 100%|████████████████████████████████████████████████████████████████████| 500/500 [06:36<00:00,  1.26it/s]\n",
      "100%|████████████████████████████████████████████████████████████████████████████████| 500/500 [00:47<00:00, 10.60it/s]\n"
     ]
    },
    {
     "name": "stdout",
     "output_type": "stream",
     "text": [
      "Saving model...\n",
      "Epoch 1/42, Loss: 5.786266067504883, Validation loss: 2729.697153568268, Min loss: 2729.697153568268, F1 Score: 4.571266037525015e-05, Accuracy: 0.0045\n"
     ]
    },
    {
     "name": "stderr",
     "output_type": "stream",
     "text": [
      "Epoch 2/42: 100%|████████████████████████████████████████████████████████████████████| 500/500 [06:35<00:00,  1.26it/s]\n",
      "100%|████████████████████████████████████████████████████████████████████████████████| 500/500 [00:47<00:00, 10.51it/s]\n"
     ]
    },
    {
     "name": "stdout",
     "output_type": "stream",
     "text": [
      "Epoch 2/42, Loss: 5.407418145179749, Validation loss: 2770.3590846061707, Min loss: 2729.697153568268, F1 Score: 3.558972168837639e-05, Accuracy: 0.0035\n"
     ]
    },
    {
     "name": "stderr",
     "output_type": "stream",
     "text": [
      "Epoch 3/42: 100%|████████████████████████████████████████████████████████████████████| 500/500 [06:35<00:00,  1.26it/s]\n",
      "100%|████████████████████████████████████████████████████████████████████████████████| 500/500 [00:47<00:00, 10.59it/s]\n"
     ]
    },
    {
     "name": "stdout",
     "output_type": "stream",
     "text": [
      "Saving model...\n",
      "Epoch 3/42, Loss: 5.353307537078857, Validation loss: 2674.464207649231, Min loss: 2674.464207649231, F1 Score: 5.076657528683116e-05, Accuracy: 0.005\n"
     ]
    },
    {
     "name": "stderr",
     "output_type": "stream",
     "text": [
      "Epoch 4/42: 100%|████████████████████████████████████████████████████████████████████| 500/500 [06:37<00:00,  1.26it/s]\n",
      "100%|████████████████████████████████████████████████████████████████████████████████| 500/500 [00:47<00:00, 10.60it/s]\n"
     ]
    },
    {
     "name": "stdout",
     "output_type": "stream",
     "text": [
      "Saving model...\n",
      "Epoch 4/42, Loss: 5.324414429664611, Validation loss: 2658.168092727661, Min loss: 2658.168092727661, F1 Score: 7.5960905453993e-05, Accuracy: 0.0075\n"
     ]
    },
    {
     "name": "stderr",
     "output_type": "stream",
     "text": [
      "Epoch 5/42: 100%|████████████████████████████████████████████████████████████████████| 500/500 [06:35<00:00,  1.26it/s]\n",
      "100%|████████████████████████████████████████████████████████████████████████████████| 500/500 [00:47<00:00, 10.60it/s]\n"
     ]
    },
    {
     "name": "stdout",
     "output_type": "stream",
     "text": [
      "Saving model...\n",
      "Epoch 5/42, Loss: 5.312013577461243, Validation loss: 2652.2158069610596, Min loss: 2652.2158069610596, F1 Score: 5.076657528683116e-05, Accuracy: 0.005\n"
     ]
    },
    {
     "name": "stderr",
     "output_type": "stream",
     "text": [
      "Epoch 6/42: 100%|████████████████████████████████████████████████████████████████████| 500/500 [06:36<00:00,  1.26it/s]\n",
      "100%|████████████████████████████████████████████████████████████████████████████████| 500/500 [00:47<00:00, 10.61it/s]\n"
     ]
    },
    {
     "name": "stdout",
     "output_type": "stream",
     "text": [
      "Epoch 6/42, Loss: 5.2975298051834105, Validation loss: 2692.323447227478, Min loss: 2652.2158069610596, F1 Score: 5.076657528683116e-05, Accuracy: 0.005\n"
     ]
    },
    {
     "name": "stderr",
     "output_type": "stream",
     "text": [
      "Epoch 7/42: 100%|████████████████████████████████████████████████████████████████████| 500/500 [06:36<00:00,  1.26it/s]\n",
      "100%|████████████████████████████████████████████████████████████████████████████████| 500/500 [00:47<00:00, 10.57it/s]\n"
     ]
    },
    {
     "name": "stdout",
     "output_type": "stream",
     "text": [
      "Epoch 7/42, Loss: 5.299161385536194, Validation loss: 2660.574882507324, Min loss: 2652.2158069610596, F1 Score: 9.078765506507548e-05, Accuracy: 0.0045\n"
     ]
    },
    {
     "name": "stderr",
     "output_type": "stream",
     "text": [
      "Epoch 8/42: 100%|████████████████████████████████████████████████████████████████████| 500/500 [06:17<00:00,  1.32it/s]\n",
      "100%|████████████████████████████████████████████████████████████████████████████████| 500/500 [00:41<00:00, 11.92it/s]\n"
     ]
    },
    {
     "name": "stdout",
     "output_type": "stream",
     "text": [
      "Epoch 8/42, Loss: 5.287059776306152, Validation loss: 2693.50341463089, Min loss: 2652.2158069610596, F1 Score: 5.076657528683116e-05, Accuracy: 0.005\n"
     ]
    },
    {
     "name": "stderr",
     "output_type": "stream",
     "text": [
      "Epoch 9/42: 100%|████████████████████████████████████████████████████████████████████| 500/500 [06:11<00:00,  1.34it/s]\n",
      "100%|████████████████████████████████████████████████████████████████████████████████| 500/500 [00:41<00:00, 11.91it/s]\n"
     ]
    },
    {
     "name": "stdout",
     "output_type": "stream",
     "text": [
      "Epoch 9/42, Loss: 5.295778998374939, Validation loss: 2660.917106151581, Min loss: 2652.2158069610596, F1 Score: 6.58981923618926e-05, Accuracy: 0.0065\n"
     ]
    },
    {
     "name": "stderr",
     "output_type": "stream",
     "text": [
      "Epoch 10/42: 100%|███████████████████████████████████████████████████████████████████| 500/500 [06:12<00:00,  1.34it/s]\n",
      "100%|████████████████████████████████████████████████████████████████████████████████| 500/500 [00:41<00:00, 11.91it/s]\n"
     ]
    },
    {
     "name": "stdout",
     "output_type": "stream",
     "text": [
      "Epoch 10/42, Loss: 5.282791544914246, Validation loss: 2682.2319321632385, Min loss: 2652.2158069610596, F1 Score: 4.571266037525015e-05, Accuracy: 0.0045\n"
     ]
    },
    {
     "name": "stderr",
     "output_type": "stream",
     "text": [
      "Epoch 11/42: 100%|███████████████████████████████████████████████████████████████████| 500/500 [06:11<00:00,  1.34it/s]\n",
      "100%|████████████████████████████████████████████████████████████████████████████████| 500/500 [00:42<00:00, 11.90it/s]\n"
     ]
    },
    {
     "name": "stdout",
     "output_type": "stream",
     "text": [
      "Epoch 11/42, Loss: 5.283723165512085, Validation loss: 2660.2844371795654, Min loss: 2652.2158069610596, F1 Score: 0.00016113177619159322, Accuracy: 0.008\n"
     ]
    },
    {
     "name": "stderr",
     "output_type": "stream",
     "text": [
      "Epoch 12/42: 100%|███████████████████████████████████████████████████████████████████| 500/500 [06:11<00:00,  1.34it/s]\n",
      "100%|████████████████████████████████████████████████████████████████████████████████| 500/500 [00:41<00:00, 11.93it/s]\n"
     ]
    },
    {
     "name": "stdout",
     "output_type": "stream",
     "text": [
      "Epoch 12/42, Loss: 5.282400785446167, Validation loss: 2669.2404594421387, Min loss: 2652.2158069610596, F1 Score: 6.58981923618926e-05, Accuracy: 0.0065\n"
     ]
    },
    {
     "name": "stderr",
     "output_type": "stream",
     "text": [
      "Epoch 13/42: 100%|███████████████████████████████████████████████████████████████████| 500/500 [06:11<00:00,  1.34it/s]\n",
      "100%|████████████████████████████████████████████████████████████████████████████████| 500/500 [00:41<00:00, 11.92it/s]\n"
     ]
    },
    {
     "name": "stdout",
     "output_type": "stream",
     "text": [
      "Epoch 13/42, Loss: 5.27816965675354, Validation loss: 2672.0452733039856, Min loss: 2652.2158069610596, F1 Score: 6.085933379315941e-05, Accuracy: 0.006\n"
     ]
    },
    {
     "name": "stderr",
     "output_type": "stream",
     "text": [
      "Epoch 14/42: 100%|███████████████████████████████████████████████████████████████████| 500/500 [06:11<00:00,  1.34it/s]\n",
      "100%|████████████████████████████████████████████████████████████████████████████████| 500/500 [00:41<00:00, 11.92it/s]\n"
     ]
    },
    {
     "name": "stdout",
     "output_type": "stream",
     "text": [
      "Epoch 14/42, Loss: 5.27995135307312, Validation loss: 2675.556037902832, Min loss: 2652.2158069610596, F1 Score: 4.571266037525015e-05, Accuracy: 0.0045\n"
     ]
    },
    {
     "name": "stderr",
     "output_type": "stream",
     "text": [
      "Epoch 15/42: 100%|███████████████████████████████████████████████████████████████████| 500/500 [06:11<00:00,  1.34it/s]\n",
      "100%|████████████████████████████████████████████████████████████████████████████████| 500/500 [00:41<00:00, 11.91it/s]\n"
     ]
    },
    {
     "name": "stdout",
     "output_type": "stream",
     "text": [
      "Epoch 15/42, Loss: 5.277774701118469, Validation loss: 2655.6656675338745, Min loss: 2652.2158069610596, F1 Score: 2.5446587612601155e-05, Accuracy: 0.0025\n"
     ]
    },
    {
     "name": "stderr",
     "output_type": "stream",
     "text": [
      "Epoch 16/42: 100%|███████████████████████████████████████████████████████████████████| 500/500 [06:11<00:00,  1.34it/s]\n",
      "100%|████████████████████████████████████████████████████████████████████████████████| 500/500 [00:41<00:00, 11.91it/s]\n"
     ]
    },
    {
     "name": "stdout",
     "output_type": "stream",
     "text": [
      "Epoch 16/42, Loss: 5.268440422058106, Validation loss: 2671.5150451660156, Min loss: 2652.2158069610596, F1 Score: 4.065371168387674e-05, Accuracy: 0.004\n"
     ]
    },
    {
     "name": "stderr",
     "output_type": "stream",
     "text": [
      "Epoch 17/42: 100%|███████████████████████████████████████████████████████████████████| 500/500 [06:11<00:00,  1.34it/s]\n",
      "100%|████████████████████████████████████████████████████████████████████████████████| 500/500 [00:42<00:00, 11.89it/s]\n"
     ]
    },
    {
     "name": "stdout",
     "output_type": "stream",
     "text": [
      "Epoch 17/42, Loss: 5.275883541107178, Validation loss: 2667.4836378097534, Min loss: 2652.2158069610596, F1 Score: 5.076657528683116e-05, Accuracy: 0.005\n"
     ]
    },
    {
     "name": "stderr",
     "output_type": "stream",
     "text": [
      "Epoch 18/42: 100%|███████████████████████████████████████████████████████████████████| 500/500 [06:11<00:00,  1.34it/s]\n",
      "100%|████████████████████████████████████████████████████████████████████████████████| 500/500 [00:42<00:00, 11.90it/s]\n"
     ]
    },
    {
     "name": "stdout",
     "output_type": "stream",
     "text": [
      "Epoch 18/42, Loss: 5.277418226242065, Validation loss: 2661.904112815857, Min loss: 2652.2158069610596, F1 Score: 5.58154639279879e-05, Accuracy: 0.0055\n"
     ]
    },
    {
     "name": "stderr",
     "output_type": "stream",
     "text": [
      "Epoch 19/42: 100%|███████████████████████████████████████████████████████████████████| 500/500 [06:11<00:00,  1.34it/s]\n",
      "100%|████████████████████████████████████████████████████████████████████████████████| 500/500 [00:42<00:00, 11.89it/s]\n"
     ]
    },
    {
     "name": "stdout",
     "output_type": "stream",
     "text": [
      "Epoch 19/42, Loss: 5.275527564048767, Validation loss: 2659.3039441108704, Min loss: 2652.2158069610596, F1 Score: 0.00016026383587509332, Accuracy: 0.008\n"
     ]
    },
    {
     "name": "stderr",
     "output_type": "stream",
     "text": [
      "Epoch 20/42: 100%|███████████████████████████████████████████████████████████████████| 500/500 [06:11<00:00,  1.34it/s]\n",
      "100%|████████████████████████████████████████████████████████████████████████████████| 500/500 [00:42<00:00, 11.90it/s]\n"
     ]
    },
    {
     "name": "stdout",
     "output_type": "stream",
     "text": [
      "Epoch 20/42, Loss: 5.272583106994629, Validation loss: 2667.7094287872314, Min loss: 2652.2158069610596, F1 Score: 7.093204709887927e-05, Accuracy: 0.007\n"
     ]
    },
    {
     "name": "stderr",
     "output_type": "stream",
     "text": [
      "Epoch 21/42: 100%|███████████████████████████████████████████████████████████████████| 500/500 [06:11<00:00,  1.34it/s]\n",
      "100%|████████████████████████████████████████████████████████████████████████████████| 500/500 [00:42<00:00, 11.90it/s]\n"
     ]
    },
    {
     "name": "stdout",
     "output_type": "stream",
     "text": [
      "Epoch 21/42, Loss: 5.274072581291199, Validation loss: 2660.9624428749084, Min loss: 2652.2158069610596, F1 Score: 0.00010753979258335672, Accuracy: 0.005\n"
     ]
    },
    {
     "name": "stderr",
     "output_type": "stream",
     "text": [
      "Epoch 22/42: 100%|███████████████████████████████████████████████████████████████████| 500/500 [06:12<00:00,  1.34it/s]\n",
      "100%|████████████████████████████████████████████████████████████████████████████████| 500/500 [00:41<00:00, 11.92it/s]\n"
     ]
    },
    {
     "name": "stdout",
     "output_type": "stream",
     "text": [
      "Epoch 22/42, Loss: 5.273922592163086, Validation loss: 2682.150779247284, Min loss: 2652.2158069610596, F1 Score: 0.00010602954690040293, Accuracy: 0.0105\n"
     ]
    },
    {
     "name": "stderr",
     "output_type": "stream",
     "text": [
      "Epoch 23/42: 100%|███████████████████████████████████████████████████████████████████| 500/500 [06:11<00:00,  1.34it/s]\n",
      "100%|████████████████████████████████████████████████████████████████████████████████| 500/500 [00:42<00:00, 11.89it/s]\n"
     ]
    },
    {
     "name": "stdout",
     "output_type": "stream",
     "text": [
      "Epoch 23/42, Loss: 5.269770463943481, Validation loss: 2668.6813740730286, Min loss: 2652.2158069610596, F1 Score: 3.558972168837639e-05, Accuracy: 0.0035\n"
     ]
    },
    {
     "name": "stderr",
     "output_type": "stream",
     "text": [
      "Epoch 24/42: 100%|███████████████████████████████████████████████████████████████████| 500/500 [06:11<00:00,  1.34it/s]\n",
      "100%|████████████████████████████████████████████████████████████████████████████████| 500/500 [00:41<00:00, 11.91it/s]\n"
     ]
    },
    {
     "name": "stdout",
     "output_type": "stream",
     "text": [
      "Epoch 24/42, Loss: 5.272700956344605, Validation loss: 2682.3781809806824, Min loss: 2652.2158069610596, F1 Score: 7.5960905453993e-05, Accuracy: 0.0075\n"
     ]
    },
    {
     "name": "stderr",
     "output_type": "stream",
     "text": [
      "Epoch 25/42: 100%|███████████████████████████████████████████████████████████████████| 500/500 [06:11<00:00,  1.34it/s]\n",
      "100%|████████████████████████████████████████████████████████████████████████████████| 500/500 [00:41<00:00, 11.91it/s]\n"
     ]
    },
    {
     "name": "stdout",
     "output_type": "stream",
     "text": [
      "Epoch 25/42, Loss: 5.268901683807373, Validation loss: 2666.1658143997192, Min loss: 2652.2158069610596, F1 Score: 7.5960905453993e-05, Accuracy: 0.0075\n"
     ]
    },
    {
     "name": "stderr",
     "output_type": "stream",
     "text": [
      "Epoch 26/42: 100%|███████████████████████████████████████████████████████████████████| 500/500 [06:11<00:00,  1.34it/s]\n",
      "100%|████████████████████████████████████████████████████████████████████████████████| 500/500 [00:41<00:00, 11.92it/s]\n"
     ]
    },
    {
     "name": "stdout",
     "output_type": "stream",
     "text": [
      "Epoch 26/42, Loss: 5.272732705116272, Validation loss: 2663.7154417037964, Min loss: 2652.2158069610596, F1 Score: 2.5446587612601155e-05, Accuracy: 0.0025\n"
     ]
    },
    {
     "name": "stderr",
     "output_type": "stream",
     "text": [
      "Epoch 27/42: 100%|███████████████████████████████████████████████████████████████████| 500/500 [06:11<00:00,  1.34it/s]\n",
      "100%|████████████████████████████████████████████████████████████████████████████████| 500/500 [00:41<00:00, 11.91it/s]\n"
     ]
    },
    {
     "name": "stdout",
     "output_type": "stream",
     "text": [
      "Epoch 27/42, Loss: 5.270654473304749, Validation loss: 2654.5112466812134, Min loss: 2652.2158069610596, F1 Score: 6.085933379315941e-05, Accuracy: 0.006\n"
     ]
    },
    {
     "name": "stderr",
     "output_type": "stream",
     "text": [
      "Epoch 28/42: 100%|███████████████████████████████████████████████████████████████████| 500/500 [06:11<00:00,  1.34it/s]\n",
      "100%|████████████████████████████████████████████████████████████████████████████████| 500/500 [00:41<00:00, 11.91it/s]\n"
     ]
    },
    {
     "name": "stdout",
     "output_type": "stream",
     "text": [
      "Epoch 28/42, Loss: 5.27287674331665, Validation loss: 2678.25341796875, Min loss: 2652.2158069610596, F1 Score: 7.5960905453993e-05, Accuracy: 0.0075\n"
     ]
    },
    {
     "name": "stderr",
     "output_type": "stream",
     "text": [
      "Epoch 29/42: 100%|███████████████████████████████████████████████████████████████████| 500/500 [06:11<00:00,  1.34it/s]\n",
      "100%|████████████████████████████████████████████████████████████████████████████████| 500/500 [00:41<00:00, 11.91it/s]\n"
     ]
    },
    {
     "name": "stdout",
     "output_type": "stream",
     "text": [
      "Epoch 29/42, Loss: 5.2696807594299315, Validation loss: 2684.957579612732, Min loss: 2652.2158069610596, F1 Score: 3.558972168837639e-05, Accuracy: 0.0035\n"
     ]
    },
    {
     "name": "stderr",
     "output_type": "stream",
     "text": [
      "Epoch 30/42: 100%|███████████████████████████████████████████████████████████████████| 500/500 [06:11<00:00,  1.34it/s]\n",
      "100%|████████████████████████████████████████████████████████████████████████████████| 500/500 [00:41<00:00, 11.91it/s]\n"
     ]
    },
    {
     "name": "stdout",
     "output_type": "stream",
     "text": [
      "Epoch 30/42, Loss: 5.262693222045899, Validation loss: 2671.5611958503723, Min loss: 2652.2158069610596, F1 Score: 4.571266037525015e-05, Accuracy: 0.0045\n"
     ]
    },
    {
     "name": "stderr",
     "output_type": "stream",
     "text": [
      "Epoch 31/42: 100%|███████████████████████████████████████████████████████████████████| 500/500 [06:12<00:00,  1.34it/s]\n",
      "100%|████████████████████████████████████████████████████████████████████████████████| 500/500 [00:41<00:00, 11.92it/s]\n"
     ]
    },
    {
     "name": "stdout",
     "output_type": "stream",
     "text": [
      "Epoch 31/42, Loss: 5.270493315696716, Validation loss: 2675.7727766036987, Min loss: 2652.2158069610596, F1 Score: 6.58981923618926e-05, Accuracy: 0.0065\n"
     ]
    },
    {
     "name": "stderr",
     "output_type": "stream",
     "text": [
      "Epoch 32/42: 100%|███████████████████████████████████████████████████████████████████| 500/500 [06:11<00:00,  1.34it/s]\n",
      "100%|████████████████████████████████████████████████████████████████████████████████| 500/500 [00:41<00:00, 11.92it/s]\n"
     ]
    },
    {
     "name": "stdout",
     "output_type": "stream",
     "text": [
      "Epoch 32/42, Loss: 5.268949578285217, Validation loss: 2665.4521107673645, Min loss: 2652.2158069610596, F1 Score: 7.5960905453993e-05, Accuracy: 0.0075\n"
     ]
    },
    {
     "name": "stderr",
     "output_type": "stream",
     "text": [
      "Epoch 33/42: 100%|███████████████████████████████████████████████████████████████████| 500/500 [06:11<00:00,  1.34it/s]\n",
      "100%|████████████████████████████████████████████████████████████████████████████████| 500/500 [00:41<00:00, 11.92it/s]\n"
     ]
    },
    {
     "name": "stdout",
     "output_type": "stream",
     "text": [
      "Epoch 33/42, Loss: 5.273298580169678, Validation loss: 2686.3223571777344, Min loss: 2652.2158069610596, F1 Score: 6.58981923618926e-05, Accuracy: 0.0065\n"
     ]
    },
    {
     "name": "stderr",
     "output_type": "stream",
     "text": [
      "Epoch 34/42: 100%|███████████████████████████████████████████████████████████████████| 500/500 [06:11<00:00,  1.34it/s]\n",
      "100%|████████████████████████████████████████████████████████████████████████████████| 500/500 [00:41<00:00, 11.93it/s]\n"
     ]
    },
    {
     "name": "stdout",
     "output_type": "stream",
     "text": [
      "Epoch 34/42, Loss: 5.2676016750335695, Validation loss: 2663.9987664222717, Min loss: 2652.2158069610596, F1 Score: 7.5960905453993e-05, Accuracy: 0.0075\n"
     ]
    },
    {
     "name": "stderr",
     "output_type": "stream",
     "text": [
      "Epoch 35/42: 100%|███████████████████████████████████████████████████████████████████| 500/500 [06:11<00:00,  1.34it/s]\n",
      "100%|████████████████████████████████████████████████████████████████████████████████| 500/500 [00:41<00:00, 11.93it/s]\n"
     ]
    },
    {
     "name": "stdout",
     "output_type": "stream",
     "text": [
      "Epoch 35/42, Loss: 5.270231503486634, Validation loss: 2676.2829570770264, Min loss: 2652.2158069610596, F1 Score: 5.58154639279879e-05, Accuracy: 0.0055\n"
     ]
    },
    {
     "name": "stderr",
     "output_type": "stream",
     "text": [
      "Epoch 36/42: 100%|███████████████████████████████████████████████████████████████████| 500/500 [06:11<00:00,  1.34it/s]\n",
      "100%|████████████████████████████████████████████████████████████████████████████████| 500/500 [00:41<00:00, 11.93it/s]\n"
     ]
    },
    {
     "name": "stdout",
     "output_type": "stream",
     "text": [
      "Epoch 36/42, Loss: 5.2728656387329105, Validation loss: 2677.521797657013, Min loss: 2652.2158069610596, F1 Score: 6.58981923618926e-05, Accuracy: 0.0065\n"
     ]
    },
    {
     "name": "stderr",
     "output_type": "stream",
     "text": [
      "Epoch 37/42: 100%|███████████████████████████████████████████████████████████████████| 500/500 [06:11<00:00,  1.34it/s]\n",
      "100%|████████████████████████████████████████████████████████████████████████████████| 500/500 [00:41<00:00, 11.92it/s]\n"
     ]
    },
    {
     "name": "stdout",
     "output_type": "stream",
     "text": [
      "Epoch 37/42, Loss: 5.272802181243897, Validation loss: 2661.4461364746094, Min loss: 2652.2158069610596, F1 Score: 4.571266037525015e-05, Accuracy: 0.0045\n"
     ]
    },
    {
     "name": "stderr",
     "output_type": "stream",
     "text": [
      "Epoch 38/42: 100%|███████████████████████████████████████████████████████████████████| 500/500 [06:11<00:00,  1.34it/s]\n",
      "100%|████████████████████████████████████████████████████████████████████████████████| 500/500 [00:42<00:00, 11.90it/s]\n"
     ]
    },
    {
     "name": "stdout",
     "output_type": "stream",
     "text": [
      "Epoch 38/42, Loss: 5.266931377410889, Validation loss: 2660.597960948944, Min loss: 2652.2158069610596, F1 Score: 3.558972168837639e-05, Accuracy: 0.0035\n"
     ]
    },
    {
     "name": "stderr",
     "output_type": "stream",
     "text": [
      "Epoch 39/42: 100%|███████████████████████████████████████████████████████████████████| 500/500 [06:11<00:00,  1.34it/s]\n",
      "100%|████████████████████████████████████████████████████████████████████████████████| 500/500 [00:42<00:00, 11.90it/s]\n"
     ]
    },
    {
     "name": "stdout",
     "output_type": "stream",
     "text": [
      "Epoch 39/42, Loss: 5.269914585113526, Validation loss: 2659.851306438446, Min loss: 2652.2158069610596, F1 Score: 2.5446587612601155e-05, Accuracy: 0.0025\n"
     ]
    },
    {
     "name": "stderr",
     "output_type": "stream",
     "text": [
      "Epoch 40/42: 100%|███████████████████████████████████████████████████████████████████| 500/500 [06:11<00:00,  1.34it/s]\n",
      "100%|████████████████████████████████████████████████████████████████████████████████| 500/500 [00:42<00:00, 11.90it/s]\n"
     ]
    },
    {
     "name": "stdout",
     "output_type": "stream",
     "text": [
      "Epoch 40/42, Loss: 5.272430178642273, Validation loss: 2670.7771639823914, Min loss: 2652.2158069610596, F1 Score: 0.00010602954690040293, Accuracy: 0.0105\n"
     ]
    },
    {
     "name": "stderr",
     "output_type": "stream",
     "text": [
      "Epoch 41/42: 100%|███████████████████████████████████████████████████████████████████| 500/500 [06:11<00:00,  1.34it/s]\n",
      "100%|████████████████████████████████████████████████████████████████████████████████| 500/500 [00:41<00:00, 11.93it/s]\n"
     ]
    },
    {
     "name": "stdout",
     "output_type": "stream",
     "text": [
      "Epoch 41/42, Loss: 5.267566172599793, Validation loss: 2671.4186539649963, Min loss: 2652.2158069610596, F1 Score: 7.5960905453993e-05, Accuracy: 0.0075\n"
     ]
    },
    {
     "name": "stderr",
     "output_type": "stream",
     "text": [
      "Epoch 42/42: 100%|███████████████████████████████████████████████████████████████████| 500/500 [06:11<00:00,  1.34it/s]\n",
      "100%|████████████████████████████████████████████████████████████████████████████████| 500/500 [00:41<00:00, 11.92it/s]"
     ]
    },
    {
     "name": "stdout",
     "output_type": "stream",
     "text": [
      "Epoch 42/42, Loss: 5.263738107681275, Validation loss: 2677.231673717499, Min loss: 2652.2158069610596, F1 Score: 3.558972168837639e-05, Accuracy: 0.0035\n"
     ]
    },
    {
     "name": "stderr",
     "output_type": "stream",
     "text": [
      "\n"
     ]
    },
    {
     "data": {
      "text/plain": [
       "VitTransformer(\n",
       "  (embedding): InputEmbedding(\n",
       "    (linearProjection): Linear(in_features=768, out_features=768, bias=True)\n",
       "  )\n",
       "  (encStack): ModuleList(\n",
       "    (0-11): 12 x EncoderBlock(\n",
       "      (norm): LayerNorm((768,), eps=1e-05, elementwise_affine=True)\n",
       "      (multihead): MultiheadAttention(\n",
       "        (out_proj): NonDynamicallyQuantizableLinear(in_features=768, out_features=768, bias=True)\n",
       "      )\n",
       "      (enc_MLP): Sequential(\n",
       "        (0): Linear(in_features=768, out_features=3072, bias=True)\n",
       "        (1): GELU(approximate='none')\n",
       "        (2): Dropout(p=0.1, inplace=False)\n",
       "        (3): Linear(in_features=3072, out_features=768, bias=True)\n",
       "        (4): Dropout(p=0.1, inplace=False)\n",
       "      )\n",
       "    )\n",
       "  )\n",
       "  (MLP_head): Sequential(\n",
       "    (0): LayerNorm((768,), eps=1e-05, elementwise_affine=True)\n",
       "    (1): Linear(in_features=768, out_features=768, bias=True)\n",
       "    (2): Linear(in_features=768, out_features=197, bias=True)\n",
       "  )\n",
       ")"
      ]
     },
     "execution_count": 62,
     "metadata": {},
     "output_type": "execute_result"
    }
   ],
   "source": [
    "model_custom_vit_adam = VitTransformer(num_encoders, latent_size, device, num_classes).to(device)\n",
    "fine_tune_model_with_writer(\"custom_vit_adam\", model_custom_vit_adam, epochs=42, optimizer='adam')\n"
   ]
  },
  {
   "cell_type": "code",
   "execution_count": 63,
   "id": "800827a3-14d0-4840-98bb-26b94e00e049",
   "metadata": {},
   "outputs": [
    {
     "name": "stderr",
     "output_type": "stream",
     "text": [
      "Epoch 1/42: 100%|████████████████████████████████████████████████████████████████████| 500/500 [11:04<00:00,  1.33s/it]\n",
      "100%|████████████████████████████████████████████████████████████████████████████████| 500/500 [01:14<00:00,  6.75it/s]\n"
     ]
    },
    {
     "name": "stdout",
     "output_type": "stream",
     "text": [
      "Saving model...\n",
      "Epoch 1/42, Loss: 6.142317693710327, Validation loss: 2863.9648699760437, Min loss: 2863.9648699760437, F1 Score: 5.079184486138905e-05, Accuracy: 0.005\n"
     ]
    },
    {
     "name": "stderr",
     "output_type": "stream",
     "text": [
      "Epoch 2/42: 100%|████████████████████████████████████████████████████████████████████| 500/500 [11:04<00:00,  1.33s/it]\n",
      "100%|████████████████████████████████████████████████████████████████████████████████| 500/500 [01:14<00:00,  6.75it/s]\n"
     ]
    },
    {
     "name": "stdout",
     "output_type": "stream",
     "text": [
      "Saving model...\n",
      "Epoch 2/42, Loss: 5.377341130256653, Validation loss: 2634.196545124054, Min loss: 2634.196545124054, F1 Score: 0.00013838321110051669, Accuracy: 0.0025\n"
     ]
    },
    {
     "name": "stderr",
     "output_type": "stream",
     "text": [
      "Epoch 3/42: 100%|████████████████████████████████████████████████████████████████████| 500/500 [11:04<00:00,  1.33s/it]\n",
      "100%|████████████████████████████████████████████████████████████████████████████████| 500/500 [01:14<00:00,  6.75it/s]\n"
     ]
    },
    {
     "name": "stdout",
     "output_type": "stream",
     "text": [
      "Saving model...\n",
      "Epoch 3/42, Loss: 5.211818323135376, Validation loss: 2634.1568055152893, Min loss: 2634.1568055152893, F1 Score: 0.0010462263020085143, Accuracy: 0.0065\n"
     ]
    },
    {
     "name": "stderr",
     "output_type": "stream",
     "text": [
      "Epoch 4/42: 100%|████████████████████████████████████████████████████████████████████| 500/500 [11:04<00:00,  1.33s/it]\n",
      "100%|████████████████████████████████████████████████████████████████████████████████| 500/500 [01:14<00:00,  6.75it/s]\n"
     ]
    },
    {
     "name": "stdout",
     "output_type": "stream",
     "text": [
      "Epoch 4/42, Loss: 5.183147798538208, Validation loss: 2636.2147216796875, Min loss: 2634.1568055152893, F1 Score: 0.0017985026690217592, Accuracy: 0.012\n"
     ]
    },
    {
     "name": "stderr",
     "output_type": "stream",
     "text": [
      "Epoch 5/42: 100%|████████████████████████████████████████████████████████████████████| 500/500 [11:04<00:00,  1.33s/it]\n",
      "100%|████████████████████████████████████████████████████████████████████████████████| 500/500 [01:14<00:00,  6.75it/s]\n"
     ]
    },
    {
     "name": "stdout",
     "output_type": "stream",
     "text": [
      "Epoch 5/42, Loss: 5.145069673538208, Validation loss: 2634.739032268524, Min loss: 2634.1568055152893, F1 Score: 0.0014452283577014485, Accuracy: 0.011\n"
     ]
    },
    {
     "name": "stderr",
     "output_type": "stream",
     "text": [
      "Epoch 6/42: 100%|████████████████████████████████████████████████████████████████████| 500/500 [11:04<00:00,  1.33s/it]\n",
      "100%|████████████████████████████████████████████████████████████████████████████████| 500/500 [01:14<00:00,  6.75it/s]\n"
     ]
    },
    {
     "name": "stdout",
     "output_type": "stream",
     "text": [
      "Saving model...\n",
      "Epoch 6/42, Loss: 5.113718385696411, Validation loss: 2634.0237216949463, Min loss: 2634.0237216949463, F1 Score: 0.001570976166571463, Accuracy: 0.01\n"
     ]
    },
    {
     "name": "stderr",
     "output_type": "stream",
     "text": [
      "Epoch 7/42: 100%|████████████████████████████████████████████████████████████████████| 500/500 [11:04<00:00,  1.33s/it]\n",
      "100%|████████████████████████████████████████████████████████████████████████████████| 500/500 [01:14<00:00,  6.73it/s]\n"
     ]
    },
    {
     "name": "stdout",
     "output_type": "stream",
     "text": [
      "Epoch 7/42, Loss: 5.079320242881775, Validation loss: 2672.6340508461, Min loss: 2634.0237216949463, F1 Score: 0.002848304343321095, Accuracy: 0.012\n"
     ]
    },
    {
     "name": "stderr",
     "output_type": "stream",
     "text": [
      "Epoch 8/42: 100%|████████████████████████████████████████████████████████████████████| 500/500 [11:04<00:00,  1.33s/it]\n",
      "100%|████████████████████████████████████████████████████████████████████████████████| 500/500 [01:14<00:00,  6.74it/s]\n"
     ]
    },
    {
     "name": "stdout",
     "output_type": "stream",
     "text": [
      "Epoch 8/42, Loss: 5.041302716732025, Validation loss: 2708.5135173797607, Min loss: 2634.0237216949463, F1 Score: 0.002415232270812056, Accuracy: 0.011\n"
     ]
    },
    {
     "name": "stderr",
     "output_type": "stream",
     "text": [
      "Epoch 9/42: 100%|████████████████████████████████████████████████████████████████████| 500/500 [11:04<00:00,  1.33s/it]\n",
      "100%|████████████████████████████████████████████████████████████████████████████████| 500/500 [01:14<00:00,  6.75it/s]\n"
     ]
    },
    {
     "name": "stdout",
     "output_type": "stream",
     "text": [
      "Epoch 9/42, Loss: 4.993900582790375, Validation loss: 2671.918164253235, Min loss: 2634.0237216949463, F1 Score: 0.003477875059089045, Accuracy: 0.0095\n"
     ]
    },
    {
     "name": "stderr",
     "output_type": "stream",
     "text": [
      "Epoch 10/42: 100%|███████████████████████████████████████████████████████████████████| 500/500 [11:04<00:00,  1.33s/it]\n",
      "100%|████████████████████████████████████████████████████████████████████████████████| 500/500 [01:14<00:00,  6.74it/s]\n"
     ]
    },
    {
     "name": "stdout",
     "output_type": "stream",
     "text": [
      "Epoch 10/42, Loss: 4.9381855220794675, Validation loss: 2649.896921157837, Min loss: 2634.0237216949463, F1 Score: 0.003834650078902563, Accuracy: 0.0145\n"
     ]
    },
    {
     "name": "stderr",
     "output_type": "stream",
     "text": [
      "Epoch 11/42: 100%|███████████████████████████████████████████████████████████████████| 500/500 [11:04<00:00,  1.33s/it]\n",
      "100%|████████████████████████████████████████████████████████████████████████████████| 500/500 [01:14<00:00,  6.75it/s]\n"
     ]
    },
    {
     "name": "stdout",
     "output_type": "stream",
     "text": [
      "Epoch 11/42, Loss: 4.90184348154068, Validation loss: 2693.1496827602386, Min loss: 2634.0237216949463, F1 Score: 0.006227499796391292, Accuracy: 0.014\n"
     ]
    },
    {
     "name": "stderr",
     "output_type": "stream",
     "text": [
      "Epoch 12/42: 100%|███████████████████████████████████████████████████████████████████| 500/500 [11:04<00:00,  1.33s/it]\n",
      "100%|████████████████████████████████████████████████████████████████████████████████| 500/500 [01:14<00:00,  6.75it/s]\n"
     ]
    },
    {
     "name": "stdout",
     "output_type": "stream",
     "text": [
      "Epoch 12/42, Loss: 4.923823572158813, Validation loss: 2692.129487991333, Min loss: 2634.0237216949463, F1 Score: 0.003979379902913722, Accuracy: 0.0105\n"
     ]
    },
    {
     "name": "stderr",
     "output_type": "stream",
     "text": [
      "Epoch 13/42: 100%|███████████████████████████████████████████████████████████████████| 500/500 [11:07<00:00,  1.34s/it]\n",
      "100%|████████████████████████████████████████████████████████████████████████████████| 500/500 [01:14<00:00,  6.74it/s]\n"
     ]
    },
    {
     "name": "stdout",
     "output_type": "stream",
     "text": [
      "Epoch 13/42, Loss: 4.889400209903717, Validation loss: 2665.9203293323517, Min loss: 2634.0237216949463, F1 Score: 0.0038224212466352755, Accuracy: 0.01\n"
     ]
    },
    {
     "name": "stderr",
     "output_type": "stream",
     "text": [
      "Epoch 14/42: 100%|███████████████████████████████████████████████████████████████████| 500/500 [11:04<00:00,  1.33s/it]\n",
      "100%|████████████████████████████████████████████████████████████████████████████████| 500/500 [01:14<00:00,  6.74it/s]\n"
     ]
    },
    {
     "name": "stdout",
     "output_type": "stream",
     "text": [
      "Epoch 14/42, Loss: 4.826931622028351, Validation loss: 2679.1389479637146, Min loss: 2634.0237216949463, F1 Score: 0.004700193623298726, Accuracy: 0.0165\n"
     ]
    },
    {
     "name": "stderr",
     "output_type": "stream",
     "text": [
      "Epoch 15/42: 100%|███████████████████████████████████████████████████████████████████| 500/500 [11:04<00:00,  1.33s/it]\n",
      "100%|████████████████████████████████████████████████████████████████████████████████| 500/500 [01:14<00:00,  6.74it/s]\n"
     ]
    },
    {
     "name": "stdout",
     "output_type": "stream",
     "text": [
      "Epoch 15/42, Loss: 4.769674874305725, Validation loss: 2781.844452857971, Min loss: 2634.0237216949463, F1 Score: 0.003382275819879232, Accuracy: 0.012\n"
     ]
    },
    {
     "name": "stderr",
     "output_type": "stream",
     "text": [
      "Epoch 16/42: 100%|███████████████████████████████████████████████████████████████████| 500/500 [11:04<00:00,  1.33s/it]\n",
      "100%|████████████████████████████████████████████████████████████████████████████████| 500/500 [01:14<00:00,  6.74it/s]\n"
     ]
    },
    {
     "name": "stdout",
     "output_type": "stream",
     "text": [
      "Epoch 16/42, Loss: 4.726115382671356, Validation loss: 2717.7887880802155, Min loss: 2634.0237216949463, F1 Score: 0.004999721211126966, Accuracy: 0.0135\n"
     ]
    },
    {
     "name": "stderr",
     "output_type": "stream",
     "text": [
      "Epoch 17/42: 100%|███████████████████████████████████████████████████████████████████| 500/500 [11:04<00:00,  1.33s/it]\n",
      "100%|████████████████████████████████████████████████████████████████████████████████| 500/500 [01:14<00:00,  6.74it/s]\n"
     ]
    },
    {
     "name": "stdout",
     "output_type": "stream",
     "text": [
      "Epoch 17/42, Loss: 4.669801411628723, Validation loss: 2772.984934091568, Min loss: 2634.0237216949463, F1 Score: 0.006105639039562342, Accuracy: 0.014\n"
     ]
    },
    {
     "name": "stderr",
     "output_type": "stream",
     "text": [
      "Epoch 18/42: 100%|███████████████████████████████████████████████████████████████████| 500/500 [11:04<00:00,  1.33s/it]\n",
      "100%|████████████████████████████████████████████████████████████████████████████████| 500/500 [01:14<00:00,  6.74it/s]\n"
     ]
    },
    {
     "name": "stdout",
     "output_type": "stream",
     "text": [
      "Epoch 18/42, Loss: 4.730876189231872, Validation loss: 2756.1021037101746, Min loss: 2634.0237216949463, F1 Score: 0.005497003005378201, Accuracy: 0.012\n"
     ]
    },
    {
     "name": "stderr",
     "output_type": "stream",
     "text": [
      "Epoch 19/42: 100%|███████████████████████████████████████████████████████████████████| 500/500 [10:46<00:00,  1.29s/it]\n",
      "100%|████████████████████████████████████████████████████████████████████████████████| 500/500 [01:12<00:00,  6.93it/s]\n"
     ]
    },
    {
     "name": "stdout",
     "output_type": "stream",
     "text": [
      "Epoch 19/42, Loss: 4.784743936061859, Validation loss: 2737.6757366657257, Min loss: 2634.0237216949463, F1 Score: 0.004578212767725055, Accuracy: 0.01\n"
     ]
    },
    {
     "name": "stderr",
     "output_type": "stream",
     "text": [
      "Epoch 20/42: 100%|███████████████████████████████████████████████████████████████████| 500/500 [10:40<00:00,  1.28s/it]\n",
      "100%|████████████████████████████████████████████████████████████████████████████████| 500/500 [01:17<00:00,  6.42it/s]\n"
     ]
    },
    {
     "name": "stdout",
     "output_type": "stream",
     "text": [
      "Epoch 20/42, Loss: 4.711849321842194, Validation loss: 2763.9829914569855, Min loss: 2634.0237216949463, F1 Score: 0.004329648292475882, Accuracy: 0.0115\n"
     ]
    },
    {
     "name": "stderr",
     "output_type": "stream",
     "text": [
      "Epoch 21/42: 100%|███████████████████████████████████████████████████████████████████| 500/500 [10:35<00:00,  1.27s/it]\n",
      "100%|████████████████████████████████████████████████████████████████████████████████| 500/500 [01:12<00:00,  6.93it/s]\n"
     ]
    },
    {
     "name": "stdout",
     "output_type": "stream",
     "text": [
      "Epoch 21/42, Loss: 4.660229311943054, Validation loss: 2739.1716797351837, Min loss: 2634.0237216949463, F1 Score: 0.007296357795058131, Accuracy: 0.0135\n"
     ]
    },
    {
     "name": "stderr",
     "output_type": "stream",
     "text": [
      "Epoch 22/42: 100%|███████████████████████████████████████████████████████████████████| 500/500 [10:43<00:00,  1.29s/it]\n",
      "100%|████████████████████████████████████████████████████████████████████████████████| 500/500 [01:16<00:00,  6.52it/s]\n"
     ]
    },
    {
     "name": "stdout",
     "output_type": "stream",
     "text": [
      "Epoch 22/42, Loss: 4.587570909976959, Validation loss: 2818.3334305286407, Min loss: 2634.0237216949463, F1 Score: 0.010772022108411381, Accuracy: 0.0155\n"
     ]
    },
    {
     "name": "stderr",
     "output_type": "stream",
     "text": [
      "Epoch 23/42: 100%|███████████████████████████████████████████████████████████████████| 500/500 [12:45<00:00,  1.53s/it]\n",
      "100%|████████████████████████████████████████████████████████████████████████████████| 500/500 [01:39<00:00,  5.05it/s]\n"
     ]
    },
    {
     "name": "stdout",
     "output_type": "stream",
     "text": [
      "Epoch 23/42, Loss: 4.527702389240265, Validation loss: 2795.412841796875, Min loss: 2634.0237216949463, F1 Score: 0.005699169268872724, Accuracy: 0.01\n"
     ]
    },
    {
     "name": "stderr",
     "output_type": "stream",
     "text": [
      "Epoch 24/42: 100%|███████████████████████████████████████████████████████████████████| 500/500 [14:19<00:00,  1.72s/it]\n",
      "100%|████████████████████████████████████████████████████████████████████████████████| 500/500 [01:36<00:00,  5.20it/s]\n"
     ]
    },
    {
     "name": "stdout",
     "output_type": "stream",
     "text": [
      "Epoch 24/42, Loss: 4.667765968322754, Validation loss: 2797.783702611923, Min loss: 2634.0237216949463, F1 Score: 0.006179030676164828, Accuracy: 0.011\n"
     ]
    },
    {
     "name": "stderr",
     "output_type": "stream",
     "text": [
      "Epoch 25/42: 100%|███████████████████████████████████████████████████████████████████| 500/500 [12:44<00:00,  1.53s/it]\n",
      "100%|████████████████████████████████████████████████████████████████████████████████| 500/500 [01:34<00:00,  5.32it/s]\n"
     ]
    },
    {
     "name": "stdout",
     "output_type": "stream",
     "text": [
      "Epoch 25/42, Loss: 4.597667479515076, Validation loss: 2776.8226611614227, Min loss: 2634.0237216949463, F1 Score: 0.009205758073745199, Accuracy: 0.014\n"
     ]
    },
    {
     "name": "stderr",
     "output_type": "stream",
     "text": [
      "Epoch 26/42: 100%|███████████████████████████████████████████████████████████████████| 500/500 [12:42<00:00,  1.53s/it]\n",
      "100%|████████████████████████████████████████████████████████████████████████████████| 500/500 [01:31<00:00,  5.44it/s]\n"
     ]
    },
    {
     "name": "stdout",
     "output_type": "stream",
     "text": [
      "Epoch 26/42, Loss: 4.481824551582337, Validation loss: 2826.1117758750916, Min loss: 2634.0237216949463, F1 Score: 0.0089466156033251, Accuracy: 0.0145\n"
     ]
    },
    {
     "name": "stderr",
     "output_type": "stream",
     "text": [
      "Epoch 27/42: 100%|███████████████████████████████████████████████████████████████████| 500/500 [12:27<00:00,  1.50s/it]\n",
      "100%|████████████████████████████████████████████████████████████████████████████████| 500/500 [01:31<00:00,  5.45it/s]\n"
     ]
    },
    {
     "name": "stdout",
     "output_type": "stream",
     "text": [
      "Epoch 27/42, Loss: 4.439708965301514, Validation loss: 2808.605537176132, Min loss: 2634.0237216949463, F1 Score: 0.006932192756657966, Accuracy: 0.0155\n"
     ]
    },
    {
     "name": "stderr",
     "output_type": "stream",
     "text": [
      "Epoch 28/42: 100%|███████████████████████████████████████████████████████████████████| 500/500 [12:24<00:00,  1.49s/it]\n",
      "100%|████████████████████████████████████████████████████████████████████████████████| 500/500 [01:31<00:00,  5.45it/s]\n"
     ]
    },
    {
     "name": "stdout",
     "output_type": "stream",
     "text": [
      "Epoch 28/42, Loss: 4.316543264389038, Validation loss: 2798.055160522461, Min loss: 2634.0237216949463, F1 Score: 0.008937195277274688, Accuracy: 0.0125\n"
     ]
    },
    {
     "name": "stderr",
     "output_type": "stream",
     "text": [
      "Epoch 29/42: 100%|███████████████████████████████████████████████████████████████████| 500/500 [12:27<00:00,  1.49s/it]\n",
      "100%|████████████████████████████████████████████████████████████████████████████████| 500/500 [01:31<00:00,  5.45it/s]\n"
     ]
    },
    {
     "name": "stdout",
     "output_type": "stream",
     "text": [
      "Epoch 29/42, Loss: 4.277113597393036, Validation loss: 2851.2011172771454, Min loss: 2634.0237216949463, F1 Score: 0.008458628820509836, Accuracy: 0.013\n"
     ]
    },
    {
     "name": "stderr",
     "output_type": "stream",
     "text": [
      "Epoch 30/42: 100%|███████████████████████████████████████████████████████████████████| 500/500 [12:27<00:00,  1.49s/it]\n",
      "100%|████████████████████████████████████████████████████████████████████████████████| 500/500 [01:31<00:00,  5.45it/s]\n"
     ]
    },
    {
     "name": "stdout",
     "output_type": "stream",
     "text": [
      "Epoch 30/42, Loss: 4.215864131450653, Validation loss: 2877.771495580673, Min loss: 2634.0237216949463, F1 Score: 0.008325386868793343, Accuracy: 0.0115\n"
     ]
    },
    {
     "name": "stderr",
     "output_type": "stream",
     "text": [
      "Epoch 31/42: 100%|███████████████████████████████████████████████████████████████████| 500/500 [12:26<00:00,  1.49s/it]\n",
      "100%|████████████████████████████████████████████████████████████████████████████████| 500/500 [01:31<00:00,  5.46it/s]\n"
     ]
    },
    {
     "name": "stdout",
     "output_type": "stream",
     "text": [
      "Epoch 31/42, Loss: 4.322555517196656, Validation loss: 2876.7847900390625, Min loss: 2634.0237216949463, F1 Score: 0.007469886785242429, Accuracy: 0.0115\n"
     ]
    },
    {
     "name": "stderr",
     "output_type": "stream",
     "text": [
      "Epoch 32/42: 100%|███████████████████████████████████████████████████████████████████| 500/500 [13:10<00:00,  1.58s/it]\n",
      "100%|████████████████████████████████████████████████████████████████████████████████| 500/500 [01:31<00:00,  5.47it/s]\n"
     ]
    },
    {
     "name": "stdout",
     "output_type": "stream",
     "text": [
      "Epoch 32/42, Loss: 4.198624138832092, Validation loss: 2911.3437304496765, Min loss: 2634.0237216949463, F1 Score: 0.012101580660621029, Accuracy: 0.0175\n"
     ]
    },
    {
     "name": "stderr",
     "output_type": "stream",
     "text": [
      "Epoch 33/42: 100%|███████████████████████████████████████████████████████████████████| 500/500 [14:13<00:00,  1.71s/it]\n",
      "100%|████████████████████████████████████████████████████████████████████████████████| 500/500 [01:40<00:00,  4.97it/s]\n"
     ]
    },
    {
     "name": "stdout",
     "output_type": "stream",
     "text": [
      "Epoch 33/42, Loss: 4.121317234754563, Validation loss: 3057.502898454666, Min loss: 2634.0237216949463, F1 Score: 0.010786265725429052, Accuracy: 0.0125\n"
     ]
    },
    {
     "name": "stderr",
     "output_type": "stream",
     "text": [
      "Epoch 34/42: 100%|███████████████████████████████████████████████████████████████████| 500/500 [13:38<00:00,  1.64s/it]\n",
      "100%|████████████████████████████████████████████████████████████████████████████████| 500/500 [01:41<00:00,  4.90it/s]\n"
     ]
    },
    {
     "name": "stdout",
     "output_type": "stream",
     "text": [
      "Epoch 34/42, Loss: 4.013136128187179, Validation loss: 3046.477165222168, Min loss: 2634.0237216949463, F1 Score: 0.008463399240402172, Accuracy: 0.0105\n"
     ]
    },
    {
     "name": "stderr",
     "output_type": "stream",
     "text": [
      "Epoch 35/42: 100%|███████████████████████████████████████████████████████████████████| 500/500 [12:52<00:00,  1.54s/it]\n",
      "100%|████████████████████████████████████████████████████████████████████████████████| 500/500 [01:35<00:00,  5.24it/s]\n"
     ]
    },
    {
     "name": "stdout",
     "output_type": "stream",
     "text": [
      "Epoch 35/42, Loss: 3.9755069873332975, Validation loss: 3020.396773338318, Min loss: 2634.0237216949463, F1 Score: 0.015524486850547421, Accuracy: 0.0205\n"
     ]
    },
    {
     "name": "stderr",
     "output_type": "stream",
     "text": [
      "Epoch 36/42: 100%|███████████████████████████████████████████████████████████████████| 500/500 [12:53<00:00,  1.55s/it]\n",
      "100%|████████████████████████████████████████████████████████████████████████████████| 500/500 [01:31<00:00,  5.45it/s]\n"
     ]
    },
    {
     "name": "stdout",
     "output_type": "stream",
     "text": [
      "Epoch 36/42, Loss: 3.839777574062347, Validation loss: 2919.3519406318665, Min loss: 2634.0237216949463, F1 Score: 0.012126613478538105, Accuracy: 0.015\n"
     ]
    },
    {
     "name": "stderr",
     "output_type": "stream",
     "text": [
      "Epoch 37/42: 100%|███████████████████████████████████████████████████████████████████| 500/500 [12:38<00:00,  1.52s/it]\n",
      "100%|████████████████████████████████████████████████████████████████████████████████| 500/500 [01:32<00:00,  5.38it/s]\n"
     ]
    },
    {
     "name": "stdout",
     "output_type": "stream",
     "text": [
      "Epoch 37/42, Loss: 3.84478470993042, Validation loss: 3113.3517615795135, Min loss: 2634.0237216949463, F1 Score: 0.005410419008819439, Accuracy: 0.0085\n"
     ]
    },
    {
     "name": "stderr",
     "output_type": "stream",
     "text": [
      "Epoch 38/42: 100%|███████████████████████████████████████████████████████████████████| 500/500 [12:13<00:00,  1.47s/it]\n",
      "100%|████████████████████████████████████████████████████████████████████████████████| 500/500 [01:31<00:00,  5.44it/s]\n"
     ]
    },
    {
     "name": "stdout",
     "output_type": "stream",
     "text": [
      "Epoch 38/42, Loss: 3.7311231117248536, Validation loss: 3026.008439540863, Min loss: 2634.0237216949463, F1 Score: 0.0069448944041838176, Accuracy: 0.0125\n"
     ]
    },
    {
     "name": "stderr",
     "output_type": "stream",
     "text": [
      "Epoch 39/42: 100%|███████████████████████████████████████████████████████████████████| 500/500 [12:35<00:00,  1.51s/it]\n",
      "100%|████████████████████████████████████████████████████████████████████████████████| 500/500 [01:35<00:00,  5.21it/s]\n"
     ]
    },
    {
     "name": "stdout",
     "output_type": "stream",
     "text": [
      "Epoch 39/42, Loss: 3.7313834104537964, Validation loss: 3158.0196328163147, Min loss: 2634.0237216949463, F1 Score: 0.010091486613433152, Accuracy: 0.013\n"
     ]
    },
    {
     "name": "stderr",
     "output_type": "stream",
     "text": [
      "Epoch 40/42: 100%|███████████████████████████████████████████████████████████████████| 500/500 [12:33<00:00,  1.51s/it]\n",
      "100%|████████████████████████████████████████████████████████████████████████████████| 500/500 [01:38<00:00,  5.06it/s]\n"
     ]
    },
    {
     "name": "stdout",
     "output_type": "stream",
     "text": [
      "Epoch 40/42, Loss: 3.786262189388275, Validation loss: 3204.690698623657, Min loss: 2634.0237216949463, F1 Score: 0.00912796390466891, Accuracy: 0.0135\n"
     ]
    },
    {
     "name": "stderr",
     "output_type": "stream",
     "text": [
      "Epoch 41/42: 100%|███████████████████████████████████████████████████████████████████| 500/500 [12:56<00:00,  1.55s/it]\n",
      "100%|████████████████████████████████████████████████████████████████████████████████| 500/500 [01:35<00:00,  5.26it/s]\n"
     ]
    },
    {
     "name": "stdout",
     "output_type": "stream",
     "text": [
      "Epoch 41/42, Loss: 3.654888920664787, Validation loss: 3118.3563601970673, Min loss: 2634.0237216949463, F1 Score: 0.008048972198957956, Accuracy: 0.011\n"
     ]
    },
    {
     "name": "stderr",
     "output_type": "stream",
     "text": [
      "Epoch 42/42: 100%|███████████████████████████████████████████████████████████████████| 500/500 [12:24<00:00,  1.49s/it]\n",
      "100%|████████████████████████████████████████████████████████████████████████████████| 500/500 [01:36<00:00,  5.21it/s]\n"
     ]
    },
    {
     "name": "stdout",
     "output_type": "stream",
     "text": [
      "Epoch 42/42, Loss: 3.6865086216926573, Validation loss: 3084.3283615112305, Min loss: 2634.0237216949463, F1 Score: 0.01223012068182817, Accuracy: 0.0165\n"
     ]
    },
    {
     "data": {
      "text/plain": [
       "ViT(\n",
       "  (to_patch_embedding): Sequential(\n",
       "    (0): Rearrange('b c (h p1) (w p2) -> b (h w) (p1 p2 c)', p1=16, p2=16)\n",
       "    (1): LayerNorm((768,), eps=1e-05, elementwise_affine=True)\n",
       "    (2): Linear(in_features=768, out_features=768, bias=True)\n",
       "    (3): LayerNorm((768,), eps=1e-05, elementwise_affine=True)\n",
       "  )\n",
       "  (dropout): Dropout(p=0.1, inplace=False)\n",
       "  (transformer): Transformer(\n",
       "    (norm): LayerNorm((768,), eps=1e-05, elementwise_affine=True)\n",
       "    (layers): ModuleList(\n",
       "      (0-11): 12 x ModuleList(\n",
       "        (0): Attention(\n",
       "          (norm): LayerNorm((768,), eps=1e-05, elementwise_affine=True)\n",
       "          (attend): Softmax(dim=-1)\n",
       "          (dropout): Dropout(p=0.1, inplace=False)\n",
       "          (to_qkv): Linear(in_features=768, out_features=2304, bias=False)\n",
       "          (to_out): Sequential(\n",
       "            (0): Linear(in_features=768, out_features=768, bias=True)\n",
       "            (1): Dropout(p=0.1, inplace=False)\n",
       "          )\n",
       "        )\n",
       "        (1): FeedForward(\n",
       "          (net): Sequential(\n",
       "            (0): LayerNorm((768,), eps=1e-05, elementwise_affine=True)\n",
       "            (1): Linear(in_features=768, out_features=2048, bias=True)\n",
       "            (2): GELU(approximate='none')\n",
       "            (3): Dropout(p=0.1, inplace=False)\n",
       "            (4): Linear(in_features=2048, out_features=768, bias=True)\n",
       "            (5): Dropout(p=0.1, inplace=False)\n",
       "          )\n",
       "        )\n",
       "      )\n",
       "    )\n",
       "  )\n",
       "  (to_latent): Identity()\n",
       "  (mlp_head): Linear(in_features=768, out_features=197, bias=True)\n",
       ")"
      ]
     },
     "execution_count": 63,
     "metadata": {},
     "output_type": "execute_result"
    }
   ],
   "source": [
    "from vit_pytorch import ViT\n",
    "\n",
    "model_vit_adabound = ViT(\n",
    "    image_size=size,\n",
    "    patch_size=patch_size,\n",
    "    num_classes=num_classes,\n",
    "    dim=latent_size,\n",
    "    depth=num_encoders,\n",
    "    heads=num_heads,\n",
    "    mlp_dim=2048,\n",
    "    dropout=dropout,\n",
    "    emb_dropout=dropout\n",
    ").to(device)\n",
    "\n",
    "fine_tune_model_with_writer(\"vit_adabound\", model_vit_adabound, epochs=42, optimizer='adabound')\n"
   ]
  },
  {
   "cell_type": "markdown",
   "id": "29f83c1d-dbb3-4510-8405-6e14bf958936",
   "metadata": {},
   "source": [
    "## Get results"
   ]
  },
  {
   "cell_type": "code",
   "execution_count": 65,
   "id": "04811c3a-5a24-4e05-b574-08a921b7989e",
   "metadata": {},
   "outputs": [
    {
     "data": {
      "text/plain": [
       "[WindowsPath('checkpoints/custom_vit_adabound_0_2880.pt'),\n",
       " WindowsPath('checkpoints/custom_vit_adabound_1_2688.pt'),\n",
       " WindowsPath('checkpoints/custom_vit_adabound_2_2651.pt'),\n",
       " WindowsPath('checkpoints/custom_vit_adabound_3_2646.pt'),\n",
       " WindowsPath('checkpoints/custom_vit_adam_0_2724.pt'),\n",
       " WindowsPath('checkpoints/custom_vit_adam_0_2729.pt'),\n",
       " WindowsPath('checkpoints/custom_vit_adam_0_5327.pt'),\n",
       " WindowsPath('checkpoints/custom_vit_adam_1_2695.pt'),\n",
       " WindowsPath('checkpoints/custom_vit_adam_2_2649.pt'),\n",
       " WindowsPath('checkpoints/custom_vit_adam_2_2674.pt'),\n",
       " WindowsPath('checkpoints/custom_vit_adam_2_5291.pt'),\n",
       " WindowsPath('checkpoints/custom_vit_adam_3_2658.pt'),\n",
       " WindowsPath('checkpoints/custom_vit_adam_4_2652.pt'),\n",
       " WindowsPath('checkpoints/vit_adabound_0_2863.pt'),\n",
       " WindowsPath('checkpoints/vit_adabound_1_2634.pt'),\n",
       " WindowsPath('checkpoints/vit_adabound_2_2634.pt'),\n",
       " WindowsPath('checkpoints/vit_adabound_5_2634.pt'),\n",
       " WindowsPath('checkpoints/vit_adam_0_5383.pt'),\n",
       " WindowsPath('checkpoints/vit_adam_1_5310.pt'),\n",
       " WindowsPath('checkpoints/vit_adam_2_5243.pt'),\n",
       " WindowsPath('checkpoints/vit_adam_3_5210.pt')]"
      ]
     },
     "execution_count": 65,
     "metadata": {},
     "output_type": "execute_result"
    }
   ],
   "source": [
    "from pathlib import Path\n",
    "checkpoints = list(Path('./checkpoints/').glob('*.pt'))\n",
    "checkpoints\n"
   ]
  },
  {
   "cell_type": "code",
   "execution_count": 66,
   "id": "49208f0f-ae5a-4af1-bb4f-151a3e39b84b",
   "metadata": {},
   "outputs": [],
   "source": [
    "def print_results(name, model, test_loader, scaler=None):\n",
    "    total_loss, f1, accuracy = calculate_metrics(model, test_loader, device='cuda')\n",
    "    print(f'loss: {total_loss}')\n",
    "    print(f'f1: {f1}')\n",
    "    print(f'accuracy: {accuracy}\\n')\n"
   ]
  },
  {
   "cell_type": "code",
   "execution_count": 67,
   "id": "0c908c4c-938a-4d88-be02-513f1ab5c0bd",
   "metadata": {},
   "outputs": [
    {
     "name": "stderr",
     "output_type": "stream",
     "text": [
      "100%|████████████████████████████████████████████████████████████████████████████████| 500/500 [06:16<00:00,  1.33it/s]"
     ]
    },
    {
     "name": "stdout",
     "output_type": "stream",
     "text": [
      "loss: 2649.912766933441\n",
      "f1: 7.5960905453993e-05\n",
      "accuracy: 0.0075\n",
      "\n"
     ]
    },
    {
     "name": "stderr",
     "output_type": "stream",
     "text": [
      "\n"
     ]
    }
   ],
   "source": [
    "model = VitTransformer(num_encoders, latent_size, device, num_classes).to(device)\n",
    "model.load_state_dict(torch.load('checkpoints/custom_vit_adabound_3_2646.pt'))\n",
    "print_results(\"custom_vit_adabound\", model, test_loader)\n"
   ]
  },
  {
   "cell_type": "code",
   "execution_count": 68,
   "id": "7cf5b17f-7839-45a9-9a14-c14bd8defa78",
   "metadata": {},
   "outputs": [
    {
     "name": "stderr",
     "output_type": "stream",
     "text": [
      "100%|████████████████████████████████████████████████████████████████████████████████| 500/500 [05:19<00:00,  1.57it/s]"
     ]
    },
    {
     "name": "stdout",
     "output_type": "stream",
     "text": [
      "loss: 2650.2744002342224\n",
      "f1: 5.076657528683116e-05\n",
      "accuracy: 0.005\n",
      "\n"
     ]
    },
    {
     "name": "stderr",
     "output_type": "stream",
     "text": [
      "\n"
     ]
    }
   ],
   "source": [
    "model1 = VitTransformer(num_encoders, latent_size, device, num_classes).to(device)\n",
    "model1.load_state_dict(torch.load('checkpoints/custom_vit_adam_4_2652.pt'))\n",
    "print_results(\"custom_vit_adabound\", model1, test_loader)\n"
   ]
  },
  {
   "cell_type": "code",
   "execution_count": 69,
   "id": "cac66888-128a-43ab-b8bb-0997dccdb024",
   "metadata": {},
   "outputs": [
    {
     "name": "stderr",
     "output_type": "stream",
     "text": [
      "100%|████████████████████████████████████████████████████████████████████████████████| 500/500 [01:41<00:00,  4.93it/s]"
     ]
    },
    {
     "name": "stdout",
     "output_type": "stream",
     "text": [
      "loss: 2634.0237216949463\n",
      "f1: 0.001570976166571463\n",
      "accuracy: 0.01\n",
      "\n"
     ]
    },
    {
     "name": "stderr",
     "output_type": "stream",
     "text": [
      "\n"
     ]
    }
   ],
   "source": [
    "from vit_pytorch import ViT\n",
    "\n",
    "model2 = ViT(\n",
    "    image_size=size,\n",
    "    patch_size=patch_size,\n",
    "    num_classes=num_classes,\n",
    "    dim=latent_size,\n",
    "    depth=num_encoders,\n",
    "    heads=num_heads,\n",
    "    mlp_dim=2048,\n",
    "    dropout=dropout,\n",
    "    emb_dropout=dropout\n",
    ").to(device)\n",
    "\n",
    "model2.load_state_dict(torch.load('checkpoints/vit_adabound_5_2634.pt'))\n",
    "print_results(\"vit_adabound\", model2, test_loader)\n"
   ]
  },
  {
   "cell_type": "code",
   "execution_count": null,
   "id": "5a0578c8-d447-40fb-87f0-f63477d30530",
   "metadata": {},
   "outputs": [],
   "source": []
  }
 ],
 "metadata": {
  "kernelspec": {
   "display_name": "itmo_cv",
   "language": "python",
   "name": "itmo_cv"
  },
  "language_info": {
   "codemirror_mode": {
    "name": "ipython",
    "version": 3
   },
   "file_extension": ".py",
   "mimetype": "text/x-python",
   "name": "python",
   "nbconvert_exporter": "python",
   "pygments_lexer": "ipython3",
   "version": "3.11.6"
  }
 },
 "nbformat": 4,
 "nbformat_minor": 5
}
