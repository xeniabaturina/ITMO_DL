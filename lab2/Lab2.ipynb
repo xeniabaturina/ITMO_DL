{
 "cells": [
  {
   "cell_type": "markdown",
   "id": "d19e0778-a26f-497d-ad9c-c1bfcb474d72",
   "metadata": {},
   "source": [
    "# Лабораторная работа 2: Построение моделей на основе предобученных эмбеддингов"
   ]
  },
  {
   "cell_type": "markdown",
   "id": "c171fb74-0d52-4e60-9c83-b04e7f407d2b",
   "metadata": {},
   "source": [
    "## Import libs"
   ]
  },
  {
   "cell_type": "code",
   "execution_count": 1,
   "id": "initial_id",
   "metadata": {
    "ExecuteTime": {
     "end_time": "2024-01-14T12:36:21.388616Z",
     "start_time": "2024-01-14T12:36:21.383261Z"
    },
    "collapsed": false,
    "jupyter": {
     "outputs_hidden": false
    }
   },
   "outputs": [
    {
     "name": "stdout",
     "output_type": "stream",
     "text": [
      "WARNING:tensorflow:From D:\\ITMO\\CV\\itmo_cv\\Lib\\site-packages\\keras\\src\\losses.py:2976: The name tf.losses.sparse_softmax_cross_entropy is deprecated. Please use tf.compat.v1.losses.sparse_softmax_cross_entropy instead.\n",
      "\n"
     ]
    }
   ],
   "source": [
    "from pathlib import Path\n",
    "\n",
    "import librosa\n",
    "import numpy as np\n",
    "import pandas as pd\n",
    "from sklearn.model_selection import train_test_split\n",
    "from tensorflow.keras.layers import Dense\n",
    "from tensorflow.keras.models import Sequential\n",
    "from transformers import Wav2Vec2Processor, Wav2Vec2Model\n",
    "import warnings\n",
    "warnings.filterwarnings('ignore')\n"
   ]
  },
  {
   "cell_type": "markdown",
   "id": "1f2630ae-fdce-42e9-a250-7ba854e06378",
   "metadata": {},
   "source": [
    "## Get data"
   ]
  },
  {
   "cell_type": "code",
   "execution_count": 2,
   "id": "549d0b5685dc1248",
   "metadata": {
    "ExecuteTime": {
     "end_time": "2024-01-14T11:47:42.870907Z",
     "start_time": "2024-01-14T11:47:42.824427Z"
    },
    "collapsed": false,
    "jupyter": {
     "outputs_hidden": false
    }
   },
   "outputs": [
    {
     "data": {
      "text/html": [
       "<div>\n",
       "<style scoped>\n",
       "    .dataframe tbody tr th:only-of-type {\n",
       "        vertical-align: middle;\n",
       "    }\n",
       "\n",
       "    .dataframe tbody tr th {\n",
       "        vertical-align: top;\n",
       "    }\n",
       "\n",
       "    .dataframe thead th {\n",
       "        text-align: right;\n",
       "    }\n",
       "</style>\n",
       "<table border=\"1\" class=\"dataframe\">\n",
       "  <thead>\n",
       "    <tr style=\"text-align: right;\">\n",
       "      <th></th>\n",
       "      <th>link</th>\n",
       "      <th>category</th>\n",
       "      <th>sample_url</th>\n",
       "    </tr>\n",
       "  </thead>\n",
       "  <tbody>\n",
       "    <tr>\n",
       "      <th>0</th>\n",
       "      <td>JLZlCZ0</td>\n",
       "      <td>travel</td>\n",
       "      <td>https://www.youtube.com/watch?v=JLZlCZ0</td>\n",
       "    </tr>\n",
       "    <tr>\n",
       "      <th>1</th>\n",
       "      <td>i9E_Blai8vk</td>\n",
       "      <td>travel</td>\n",
       "      <td>https://www.youtube.com/watch?v=i9E_Blai8vk</td>\n",
       "    </tr>\n",
       "    <tr>\n",
       "      <th>2</th>\n",
       "      <td>r284c-q8oY</td>\n",
       "      <td>travel</td>\n",
       "      <td>https://www.youtube.com/watch?v=r284c-q8oY</td>\n",
       "    </tr>\n",
       "    <tr>\n",
       "      <th>3</th>\n",
       "      <td>Qmi-Xwq-ME</td>\n",
       "      <td>travel</td>\n",
       "      <td>https://www.youtube.com/watch?v=Qmi-Xwq-ME</td>\n",
       "    </tr>\n",
       "    <tr>\n",
       "      <th>4</th>\n",
       "      <td>_lcOX55Ef70</td>\n",
       "      <td>travel</td>\n",
       "      <td>https://www.youtube.com/watch?v=_lcOX55Ef70</td>\n",
       "    </tr>\n",
       "    <tr>\n",
       "      <th>...</th>\n",
       "      <td>...</td>\n",
       "      <td>...</td>\n",
       "      <td>...</td>\n",
       "    </tr>\n",
       "    <tr>\n",
       "      <th>3594</th>\n",
       "      <td>#NAME?</td>\n",
       "      <td>history</td>\n",
       "      <td>https://www.youtube.com/watch?v=#NAME?</td>\n",
       "    </tr>\n",
       "    <tr>\n",
       "      <th>3595</th>\n",
       "      <td>d-2Trw8bCa0</td>\n",
       "      <td>history</td>\n",
       "      <td>https://www.youtube.com/watch?v=d-2Trw8bCa0</td>\n",
       "    </tr>\n",
       "    <tr>\n",
       "      <th>3596</th>\n",
       "      <td>RCKWarkUL</td>\n",
       "      <td>history</td>\n",
       "      <td>https://www.youtube.com/watch?v=RCKWarkUL</td>\n",
       "    </tr>\n",
       "    <tr>\n",
       "      <th>3597</th>\n",
       "      <td>MF6F3BxJIY</td>\n",
       "      <td>history</td>\n",
       "      <td>https://www.youtube.com/watch?v=MF6F3BxJIY</td>\n",
       "    </tr>\n",
       "    <tr>\n",
       "      <th>3598</th>\n",
       "      <td>lByKodp_UK</td>\n",
       "      <td>history</td>\n",
       "      <td>https://www.youtube.com/watch?v=lByKodp_UK</td>\n",
       "    </tr>\n",
       "  </tbody>\n",
       "</table>\n",
       "<p>3599 rows × 3 columns</p>\n",
       "</div>"
      ],
      "text/plain": [
       "             link category                                   sample_url\n",
       "0         JLZlCZ0   travel      https://www.youtube.com/watch?v=JLZlCZ0\n",
       "1     i9E_Blai8vk   travel  https://www.youtube.com/watch?v=i9E_Blai8vk\n",
       "2      r284c-q8oY   travel   https://www.youtube.com/watch?v=r284c-q8oY\n",
       "3      Qmi-Xwq-ME   travel   https://www.youtube.com/watch?v=Qmi-Xwq-ME\n",
       "4     _lcOX55Ef70   travel  https://www.youtube.com/watch?v=_lcOX55Ef70\n",
       "...           ...      ...                                          ...\n",
       "3594       #NAME?  history       https://www.youtube.com/watch?v=#NAME?\n",
       "3595  d-2Trw8bCa0  history  https://www.youtube.com/watch?v=d-2Trw8bCa0\n",
       "3596    RCKWarkUL  history    https://www.youtube.com/watch?v=RCKWarkUL\n",
       "3597   MF6F3BxJIY  history   https://www.youtube.com/watch?v=MF6F3BxJIY\n",
       "3598   lByKodp_UK  history   https://www.youtube.com/watch?v=lByKodp_UK\n",
       "\n",
       "[3599 rows x 3 columns]"
      ]
     },
     "execution_count": 2,
     "metadata": {},
     "output_type": "execute_result"
    }
   ],
   "source": [
    "df = pd.read_csv(\"data/youtube.csv\")[[\"link\", \"category\"]]\n",
    "df[\"sample_url\"] = df[\"link\"].apply(lambda x: f\"https://www.youtube.com/watch?v={x}\")\n",
    "df\n"
   ]
  },
  {
   "cell_type": "code",
   "execution_count": 3,
   "id": "3e31dc97-3657-4ff2-b154-caf28193e333",
   "metadata": {},
   "outputs": [
    {
     "data": {
      "text/plain": [
       "array(['travel', 'food', 'art_music', 'history'], dtype=object)"
      ]
     },
     "execution_count": 3,
     "metadata": {},
     "output_type": "execute_result"
    }
   ],
   "source": [
    "categories = df['category'].unique()\n",
    "categories\n"
   ]
  },
  {
   "cell_type": "code",
   "execution_count": 68,
   "id": "4c560f06dba2cfa9",
   "metadata": {
    "ExecuteTime": {
     "end_time": "2024-01-14T12:35:34.201463Z",
     "start_time": "2024-01-14T12:35:30.169745Z"
    },
    "collapsed": false,
    "jupyter": {
     "outputs_hidden": false
    }
   },
   "outputs": [
    {
     "name": "stderr",
     "output_type": "stream",
     "text": [
      "Some weights of Wav2Vec2Model were not initialized from the model checkpoint at facebook/wav2vec2-large-960h and are newly initialized: ['wav2vec2.encoder.pos_conv_embed.conv.parametrizations.weight.original1', 'wav2vec2.masked_spec_embed', 'wav2vec2.encoder.pos_conv_embed.conv.parametrizations.weight.original0']\n",
      "You should probably TRAIN this model on a down-stream task to be able to use it for predictions and inference.\n"
     ]
    },
    {
     "data": {
      "text/plain": [
       "array([-0.26720756,  0.19039923,  0.07929158, ..., -0.45387655,\n",
       "        0.5132634 ,  0.20095946], dtype=float32)"
      ]
     },
     "execution_count": 68,
     "metadata": {},
     "output_type": "execute_result"
    }
   ],
   "source": [
    "processor = Wav2Vec2Processor.from_pretrained(\"facebook/wav2vec2-large-960h\")\n",
    "model = Wav2Vec2Model.from_pretrained(\"facebook/wav2vec2-large-960h\")\n",
    "    \n",
    "def get_embedding(filename):\n",
    "    audio_input, _ = librosa.load(filename, sr=16000)\n",
    "    input_values = processor(audio_input, return_tensors=\"pt\", sampling_rate=16000).input_values\n",
    "    hidden_states = model(input_values).last_hidden_state\n",
    "    return np.mean(hidden_states.detach().numpy(), axis=1).squeeze()\n",
    "\n",
    "\n",
    "\n",
    "emb = get_embedding(\"data/audio_from_videos/history_1.wav\")\n",
    "emb\n"
   ]
  },
  {
   "cell_type": "markdown",
   "id": "08e30065-2d83-4825-b0fd-7007933f5b48",
   "metadata": {},
   "source": [
    "## Download audio"
   ]
  },
  {
   "cell_type": "code",
   "execution_count": 5,
   "id": "a15a6b84-6886-4d36-b421-8e55f5109687",
   "metadata": {
    "scrolled": true
   },
   "outputs": [],
   "source": [
    "from __future__ import unicode_literals\n",
    "import yt_dlp\n",
    "import ffmpeg\n",
    "import pandas as pd\n",
    "\n",
    "category = 'history'\n",
    "output_directory = 'data/audio'\n",
    "ydl_opts = {\n",
    "    'format': 'bestaudio/best',\n",
    "    'postprocessors': [{\n",
    "        'key': 'FFmpegExtractAudio',\n",
    "        'preferredcodec': 'wav',\n",
    "    }],\n",
    "    'outtmpl': f'{output_directory}/{category}/%(title)s.%(ext)s',  # Save the file with a counter and category name\n",
    "}\n",
    "\n",
    "def download_from_url(url, category):\n",
    "    with yt_dlp.YoutubeDL(ydl_opts) as ydl:\n",
    "        try:\n",
    "            info_dict = ydl.extract_info(url, download=True)\n",
    "        except yt_dlp.DownloadError as e:\n",
    "            print(f\"Error downloading audio for {url}: {e}\")\n",
    "            \n",
    "# filtered_df = df[df['category'] == category].head(50)\n",
    "\n",
    "# for index, row in filtered_df.iterrows():\n",
    "#     url = row['sample_url']\n",
    "#     download_from_url(url, category)\n",
    "    "
   ]
  },
  {
   "cell_type": "code",
   "execution_count": 12,
   "id": "93e7db41-a5bc-4cb2-854c-68fb5add2f7b",
   "metadata": {},
   "outputs": [],
   "source": [
    "import os\n",
    "def rename_files(directory_path):\n",
    "    # Get the list of files in the specified directory\n",
    "    files = os.listdir(directory_path)\n",
    "\n",
    "    for file in files:\n",
    "        if file.endswith(\".webm\"):\n",
    "            # Construct the new file name by replacing \".webm\" with \".wav\"\n",
    "            new_name = file.replace(\".webm\", \".wav\")\n",
    "\n",
    "            # Build the full paths for the old and new file names\n",
    "            old_path = os.path.join(directory_path, file)\n",
    "            new_path = os.path.join(directory_path, new_name)\n",
    "\n",
    "            # Rename the file\n",
    "            os.rename(old_path, new_path)\n",
    "\n",
    "directory_path = \"data/audio/travel\"\n",
    "rename_files(directory_path)\n"
   ]
  },
  {
   "cell_type": "markdown",
   "id": "89262af2-396c-4f8b-9268-431478b46d80",
   "metadata": {},
   "source": [
    "## Cut segments"
   ]
  },
  {
   "cell_type": "code",
   "execution_count": 18,
   "id": "2ef9069b-43f7-4357-b041-91d7e72ccca6",
   "metadata": {},
   "outputs": [
    {
     "name": "stdout",
     "output_type": "stream",
     "text": [
      "data/audio/art_music\\1.wav\n",
      "data/audio/art_music\\2.wav\n",
      "data/audio/art_music\\3.wav\n",
      "data/audio/art_music\\37 BRIGHT AND EASY PAINTING IDEAS.wav\n",
      "data/audio/art_music\\5 Paintings For Beginners ｜｜ Complete Guide on Blending Techniques ｜｜ Painting on 5 Tiny Canvases.wav\n",
      "data/audio/art_music\\Abstract Floral Art using a String⧸Chain Pull on a Large Canvas.wav\n",
      "data/audio/art_music\\Acrylic Painting Tree Meadow Landscape.wav\n",
      "data/audio/art_music\\ART VLOG paint along with me, BIGGEST painting tip & paintings I don't want you to see!？...wav\n",
      "data/audio/art_music\\Como Pintar FLORES Fáciles con Pintura Acrilica.wav\n",
      "data/audio/art_music\\COOL DRAWING CHALLENGE ｜｜ CRAZY SCHOOL ART FOR 24 HOURS ｜｜ DIY Painting Hacks! By 123 GO! BOYS.wav\n",
      "data/audio/art_music\\Daily Challenge #34 ⧸ Easy Art  ⧸  Power lines at sunset painting.wav\n",
      "data/audio/art_music\\DIY ｜ Easy & Unique Bottle Painting Idea ｜Bottle Craft ｜ Beginners Bottle Art ｜ Jyoshita Ghate ｜.wav\n",
      "data/audio/art_music\\Drawing House form Shapes, easy acrylic painting for kids ｜ Art and Learn.wav\n",
      "data/audio/art_music\\Easy Waterfall Landscape Painting tutorial for beginners ｜｜ Step by step Waterfall landscape Paintin.wav\n",
      "data/audio/art_music\\Flowers Coloring Pages Salt Painting ｜ Fun Art Learning Colors Video.wav\n",
      "data/audio/art_music\\Full Moon Painting ⧸ Acrylic Painting for Beginners ⧸ STEP by STEP #173 ⧸ 보름달 풍경화.wav\n",
      "data/audio/art_music\\I painted myself underwater ｜ Oil Painting Time Lapse ｜ Realistic Underwater Scene.wav\n",
      "data/audio/art_music\\Murals - Indian Painting ｜｜ Art And Culture ｜｜ Part 2 for JKSSB Exams by Sumit Puri.wav\n",
      "data/audio/art_music\\OIL PAINTING TIME-LAPSE ｜｜ “Blossom”.wav\n",
      "data/audio/art_music\\Paint with me - Easy and to the point - OIL PAINTING TUTORIAL ｜ AlaiGanuza.wav\n",
      "data/audio/art_music\\PAINTING FOR BEGINNERS ｜｜ Unusual Art Techniques To Create Your Own Masterpiece.wav\n",
      "data/audio/art_music\\Rainbow Tree - Acrylic Painting for Beginners #42 ｜ How to paint a Simple Acrylic Painting.wav\n",
      "data/audio/art_music\\Rose Blossom at night ⧸ Easy acrylic painting for beginners ⧸ PaintingTutorial ⧸ Painting ASMR.wav\n",
      "data/audio/art_music\\The Black Hole technique - Acrylic fluid art painting.wav\n",
      "data/audio/art_music\\Trying The NEW Insanely MATTE Paint That Kept SELLING OUT？!.wav\n",
      "data/audio/art_music\\UNREAL CELLS! Acrylic pour painting with a funnel! Fluid Art fun using silicone oil!.wav\n",
      "data/audio/art_music\\Камеди Клаб «Экономика» Гарик Харламов, Демис Карибидис.wav\n"
     ]
    }
   ],
   "source": [
    "from pydub import AudioSegment\n",
    "import os\n",
    "\n",
    "def cut_and_save_files(directory_path):\n",
    "    files = os.listdir(directory_path)\n",
    "\n",
    "    for file in files:\n",
    "        if file.endswith(\".wav\"):\n",
    "            file_path = os.path.join(directory_path, file)\n",
    "            audio = AudioSegment.from_file(file_path)\n",
    "            duration_ms = len(audio)\n",
    "            segment_duration = 5000\n",
    "            num_segments = duration_ms // segment_duration\n",
    "            for i in range(num_segments):\n",
    "                start_time = i * segment_duration\n",
    "                end_time = (i + 1) * segment_duration\n",
    "                segment = audio[start_time:end_time]\n",
    "                new_name = f\"{os.path.splitext(file)[0]}_segment_{i+1}.wav\"\n",
    "                new_path = os.path.join(directory_path, new_name)\n",
    "                segment.export(new_path, format=\"webm\")\n",
    "\n",
    "directory_path = \"data/audio/art_music\"\n",
    "cut_and_save_files(directory_path)\n"
   ]
  },
  {
   "cell_type": "code",
   "execution_count": 19,
   "id": "3570fb70-bb82-4716-8c0c-293e85805263",
   "metadata": {},
   "outputs": [
    {
     "name": "stdout",
     "output_type": "stream",
     "text": [
      "data/audio/food\\5 of the Best Street Food Finds in Paris.wav\n",
      "data/audio/food\\50 Traditional European Dishes You Have to Try (2020).wav\n",
      "data/audio/food\\A Taste of European Food Culture.wav\n",
      "data/audio/food\\Americans Try Bizarre European Food.wav\n",
      "data/audio/food\\Amsterdam Street Food Tour - DUTCH STREET FOOD of Holland ｜ UNIQUE Street Food in The Netherlands.wav\n",
      "data/audio/food\\Barcelona Food Tour at LA BOQUERIA and Sagrada Familia - Barcelona, Spain, Travel Guide!.wav\n",
      "data/audio/food\\Chicken Francaise Recipe over 200 Million Views.wav\n",
      "data/audio/food\\Common American Foods That Are Banned In Other Countries.wav\n",
      "data/audio/food\\COOKING EUROPEAN FOOD  ചോറും കറീം  കിട്ടില്ലേ ？ WITH GERMAN SUBTITLES MALAYALAM COOKING.wav\n",
      "data/audio/food\\DEATH BY EUROPEAN FOOD!.wav\n",
      "data/audio/food\\Delicious Europe.wav\n",
      "data/audio/food\\DESAFIO EM DOBRO!! 6KG DE BURRITO COM NICK WEHRY!.wav\n",
      "data/audio/food\\Eastern Europe Food Tour： Poland, Czech Republic, Slovakia, Hungary.wav\n",
      "data/audio/food\\European Fast Food Chains We Want In America.wav\n",
      "data/audio/food\\European Food ⧸Baiju Anand Sightseer ⧸ (64).wav\n",
      "data/audio/food\\European Food.wav\n",
      "data/audio/food\\How to find vegetarian food in Europe｜ Vegetarian Food Options In Europe Trip ｜ Veg Food.wav\n",
      "data/audio/food\\How to survive Eastern European food.wav\n",
      "data/audio/food\\Indigo Delicatessen ｜｜ BEST EUROPEAN FOOD IN PUNE ｜｜ In-house ICE CREAMS ｜｜.wav\n",
      "data/audio/food\\Inside Transylvania - EPIC ROMANIAN FOOD + Wild Stews in Brasov, Romania!.wav\n",
      "data/audio/food\\Is RUSSIAN food more ASIAN or EUROPEAN？.wav\n",
      "data/audio/food\\Italy Street Food. Pork Knuckles, Crispy Pig, Ribs, Kielbasa, Pita Gyros and more European Food.wav\n",
      "data/audio/food\\LONDON STREET FOOD, BOROUGH MARKET, FRESH FOOD MARKET IN LONDON, BOROUGH.wav\n",
      "data/audio/food\\LONDON STREET FOOD.wav\n",
      "data/audio/food\\McDonald's BINGO Food Challenge!.wav\n",
      "data/audio/food\\Must Eat German Food ｜ The Ultimate German Food Tour.wav\n",
      "data/audio/food\\My Top Ten ｜ European Food ｜ #EuropeanFood ｜ #TopTen.wav\n",
      "data/audio/food\\Orgy of France Street Food. Bourguignon, Cassoulet, Tartiflette, Raclette, Rougail, Paella.wav\n",
      "data/audio/food\\Scalloped Potato Roll.wav\n",
      "data/audio/food\\Street Food in Italy - FLORENCE'S #1 PANINI at All'antico Vinaio + ITALIAN STREET FOOD in Tuscany!.wav\n",
      "data/audio/food\\The Best and Biggest World Street Food Festival in Europe. 'Gusti di Frontiera', Gorizia, Italy.wav\n",
      "data/audio/food\\What Breakfast Looks Like Around The World.wav\n"
     ]
    }
   ],
   "source": [
    "directory_path = \"data/audio/food\"\n",
    "cut_and_save_files(directory_path)\n"
   ]
  },
  {
   "cell_type": "code",
   "execution_count": 20,
   "id": "679fcaeb-2b61-4701-b88d-acb5b225b611",
   "metadata": {},
   "outputs": [
    {
     "name": "stdout",
     "output_type": "stream",
     "text": [
      "data/audio/history\\#AskAbhijit 1： Indian History, Physics, Geopolitics, Education, Spirituality.wav\n",
      "data/audio/history\\#AskAbhijit 2： Indian History, China, Quantum Mechanics, String Theory, Sanskrit.wav\n",
      "data/audio/history\\07_00 PM - NTA UGC NET 2021 ｜ Indian History by Shiv Meena ｜ Important Treaties in Indian History.wav\n",
      "data/audio/history\\7 brave queens in Indian History ｜｜ भारत के ईतिहास की 7 बहादुर रानीया ｜｜.wav\n",
      "data/audio/history\\Akhanda Bharatam Part 1 - Magadha Samrajyam 1 ｜ Magadha Kingdom ｜ Magadha Dynasty ｜ Indian History.wav\n",
      "data/audio/history\\All Indian states ｜ Political history of Indian State ｜ INM ｜  WBCS ｜ Police ｜ DFCCIL Exam.wav\n",
      "data/audio/history\\ANCIENT INDIAN HISTORY ｜ NCERT ｜ R.S.SHARMA ｜ CLASS 11 ｜ Lecture 7 ｜ Chapter 9 ｜ BUDDHISM.wav\n",
      "data/audio/history\\Complete Modern History In One Video ｜ संपूर्ण आधुनिक भारतीय इतिहास एक वीडियो में.wav\n",
      "data/audio/history\\In Memoriam - Jallianwala Bagh Massacre ｜ Indian History with BYJU'S.wav\n",
      "data/audio/history\\Indian history  important Questions.wav\n",
      "data/audio/history\\Indian History by Jibon Mukherjee for WBCS in Bengali｜Best History Book for WBCS Prelims & Mains.wav\n",
      "data/audio/history\\INDIAN HISTORY CLASS By mr. Devthia👍🔥.wav\n",
      "data/audio/history\\Indian History ： Ancient History (प्राचीन इतिहास) ｜｜Complete Ancient History -01 ｜｜Study 91｜｜ Itihas.wav\n",
      "data/audio/history\\Modern Indian History For Competitive Exams ｜ Modern Indian History Marathon Class ｜ By Aditya Sir.wav\n",
      "data/audio/history\\Most Mysterious Fort of India ｜ भारत के 6 तिलस्मी किले.wav\n",
      "data/audio/history\\Mystery Behind Ancient History of India ｜ सम्पूर्ण प्राचीन इतिहास का रहस्य ｜ Live Hindi Facts.wav\n",
      "data/audio/history\\Ponniyin Selvan ｜ Chola Empire History ｜ Ancient India History for UPSC ｜ Chola Dynasty UPSC.wav\n",
      "data/audio/history\\The History of India： Every Year.wav\n",
      "data/audio/history\\क्यूँ आये थे मुघल भारत में , जानिये असलीयत इतिहासकी  ｜ History Of India.wav\n",
      "data/audio/history\\पूरे आधुनिक भारत का रिवीज़न - COMPLETE MODERN HISTORY  #INDIANHISTORY.wav\n",
      "data/audio/history\\प्रथम गवर्नर, गवर्नर जनरल, वायसराय Trick ｜ Indian History Gk trick ｜ Governor General, Viceroy.wav\n",
      "data/audio/history\\भारत का संपूर्ण इतिहास 1 ही वीडियो में ｜ Complete History Of India In Hindi For UPSC, SSC, STATE PCS.wav\n",
      "data/audio/history\\ప్రాచీన భారత దేశ చరిత్ర ｜｜ Ancient Indian History Part 2 ｜｜ Project Setu ｜｜Mana La Excellence.wav\n"
     ]
    }
   ],
   "source": [
    "directory_path = \"data/audio/history\"\n",
    "cut_and_save_files(directory_path)\n"
   ]
  },
  {
   "cell_type": "code",
   "execution_count": 21,
   "id": "373da4eb-4d71-4457-adf8-afaf0d8536b8",
   "metadata": {},
   "outputs": [
    {
     "name": "stdout",
     "output_type": "stream",
     "text": [
      "data/audio/travel\\Amazing NorthEast ｜ Assam Meghalaya Arunachal ｜ Complete Tour ｜  Pradesh ｜ Northeast India｜ TRAVEL.wav\n",
      "data/audio/travel\\EGYPT ： HOW PEOPLE TREAT AN INDIAN TOURIST 😡 #INDIANINEGYPT ｜EP-10｜..wav\n",
      "data/audio/travel\\EP 14 Meghalaya Tour complete Travel Guide ｜ North East India.wav\n",
      "data/audio/travel\\EXPLORING VARANASI ｜ Benaras Travel Vlog #1.wav\n",
      "data/audio/travel\\Gongoni tour #sangitabideshfamily.wav\n",
      "data/audio/travel\\How I Became a TRAVEL VLOGGER ｜ Make Money Even if You're Just Starting Out as a YouTuber!.wav\n",
      "data/audio/travel\\How to Start a Travel Blog [2021] Travel Blogging Full-Time.wav\n",
      "data/audio/travel\\I Went to Japan for the First Time ｜ Tokyo Travel Vlog (Pt.1).wav\n",
      "data/audio/travel\\Kenya Trip Begins ｜｜ Must Watch ｜｜.wav\n",
      "data/audio/travel\\Koh Phangan： 'New Thailand' for Indian Family and Couples in LOW BUDGET (trip cost⧸Flight).wav\n",
      "data/audio/travel\\London Travel Vlog 🇬🇧 ｜ MissMikaylaG.wav\n",
      "data/audio/travel\\MALDIVES ｜ Traveling after lockdown! ｜ Soneva Fushi - Part 1.wav\n",
      "data/audio/travel\\Manali to Keylong ｜ Rohtang Pass ｜｜ Ladakh Trip 2017 ~Ep.03.wav\n",
      "data/audio/travel\\MY NEW HOUSE IN MAKING TOUR.wav\n",
      "data/audio/travel\\SIKKIM TRAVEL VLOG ｜ Bagdogra to Gangtok - Vlog #1 ｜ North East India ｜ Kritika Goel.wav\n",
      "data/audio/travel\\Solo in Paro Bhutan ｜ Tiger's Nest visit ｜ Bhutan Travel Guide ｜ Bhutan Series Ep 1 ｜ Tanya Khanijow.wav\n",
      "data/audio/travel\\Steps to Becoming a Travel Blogger - Tips by Swathi Rishi.wav\n",
      "data/audio/travel\\Summer Vacation in Ladakh ｜ 6 Day Itinerary ｜ Pangong Lake ｜ Nubra Valley.wav\n",
      "data/audio/travel\\Switzerland In Rs. 75,000 - 10 Days 10 Cities - A Budget Trip from India - All You Need to Know.wav\n",
      "data/audio/travel\\Top 10 Indian Travel Vloggers ｜ Best Travel Vloggers On Youtube #Top10 #Indiantravelyoutubers.wav\n",
      "data/audio/travel\\TRAVEL DAY VLOG： Airport Essentials, What's In My Bag, Airplane Snacks, Netflix Downloads and more!.wav\n",
      "data/audio/travel\\TRAVEL VLOG： SANTORINI, GREECE.wav\n",
      "data/audio/travel\\Travel writing tips from a blogger to improve your writing and storytelling.wav\n",
      "data/audio/travel\\Travelling to Italy after Lockdown ｜ Dhruv Rathee Vlog.wav\n",
      "data/audio/travel\\VAN LIFE ｜ A Day in The Life ｜ MEXICO.wav\n",
      "data/audio/travel\\View Of Himalayas From My HomeStay In Kausani ｜ Kumaon, Uttarakhand Travel Vlog ｜ DesiGirl Traveller.wav\n",
      "data/audio/travel\\Welcome to Bali ｜ Travel Vlog ｜ Priscilla Lee.wav\n",
      "data/audio/travel\\Welcome to Peru! ｜ Best Essential Tips & Travel Guide.wav\n",
      "data/audio/travel\\Я прошел курс Яна Топлеса по съемке видео.wav\n"
     ]
    }
   ],
   "source": [
    "directory_path = \"data/audio/travel\"\n",
    "cut_and_save_files(directory_path)\n"
   ]
  },
  {
   "cell_type": "markdown",
   "id": "854bab73-d6c6-40bc-9f1a-525ef2cc0005",
   "metadata": {},
   "source": [
    "## Prepare dataset"
   ]
  },
  {
   "cell_type": "code",
   "execution_count": 51,
   "id": "a30adb700da4f5b8",
   "metadata": {
    "ExecuteTime": {
     "end_time": "2024-01-14T12:37:52.086095Z",
     "start_time": "2024-01-14T12:37:52.077233Z"
    },
    "collapsed": false,
    "jupyter": {
     "outputs_hidden": false
    }
   },
   "outputs": [
    {
     "data": {
      "text/html": [
       "<div>\n",
       "<style scoped>\n",
       "    .dataframe tbody tr th:only-of-type {\n",
       "        vertical-align: middle;\n",
       "    }\n",
       "\n",
       "    .dataframe tbody tr th {\n",
       "        vertical-align: top;\n",
       "    }\n",
       "\n",
       "    .dataframe thead th {\n",
       "        text-align: right;\n",
       "    }\n",
       "</style>\n",
       "<table border=\"1\" class=\"dataframe\">\n",
       "  <thead>\n",
       "    <tr style=\"text-align: right;\">\n",
       "      <th></th>\n",
       "      <th>category</th>\n",
       "      <th>filename</th>\n",
       "    </tr>\n",
       "  </thead>\n",
       "  <tbody>\n",
       "    <tr>\n",
       "      <th>0</th>\n",
       "      <td>travel</td>\n",
       "      <td>data\\audio\\travel\\Amazing NorthEast ｜ Assam Me...</td>\n",
       "    </tr>\n",
       "    <tr>\n",
       "      <th>1</th>\n",
       "      <td>travel</td>\n",
       "      <td>data\\audio\\travel\\Amazing NorthEast ｜ Assam Me...</td>\n",
       "    </tr>\n",
       "    <tr>\n",
       "      <th>2</th>\n",
       "      <td>travel</td>\n",
       "      <td>data\\audio\\travel\\Amazing NorthEast ｜ Assam Me...</td>\n",
       "    </tr>\n",
       "    <tr>\n",
       "      <th>3</th>\n",
       "      <td>travel</td>\n",
       "      <td>data\\audio\\travel\\Amazing NorthEast ｜ Assam Me...</td>\n",
       "    </tr>\n",
       "    <tr>\n",
       "      <th>4</th>\n",
       "      <td>travel</td>\n",
       "      <td>data\\audio\\travel\\Amazing NorthEast ｜ Assam Me...</td>\n",
       "    </tr>\n",
       "    <tr>\n",
       "      <th>...</th>\n",
       "      <td>...</td>\n",
       "      <td>...</td>\n",
       "    </tr>\n",
       "    <tr>\n",
       "      <th>31372</th>\n",
       "      <td>history</td>\n",
       "      <td>data\\audio\\history\\ప్రాచీన భారత దేశ చరిత్ర ｜｜ ...</td>\n",
       "    </tr>\n",
       "    <tr>\n",
       "      <th>31373</th>\n",
       "      <td>history</td>\n",
       "      <td>data\\audio\\history\\ప్రాచీన భారత దేశ చరిత్ర ｜｜ ...</td>\n",
       "    </tr>\n",
       "    <tr>\n",
       "      <th>31374</th>\n",
       "      <td>history</td>\n",
       "      <td>data\\audio\\history\\ప్రాచీన భారత దేశ చరిత్ర ｜｜ ...</td>\n",
       "    </tr>\n",
       "    <tr>\n",
       "      <th>31375</th>\n",
       "      <td>history</td>\n",
       "      <td>data\\audio\\history\\ప్రాచీన భారత దేశ చరిత్ర ｜｜ ...</td>\n",
       "    </tr>\n",
       "    <tr>\n",
       "      <th>31376</th>\n",
       "      <td>history</td>\n",
       "      <td>data\\audio\\history\\ప్రాచీన భారత దేశ చరిత్ర ｜｜ ...</td>\n",
       "    </tr>\n",
       "  </tbody>\n",
       "</table>\n",
       "<p>31377 rows × 2 columns</p>\n",
       "</div>"
      ],
      "text/plain": [
       "      category                                           filename\n",
       "0       travel  data\\audio\\travel\\Amazing NorthEast ｜ Assam Me...\n",
       "1       travel  data\\audio\\travel\\Amazing NorthEast ｜ Assam Me...\n",
       "2       travel  data\\audio\\travel\\Amazing NorthEast ｜ Assam Me...\n",
       "3       travel  data\\audio\\travel\\Amazing NorthEast ｜ Assam Me...\n",
       "4       travel  data\\audio\\travel\\Amazing NorthEast ｜ Assam Me...\n",
       "...        ...                                                ...\n",
       "31372  history  data\\audio\\history\\ప్రాచీన భారత దేశ చరిత్ర ｜｜ ...\n",
       "31373  history  data\\audio\\history\\ప్రాచీన భారత దేశ చరిత్ర ｜｜ ...\n",
       "31374  history  data\\audio\\history\\ప్రాచీన భారత దేశ చరిత్ర ｜｜ ...\n",
       "31375  history  data\\audio\\history\\ప్రాచీన భారత దేశ చరిత్ర ｜｜ ...\n",
       "31376  history  data\\audio\\history\\ప్రాచీన భారత దేశ చరిత్ర ｜｜ ...\n",
       "\n",
       "[31377 rows x 2 columns]"
      ]
     },
     "execution_count": 51,
     "metadata": {},
     "output_type": "execute_result"
    }
   ],
   "source": [
    "data = []\n",
    "for category in categories:\n",
    "    file_paths = list(Path(f'data/audio/{category}').glob(\"*.wav\"))\n",
    "    file_paths = [path for path in file_paths if 'segment' in str(path)]\n",
    "    category_data = [{\"category\": category, \"filename\": file_path} for file_path in file_paths]\n",
    "    data.extend(category_data)\n",
    "\n",
    "df_train = pd.DataFrame(data)\n",
    "df_train\n"
   ]
  },
  {
   "cell_type": "code",
   "execution_count": 41,
   "id": "f12a1a2f-054b-4f33-b892-91b1e1f40c46",
   "metadata": {},
   "outputs": [],
   "source": [
    "df_train.to_csv('audio_segments.csv', index=False)\n"
   ]
  },
  {
   "cell_type": "code",
   "execution_count": 42,
   "id": "ae21588e-de73-437c-bf1e-664e0b3b2440",
   "metadata": {},
   "outputs": [],
   "source": [
    "df_train = pd.read_csv('audio_segments.csv')\n"
   ]
  },
  {
   "cell_type": "code",
   "execution_count": 52,
   "id": "a35555465c01713c",
   "metadata": {
    "ExecuteTime": {
     "end_time": "2024-01-14T12:37:53.504219Z",
     "start_time": "2024-01-14T12:37:53.501872Z"
    },
    "collapsed": false,
    "jupyter": {
     "outputs_hidden": false
    }
   },
   "outputs": [
    {
     "data": {
      "text/html": [
       "<div>\n",
       "<style scoped>\n",
       "    .dataframe tbody tr th:only-of-type {\n",
       "        vertical-align: middle;\n",
       "    }\n",
       "\n",
       "    .dataframe tbody tr th {\n",
       "        vertical-align: top;\n",
       "    }\n",
       "\n",
       "    .dataframe thead th {\n",
       "        text-align: right;\n",
       "    }\n",
       "</style>\n",
       "<table border=\"1\" class=\"dataframe\">\n",
       "  <thead>\n",
       "    <tr style=\"text-align: right;\">\n",
       "      <th></th>\n",
       "      <th>category</th>\n",
       "      <th>filename</th>\n",
       "      <th>is_travel</th>\n",
       "    </tr>\n",
       "  </thead>\n",
       "  <tbody>\n",
       "    <tr>\n",
       "      <th>0</th>\n",
       "      <td>travel</td>\n",
       "      <td>data\\audio\\travel\\Amazing NorthEast ｜ Assam Me...</td>\n",
       "      <td>travel</td>\n",
       "    </tr>\n",
       "    <tr>\n",
       "      <th>1</th>\n",
       "      <td>travel</td>\n",
       "      <td>data\\audio\\travel\\Amazing NorthEast ｜ Assam Me...</td>\n",
       "      <td>travel</td>\n",
       "    </tr>\n",
       "    <tr>\n",
       "      <th>2</th>\n",
       "      <td>travel</td>\n",
       "      <td>data\\audio\\travel\\Amazing NorthEast ｜ Assam Me...</td>\n",
       "      <td>travel</td>\n",
       "    </tr>\n",
       "    <tr>\n",
       "      <th>3</th>\n",
       "      <td>travel</td>\n",
       "      <td>data\\audio\\travel\\Amazing NorthEast ｜ Assam Me...</td>\n",
       "      <td>travel</td>\n",
       "    </tr>\n",
       "    <tr>\n",
       "      <th>4</th>\n",
       "      <td>travel</td>\n",
       "      <td>data\\audio\\travel\\Amazing NorthEast ｜ Assam Me...</td>\n",
       "      <td>travel</td>\n",
       "    </tr>\n",
       "    <tr>\n",
       "      <th>...</th>\n",
       "      <td>...</td>\n",
       "      <td>...</td>\n",
       "      <td>...</td>\n",
       "    </tr>\n",
       "    <tr>\n",
       "      <th>31372</th>\n",
       "      <td>history</td>\n",
       "      <td>data\\audio\\history\\ప్రాచీన భారత దేశ చరిత్ర ｜｜ ...</td>\n",
       "      <td>not_travel</td>\n",
       "    </tr>\n",
       "    <tr>\n",
       "      <th>31373</th>\n",
       "      <td>history</td>\n",
       "      <td>data\\audio\\history\\ప్రాచీన భారత దేశ చరిత్ర ｜｜ ...</td>\n",
       "      <td>not_travel</td>\n",
       "    </tr>\n",
       "    <tr>\n",
       "      <th>31374</th>\n",
       "      <td>history</td>\n",
       "      <td>data\\audio\\history\\ప్రాచీన భారత దేశ చరిత్ర ｜｜ ...</td>\n",
       "      <td>not_travel</td>\n",
       "    </tr>\n",
       "    <tr>\n",
       "      <th>31375</th>\n",
       "      <td>history</td>\n",
       "      <td>data\\audio\\history\\ప్రాచీన భారత దేశ చరిత్ర ｜｜ ...</td>\n",
       "      <td>not_travel</td>\n",
       "    </tr>\n",
       "    <tr>\n",
       "      <th>31376</th>\n",
       "      <td>history</td>\n",
       "      <td>data\\audio\\history\\ప్రాచీన భారత దేశ చరిత్ర ｜｜ ...</td>\n",
       "      <td>not_travel</td>\n",
       "    </tr>\n",
       "  </tbody>\n",
       "</table>\n",
       "<p>31377 rows × 3 columns</p>\n",
       "</div>"
      ],
      "text/plain": [
       "      category                                           filename   is_travel\n",
       "0       travel  data\\audio\\travel\\Amazing NorthEast ｜ Assam Me...      travel\n",
       "1       travel  data\\audio\\travel\\Amazing NorthEast ｜ Assam Me...      travel\n",
       "2       travel  data\\audio\\travel\\Amazing NorthEast ｜ Assam Me...      travel\n",
       "3       travel  data\\audio\\travel\\Amazing NorthEast ｜ Assam Me...      travel\n",
       "4       travel  data\\audio\\travel\\Amazing NorthEast ｜ Assam Me...      travel\n",
       "...        ...                                                ...         ...\n",
       "31372  history  data\\audio\\history\\ప్రాచీన భారత దేశ చరిత్ర ｜｜ ...  not_travel\n",
       "31373  history  data\\audio\\history\\ప్రాచీన భారత దేశ చరిత్ర ｜｜ ...  not_travel\n",
       "31374  history  data\\audio\\history\\ప్రాచీన భారత దేశ చరిత్ర ｜｜ ...  not_travel\n",
       "31375  history  data\\audio\\history\\ప్రాచీన భారత దేశ చరిత్ర ｜｜ ...  not_travel\n",
       "31376  history  data\\audio\\history\\ప్రాచీన భారత దేశ చరిత్ర ｜｜ ...  not_travel\n",
       "\n",
       "[31377 rows x 3 columns]"
      ]
     },
     "execution_count": 52,
     "metadata": {},
     "output_type": "execute_result"
    }
   ],
   "source": [
    "df_train[\"is_travel\"] = df_train.category.apply(\n",
    "    lambda x: \"travel\" if x == \"travel\" else \"not_travel\"\n",
    ")\n",
    "df_train\n"
   ]
  },
  {
   "cell_type": "code",
   "execution_count": 69,
   "id": "85f42f2d-e178-423a-a426-de0411c87b3c",
   "metadata": {},
   "outputs": [
    {
     "data": {
      "text/html": [
       "<div>\n",
       "<style scoped>\n",
       "    .dataframe tbody tr th:only-of-type {\n",
       "        vertical-align: middle;\n",
       "    }\n",
       "\n",
       "    .dataframe tbody tr th {\n",
       "        vertical-align: top;\n",
       "    }\n",
       "\n",
       "    .dataframe thead th {\n",
       "        text-align: right;\n",
       "    }\n",
       "</style>\n",
       "<table border=\"1\" class=\"dataframe\">\n",
       "  <thead>\n",
       "    <tr style=\"text-align: right;\">\n",
       "      <th></th>\n",
       "      <th>category</th>\n",
       "      <th>filename</th>\n",
       "      <th>is_travel</th>\n",
       "    </tr>\n",
       "  </thead>\n",
       "  <tbody>\n",
       "    <tr>\n",
       "      <th>0</th>\n",
       "      <td>history</td>\n",
       "      <td>data\\audio\\history\\भारत का संपूर्ण इतिहास 1 ही...</td>\n",
       "      <td>not_travel</td>\n",
       "    </tr>\n",
       "    <tr>\n",
       "      <th>1</th>\n",
       "      <td>travel</td>\n",
       "      <td>data\\audio\\travel\\MALDIVES ｜ Traveling after l...</td>\n",
       "      <td>travel</td>\n",
       "    </tr>\n",
       "    <tr>\n",
       "      <th>2</th>\n",
       "      <td>history</td>\n",
       "      <td>data\\audio\\history\\Complete Modern History In ...</td>\n",
       "      <td>not_travel</td>\n",
       "    </tr>\n",
       "    <tr>\n",
       "      <th>3</th>\n",
       "      <td>art_music</td>\n",
       "      <td>data\\audio\\art_music\\5 Paintings For Beginners...</td>\n",
       "      <td>not_travel</td>\n",
       "    </tr>\n",
       "    <tr>\n",
       "      <th>4</th>\n",
       "      <td>history</td>\n",
       "      <td>data\\audio\\history\\All Indian states ｜ Politic...</td>\n",
       "      <td>not_travel</td>\n",
       "    </tr>\n",
       "    <tr>\n",
       "      <th>...</th>\n",
       "      <td>...</td>\n",
       "      <td>...</td>\n",
       "      <td>...</td>\n",
       "    </tr>\n",
       "    <tr>\n",
       "      <th>995</th>\n",
       "      <td>history</td>\n",
       "      <td>data\\audio\\history\\#AskAbhijit 1： Indian Histo...</td>\n",
       "      <td>not_travel</td>\n",
       "    </tr>\n",
       "    <tr>\n",
       "      <th>996</th>\n",
       "      <td>history</td>\n",
       "      <td>data\\audio\\history\\Complete Modern History In ...</td>\n",
       "      <td>not_travel</td>\n",
       "    </tr>\n",
       "    <tr>\n",
       "      <th>997</th>\n",
       "      <td>art_music</td>\n",
       "      <td>data\\audio\\art_music\\Paint with me - Easy and ...</td>\n",
       "      <td>not_travel</td>\n",
       "    </tr>\n",
       "    <tr>\n",
       "      <th>998</th>\n",
       "      <td>history</td>\n",
       "      <td>data\\audio\\history\\Complete Modern History In ...</td>\n",
       "      <td>not_travel</td>\n",
       "    </tr>\n",
       "    <tr>\n",
       "      <th>999</th>\n",
       "      <td>art_music</td>\n",
       "      <td>data\\audio\\art_music\\Rose Blossom at night ⧸ E...</td>\n",
       "      <td>not_travel</td>\n",
       "    </tr>\n",
       "  </tbody>\n",
       "</table>\n",
       "<p>1000 rows × 3 columns</p>\n",
       "</div>"
      ],
      "text/plain": [
       "      category                                           filename   is_travel\n",
       "0      history  data\\audio\\history\\भारत का संपूर्ण इतिहास 1 ही...  not_travel\n",
       "1       travel  data\\audio\\travel\\MALDIVES ｜ Traveling after l...      travel\n",
       "2      history  data\\audio\\history\\Complete Modern History In ...  not_travel\n",
       "3    art_music  data\\audio\\art_music\\5 Paintings For Beginners...  not_travel\n",
       "4      history  data\\audio\\history\\All Indian states ｜ Politic...  not_travel\n",
       "..         ...                                                ...         ...\n",
       "995    history  data\\audio\\history\\#AskAbhijit 1： Indian Histo...  not_travel\n",
       "996    history  data\\audio\\history\\Complete Modern History In ...  not_travel\n",
       "997  art_music  data\\audio\\art_music\\Paint with me - Easy and ...  not_travel\n",
       "998    history  data\\audio\\history\\Complete Modern History In ...  not_travel\n",
       "999  art_music  data\\audio\\art_music\\Rose Blossom at night ⧸ E...  not_travel\n",
       "\n",
       "[1000 rows x 3 columns]"
      ]
     },
     "execution_count": 69,
     "metadata": {},
     "output_type": "execute_result"
    }
   ],
   "source": [
    "shuffled_df = df_train.sample(1000).sample(frac=1).reset_index(drop=True)\n",
    "shuffled_df\n"
   ]
  },
  {
   "cell_type": "markdown",
   "id": "7a2c0826-7357-4ef6-9fc7-d4dfe956b249",
   "metadata": {},
   "source": [
    "## Get results"
   ]
  },
  {
   "cell_type": "code",
   "execution_count": 70,
   "id": "20d9077e277eefb2",
   "metadata": {
    "ExecuteTime": {
     "end_time": "2024-01-14T12:38:16.715685Z",
     "start_time": "2024-01-14T12:38:08.883830Z"
    },
    "collapsed": false,
    "jupyter": {
     "outputs_hidden": false
    }
   },
   "outputs": [
    {
     "name": "stderr",
     "output_type": "stream",
     "text": [
      "100%|██████████████████████████████████████████████████████████████████████████████| 1000/1000 [21:28<00:00,  1.29s/it]\n"
     ]
    }
   ],
   "source": [
    "from tqdm import tqdm\n",
    "tqdm.pandas()\n",
    "shuffled_df[\"embedding\"] = shuffled_df[\"filename\"].progress_apply(get_embedding)\n",
    "\n",
    "X = np.stack(shuffled_df[\"embedding\"].values, axis=0)\n",
    "y = shuffled_df[\"is_travel\"].map({\"travel\": 1, \"not_travel\": 0}).values\n",
    "\n",
    "X_train, X_test, y_train, y_test = train_test_split(\n",
    "    X, y, test_size=0.3, random_state=42\n",
    ")\n"
   ]
  },
  {
   "cell_type": "code",
   "execution_count": 71,
   "id": "d13061467f4fb4f2",
   "metadata": {
    "ExecuteTime": {
     "end_time": "2024-01-14T12:38:30.289832Z",
     "start_time": "2024-01-14T12:38:30.286623Z"
    },
    "collapsed": false,
    "jupyter": {
     "outputs_hidden": false
    }
   },
   "outputs": [],
   "source": [
    "from keras import backend as K\n",
    "\n",
    "def f1(y_true, y_pred):\n",
    "    def recall(y_true, y_pred):\n",
    "        true_positives = K.sum(K.round(K.clip(y_true * y_pred, 0, 1)))\n",
    "        possible_positives = K.sum(K.round(K.clip(y_true, 0, 1)))\n",
    "        recall = true_positives / (possible_positives + K.epsilon())\n",
    "        return recall\n",
    "\n",
    "    def precision(y_true, y_pred):\n",
    "        true_positives = K.sum(K.round(K.clip(y_true * y_pred, 0, 1)))\n",
    "        predicted_positives = K.sum(K.round(K.clip(y_pred, 0, 1)))\n",
    "        precision = true_positives / (predicted_positives + K.epsilon())\n",
    "        return precision\n",
    "\n",
    "    precision = precision(y_true, y_pred)\n",
    "    recall = recall(y_true, y_pred)\n",
    "    return 2 * ((precision * recall) / (precision + recall + K.epsilon()))\n",
    "    "
   ]
  },
  {
   "cell_type": "code",
   "execution_count": 76,
   "id": "8c4b76845b392691",
   "metadata": {
    "ExecuteTime": {
     "end_time": "2024-01-14T12:38:35.984418Z",
     "start_time": "2024-01-14T12:38:35.693463Z"
    },
    "collapsed": false,
    "jupyter": {
     "outputs_hidden": false
    }
   },
   "outputs": [
    {
     "name": "stdout",
     "output_type": "stream",
     "text": [
      "Epoch 1/100\n",
      "70/70 [==============================] - 0s 836us/step - loss: 0.4313 - accuracy: 0.8314 - f1: 0.0032\n",
      "Epoch 2/100\n",
      "70/70 [==============================] - 0s 830us/step - loss: 0.3827 - accuracy: 0.8414 - f1: 0.0000e+00\n",
      "Epoch 3/100\n",
      "70/70 [==============================] - 0s 813us/step - loss: 0.3706 - accuracy: 0.8414 - f1: 0.0000e+00\n",
      "Epoch 4/100\n",
      "70/70 [==============================] - 0s 799us/step - loss: 0.3650 - accuracy: 0.8443 - f1: 0.0214\n",
      "Epoch 5/100\n",
      "70/70 [==============================] - 0s 701us/step - loss: 0.3535 - accuracy: 0.8429 - f1: 0.0071\n",
      "Epoch 6/100\n",
      "70/70 [==============================] - 0s 714us/step - loss: 0.3536 - accuracy: 0.8400 - f1: 0.0071\n",
      "Epoch 7/100\n",
      "70/70 [==============================] - 0s 719us/step - loss: 0.3458 - accuracy: 0.8414 - f1: 0.0167\n",
      "Epoch 8/100\n",
      "70/70 [==============================] - 0s 719us/step - loss: 0.3409 - accuracy: 0.8443 - f1: 0.0696\n",
      "Epoch 9/100\n",
      "70/70 [==============================] - 0s 707us/step - loss: 0.3353 - accuracy: 0.8471 - f1: 0.0429\n",
      "Epoch 10/100\n",
      "70/70 [==============================] - 0s 708us/step - loss: 0.3274 - accuracy: 0.8500 - f1: 0.0714\n",
      "Epoch 11/100\n",
      "70/70 [==============================] - 0s 706us/step - loss: 0.3326 - accuracy: 0.8500 - f1: 0.0910\n",
      "Epoch 12/100\n",
      "70/70 [==============================] - 0s 690us/step - loss: 0.3204 - accuracy: 0.8529 - f1: 0.0624\n",
      "Epoch 13/100\n",
      "70/70 [==============================] - 0s 719us/step - loss: 0.3202 - accuracy: 0.8471 - f1: 0.1014\n",
      "Epoch 14/100\n",
      "70/70 [==============================] - 0s 701us/step - loss: 0.3109 - accuracy: 0.8486 - f1: 0.1071\n",
      "Epoch 15/100\n",
      "70/70 [==============================] - 0s 710us/step - loss: 0.3034 - accuracy: 0.8486 - f1: 0.0920\n",
      "Epoch 16/100\n",
      "70/70 [==============================] - 0s 721us/step - loss: 0.2991 - accuracy: 0.8529 - f1: 0.1095\n",
      "Epoch 17/100\n",
      "70/70 [==============================] - 0s 708us/step - loss: 0.2925 - accuracy: 0.8543 - f1: 0.1119\n",
      "Epoch 18/100\n",
      "70/70 [==============================] - 0s 714us/step - loss: 0.3038 - accuracy: 0.8643 - f1: 0.1795\n",
      "Epoch 19/100\n",
      "70/70 [==============================] - 0s 703us/step - loss: 0.2880 - accuracy: 0.8571 - f1: 0.1752\n",
      "Epoch 20/100\n",
      "70/70 [==============================] - 0s 692us/step - loss: 0.2841 - accuracy: 0.8557 - f1: 0.1875\n",
      "Epoch 21/100\n",
      "70/70 [==============================] - 0s 689us/step - loss: 0.2823 - accuracy: 0.8657 - f1: 0.1952\n",
      "Epoch 22/100\n",
      "70/70 [==============================] - 0s 694us/step - loss: 0.2809 - accuracy: 0.8714 - f1: 0.2401\n",
      "Epoch 23/100\n",
      "70/70 [==============================] - 0s 693us/step - loss: 0.2717 - accuracy: 0.8571 - f1: 0.1790\n",
      "Epoch 24/100\n",
      "70/70 [==============================] - 0s 707us/step - loss: 0.2690 - accuracy: 0.8657 - f1: 0.2167\n",
      "Epoch 25/100\n",
      "70/70 [==============================] - 0s 717us/step - loss: 0.2661 - accuracy: 0.8771 - f1: 0.3037\n",
      "Epoch 26/100\n",
      "70/70 [==============================] - 0s 694us/step - loss: 0.2602 - accuracy: 0.8843 - f1: 0.3300\n",
      "Epoch 27/100\n",
      "70/70 [==============================] - 0s 705us/step - loss: 0.2498 - accuracy: 0.8871 - f1: 0.3327\n",
      "Epoch 28/100\n",
      "70/70 [==============================] - 0s 691us/step - loss: 0.2474 - accuracy: 0.8843 - f1: 0.3337\n",
      "Epoch 29/100\n",
      "70/70 [==============================] - 0s 707us/step - loss: 0.2455 - accuracy: 0.8829 - f1: 0.3093\n",
      "Epoch 30/100\n",
      "70/70 [==============================] - 0s 708us/step - loss: 0.2392 - accuracy: 0.8814 - f1: 0.2975\n",
      "Epoch 31/100\n",
      "70/70 [==============================] - 0s 689us/step - loss: 0.2372 - accuracy: 0.8943 - f1: 0.3834\n",
      "Epoch 32/100\n",
      "70/70 [==============================] - 0s 709us/step - loss: 0.2398 - accuracy: 0.8886 - f1: 0.3780\n",
      "Epoch 33/100\n",
      "70/70 [==============================] - 0s 757us/step - loss: 0.2244 - accuracy: 0.8929 - f1: 0.3786\n",
      "Epoch 34/100\n",
      "70/70 [==============================] - 0s 834us/step - loss: 0.2177 - accuracy: 0.9100 - f1: 0.4602\n",
      "Epoch 35/100\n",
      "70/70 [==============================] - 0s 837us/step - loss: 0.2160 - accuracy: 0.8986 - f1: 0.4329\n",
      "Epoch 36/100\n",
      "70/70 [==============================] - 0s 826us/step - loss: 0.2201 - accuracy: 0.9057 - f1: 0.4439\n",
      "Epoch 37/100\n",
      "70/70 [==============================] - 0s 716us/step - loss: 0.2112 - accuracy: 0.9057 - f1: 0.4451\n",
      "Epoch 38/100\n",
      "70/70 [==============================] - 0s 702us/step - loss: 0.2055 - accuracy: 0.9114 - f1: 0.4766\n",
      "Epoch 39/100\n",
      "70/70 [==============================] - 0s 701us/step - loss: 0.2105 - accuracy: 0.9043 - f1: 0.4263\n",
      "Epoch 40/100\n",
      "70/70 [==============================] - 0s 714us/step - loss: 0.1963 - accuracy: 0.9200 - f1: 0.5342\n",
      "Epoch 41/100\n",
      "70/70 [==============================] - 0s 698us/step - loss: 0.1907 - accuracy: 0.9200 - f1: 0.5818\n",
      "Epoch 42/100\n",
      "70/70 [==============================] - 0s 706us/step - loss: 0.1885 - accuracy: 0.9200 - f1: 0.5183\n",
      "Epoch 43/100\n",
      "70/70 [==============================] - 0s 706us/step - loss: 0.1816 - accuracy: 0.9229 - f1: 0.5578\n",
      "Epoch 44/100\n",
      "70/70 [==============================] - 0s 704us/step - loss: 0.1906 - accuracy: 0.9186 - f1: 0.5133\n",
      "Epoch 45/100\n",
      "70/70 [==============================] - 0s 703us/step - loss: 0.1760 - accuracy: 0.9329 - f1: 0.5709\n",
      "Epoch 46/100\n",
      "70/70 [==============================] - 0s 701us/step - loss: 0.1787 - accuracy: 0.9257 - f1: 0.4721\n",
      "Epoch 47/100\n",
      "70/70 [==============================] - 0s 714us/step - loss: 0.1701 - accuracy: 0.9257 - f1: 0.5915\n",
      "Epoch 48/100\n",
      "70/70 [==============================] - 0s 705us/step - loss: 0.1632 - accuracy: 0.9429 - f1: 0.6227\n",
      "Epoch 49/100\n",
      "70/70 [==============================] - 0s 723us/step - loss: 0.1645 - accuracy: 0.9300 - f1: 0.5291\n",
      "Epoch 50/100\n",
      "70/70 [==============================] - 0s 699us/step - loss: 0.1655 - accuracy: 0.9271 - f1: 0.5684\n",
      "Epoch 51/100\n",
      "70/70 [==============================] - 0s 707us/step - loss: 0.1730 - accuracy: 0.9229 - f1: 0.5367\n",
      "Epoch 52/100\n",
      "70/70 [==============================] - 0s 736us/step - loss: 0.1582 - accuracy: 0.9371 - f1: 0.5734\n",
      "Epoch 53/100\n",
      "70/70 [==============================] - 0s 704us/step - loss: 0.1473 - accuracy: 0.9429 - f1: 0.5903\n",
      "Epoch 54/100\n",
      "70/70 [==============================] - 0s 704us/step - loss: 0.1483 - accuracy: 0.9429 - f1: 0.6211\n",
      "Epoch 55/100\n",
      "70/70 [==============================] - 0s 702us/step - loss: 0.1451 - accuracy: 0.9500 - f1: 0.5822\n",
      "Epoch 56/100\n",
      "70/70 [==============================] - 0s 694us/step - loss: 0.1545 - accuracy: 0.9329 - f1: 0.5253\n",
      "Epoch 57/100\n",
      "70/70 [==============================] - 0s 701us/step - loss: 0.1413 - accuracy: 0.9486 - f1: 0.6328\n",
      "Epoch 58/100\n",
      "70/70 [==============================] - 0s 701us/step - loss: 0.1335 - accuracy: 0.9543 - f1: 0.6802\n",
      "Epoch 59/100\n",
      "70/70 [==============================] - 0s 714us/step - loss: 0.1306 - accuracy: 0.9471 - f1: 0.6071\n",
      "Epoch 60/100\n",
      "70/70 [==============================] - 0s 696us/step - loss: 0.1331 - accuracy: 0.9543 - f1: 0.6489\n",
      "Epoch 61/100\n",
      "70/70 [==============================] - 0s 702us/step - loss: 0.1323 - accuracy: 0.9486 - f1: 0.5499\n",
      "Epoch 62/100\n",
      "70/70 [==============================] - 0s 688us/step - loss: 0.1291 - accuracy: 0.9571 - f1: 0.7351\n",
      "Epoch 63/100\n",
      "70/70 [==============================] - 0s 704us/step - loss: 0.1207 - accuracy: 0.9629 - f1: 0.6589\n",
      "Epoch 64/100\n",
      "70/70 [==============================] - 0s 694us/step - loss: 0.1229 - accuracy: 0.9543 - f1: 0.6346\n",
      "Epoch 65/100\n",
      "70/70 [==============================] - 0s 807us/step - loss: 0.1179 - accuracy: 0.9643 - f1: 0.6643\n",
      "Epoch 66/100\n",
      "70/70 [==============================] - 0s 805us/step - loss: 0.1290 - accuracy: 0.9486 - f1: 0.6755\n",
      "Epoch 67/100\n",
      "70/70 [==============================] - 0s 799us/step - loss: 0.1166 - accuracy: 0.9614 - f1: 0.6872\n",
      "Epoch 68/100\n",
      "70/70 [==============================] - 0s 783us/step - loss: 0.1161 - accuracy: 0.9571 - f1: 0.6735\n",
      "Epoch 69/100\n",
      "70/70 [==============================] - 0s 719us/step - loss: 0.1076 - accuracy: 0.9686 - f1: 0.6711\n",
      "Epoch 70/100\n",
      "70/70 [==============================] - 0s 716us/step - loss: 0.1092 - accuracy: 0.9714 - f1: 0.6608\n",
      "Epoch 71/100\n",
      "70/70 [==============================] - 0s 722us/step - loss: 0.1041 - accuracy: 0.9743 - f1: 0.7230\n",
      "Epoch 72/100\n",
      "70/70 [==============================] - 0s 692us/step - loss: 0.1033 - accuracy: 0.9714 - f1: 0.7315\n",
      "Epoch 73/100\n",
      "70/70 [==============================] - 0s 706us/step - loss: 0.1049 - accuracy: 0.9700 - f1: 0.7046\n",
      "Epoch 74/100\n",
      "70/70 [==============================] - 0s 713us/step - loss: 0.1052 - accuracy: 0.9657 - f1: 0.7102\n",
      "Epoch 75/100\n",
      "70/70 [==============================] - 0s 696us/step - loss: 0.0993 - accuracy: 0.9743 - f1: 0.6905\n",
      "Epoch 76/100\n",
      "70/70 [==============================] - 0s 707us/step - loss: 0.0969 - accuracy: 0.9743 - f1: 0.7819\n",
      "Epoch 77/100\n",
      "70/70 [==============================] - 0s 705us/step - loss: 0.0919 - accuracy: 0.9814 - f1: 0.7416\n",
      "Epoch 78/100\n",
      "70/70 [==============================] - 0s 702us/step - loss: 0.0903 - accuracy: 0.9800 - f1: 0.7332\n",
      "Epoch 79/100\n",
      "70/70 [==============================] - 0s 702us/step - loss: 0.0882 - accuracy: 0.9771 - f1: 0.7502\n",
      "Epoch 80/100\n",
      "70/70 [==============================] - 0s 707us/step - loss: 0.0825 - accuracy: 0.9771 - f1: 0.7738\n",
      "Epoch 81/100\n",
      "70/70 [==============================] - 0s 710us/step - loss: 0.0898 - accuracy: 0.9786 - f1: 0.7351\n",
      "Epoch 82/100\n",
      "70/70 [==============================] - 0s 701us/step - loss: 0.0863 - accuracy: 0.9771 - f1: 0.7531\n",
      "Epoch 83/100\n",
      "70/70 [==============================] - 0s 719us/step - loss: 0.0808 - accuracy: 0.9871 - f1: 0.7162\n",
      "Epoch 84/100\n",
      "70/70 [==============================] - 0s 702us/step - loss: 0.0767 - accuracy: 0.9843 - f1: 0.7843\n",
      "Epoch 85/100\n",
      "70/70 [==============================] - 0s 711us/step - loss: 0.0865 - accuracy: 0.9714 - f1: 0.7551\n",
      "Epoch 86/100\n",
      "70/70 [==============================] - 0s 706us/step - loss: 0.0825 - accuracy: 0.9814 - f1: 0.7261\n",
      "Epoch 87/100\n",
      "70/70 [==============================] - 0s 702us/step - loss: 0.0735 - accuracy: 0.9843 - f1: 0.7783\n",
      "Epoch 88/100\n",
      "70/70 [==============================] - 0s 714us/step - loss: 0.0763 - accuracy: 0.9814 - f1: 0.7387\n",
      "Epoch 89/100\n",
      "70/70 [==============================] - 0s 708us/step - loss: 0.0742 - accuracy: 0.9871 - f1: 0.7097\n",
      "Epoch 90/100\n",
      "70/70 [==============================] - 0s 719us/step - loss: 0.0738 - accuracy: 0.9886 - f1: 0.7503\n",
      "Epoch 91/100\n",
      "70/70 [==============================] - 0s 702us/step - loss: 0.0703 - accuracy: 0.9829 - f1: 0.7546\n",
      "Epoch 92/100\n",
      "70/70 [==============================] - 0s 705us/step - loss: 0.0658 - accuracy: 0.9914 - f1: 0.7794\n",
      "Epoch 93/100\n",
      "70/70 [==============================] - 0s 709us/step - loss: 0.0672 - accuracy: 0.9871 - f1: 0.7418\n",
      "Epoch 94/100\n",
      "70/70 [==============================] - 0s 708us/step - loss: 0.0653 - accuracy: 0.9900 - f1: 0.7589\n",
      "Epoch 95/100\n",
      "70/70 [==============================] - 0s 715us/step - loss: 0.0650 - accuracy: 0.9871 - f1: 0.7045\n",
      "Epoch 96/100\n",
      "70/70 [==============================] - 0s 738us/step - loss: 0.0656 - accuracy: 0.9857 - f1: 0.7864\n",
      "Epoch 97/100\n",
      "70/70 [==============================] - 0s 797us/step - loss: 0.0626 - accuracy: 0.9914 - f1: 0.7732\n",
      "Epoch 98/100\n",
      "70/70 [==============================] - 0s 838us/step - loss: 0.0670 - accuracy: 0.9843 - f1: 0.8082\n",
      "Epoch 99/100\n",
      "70/70 [==============================] - 0s 849us/step - loss: 0.0602 - accuracy: 0.9914 - f1: 0.7514\n",
      "Epoch 100/100\n",
      "70/70 [==============================] - 0s 704us/step - loss: 0.0748 - accuracy: 0.9800 - f1: 0.7224\n"
     ]
    }
   ],
   "source": [
    "model = Sequential()\n",
    "model.add(Dense(10, input_dim=1024, activation=\"relu\"))\n",
    "model.add(Dense(1, activation=\"sigmoid\"))\n",
    "\n",
    "model.compile(loss=\"binary_crossentropy\", optimizer=\"adam\", metrics=[\"accuracy\", f1])\n",
    "model.fit(X_train, y_train, epochs=100, batch_size=10);\n"
   ]
  },
  {
   "cell_type": "code",
   "execution_count": 75,
   "id": "8cd5132a3859d758",
   "metadata": {
    "ExecuteTime": {
     "end_time": "2024-01-14T12:39:00.576702Z",
     "start_time": "2024-01-14T12:39:00.537431Z"
    },
    "collapsed": false,
    "jupyter": {
     "outputs_hidden": false
    }
   },
   "outputs": [
    {
     "name": "stdout",
     "output_type": "stream",
     "text": [
      "10/10 [==============================] - 0s 1ms/step - loss: 0.7154 - accuracy: 0.8233 - f1: 0.3465\n",
      "Accuracy: 82.33\n",
      "F1: 0.35\n"
     ]
    }
   ],
   "source": [
    "_, accuracy, f1_score = model.evaluate(X_test, y_test)\n",
    "print(\"Accuracy: %.2f\" % (accuracy * 100))\n",
    "print(\"F1: %.2f\" % (f1_score))\n"
   ]
  },
  {
   "cell_type": "code",
   "execution_count": null,
   "id": "2daee4ebdf091628",
   "metadata": {
    "collapsed": false,
    "jupyter": {
     "outputs_hidden": false
    }
   },
   "outputs": [],
   "source": []
  },
  {
   "cell_type": "code",
   "execution_count": null,
   "id": "315f80e4-1825-48ce-aedf-ed359875e494",
   "metadata": {},
   "outputs": [],
   "source": []
  }
 ],
 "metadata": {
  "kernelspec": {
   "display_name": "itmo_cv",
   "language": "python",
   "name": "itmo_cv"
  },
  "language_info": {
   "codemirror_mode": {
    "name": "ipython",
    "version": 3
   },
   "file_extension": ".py",
   "mimetype": "text/x-python",
   "name": "python",
   "nbconvert_exporter": "python",
   "pygments_lexer": "ipython3",
   "version": "3.11.6"
  }
 },
 "nbformat": 4,
 "nbformat_minor": 5
}
